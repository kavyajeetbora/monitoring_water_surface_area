{
  "nbformat": 4,
  "nbformat_minor": 0,
  "metadata": {
    "colab": {
      "provenance": [],
      "authorship_tag": "ABX9TyM6e4j8si8GUanZzQQ03zu0",
      "include_colab_link": true
    },
    "kernelspec": {
      "name": "python3",
      "display_name": "Python 3"
    },
    "language_info": {
      "name": "python"
    },
    "widgets": {
      "application/vnd.jupyter.widget-state+json": {
        "6335295688074565ac1b4131e3626fef": {
          "model_module": "jupyter-leaflet",
          "model_name": "LeafletMapModel",
          "model_module_version": "^0.18",
          "state": {
            "_dom_classes": [],
            "_model_module": "jupyter-leaflet",
            "_model_module_version": "^0.18",
            "_model_name": "LeafletMapModel",
            "_view_count": null,
            "_view_module": "jupyter-leaflet",
            "_view_module_version": "^0.18",
            "_view_name": "LeafletMapView",
            "bottom": 445585,
            "bounce_at_zoom_limits": true,
            "box_zoom": true,
            "center": [
              26.163728983392012,
              91.77528600488453
            ],
            "close_popup_on_click": true,
            "controls": [
              "IPY_MODEL_9b80ebb0909740c69fb1b8cdc31713d0",
              "IPY_MODEL_1acd5e0426b9454d928383b31469b963",
              "IPY_MODEL_4901b869ef79486cb1ba609b865cbeb4",
              "IPY_MODEL_abec0ea9c2b343c09b9e2f0305f0314d",
              "IPY_MODEL_08e3a72f7ae44281886183069d2de9a5",
              "IPY_MODEL_00ccdcca6e434e1f80ef101ce9462ea3",
              "IPY_MODEL_b2b9edbc5cd949419b6b285bbb5b8068",
              "IPY_MODEL_d7f36dfc7a40475cbee6bad560e05175"
            ],
            "crs": {
              "name": "EPSG3857",
              "custom": false
            },
            "default_style": "IPY_MODEL_465aec40867f48f2b2a7c12d69f342b8",
            "double_click_zoom": true,
            "dragging": true,
            "dragging_style": "IPY_MODEL_7c1288572e014b82a50ec61c3bfb405f",
            "east": 92.01702117919922,
            "fullscreen": false,
            "inertia": true,
            "inertia_deceleration": 3000,
            "inertia_max_speed": 1500,
            "interpolation": "bilinear",
            "keyboard": true,
            "keyboard_pan_offset": 80,
            "keyboard_zoom_offset": 1,
            "layers": [
              "IPY_MODEL_e455feab58c64a0fbbe7a78c1be76ac8",
              "IPY_MODEL_5ae9063a6ceb40ee87bad333858a8f78"
            ],
            "layout": "IPY_MODEL_f93c11afe4104e00b9a6dcf6ac1c4bd8",
            "left": 790898,
            "max_zoom": 24,
            "min_zoom": null,
            "modisdate": "2024-05-27",
            "north": 26.256165023214507,
            "options": [
              "bounce_at_zoom_limits",
              "box_zoom",
              "center",
              "close_popup_on_click",
              "double_click_zoom",
              "dragging",
              "fullscreen",
              "inertia",
              "inertia_deceleration",
              "inertia_max_speed",
              "interpolation",
              "keyboard",
              "keyboard_pan_offset",
              "keyboard_zoom_offset",
              "max_zoom",
              "min_zoom",
              "prefer_canvas",
              "scroll_wheel_zoom",
              "tap",
              "tap_tolerance",
              "touch_zoom",
              "world_copy_jump",
              "zoom",
              "zoom_animation_threshold",
              "zoom_delta",
              "zoom_snap"
            ],
            "panes": {},
            "prefer_canvas": false,
            "right": 792307,
            "scroll_wheel_zoom": true,
            "south": 26.071278064599632,
            "style": "IPY_MODEL_c0dc5bedc7284013b9f01babae5f8540",
            "tap": true,
            "tap_tolerance": 15,
            "top": 444985,
            "touch_zoom": true,
            "west": 91.53327941894533,
            "window_url": "https://0v75o64ca2u-496ff2e9c6d22116-0-colab.googleusercontent.com/outputframe.html?vrz=colab_20240523-060110_RC00_636443439",
            "world_copy_jump": false,
            "zoom": 12,
            "zoom_animation_threshold": 4,
            "zoom_delta": 1,
            "zoom_snap": 1
          }
        },
        "9b80ebb0909740c69fb1b8cdc31713d0": {
          "model_module": "jupyter-leaflet",
          "model_name": "LeafletWidgetControlModel",
          "model_module_version": "^0.18",
          "state": {
            "_model_module": "jupyter-leaflet",
            "_model_module_version": "^0.18",
            "_model_name": "LeafletWidgetControlModel",
            "_view_count": null,
            "_view_module": "jupyter-leaflet",
            "_view_module_version": "^0.18",
            "_view_name": "LeafletWidgetControlView",
            "max_height": null,
            "max_width": null,
            "min_height": null,
            "min_width": null,
            "options": [
              "position",
              "transparent_bg"
            ],
            "position": "topleft",
            "transparent_bg": false,
            "widget": "IPY_MODEL_c48d236920a14229b78f6da6d08f133f"
          }
        },
        "1acd5e0426b9454d928383b31469b963": {
          "model_module": "jupyter-leaflet",
          "model_name": "LeafletZoomControlModel",
          "model_module_version": "^0.18",
          "state": {
            "_model_module": "jupyter-leaflet",
            "_model_module_version": "^0.18",
            "_model_name": "LeafletZoomControlModel",
            "_view_count": null,
            "_view_module": "jupyter-leaflet",
            "_view_module_version": "^0.18",
            "_view_name": "LeafletZoomControlView",
            "options": [
              "position",
              "zoom_in_text",
              "zoom_in_title",
              "zoom_out_text",
              "zoom_out_title"
            ],
            "position": "topleft",
            "zoom_in_text": "+",
            "zoom_in_title": "Zoom in",
            "zoom_out_text": "-",
            "zoom_out_title": "Zoom out"
          }
        },
        "4901b869ef79486cb1ba609b865cbeb4": {
          "model_module": "jupyter-leaflet",
          "model_name": "LeafletFullScreenControlModel",
          "model_module_version": "^0.18",
          "state": {
            "_model_module": "jupyter-leaflet",
            "_model_module_version": "^0.18",
            "_model_name": "LeafletFullScreenControlModel",
            "_view_count": null,
            "_view_module": "jupyter-leaflet",
            "_view_module_version": "^0.18",
            "_view_name": "LeafletFullScreenControlView",
            "options": [
              "position"
            ],
            "position": "topleft"
          }
        },
        "abec0ea9c2b343c09b9e2f0305f0314d": {
          "model_module": "jupyter-leaflet",
          "model_name": "LeafletDrawControlModel",
          "model_module_version": "^0.18",
          "state": {
            "_model_module": "jupyter-leaflet",
            "_model_module_version": "^0.18",
            "_model_name": "LeafletDrawControlModel",
            "_view_count": null,
            "_view_module": "jupyter-leaflet",
            "_view_module_version": "^0.18",
            "_view_name": "LeafletDrawControlView",
            "circle": {},
            "circlemarker": {},
            "data": [],
            "edit": true,
            "marker": {
              "shapeOptions": {
                "color": "#3388ff"
              }
            },
            "options": [
              "position"
            ],
            "polygon": {
              "shapeOptions": {}
            },
            "polyline": {
              "shapeOptions": {}
            },
            "position": "topleft",
            "rectangle": {
              "shapeOptions": {
                "color": "#3388ff"
              }
            },
            "remove": true
          }
        },
        "08e3a72f7ae44281886183069d2de9a5": {
          "model_module": "jupyter-leaflet",
          "model_name": "LeafletScaleControlModel",
          "model_module_version": "^0.18",
          "state": {
            "_model_module": "jupyter-leaflet",
            "_model_module_version": "^0.18",
            "_model_name": "LeafletScaleControlModel",
            "_view_count": null,
            "_view_module": "jupyter-leaflet",
            "_view_module_version": "^0.18",
            "_view_name": "LeafletScaleControlView",
            "imperial": true,
            "max_width": 100,
            "metric": true,
            "options": [
              "imperial",
              "max_width",
              "metric",
              "position",
              "update_when_idle"
            ],
            "position": "bottomleft",
            "update_when_idle": false
          }
        },
        "00ccdcca6e434e1f80ef101ce9462ea3": {
          "model_module": "jupyter-leaflet",
          "model_name": "LeafletMeasureControlModel",
          "model_module_version": "^0.18",
          "state": {
            "_custom_units": {},
            "_model_module": "jupyter-leaflet",
            "_model_module_version": "^0.18",
            "_model_name": "LeafletMeasureControlModel",
            "_view_count": null,
            "_view_module": "jupyter-leaflet",
            "_view_module_version": "^0.18",
            "_view_name": "LeafletMeasureControlView",
            "active_color": "orange",
            "capture_z_index": 10000,
            "completed_color": "#C8F2BE",
            "options": [
              "active_color",
              "capture_z_index",
              "completed_color",
              "popup_options",
              "position",
              "primary_area_unit",
              "primary_length_unit",
              "secondary_area_unit",
              "secondary_length_unit"
            ],
            "popup_options": {
              "className": "leaflet-measure-resultpopup",
              "autoPanPadding": [
                10,
                10
              ]
            },
            "position": "bottomleft",
            "primary_area_unit": "acres",
            "primary_length_unit": "kilometers",
            "secondary_area_unit": null,
            "secondary_length_unit": null
          }
        },
        "b2b9edbc5cd949419b6b285bbb5b8068": {
          "model_module": "jupyter-leaflet",
          "model_name": "LeafletWidgetControlModel",
          "model_module_version": "^0.18",
          "state": {
            "_model_module": "jupyter-leaflet",
            "_model_module_version": "^0.18",
            "_model_name": "LeafletWidgetControlModel",
            "_view_count": null,
            "_view_module": "jupyter-leaflet",
            "_view_module_version": "^0.18",
            "_view_name": "LeafletWidgetControlView",
            "max_height": null,
            "max_width": null,
            "min_height": null,
            "min_width": null,
            "options": [
              "position",
              "transparent_bg"
            ],
            "position": "topright",
            "transparent_bg": false,
            "widget": "IPY_MODEL_7a5920fbbce54c86b1b832626e664d83"
          }
        },
        "d7f36dfc7a40475cbee6bad560e05175": {
          "model_module": "jupyter-leaflet",
          "model_name": "LeafletAttributionControlModel",
          "model_module_version": "^0.18",
          "state": {
            "_model_module": "jupyter-leaflet",
            "_model_module_version": "^0.18",
            "_model_name": "LeafletAttributionControlModel",
            "_view_count": null,
            "_view_module": "jupyter-leaflet",
            "_view_module_version": "^0.18",
            "_view_name": "LeafletAttributionControlView",
            "options": [
              "position",
              "prefix"
            ],
            "position": "bottomright",
            "prefix": "ipyleaflet"
          }
        },
        "465aec40867f48f2b2a7c12d69f342b8": {
          "model_module": "jupyter-leaflet",
          "model_name": "LeafletMapStyleModel",
          "model_module_version": "^0.18",
          "state": {
            "_model_module": "jupyter-leaflet",
            "_model_module_version": "^0.18",
            "_model_name": "LeafletMapStyleModel",
            "_view_count": null,
            "_view_module": "@jupyter-widgets/base",
            "_view_module_version": "1.2.0",
            "_view_name": "StyleView",
            "cursor": "grab"
          }
        },
        "7c1288572e014b82a50ec61c3bfb405f": {
          "model_module": "jupyter-leaflet",
          "model_name": "LeafletMapStyleModel",
          "model_module_version": "^0.18",
          "state": {
            "_model_module": "jupyter-leaflet",
            "_model_module_version": "^0.18",
            "_model_name": "LeafletMapStyleModel",
            "_view_count": null,
            "_view_module": "@jupyter-widgets/base",
            "_view_module_version": "1.2.0",
            "_view_name": "StyleView",
            "cursor": "move"
          }
        },
        "e455feab58c64a0fbbe7a78c1be76ac8": {
          "model_module": "jupyter-leaflet",
          "model_name": "LeafletTileLayerModel",
          "model_module_version": "^0.18",
          "state": {
            "_model_module": "jupyter-leaflet",
            "_model_module_version": "^0.18",
            "_model_name": "LeafletTileLayerModel",
            "_view_count": null,
            "_view_module": "jupyter-leaflet",
            "_view_module_version": "^0.18",
            "_view_name": "LeafletTileLayerView",
            "attribution": "Map data: (C) OpenStreetMap contributors, SRTM | Map style: (C) OpenTopoMap (CC-BY-SA)",
            "base": true,
            "bottom": true,
            "bounds": null,
            "detect_retina": false,
            "loading": false,
            "max_native_zoom": null,
            "max_zoom": 24,
            "min_native_zoom": null,
            "min_zoom": 0,
            "name": "OpenTopoMap",
            "no_wrap": false,
            "opacity": 1,
            "options": [
              "attribution",
              "bounds",
              "detect_retina",
              "max_native_zoom",
              "max_zoom",
              "min_native_zoom",
              "min_zoom",
              "no_wrap",
              "tile_size",
              "tms",
              "zoom_offset"
            ],
            "pane": "",
            "popup": null,
            "popup_max_height": null,
            "popup_max_width": 300,
            "popup_min_width": 50,
            "show_loading": false,
            "subitems": [],
            "tile_size": 256,
            "tms": false,
            "url": "https://a.tile.opentopomap.org/{z}/{x}/{y}.png",
            "visible": true,
            "zoom_offset": 0
          }
        },
        "5ae9063a6ceb40ee87bad333858a8f78": {
          "model_module": "jupyter-leaflet",
          "model_name": "LeafletTileLayerModel",
          "model_module_version": "^0.18",
          "state": {
            "_model_module": "jupyter-leaflet",
            "_model_module_version": "^0.18",
            "_model_name": "LeafletTileLayerModel",
            "_view_count": null,
            "_view_module": "jupyter-leaflet",
            "_view_module_version": "^0.18",
            "_view_name": "LeafletTileLayerView",
            "attribution": "Google Earth Engine",
            "base": false,
            "bottom": true,
            "bounds": null,
            "detect_retina": false,
            "loading": false,
            "max_native_zoom": null,
            "max_zoom": 24,
            "min_native_zoom": null,
            "min_zoom": 0,
            "name": "Global Bathymetry",
            "no_wrap": false,
            "opacity": 1,
            "options": [
              "attribution",
              "bounds",
              "detect_retina",
              "max_native_zoom",
              "max_zoom",
              "min_native_zoom",
              "min_zoom",
              "no_wrap",
              "tile_size",
              "tms",
              "zoom_offset"
            ],
            "pane": "",
            "popup": null,
            "popup_max_height": null,
            "popup_max_width": 300,
            "popup_min_width": 50,
            "show_loading": false,
            "subitems": [],
            "tile_size": 256,
            "tms": false,
            "url": "https://earthengine.googleapis.com/v1/projects/kavyajeetbora-ee/maps/ead9165c180a7acdcaa252e92eb3cd23-5031bda82137bb784f35d7705047eb8b/tiles/{z}/{x}/{y}",
            "visible": true,
            "zoom_offset": 0
          }
        },
        "f93c11afe4104e00b9a6dcf6ac1c4bd8": {
          "model_module": "@jupyter-widgets/base",
          "model_name": "LayoutModel",
          "model_module_version": "1.2.0",
          "state": {
            "_model_module": "@jupyter-widgets/base",
            "_model_module_version": "1.2.0",
            "_model_name": "LayoutModel",
            "_view_count": null,
            "_view_module": "@jupyter-widgets/base",
            "_view_module_version": "1.2.0",
            "_view_name": "LayoutView",
            "align_content": null,
            "align_items": null,
            "align_self": null,
            "border": null,
            "bottom": null,
            "display": null,
            "flex": null,
            "flex_flow": null,
            "grid_area": null,
            "grid_auto_columns": null,
            "grid_auto_flow": null,
            "grid_auto_rows": null,
            "grid_column": null,
            "grid_gap": null,
            "grid_row": null,
            "grid_template_areas": null,
            "grid_template_columns": null,
            "grid_template_rows": null,
            "height": "600px",
            "justify_content": null,
            "justify_items": null,
            "left": null,
            "margin": null,
            "max_height": null,
            "max_width": null,
            "min_height": null,
            "min_width": null,
            "object_fit": null,
            "object_position": null,
            "order": null,
            "overflow": null,
            "overflow_x": null,
            "overflow_y": null,
            "padding": null,
            "right": null,
            "top": null,
            "visibility": null,
            "width": null
          }
        },
        "c0dc5bedc7284013b9f01babae5f8540": {
          "model_module": "jupyter-leaflet",
          "model_name": "LeafletMapStyleModel",
          "model_module_version": "^0.18",
          "state": {
            "_model_module": "jupyter-leaflet",
            "_model_module_version": "^0.18",
            "_model_name": "LeafletMapStyleModel",
            "_view_count": null,
            "_view_module": "@jupyter-widgets/base",
            "_view_module_version": "1.2.0",
            "_view_name": "StyleView",
            "cursor": "grab"
          }
        },
        "c48d236920a14229b78f6da6d08f133f": {
          "model_module": "@jupyter-widgets/controls",
          "model_name": "HBoxModel",
          "model_module_version": "1.5.0",
          "state": {
            "_dom_classes": [
              "geemap-colab"
            ],
            "_model_module": "@jupyter-widgets/controls",
            "_model_module_version": "1.5.0",
            "_model_name": "HBoxModel",
            "_view_count": null,
            "_view_module": "@jupyter-widgets/controls",
            "_view_module_version": "1.5.0",
            "_view_name": "HBoxView",
            "box_style": "",
            "children": [
              "IPY_MODEL_35b74a0bb1d04d409a9de88d71856715"
            ],
            "layout": "IPY_MODEL_c967aece8de34d2e86dab1821b783202"
          }
        },
        "7a5920fbbce54c86b1b832626e664d83": {
          "model_module": "@jupyter-widgets/controls",
          "model_name": "VBoxModel",
          "model_module_version": "1.5.0",
          "state": {
            "_dom_classes": [
              "geemap-colab"
            ],
            "_model_module": "@jupyter-widgets/controls",
            "_model_module_version": "1.5.0",
            "_model_name": "VBoxModel",
            "_view_count": null,
            "_view_module": "@jupyter-widgets/controls",
            "_view_module_version": "1.5.0",
            "_view_name": "VBoxView",
            "box_style": "",
            "children": [
              "IPY_MODEL_81e20f91737d4bb7ae9399b4c09ace83"
            ],
            "layout": "IPY_MODEL_7f5df9dd47ea477391aa0286d9315032"
          }
        },
        "35b74a0bb1d04d409a9de88d71856715": {
          "model_module": "@jupyter-widgets/controls",
          "model_name": "ToggleButtonModel",
          "model_module_version": "1.5.0",
          "state": {
            "_dom_classes": [],
            "_model_module": "@jupyter-widgets/controls",
            "_model_module_version": "1.5.0",
            "_model_name": "ToggleButtonModel",
            "_view_count": null,
            "_view_module": "@jupyter-widgets/controls",
            "_view_module_version": "1.5.0",
            "_view_name": "ToggleButtonView",
            "button_style": "",
            "description": "",
            "description_tooltip": null,
            "disabled": false,
            "icon": "globe",
            "layout": "IPY_MODEL_0e7340f8f3b242bc80578508ec986a65",
            "style": "IPY_MODEL_c7953bcc3e7d4db6b05912ad14da2ea7",
            "tooltip": "Search location/data",
            "value": false
          }
        },
        "c967aece8de34d2e86dab1821b783202": {
          "model_module": "@jupyter-widgets/base",
          "model_name": "LayoutModel",
          "model_module_version": "1.2.0",
          "state": {
            "_model_module": "@jupyter-widgets/base",
            "_model_module_version": "1.2.0",
            "_model_name": "LayoutModel",
            "_view_count": null,
            "_view_module": "@jupyter-widgets/base",
            "_view_module_version": "1.2.0",
            "_view_name": "LayoutView",
            "align_content": null,
            "align_items": null,
            "align_self": null,
            "border": null,
            "bottom": null,
            "display": null,
            "flex": null,
            "flex_flow": null,
            "grid_area": null,
            "grid_auto_columns": null,
            "grid_auto_flow": null,
            "grid_auto_rows": null,
            "grid_column": null,
            "grid_gap": null,
            "grid_row": null,
            "grid_template_areas": null,
            "grid_template_columns": null,
            "grid_template_rows": null,
            "height": null,
            "justify_content": null,
            "justify_items": null,
            "left": null,
            "margin": null,
            "max_height": null,
            "max_width": null,
            "min_height": null,
            "min_width": null,
            "object_fit": null,
            "object_position": null,
            "order": null,
            "overflow": null,
            "overflow_x": null,
            "overflow_y": null,
            "padding": null,
            "right": null,
            "top": null,
            "visibility": null,
            "width": null
          }
        },
        "81e20f91737d4bb7ae9399b4c09ace83": {
          "model_module": "@jupyter-widgets/controls",
          "model_name": "ToggleButtonModel",
          "model_module_version": "1.5.0",
          "state": {
            "_dom_classes": [],
            "_model_module": "@jupyter-widgets/controls",
            "_model_module_version": "1.5.0",
            "_model_name": "ToggleButtonModel",
            "_view_count": null,
            "_view_module": "@jupyter-widgets/controls",
            "_view_module_version": "1.5.0",
            "_view_name": "ToggleButtonView",
            "button_style": "",
            "description": "",
            "description_tooltip": null,
            "disabled": false,
            "icon": "wrench",
            "layout": "IPY_MODEL_71450439cbba4523abab977823797fa4",
            "style": "IPY_MODEL_0f48fc036d064e37ab8ea246f01eae77",
            "tooltip": "Toolbar",
            "value": false
          }
        },
        "7f5df9dd47ea477391aa0286d9315032": {
          "model_module": "@jupyter-widgets/base",
          "model_name": "LayoutModel",
          "model_module_version": "1.2.0",
          "state": {
            "_model_module": "@jupyter-widgets/base",
            "_model_module_version": "1.2.0",
            "_model_name": "LayoutModel",
            "_view_count": null,
            "_view_module": "@jupyter-widgets/base",
            "_view_module_version": "1.2.0",
            "_view_name": "LayoutView",
            "align_content": null,
            "align_items": null,
            "align_self": null,
            "border": null,
            "bottom": null,
            "display": null,
            "flex": null,
            "flex_flow": null,
            "grid_area": null,
            "grid_auto_columns": null,
            "grid_auto_flow": null,
            "grid_auto_rows": null,
            "grid_column": null,
            "grid_gap": null,
            "grid_row": null,
            "grid_template_areas": null,
            "grid_template_columns": null,
            "grid_template_rows": null,
            "height": null,
            "justify_content": null,
            "justify_items": null,
            "left": null,
            "margin": null,
            "max_height": null,
            "max_width": null,
            "min_height": null,
            "min_width": null,
            "object_fit": null,
            "object_position": null,
            "order": null,
            "overflow": null,
            "overflow_x": null,
            "overflow_y": null,
            "padding": null,
            "right": null,
            "top": null,
            "visibility": null,
            "width": null
          }
        },
        "0e7340f8f3b242bc80578508ec986a65": {
          "model_module": "@jupyter-widgets/base",
          "model_name": "LayoutModel",
          "model_module_version": "1.2.0",
          "state": {
            "_model_module": "@jupyter-widgets/base",
            "_model_module_version": "1.2.0",
            "_model_name": "LayoutModel",
            "_view_count": null,
            "_view_module": "@jupyter-widgets/base",
            "_view_module_version": "1.2.0",
            "_view_name": "LayoutView",
            "align_content": null,
            "align_items": null,
            "align_self": null,
            "border": null,
            "bottom": null,
            "display": null,
            "flex": null,
            "flex_flow": null,
            "grid_area": null,
            "grid_auto_columns": null,
            "grid_auto_flow": null,
            "grid_auto_rows": null,
            "grid_column": null,
            "grid_gap": null,
            "grid_row": null,
            "grid_template_areas": null,
            "grid_template_columns": null,
            "grid_template_rows": null,
            "height": "28px",
            "justify_content": null,
            "justify_items": null,
            "left": null,
            "margin": null,
            "max_height": null,
            "max_width": null,
            "min_height": null,
            "min_width": null,
            "object_fit": null,
            "object_position": null,
            "order": null,
            "overflow": null,
            "overflow_x": null,
            "overflow_y": null,
            "padding": "0px 0px 0px 4px",
            "right": null,
            "top": null,
            "visibility": null,
            "width": "28px"
          }
        },
        "c7953bcc3e7d4db6b05912ad14da2ea7": {
          "model_module": "@jupyter-widgets/controls",
          "model_name": "DescriptionStyleModel",
          "model_module_version": "1.5.0",
          "state": {
            "_model_module": "@jupyter-widgets/controls",
            "_model_module_version": "1.5.0",
            "_model_name": "DescriptionStyleModel",
            "_view_count": null,
            "_view_module": "@jupyter-widgets/base",
            "_view_module_version": "1.2.0",
            "_view_name": "StyleView",
            "description_width": ""
          }
        },
        "71450439cbba4523abab977823797fa4": {
          "model_module": "@jupyter-widgets/base",
          "model_name": "LayoutModel",
          "model_module_version": "1.2.0",
          "state": {
            "_model_module": "@jupyter-widgets/base",
            "_model_module_version": "1.2.0",
            "_model_name": "LayoutModel",
            "_view_count": null,
            "_view_module": "@jupyter-widgets/base",
            "_view_module_version": "1.2.0",
            "_view_name": "LayoutView",
            "align_content": null,
            "align_items": null,
            "align_self": null,
            "border": null,
            "bottom": null,
            "display": null,
            "flex": null,
            "flex_flow": null,
            "grid_area": null,
            "grid_auto_columns": null,
            "grid_auto_flow": null,
            "grid_auto_rows": null,
            "grid_column": null,
            "grid_gap": null,
            "grid_row": null,
            "grid_template_areas": null,
            "grid_template_columns": null,
            "grid_template_rows": null,
            "height": "28px",
            "justify_content": null,
            "justify_items": null,
            "left": null,
            "margin": null,
            "max_height": null,
            "max_width": null,
            "min_height": null,
            "min_width": null,
            "object_fit": null,
            "object_position": null,
            "order": null,
            "overflow": null,
            "overflow_x": null,
            "overflow_y": null,
            "padding": "0px 0px 0px 4px",
            "right": null,
            "top": null,
            "visibility": null,
            "width": "28px"
          }
        },
        "0f48fc036d064e37ab8ea246f01eae77": {
          "model_module": "@jupyter-widgets/controls",
          "model_name": "DescriptionStyleModel",
          "model_module_version": "1.5.0",
          "state": {
            "_model_module": "@jupyter-widgets/controls",
            "_model_module_version": "1.5.0",
            "_model_name": "DescriptionStyleModel",
            "_view_count": null,
            "_view_module": "@jupyter-widgets/base",
            "_view_module_version": "1.2.0",
            "_view_name": "StyleView",
            "description_width": ""
          }
        },
        "8ab5eb968bf3472e980ad098e1d009d6": {
          "model_module": "jupyter-leaflet",
          "model_name": "LeafletMapModel",
          "model_module_version": "^0.18",
          "state": {
            "_dom_classes": [],
            "_model_module": "jupyter-leaflet",
            "_model_module_version": "^0.18",
            "_model_name": "LeafletMapModel",
            "_view_count": null,
            "_view_module": "jupyter-leaflet",
            "_view_module_version": "^0.18",
            "_view_name": "LeafletMapView",
            "bottom": 445585,
            "bounce_at_zoom_limits": true,
            "box_zoom": true,
            "center": [
              26.163728983392012,
              91.77528600488453
            ],
            "close_popup_on_click": true,
            "controls": [
              "IPY_MODEL_3aca50d65ff34232bc1123653be27840",
              "IPY_MODEL_b0433f9c0862414a921e0857e5023f6d",
              "IPY_MODEL_8500e746a5084fcd9c31e0655a76ef05",
              "IPY_MODEL_a583b0d298a445ed814adfeecd8e7d16",
              "IPY_MODEL_2f9f76bd7cac42f1bd98fe9d7b8183e7",
              "IPY_MODEL_923ad4c19efb4c4e9cc9ef7fec15e0ce",
              "IPY_MODEL_3e4e4ba9595e4995a3b8bdd58c73b3da",
              "IPY_MODEL_d676213d26fa4e7cabf4d02b27efbcdd"
            ],
            "crs": {
              "name": "EPSG3857",
              "custom": false
            },
            "default_style": "IPY_MODEL_ad16a90471e3476ca97650fa7d6a189b",
            "double_click_zoom": true,
            "dragging": true,
            "dragging_style": "IPY_MODEL_22b44438b4b1466aa373eb9c43d0a1f0",
            "east": 92.01702117919922,
            "fullscreen": false,
            "inertia": true,
            "inertia_deceleration": 3000,
            "inertia_max_speed": 1500,
            "interpolation": "bilinear",
            "keyboard": true,
            "keyboard_pan_offset": 80,
            "keyboard_zoom_offset": 1,
            "layers": [
              "IPY_MODEL_f2e9405f64cb471a9b765a6f69978781",
              "IPY_MODEL_926216bf14a24d7288d9c20f0e74d064"
            ],
            "layout": "IPY_MODEL_75e4d1c73399409bb156dad86a617ca0",
            "left": 790898,
            "max_zoom": 24,
            "min_zoom": null,
            "modisdate": "2024-05-27",
            "north": 26.256165023214507,
            "options": [
              "bounce_at_zoom_limits",
              "box_zoom",
              "center",
              "close_popup_on_click",
              "double_click_zoom",
              "dragging",
              "fullscreen",
              "inertia",
              "inertia_deceleration",
              "inertia_max_speed",
              "interpolation",
              "keyboard",
              "keyboard_pan_offset",
              "keyboard_zoom_offset",
              "max_zoom",
              "min_zoom",
              "prefer_canvas",
              "scroll_wheel_zoom",
              "tap",
              "tap_tolerance",
              "touch_zoom",
              "world_copy_jump",
              "zoom",
              "zoom_animation_threshold",
              "zoom_delta",
              "zoom_snap"
            ],
            "panes": {},
            "prefer_canvas": false,
            "right": 792307,
            "scroll_wheel_zoom": true,
            "south": 26.071278064599632,
            "style": "IPY_MODEL_ac9773495f6142dc848d397ecb2aa082",
            "tap": true,
            "tap_tolerance": 15,
            "top": 444985,
            "touch_zoom": true,
            "west": 91.53327941894533,
            "window_url": "https://0v75o64ca2u-496ff2e9c6d22116-0-colab.googleusercontent.com/outputframe.html?vrz=colab_20240523-060110_RC00_636443439",
            "world_copy_jump": false,
            "zoom": 12,
            "zoom_animation_threshold": 4,
            "zoom_delta": 1,
            "zoom_snap": 1
          }
        },
        "3aca50d65ff34232bc1123653be27840": {
          "model_module": "jupyter-leaflet",
          "model_name": "LeafletWidgetControlModel",
          "model_module_version": "^0.18",
          "state": {
            "_model_module": "jupyter-leaflet",
            "_model_module_version": "^0.18",
            "_model_name": "LeafletWidgetControlModel",
            "_view_count": null,
            "_view_module": "jupyter-leaflet",
            "_view_module_version": "^0.18",
            "_view_name": "LeafletWidgetControlView",
            "max_height": null,
            "max_width": null,
            "min_height": null,
            "min_width": null,
            "options": [
              "position",
              "transparent_bg"
            ],
            "position": "topleft",
            "transparent_bg": false,
            "widget": "IPY_MODEL_21d4eec1b74449bf904aacbaf66fb6f9"
          }
        },
        "b0433f9c0862414a921e0857e5023f6d": {
          "model_module": "jupyter-leaflet",
          "model_name": "LeafletZoomControlModel",
          "model_module_version": "^0.18",
          "state": {
            "_model_module": "jupyter-leaflet",
            "_model_module_version": "^0.18",
            "_model_name": "LeafletZoomControlModel",
            "_view_count": null,
            "_view_module": "jupyter-leaflet",
            "_view_module_version": "^0.18",
            "_view_name": "LeafletZoomControlView",
            "options": [
              "position",
              "zoom_in_text",
              "zoom_in_title",
              "zoom_out_text",
              "zoom_out_title"
            ],
            "position": "topleft",
            "zoom_in_text": "+",
            "zoom_in_title": "Zoom in",
            "zoom_out_text": "-",
            "zoom_out_title": "Zoom out"
          }
        },
        "8500e746a5084fcd9c31e0655a76ef05": {
          "model_module": "jupyter-leaflet",
          "model_name": "LeafletFullScreenControlModel",
          "model_module_version": "^0.18",
          "state": {
            "_model_module": "jupyter-leaflet",
            "_model_module_version": "^0.18",
            "_model_name": "LeafletFullScreenControlModel",
            "_view_count": null,
            "_view_module": "jupyter-leaflet",
            "_view_module_version": "^0.18",
            "_view_name": "LeafletFullScreenControlView",
            "options": [
              "position"
            ],
            "position": "topleft"
          }
        },
        "a583b0d298a445ed814adfeecd8e7d16": {
          "model_module": "jupyter-leaflet",
          "model_name": "LeafletDrawControlModel",
          "model_module_version": "^0.18",
          "state": {
            "_model_module": "jupyter-leaflet",
            "_model_module_version": "^0.18",
            "_model_name": "LeafletDrawControlModel",
            "_view_count": null,
            "_view_module": "jupyter-leaflet",
            "_view_module_version": "^0.18",
            "_view_name": "LeafletDrawControlView",
            "circle": {},
            "circlemarker": {},
            "data": [],
            "edit": true,
            "marker": {
              "shapeOptions": {
                "color": "#3388ff"
              }
            },
            "options": [
              "position"
            ],
            "polygon": {
              "shapeOptions": {}
            },
            "polyline": {
              "shapeOptions": {}
            },
            "position": "topleft",
            "rectangle": {
              "shapeOptions": {
                "color": "#3388ff"
              }
            },
            "remove": true
          }
        },
        "2f9f76bd7cac42f1bd98fe9d7b8183e7": {
          "model_module": "jupyter-leaflet",
          "model_name": "LeafletScaleControlModel",
          "model_module_version": "^0.18",
          "state": {
            "_model_module": "jupyter-leaflet",
            "_model_module_version": "^0.18",
            "_model_name": "LeafletScaleControlModel",
            "_view_count": null,
            "_view_module": "jupyter-leaflet",
            "_view_module_version": "^0.18",
            "_view_name": "LeafletScaleControlView",
            "imperial": true,
            "max_width": 100,
            "metric": true,
            "options": [
              "imperial",
              "max_width",
              "metric",
              "position",
              "update_when_idle"
            ],
            "position": "bottomleft",
            "update_when_idle": false
          }
        },
        "923ad4c19efb4c4e9cc9ef7fec15e0ce": {
          "model_module": "jupyter-leaflet",
          "model_name": "LeafletMeasureControlModel",
          "model_module_version": "^0.18",
          "state": {
            "_custom_units": {},
            "_model_module": "jupyter-leaflet",
            "_model_module_version": "^0.18",
            "_model_name": "LeafletMeasureControlModel",
            "_view_count": null,
            "_view_module": "jupyter-leaflet",
            "_view_module_version": "^0.18",
            "_view_name": "LeafletMeasureControlView",
            "active_color": "orange",
            "capture_z_index": 10000,
            "completed_color": "#C8F2BE",
            "options": [
              "active_color",
              "capture_z_index",
              "completed_color",
              "popup_options",
              "position",
              "primary_area_unit",
              "primary_length_unit",
              "secondary_area_unit",
              "secondary_length_unit"
            ],
            "popup_options": {
              "className": "leaflet-measure-resultpopup",
              "autoPanPadding": [
                10,
                10
              ]
            },
            "position": "bottomleft",
            "primary_area_unit": "acres",
            "primary_length_unit": "kilometers",
            "secondary_area_unit": null,
            "secondary_length_unit": null
          }
        },
        "3e4e4ba9595e4995a3b8bdd58c73b3da": {
          "model_module": "jupyter-leaflet",
          "model_name": "LeafletWidgetControlModel",
          "model_module_version": "^0.18",
          "state": {
            "_model_module": "jupyter-leaflet",
            "_model_module_version": "^0.18",
            "_model_name": "LeafletWidgetControlModel",
            "_view_count": null,
            "_view_module": "jupyter-leaflet",
            "_view_module_version": "^0.18",
            "_view_name": "LeafletWidgetControlView",
            "max_height": null,
            "max_width": null,
            "min_height": null,
            "min_width": null,
            "options": [
              "position",
              "transparent_bg"
            ],
            "position": "topright",
            "transparent_bg": false,
            "widget": "IPY_MODEL_c2ca3265d530479783cddc68b694e0b0"
          }
        },
        "d676213d26fa4e7cabf4d02b27efbcdd": {
          "model_module": "jupyter-leaflet",
          "model_name": "LeafletAttributionControlModel",
          "model_module_version": "^0.18",
          "state": {
            "_model_module": "jupyter-leaflet",
            "_model_module_version": "^0.18",
            "_model_name": "LeafletAttributionControlModel",
            "_view_count": null,
            "_view_module": "jupyter-leaflet",
            "_view_module_version": "^0.18",
            "_view_name": "LeafletAttributionControlView",
            "options": [
              "position",
              "prefix"
            ],
            "position": "bottomright",
            "prefix": "ipyleaflet"
          }
        },
        "ad16a90471e3476ca97650fa7d6a189b": {
          "model_module": "jupyter-leaflet",
          "model_name": "LeafletMapStyleModel",
          "model_module_version": "^0.18",
          "state": {
            "_model_module": "jupyter-leaflet",
            "_model_module_version": "^0.18",
            "_model_name": "LeafletMapStyleModel",
            "_view_count": null,
            "_view_module": "@jupyter-widgets/base",
            "_view_module_version": "1.2.0",
            "_view_name": "StyleView",
            "cursor": "grab"
          }
        },
        "22b44438b4b1466aa373eb9c43d0a1f0": {
          "model_module": "jupyter-leaflet",
          "model_name": "LeafletMapStyleModel",
          "model_module_version": "^0.18",
          "state": {
            "_model_module": "jupyter-leaflet",
            "_model_module_version": "^0.18",
            "_model_name": "LeafletMapStyleModel",
            "_view_count": null,
            "_view_module": "@jupyter-widgets/base",
            "_view_module_version": "1.2.0",
            "_view_name": "StyleView",
            "cursor": "move"
          }
        },
        "f2e9405f64cb471a9b765a6f69978781": {
          "model_module": "jupyter-leaflet",
          "model_name": "LeafletTileLayerModel",
          "model_module_version": "^0.18",
          "state": {
            "_model_module": "jupyter-leaflet",
            "_model_module_version": "^0.18",
            "_model_name": "LeafletTileLayerModel",
            "_view_count": null,
            "_view_module": "jupyter-leaflet",
            "_view_module_version": "^0.18",
            "_view_name": "LeafletTileLayerView",
            "attribution": "Map data: (C) OpenStreetMap contributors, SRTM | Map style: (C) OpenTopoMap (CC-BY-SA)",
            "base": true,
            "bottom": true,
            "bounds": null,
            "detect_retina": false,
            "loading": false,
            "max_native_zoom": null,
            "max_zoom": 24,
            "min_native_zoom": null,
            "min_zoom": 0,
            "name": "OpenTopoMap",
            "no_wrap": false,
            "opacity": 1,
            "options": [
              "attribution",
              "bounds",
              "detect_retina",
              "max_native_zoom",
              "max_zoom",
              "min_native_zoom",
              "min_zoom",
              "no_wrap",
              "tile_size",
              "tms",
              "zoom_offset"
            ],
            "pane": "",
            "popup": null,
            "popup_max_height": null,
            "popup_max_width": 300,
            "popup_min_width": 50,
            "show_loading": false,
            "subitems": [],
            "tile_size": 256,
            "tms": false,
            "url": "https://a.tile.opentopomap.org/{z}/{x}/{y}.png",
            "visible": true,
            "zoom_offset": 0
          }
        },
        "926216bf14a24d7288d9c20f0e74d064": {
          "model_module": "jupyter-leaflet",
          "model_name": "LeafletTileLayerModel",
          "model_module_version": "^0.18",
          "state": {
            "_model_module": "jupyter-leaflet",
            "_model_module_version": "^0.18",
            "_model_name": "LeafletTileLayerModel",
            "_view_count": null,
            "_view_module": "jupyter-leaflet",
            "_view_module_version": "^0.18",
            "_view_name": "LeafletTileLayerView",
            "attribution": "Google Earth Engine",
            "base": false,
            "bottom": true,
            "bounds": null,
            "detect_retina": false,
            "loading": false,
            "max_native_zoom": null,
            "max_zoom": 24,
            "min_native_zoom": null,
            "min_zoom": 0,
            "name": "ALOS Global DSM-30m",
            "no_wrap": false,
            "opacity": 1,
            "options": [
              "attribution",
              "bounds",
              "detect_retina",
              "max_native_zoom",
              "max_zoom",
              "min_native_zoom",
              "min_zoom",
              "no_wrap",
              "tile_size",
              "tms",
              "zoom_offset"
            ],
            "pane": "",
            "popup": null,
            "popup_max_height": null,
            "popup_max_width": 300,
            "popup_min_width": 50,
            "show_loading": false,
            "subitems": [],
            "tile_size": 256,
            "tms": false,
            "url": "https://earthengine.googleapis.com/v1/projects/kavyajeetbora-ee/maps/0b6fe2a38c5c93cbbf5e2a57230e9d79-5afc9a9b536dc90dee495771fd1ecb1c/tiles/{z}/{x}/{y}",
            "visible": true,
            "zoom_offset": 0
          }
        },
        "75e4d1c73399409bb156dad86a617ca0": {
          "model_module": "@jupyter-widgets/base",
          "model_name": "LayoutModel",
          "model_module_version": "1.2.0",
          "state": {
            "_model_module": "@jupyter-widgets/base",
            "_model_module_version": "1.2.0",
            "_model_name": "LayoutModel",
            "_view_count": null,
            "_view_module": "@jupyter-widgets/base",
            "_view_module_version": "1.2.0",
            "_view_name": "LayoutView",
            "align_content": null,
            "align_items": null,
            "align_self": null,
            "border": null,
            "bottom": null,
            "display": null,
            "flex": null,
            "flex_flow": null,
            "grid_area": null,
            "grid_auto_columns": null,
            "grid_auto_flow": null,
            "grid_auto_rows": null,
            "grid_column": null,
            "grid_gap": null,
            "grid_row": null,
            "grid_template_areas": null,
            "grid_template_columns": null,
            "grid_template_rows": null,
            "height": "600px",
            "justify_content": null,
            "justify_items": null,
            "left": null,
            "margin": null,
            "max_height": null,
            "max_width": null,
            "min_height": null,
            "min_width": null,
            "object_fit": null,
            "object_position": null,
            "order": null,
            "overflow": null,
            "overflow_x": null,
            "overflow_y": null,
            "padding": null,
            "right": null,
            "top": null,
            "visibility": null,
            "width": null
          }
        },
        "ac9773495f6142dc848d397ecb2aa082": {
          "model_module": "jupyter-leaflet",
          "model_name": "LeafletMapStyleModel",
          "model_module_version": "^0.18",
          "state": {
            "_model_module": "jupyter-leaflet",
            "_model_module_version": "^0.18",
            "_model_name": "LeafletMapStyleModel",
            "_view_count": null,
            "_view_module": "@jupyter-widgets/base",
            "_view_module_version": "1.2.0",
            "_view_name": "StyleView",
            "cursor": "grab"
          }
        },
        "21d4eec1b74449bf904aacbaf66fb6f9": {
          "model_module": "@jupyter-widgets/controls",
          "model_name": "HBoxModel",
          "model_module_version": "1.5.0",
          "state": {
            "_dom_classes": [
              "geemap-colab"
            ],
            "_model_module": "@jupyter-widgets/controls",
            "_model_module_version": "1.5.0",
            "_model_name": "HBoxModel",
            "_view_count": null,
            "_view_module": "@jupyter-widgets/controls",
            "_view_module_version": "1.5.0",
            "_view_name": "HBoxView",
            "box_style": "",
            "children": [
              "IPY_MODEL_f83938aec7b14470a01bd05e896aabf2"
            ],
            "layout": "IPY_MODEL_9537f43420824baca9f9ceda6eaddb94"
          }
        },
        "c2ca3265d530479783cddc68b694e0b0": {
          "model_module": "@jupyter-widgets/controls",
          "model_name": "VBoxModel",
          "model_module_version": "1.5.0",
          "state": {
            "_dom_classes": [
              "geemap-colab"
            ],
            "_model_module": "@jupyter-widgets/controls",
            "_model_module_version": "1.5.0",
            "_model_name": "VBoxModel",
            "_view_count": null,
            "_view_module": "@jupyter-widgets/controls",
            "_view_module_version": "1.5.0",
            "_view_name": "VBoxView",
            "box_style": "",
            "children": [
              "IPY_MODEL_b3d2afa427cc41feb73ee96a63a7bfd0"
            ],
            "layout": "IPY_MODEL_7f3519593da9416dbd072bda606cf025"
          }
        },
        "f83938aec7b14470a01bd05e896aabf2": {
          "model_module": "@jupyter-widgets/controls",
          "model_name": "ToggleButtonModel",
          "model_module_version": "1.5.0",
          "state": {
            "_dom_classes": [],
            "_model_module": "@jupyter-widgets/controls",
            "_model_module_version": "1.5.0",
            "_model_name": "ToggleButtonModel",
            "_view_count": null,
            "_view_module": "@jupyter-widgets/controls",
            "_view_module_version": "1.5.0",
            "_view_name": "ToggleButtonView",
            "button_style": "",
            "description": "",
            "description_tooltip": null,
            "disabled": false,
            "icon": "globe",
            "layout": "IPY_MODEL_ab9c96b165514abd8a44193bd7f1562c",
            "style": "IPY_MODEL_294ddb55baa04f3980b124014aac6568",
            "tooltip": "Search location/data",
            "value": false
          }
        },
        "9537f43420824baca9f9ceda6eaddb94": {
          "model_module": "@jupyter-widgets/base",
          "model_name": "LayoutModel",
          "model_module_version": "1.2.0",
          "state": {
            "_model_module": "@jupyter-widgets/base",
            "_model_module_version": "1.2.0",
            "_model_name": "LayoutModel",
            "_view_count": null,
            "_view_module": "@jupyter-widgets/base",
            "_view_module_version": "1.2.0",
            "_view_name": "LayoutView",
            "align_content": null,
            "align_items": null,
            "align_self": null,
            "border": null,
            "bottom": null,
            "display": null,
            "flex": null,
            "flex_flow": null,
            "grid_area": null,
            "grid_auto_columns": null,
            "grid_auto_flow": null,
            "grid_auto_rows": null,
            "grid_column": null,
            "grid_gap": null,
            "grid_row": null,
            "grid_template_areas": null,
            "grid_template_columns": null,
            "grid_template_rows": null,
            "height": null,
            "justify_content": null,
            "justify_items": null,
            "left": null,
            "margin": null,
            "max_height": null,
            "max_width": null,
            "min_height": null,
            "min_width": null,
            "object_fit": null,
            "object_position": null,
            "order": null,
            "overflow": null,
            "overflow_x": null,
            "overflow_y": null,
            "padding": null,
            "right": null,
            "top": null,
            "visibility": null,
            "width": null
          }
        },
        "b3d2afa427cc41feb73ee96a63a7bfd0": {
          "model_module": "@jupyter-widgets/controls",
          "model_name": "ToggleButtonModel",
          "model_module_version": "1.5.0",
          "state": {
            "_dom_classes": [],
            "_model_module": "@jupyter-widgets/controls",
            "_model_module_version": "1.5.0",
            "_model_name": "ToggleButtonModel",
            "_view_count": null,
            "_view_module": "@jupyter-widgets/controls",
            "_view_module_version": "1.5.0",
            "_view_name": "ToggleButtonView",
            "button_style": "",
            "description": "",
            "description_tooltip": null,
            "disabled": false,
            "icon": "wrench",
            "layout": "IPY_MODEL_61e87f8da4994282821b0980039de950",
            "style": "IPY_MODEL_87bbafcdfc37474faf5961a451c35aac",
            "tooltip": "Toolbar",
            "value": false
          }
        },
        "7f3519593da9416dbd072bda606cf025": {
          "model_module": "@jupyter-widgets/base",
          "model_name": "LayoutModel",
          "model_module_version": "1.2.0",
          "state": {
            "_model_module": "@jupyter-widgets/base",
            "_model_module_version": "1.2.0",
            "_model_name": "LayoutModel",
            "_view_count": null,
            "_view_module": "@jupyter-widgets/base",
            "_view_module_version": "1.2.0",
            "_view_name": "LayoutView",
            "align_content": null,
            "align_items": null,
            "align_self": null,
            "border": null,
            "bottom": null,
            "display": null,
            "flex": null,
            "flex_flow": null,
            "grid_area": null,
            "grid_auto_columns": null,
            "grid_auto_flow": null,
            "grid_auto_rows": null,
            "grid_column": null,
            "grid_gap": null,
            "grid_row": null,
            "grid_template_areas": null,
            "grid_template_columns": null,
            "grid_template_rows": null,
            "height": null,
            "justify_content": null,
            "justify_items": null,
            "left": null,
            "margin": null,
            "max_height": null,
            "max_width": null,
            "min_height": null,
            "min_width": null,
            "object_fit": null,
            "object_position": null,
            "order": null,
            "overflow": null,
            "overflow_x": null,
            "overflow_y": null,
            "padding": null,
            "right": null,
            "top": null,
            "visibility": null,
            "width": null
          }
        },
        "ab9c96b165514abd8a44193bd7f1562c": {
          "model_module": "@jupyter-widgets/base",
          "model_name": "LayoutModel",
          "model_module_version": "1.2.0",
          "state": {
            "_model_module": "@jupyter-widgets/base",
            "_model_module_version": "1.2.0",
            "_model_name": "LayoutModel",
            "_view_count": null,
            "_view_module": "@jupyter-widgets/base",
            "_view_module_version": "1.2.0",
            "_view_name": "LayoutView",
            "align_content": null,
            "align_items": null,
            "align_self": null,
            "border": null,
            "bottom": null,
            "display": null,
            "flex": null,
            "flex_flow": null,
            "grid_area": null,
            "grid_auto_columns": null,
            "grid_auto_flow": null,
            "grid_auto_rows": null,
            "grid_column": null,
            "grid_gap": null,
            "grid_row": null,
            "grid_template_areas": null,
            "grid_template_columns": null,
            "grid_template_rows": null,
            "height": "28px",
            "justify_content": null,
            "justify_items": null,
            "left": null,
            "margin": null,
            "max_height": null,
            "max_width": null,
            "min_height": null,
            "min_width": null,
            "object_fit": null,
            "object_position": null,
            "order": null,
            "overflow": null,
            "overflow_x": null,
            "overflow_y": null,
            "padding": "0px 0px 0px 4px",
            "right": null,
            "top": null,
            "visibility": null,
            "width": "28px"
          }
        },
        "294ddb55baa04f3980b124014aac6568": {
          "model_module": "@jupyter-widgets/controls",
          "model_name": "DescriptionStyleModel",
          "model_module_version": "1.5.0",
          "state": {
            "_model_module": "@jupyter-widgets/controls",
            "_model_module_version": "1.5.0",
            "_model_name": "DescriptionStyleModel",
            "_view_count": null,
            "_view_module": "@jupyter-widgets/base",
            "_view_module_version": "1.2.0",
            "_view_name": "StyleView",
            "description_width": ""
          }
        },
        "61e87f8da4994282821b0980039de950": {
          "model_module": "@jupyter-widgets/base",
          "model_name": "LayoutModel",
          "model_module_version": "1.2.0",
          "state": {
            "_model_module": "@jupyter-widgets/base",
            "_model_module_version": "1.2.0",
            "_model_name": "LayoutModel",
            "_view_count": null,
            "_view_module": "@jupyter-widgets/base",
            "_view_module_version": "1.2.0",
            "_view_name": "LayoutView",
            "align_content": null,
            "align_items": null,
            "align_self": null,
            "border": null,
            "bottom": null,
            "display": null,
            "flex": null,
            "flex_flow": null,
            "grid_area": null,
            "grid_auto_columns": null,
            "grid_auto_flow": null,
            "grid_auto_rows": null,
            "grid_column": null,
            "grid_gap": null,
            "grid_row": null,
            "grid_template_areas": null,
            "grid_template_columns": null,
            "grid_template_rows": null,
            "height": "28px",
            "justify_content": null,
            "justify_items": null,
            "left": null,
            "margin": null,
            "max_height": null,
            "max_width": null,
            "min_height": null,
            "min_width": null,
            "object_fit": null,
            "object_position": null,
            "order": null,
            "overflow": null,
            "overflow_x": null,
            "overflow_y": null,
            "padding": "0px 0px 0px 4px",
            "right": null,
            "top": null,
            "visibility": null,
            "width": "28px"
          }
        },
        "87bbafcdfc37474faf5961a451c35aac": {
          "model_module": "@jupyter-widgets/controls",
          "model_name": "DescriptionStyleModel",
          "model_module_version": "1.5.0",
          "state": {
            "_model_module": "@jupyter-widgets/controls",
            "_model_module_version": "1.5.0",
            "_model_name": "DescriptionStyleModel",
            "_view_count": null,
            "_view_module": "@jupyter-widgets/base",
            "_view_module_version": "1.2.0",
            "_view_name": "StyleView",
            "description_width": ""
          }
        },
        "b8e551f09681406296da2039c027071f": {
          "model_module": "jupyter-leaflet",
          "model_name": "LeafletMapModel",
          "model_module_version": "^0.18",
          "state": {
            "_dom_classes": [],
            "_model_module": "jupyter-leaflet",
            "_model_module_version": "^0.18",
            "_model_name": "LeafletMapModel",
            "_view_count": null,
            "_view_module": "jupyter-leaflet",
            "_view_module_version": "^0.18",
            "_view_name": "LeafletMapView",
            "bottom": 445546,
            "bounce_at_zoom_limits": true,
            "box_zoom": true,
            "center": [
              26.175775218356666,
              91.77824108135096
            ],
            "close_popup_on_click": true,
            "controls": [
              "IPY_MODEL_62851fce1aa44f0191dd84bc68e39717",
              "IPY_MODEL_aa2e60b3c14249c590f7d64caa947704",
              "IPY_MODEL_dd552047a7904dde931326841bea8089",
              "IPY_MODEL_aa2496b214b6493299129a4655f535a6",
              "IPY_MODEL_7b860652919d4e1d817c2ceb7c5a7663",
              "IPY_MODEL_651b72063fdd45f4a24b54b71b81fc13",
              "IPY_MODEL_3f8def4b142742c0be330298c688f78a",
              "IPY_MODEL_7d3b6bb0b82f4f66a0f28a6279e3c8c9"
            ],
            "crs": {
              "name": "EPSG3857",
              "custom": false
            },
            "default_style": "IPY_MODEL_c63e3394c07a42e09d646b06ed0db559",
            "double_click_zoom": true,
            "dragging": true,
            "dragging_style": "IPY_MODEL_47c07bd724d04c8288660d21fdcddfee",
            "east": 92.02011196147791,
            "fullscreen": false,
            "inertia": true,
            "inertia_deceleration": 3000,
            "inertia_max_speed": 1500,
            "interpolation": "bilinear",
            "keyboard": true,
            "keyboard_pan_offset": 80,
            "keyboard_zoom_offset": 1,
            "layers": [
              "IPY_MODEL_c5e7dffc86fe4713bef7b838f5b9416a",
              "IPY_MODEL_604150b2eb8e43d4b47737ae5277d0e7"
            ],
            "layout": "IPY_MODEL_419d982298524adea28d166582c92bbc",
            "left": 790907.0025558851,
            "max_zoom": 24,
            "min_zoom": null,
            "modisdate": "2024-05-27",
            "north": 26.268172521114337,
            "options": [
              "bounce_at_zoom_limits",
              "box_zoom",
              "center",
              "close_popup_on_click",
              "double_click_zoom",
              "dragging",
              "fullscreen",
              "inertia",
              "inertia_deceleration",
              "inertia_max_speed",
              "interpolation",
              "keyboard",
              "keyboard_pan_offset",
              "keyboard_zoom_offset",
              "max_zoom",
              "min_zoom",
              "prefer_canvas",
              "scroll_wheel_zoom",
              "tap",
              "tap_tolerance",
              "touch_zoom",
              "world_copy_jump",
              "zoom",
              "zoom_animation_threshold",
              "zoom_delta",
              "zoom_snap"
            ],
            "panes": {},
            "prefer_canvas": false,
            "right": 792316.0025558851,
            "scroll_wheel_zoom": true,
            "south": 26.08330461702498,
            "style": "IPY_MODEL_c63e3394c07a42e09d646b06ed0db559",
            "tap": true,
            "tap_tolerance": 15,
            "top": 444946,
            "touch_zoom": true,
            "west": 91.536370201224,
            "window_url": "https://0v75o64ca2u-496ff2e9c6d22116-0-colab.googleusercontent.com/outputframe.html?vrz=colab_20240523-060110_RC00_636443439",
            "world_copy_jump": false,
            "zoom": 12,
            "zoom_animation_threshold": 4,
            "zoom_delta": 1,
            "zoom_snap": 1
          }
        },
        "62851fce1aa44f0191dd84bc68e39717": {
          "model_module": "jupyter-leaflet",
          "model_name": "LeafletWidgetControlModel",
          "model_module_version": "^0.18",
          "state": {
            "_model_module": "jupyter-leaflet",
            "_model_module_version": "^0.18",
            "_model_name": "LeafletWidgetControlModel",
            "_view_count": null,
            "_view_module": "jupyter-leaflet",
            "_view_module_version": "^0.18",
            "_view_name": "LeafletWidgetControlView",
            "max_height": null,
            "max_width": null,
            "min_height": null,
            "min_width": null,
            "options": [
              "position",
              "transparent_bg"
            ],
            "position": "topleft",
            "transparent_bg": false,
            "widget": "IPY_MODEL_c0fe21154f9f403299201b9eaef4d279"
          }
        },
        "aa2e60b3c14249c590f7d64caa947704": {
          "model_module": "jupyter-leaflet",
          "model_name": "LeafletZoomControlModel",
          "model_module_version": "^0.18",
          "state": {
            "_model_module": "jupyter-leaflet",
            "_model_module_version": "^0.18",
            "_model_name": "LeafletZoomControlModel",
            "_view_count": null,
            "_view_module": "jupyter-leaflet",
            "_view_module_version": "^0.18",
            "_view_name": "LeafletZoomControlView",
            "options": [
              "position",
              "zoom_in_text",
              "zoom_in_title",
              "zoom_out_text",
              "zoom_out_title"
            ],
            "position": "topleft",
            "zoom_in_text": "+",
            "zoom_in_title": "Zoom in",
            "zoom_out_text": "-",
            "zoom_out_title": "Zoom out"
          }
        },
        "dd552047a7904dde931326841bea8089": {
          "model_module": "jupyter-leaflet",
          "model_name": "LeafletFullScreenControlModel",
          "model_module_version": "^0.18",
          "state": {
            "_model_module": "jupyter-leaflet",
            "_model_module_version": "^0.18",
            "_model_name": "LeafletFullScreenControlModel",
            "_view_count": null,
            "_view_module": "jupyter-leaflet",
            "_view_module_version": "^0.18",
            "_view_name": "LeafletFullScreenControlView",
            "options": [
              "position"
            ],
            "position": "topleft"
          }
        },
        "aa2496b214b6493299129a4655f535a6": {
          "model_module": "jupyter-leaflet",
          "model_name": "LeafletDrawControlModel",
          "model_module_version": "^0.18",
          "state": {
            "_model_module": "jupyter-leaflet",
            "_model_module_version": "^0.18",
            "_model_name": "LeafletDrawControlModel",
            "_view_count": null,
            "_view_module": "jupyter-leaflet",
            "_view_module_version": "^0.18",
            "_view_name": "LeafletDrawControlView",
            "circle": {},
            "circlemarker": {},
            "data": [],
            "edit": true,
            "marker": {
              "shapeOptions": {
                "color": "#3388ff"
              }
            },
            "options": [
              "position"
            ],
            "polygon": {
              "shapeOptions": {}
            },
            "polyline": {
              "shapeOptions": {}
            },
            "position": "topleft",
            "rectangle": {
              "shapeOptions": {
                "color": "#3388ff"
              }
            },
            "remove": true
          }
        },
        "7b860652919d4e1d817c2ceb7c5a7663": {
          "model_module": "jupyter-leaflet",
          "model_name": "LeafletScaleControlModel",
          "model_module_version": "^0.18",
          "state": {
            "_model_module": "jupyter-leaflet",
            "_model_module_version": "^0.18",
            "_model_name": "LeafletScaleControlModel",
            "_view_count": null,
            "_view_module": "jupyter-leaflet",
            "_view_module_version": "^0.18",
            "_view_name": "LeafletScaleControlView",
            "imperial": true,
            "max_width": 100,
            "metric": true,
            "options": [
              "imperial",
              "max_width",
              "metric",
              "position",
              "update_when_idle"
            ],
            "position": "bottomleft",
            "update_when_idle": false
          }
        },
        "651b72063fdd45f4a24b54b71b81fc13": {
          "model_module": "jupyter-leaflet",
          "model_name": "LeafletMeasureControlModel",
          "model_module_version": "^0.18",
          "state": {
            "_custom_units": {},
            "_model_module": "jupyter-leaflet",
            "_model_module_version": "^0.18",
            "_model_name": "LeafletMeasureControlModel",
            "_view_count": null,
            "_view_module": "jupyter-leaflet",
            "_view_module_version": "^0.18",
            "_view_name": "LeafletMeasureControlView",
            "active_color": "orange",
            "capture_z_index": 10000,
            "completed_color": "#C8F2BE",
            "options": [
              "active_color",
              "capture_z_index",
              "completed_color",
              "popup_options",
              "position",
              "primary_area_unit",
              "primary_length_unit",
              "secondary_area_unit",
              "secondary_length_unit"
            ],
            "popup_options": {
              "className": "leaflet-measure-resultpopup",
              "autoPanPadding": [
                10,
                10
              ]
            },
            "position": "bottomleft",
            "primary_area_unit": "acres",
            "primary_length_unit": "kilometers",
            "secondary_area_unit": null,
            "secondary_length_unit": null
          }
        },
        "3f8def4b142742c0be330298c688f78a": {
          "model_module": "jupyter-leaflet",
          "model_name": "LeafletWidgetControlModel",
          "model_module_version": "^0.18",
          "state": {
            "_model_module": "jupyter-leaflet",
            "_model_module_version": "^0.18",
            "_model_name": "LeafletWidgetControlModel",
            "_view_count": null,
            "_view_module": "jupyter-leaflet",
            "_view_module_version": "^0.18",
            "_view_name": "LeafletWidgetControlView",
            "max_height": null,
            "max_width": null,
            "min_height": null,
            "min_width": null,
            "options": [
              "position",
              "transparent_bg"
            ],
            "position": "topright",
            "transparent_bg": false,
            "widget": "IPY_MODEL_ff2e08e2e10c434ea34129a28fc027ce"
          }
        },
        "7d3b6bb0b82f4f66a0f28a6279e3c8c9": {
          "model_module": "jupyter-leaflet",
          "model_name": "LeafletAttributionControlModel",
          "model_module_version": "^0.18",
          "state": {
            "_model_module": "jupyter-leaflet",
            "_model_module_version": "^0.18",
            "_model_name": "LeafletAttributionControlModel",
            "_view_count": null,
            "_view_module": "jupyter-leaflet",
            "_view_module_version": "^0.18",
            "_view_name": "LeafletAttributionControlView",
            "options": [
              "position",
              "prefix"
            ],
            "position": "bottomright",
            "prefix": "ipyleaflet"
          }
        },
        "c63e3394c07a42e09d646b06ed0db559": {
          "model_module": "jupyter-leaflet",
          "model_name": "LeafletMapStyleModel",
          "model_module_version": "^0.18",
          "state": {
            "_model_module": "jupyter-leaflet",
            "_model_module_version": "^0.18",
            "_model_name": "LeafletMapStyleModel",
            "_view_count": null,
            "_view_module": "@jupyter-widgets/base",
            "_view_module_version": "1.2.0",
            "_view_name": "StyleView",
            "cursor": "grab"
          }
        },
        "47c07bd724d04c8288660d21fdcddfee": {
          "model_module": "jupyter-leaflet",
          "model_name": "LeafletMapStyleModel",
          "model_module_version": "^0.18",
          "state": {
            "_model_module": "jupyter-leaflet",
            "_model_module_version": "^0.18",
            "_model_name": "LeafletMapStyleModel",
            "_view_count": null,
            "_view_module": "@jupyter-widgets/base",
            "_view_module_version": "1.2.0",
            "_view_name": "StyleView",
            "cursor": "move"
          }
        },
        "c5e7dffc86fe4713bef7b838f5b9416a": {
          "model_module": "jupyter-leaflet",
          "model_name": "LeafletTileLayerModel",
          "model_module_version": "^0.18",
          "state": {
            "_model_module": "jupyter-leaflet",
            "_model_module_version": "^0.18",
            "_model_name": "LeafletTileLayerModel",
            "_view_count": null,
            "_view_module": "jupyter-leaflet",
            "_view_module_version": "^0.18",
            "_view_name": "LeafletTileLayerView",
            "attribution": "Map data: (C) OpenStreetMap contributors, SRTM | Map style: (C) OpenTopoMap (CC-BY-SA)",
            "base": true,
            "bottom": true,
            "bounds": null,
            "detect_retina": false,
            "loading": false,
            "max_native_zoom": null,
            "max_zoom": 24,
            "min_native_zoom": null,
            "min_zoom": 0,
            "name": "OpenTopoMap",
            "no_wrap": false,
            "opacity": 1,
            "options": [
              "attribution",
              "bounds",
              "detect_retina",
              "max_native_zoom",
              "max_zoom",
              "min_native_zoom",
              "min_zoom",
              "no_wrap",
              "tile_size",
              "tms",
              "zoom_offset"
            ],
            "pane": "",
            "popup": null,
            "popup_max_height": null,
            "popup_max_width": 300,
            "popup_min_width": 50,
            "show_loading": false,
            "subitems": [],
            "tile_size": 256,
            "tms": false,
            "url": "https://a.tile.opentopomap.org/{z}/{x}/{y}.png",
            "visible": true,
            "zoom_offset": 0
          }
        },
        "604150b2eb8e43d4b47737ae5277d0e7": {
          "model_module": "jupyter-leaflet",
          "model_name": "LeafletTileLayerModel",
          "model_module_version": "^0.18",
          "state": {
            "_model_module": "jupyter-leaflet",
            "_model_module_version": "^0.18",
            "_model_name": "LeafletTileLayerModel",
            "_view_count": null,
            "_view_module": "jupyter-leaflet",
            "_view_module_version": "^0.18",
            "_view_name": "LeafletTileLayerView",
            "attribution": "Google Earth Engine",
            "base": false,
            "bottom": true,
            "bounds": null,
            "detect_retina": false,
            "loading": false,
            "max_native_zoom": null,
            "max_zoom": 24,
            "min_native_zoom": null,
            "min_zoom": 0,
            "name": "ALOS Global DSM-30m",
            "no_wrap": false,
            "opacity": 1,
            "options": [
              "attribution",
              "bounds",
              "detect_retina",
              "max_native_zoom",
              "max_zoom",
              "min_native_zoom",
              "min_zoom",
              "no_wrap",
              "tile_size",
              "tms",
              "zoom_offset"
            ],
            "pane": "",
            "popup": null,
            "popup_max_height": null,
            "popup_max_width": 300,
            "popup_min_width": 50,
            "show_loading": false,
            "subitems": [],
            "tile_size": 256,
            "tms": false,
            "url": "https://earthengine.googleapis.com/v1/projects/kavyajeetbora-ee/maps/ec3085192f62c4ab35dc45639a1b9844-2cbd14bfb78191eef21684ccd933724b/tiles/{z}/{x}/{y}",
            "visible": true,
            "zoom_offset": 0
          }
        },
        "419d982298524adea28d166582c92bbc": {
          "model_module": "@jupyter-widgets/base",
          "model_name": "LayoutModel",
          "model_module_version": "1.2.0",
          "state": {
            "_model_module": "@jupyter-widgets/base",
            "_model_module_version": "1.2.0",
            "_model_name": "LayoutModel",
            "_view_count": null,
            "_view_module": "@jupyter-widgets/base",
            "_view_module_version": "1.2.0",
            "_view_name": "LayoutView",
            "align_content": null,
            "align_items": null,
            "align_self": null,
            "border": null,
            "bottom": null,
            "display": null,
            "flex": null,
            "flex_flow": null,
            "grid_area": null,
            "grid_auto_columns": null,
            "grid_auto_flow": null,
            "grid_auto_rows": null,
            "grid_column": null,
            "grid_gap": null,
            "grid_row": null,
            "grid_template_areas": null,
            "grid_template_columns": null,
            "grid_template_rows": null,
            "height": "600px",
            "justify_content": null,
            "justify_items": null,
            "left": null,
            "margin": null,
            "max_height": null,
            "max_width": null,
            "min_height": null,
            "min_width": null,
            "object_fit": null,
            "object_position": null,
            "order": null,
            "overflow": null,
            "overflow_x": null,
            "overflow_y": null,
            "padding": null,
            "right": null,
            "top": null,
            "visibility": null,
            "width": null
          }
        },
        "d1f65a618c3745f8a6274a729efee12e": {
          "model_module": "jupyter-leaflet",
          "model_name": "LeafletMapStyleModel",
          "model_module_version": "^0.18",
          "state": {
            "_model_module": "jupyter-leaflet",
            "_model_module_version": "^0.18",
            "_model_name": "LeafletMapStyleModel",
            "_view_count": null,
            "_view_module": "@jupyter-widgets/base",
            "_view_module_version": "1.2.0",
            "_view_name": "StyleView",
            "cursor": "grab"
          }
        },
        "c0fe21154f9f403299201b9eaef4d279": {
          "model_module": "@jupyter-widgets/controls",
          "model_name": "HBoxModel",
          "model_module_version": "1.5.0",
          "state": {
            "_dom_classes": [
              "geemap-colab"
            ],
            "_model_module": "@jupyter-widgets/controls",
            "_model_module_version": "1.5.0",
            "_model_name": "HBoxModel",
            "_view_count": null,
            "_view_module": "@jupyter-widgets/controls",
            "_view_module_version": "1.5.0",
            "_view_name": "HBoxView",
            "box_style": "",
            "children": [
              "IPY_MODEL_c9a29c87fb694aa688732e002e52db69"
            ],
            "layout": "IPY_MODEL_c19b1d839df0438d8538f39ed9b9f356"
          }
        },
        "ff2e08e2e10c434ea34129a28fc027ce": {
          "model_module": "@jupyter-widgets/controls",
          "model_name": "VBoxModel",
          "model_module_version": "1.5.0",
          "state": {
            "_dom_classes": [
              "geemap-colab"
            ],
            "_model_module": "@jupyter-widgets/controls",
            "_model_module_version": "1.5.0",
            "_model_name": "VBoxModel",
            "_view_count": null,
            "_view_module": "@jupyter-widgets/controls",
            "_view_module_version": "1.5.0",
            "_view_name": "VBoxView",
            "box_style": "",
            "children": [
              "IPY_MODEL_471d75c5f1cc49868f25f0537cc0767b"
            ],
            "layout": "IPY_MODEL_16103d3356b04aa2a2b42845ef13e736"
          }
        },
        "c9a29c87fb694aa688732e002e52db69": {
          "model_module": "@jupyter-widgets/controls",
          "model_name": "ToggleButtonModel",
          "model_module_version": "1.5.0",
          "state": {
            "_dom_classes": [],
            "_model_module": "@jupyter-widgets/controls",
            "_model_module_version": "1.5.0",
            "_model_name": "ToggleButtonModel",
            "_view_count": null,
            "_view_module": "@jupyter-widgets/controls",
            "_view_module_version": "1.5.0",
            "_view_name": "ToggleButtonView",
            "button_style": "",
            "description": "",
            "description_tooltip": null,
            "disabled": false,
            "icon": "globe",
            "layout": "IPY_MODEL_e5ac926e1c954068900ae668b315eeb0",
            "style": "IPY_MODEL_9f8681117cdf48f9b2362dd0e37fd444",
            "tooltip": "Search location/data",
            "value": false
          }
        },
        "c19b1d839df0438d8538f39ed9b9f356": {
          "model_module": "@jupyter-widgets/base",
          "model_name": "LayoutModel",
          "model_module_version": "1.2.0",
          "state": {
            "_model_module": "@jupyter-widgets/base",
            "_model_module_version": "1.2.0",
            "_model_name": "LayoutModel",
            "_view_count": null,
            "_view_module": "@jupyter-widgets/base",
            "_view_module_version": "1.2.0",
            "_view_name": "LayoutView",
            "align_content": null,
            "align_items": null,
            "align_self": null,
            "border": null,
            "bottom": null,
            "display": null,
            "flex": null,
            "flex_flow": null,
            "grid_area": null,
            "grid_auto_columns": null,
            "grid_auto_flow": null,
            "grid_auto_rows": null,
            "grid_column": null,
            "grid_gap": null,
            "grid_row": null,
            "grid_template_areas": null,
            "grid_template_columns": null,
            "grid_template_rows": null,
            "height": null,
            "justify_content": null,
            "justify_items": null,
            "left": null,
            "margin": null,
            "max_height": null,
            "max_width": null,
            "min_height": null,
            "min_width": null,
            "object_fit": null,
            "object_position": null,
            "order": null,
            "overflow": null,
            "overflow_x": null,
            "overflow_y": null,
            "padding": null,
            "right": null,
            "top": null,
            "visibility": null,
            "width": null
          }
        },
        "471d75c5f1cc49868f25f0537cc0767b": {
          "model_module": "@jupyter-widgets/controls",
          "model_name": "ToggleButtonModel",
          "model_module_version": "1.5.0",
          "state": {
            "_dom_classes": [],
            "_model_module": "@jupyter-widgets/controls",
            "_model_module_version": "1.5.0",
            "_model_name": "ToggleButtonModel",
            "_view_count": null,
            "_view_module": "@jupyter-widgets/controls",
            "_view_module_version": "1.5.0",
            "_view_name": "ToggleButtonView",
            "button_style": "",
            "description": "",
            "description_tooltip": null,
            "disabled": false,
            "icon": "wrench",
            "layout": "IPY_MODEL_1019fd1196fe4cd6be66bd1985c7bb05",
            "style": "IPY_MODEL_0ee70b31c1fe494e96258ad37f25bfa2",
            "tooltip": "Toolbar",
            "value": false
          }
        },
        "16103d3356b04aa2a2b42845ef13e736": {
          "model_module": "@jupyter-widgets/base",
          "model_name": "LayoutModel",
          "model_module_version": "1.2.0",
          "state": {
            "_model_module": "@jupyter-widgets/base",
            "_model_module_version": "1.2.0",
            "_model_name": "LayoutModel",
            "_view_count": null,
            "_view_module": "@jupyter-widgets/base",
            "_view_module_version": "1.2.0",
            "_view_name": "LayoutView",
            "align_content": null,
            "align_items": null,
            "align_self": null,
            "border": null,
            "bottom": null,
            "display": null,
            "flex": null,
            "flex_flow": null,
            "grid_area": null,
            "grid_auto_columns": null,
            "grid_auto_flow": null,
            "grid_auto_rows": null,
            "grid_column": null,
            "grid_gap": null,
            "grid_row": null,
            "grid_template_areas": null,
            "grid_template_columns": null,
            "grid_template_rows": null,
            "height": null,
            "justify_content": null,
            "justify_items": null,
            "left": null,
            "margin": null,
            "max_height": null,
            "max_width": null,
            "min_height": null,
            "min_width": null,
            "object_fit": null,
            "object_position": null,
            "order": null,
            "overflow": null,
            "overflow_x": null,
            "overflow_y": null,
            "padding": null,
            "right": null,
            "top": null,
            "visibility": null,
            "width": null
          }
        },
        "e5ac926e1c954068900ae668b315eeb0": {
          "model_module": "@jupyter-widgets/base",
          "model_name": "LayoutModel",
          "model_module_version": "1.2.0",
          "state": {
            "_model_module": "@jupyter-widgets/base",
            "_model_module_version": "1.2.0",
            "_model_name": "LayoutModel",
            "_view_count": null,
            "_view_module": "@jupyter-widgets/base",
            "_view_module_version": "1.2.0",
            "_view_name": "LayoutView",
            "align_content": null,
            "align_items": null,
            "align_self": null,
            "border": null,
            "bottom": null,
            "display": null,
            "flex": null,
            "flex_flow": null,
            "grid_area": null,
            "grid_auto_columns": null,
            "grid_auto_flow": null,
            "grid_auto_rows": null,
            "grid_column": null,
            "grid_gap": null,
            "grid_row": null,
            "grid_template_areas": null,
            "grid_template_columns": null,
            "grid_template_rows": null,
            "height": "28px",
            "justify_content": null,
            "justify_items": null,
            "left": null,
            "margin": null,
            "max_height": null,
            "max_width": null,
            "min_height": null,
            "min_width": null,
            "object_fit": null,
            "object_position": null,
            "order": null,
            "overflow": null,
            "overflow_x": null,
            "overflow_y": null,
            "padding": "0px 0px 0px 4px",
            "right": null,
            "top": null,
            "visibility": null,
            "width": "28px"
          }
        },
        "9f8681117cdf48f9b2362dd0e37fd444": {
          "model_module": "@jupyter-widgets/controls",
          "model_name": "DescriptionStyleModel",
          "model_module_version": "1.5.0",
          "state": {
            "_model_module": "@jupyter-widgets/controls",
            "_model_module_version": "1.5.0",
            "_model_name": "DescriptionStyleModel",
            "_view_count": null,
            "_view_module": "@jupyter-widgets/base",
            "_view_module_version": "1.2.0",
            "_view_name": "StyleView",
            "description_width": ""
          }
        },
        "1019fd1196fe4cd6be66bd1985c7bb05": {
          "model_module": "@jupyter-widgets/base",
          "model_name": "LayoutModel",
          "model_module_version": "1.2.0",
          "state": {
            "_model_module": "@jupyter-widgets/base",
            "_model_module_version": "1.2.0",
            "_model_name": "LayoutModel",
            "_view_count": null,
            "_view_module": "@jupyter-widgets/base",
            "_view_module_version": "1.2.0",
            "_view_name": "LayoutView",
            "align_content": null,
            "align_items": null,
            "align_self": null,
            "border": null,
            "bottom": null,
            "display": null,
            "flex": null,
            "flex_flow": null,
            "grid_area": null,
            "grid_auto_columns": null,
            "grid_auto_flow": null,
            "grid_auto_rows": null,
            "grid_column": null,
            "grid_gap": null,
            "grid_row": null,
            "grid_template_areas": null,
            "grid_template_columns": null,
            "grid_template_rows": null,
            "height": "28px",
            "justify_content": null,
            "justify_items": null,
            "left": null,
            "margin": null,
            "max_height": null,
            "max_width": null,
            "min_height": null,
            "min_width": null,
            "object_fit": null,
            "object_position": null,
            "order": null,
            "overflow": null,
            "overflow_x": null,
            "overflow_y": null,
            "padding": "0px 0px 0px 4px",
            "right": null,
            "top": null,
            "visibility": null,
            "width": "28px"
          }
        },
        "0ee70b31c1fe494e96258ad37f25bfa2": {
          "model_module": "@jupyter-widgets/controls",
          "model_name": "DescriptionStyleModel",
          "model_module_version": "1.5.0",
          "state": {
            "_model_module": "@jupyter-widgets/controls",
            "_model_module_version": "1.5.0",
            "_model_name": "DescriptionStyleModel",
            "_view_count": null,
            "_view_module": "@jupyter-widgets/base",
            "_view_module_version": "1.2.0",
            "_view_name": "StyleView",
            "description_width": ""
          }
        }
      }
    }
  },
  "cells": [
    {
      "cell_type": "markdown",
      "metadata": {
        "id": "view-in-github",
        "colab_type": "text"
      },
      "source": [
        "<a href=\"https://colab.research.google.com/github/kavyajeetbora/monitoring_water_surface_area/blob/master/notebooks/Plot%20the%203D%20terrain%20from%20DEM.ipynb\" target=\"_parent\"><img src=\"https://colab.research.google.com/assets/colab-badge.svg\" alt=\"Open In Colab\"/></a>"
      ]
    },
    {
      "cell_type": "markdown",
      "source": [
        "# Estimating the lake depth\n"
      ],
      "metadata": {
        "id": "utkRWN_xTyp8"
      }
    },
    {
      "cell_type": "code",
      "source": [
        "!pip install -q rioxarray"
      ],
      "metadata": {
        "colab": {
          "base_uri": "https://localhost:8080/"
        },
        "id": "t4ENk85VaRbj",
        "outputId": "382d9ebd-aa12-46a7-9d8e-6f27a5ea6bec"
      },
      "execution_count": 1,
      "outputs": [
        {
          "output_type": "stream",
          "name": "stdout",
          "text": [
            "\u001b[2K     \u001b[90m━━━━━━━━━━━━━━━━━━━━━━━━━━━━━━━━━━━━━━━━\u001b[0m \u001b[32m60.5/60.5 kB\u001b[0m \u001b[31m1.2 MB/s\u001b[0m eta \u001b[36m0:00:00\u001b[0m\n",
            "\u001b[2K     \u001b[90m━━━━━━━━━━━━━━━━━━━━━━━━━━━━━━━━━━━━━━━━\u001b[0m \u001b[32m21.5/21.5 MB\u001b[0m \u001b[31m30.8 MB/s\u001b[0m eta \u001b[36m0:00:00\u001b[0m\n",
            "\u001b[?25h"
          ]
        }
      ]
    },
    {
      "cell_type": "code",
      "execution_count": 2,
      "metadata": {
        "id": "vaKNezfuTN3q"
      },
      "outputs": [],
      "source": [
        "import geemap\n",
        "import ee\n",
        "import matplotlib.pyplot as plt\n",
        "import pandas as pd\n",
        "import rioxarray as rxr\n",
        "import numpy as np\n",
        "import plotly.graph_objects as go\n",
        "import scipy as sp\n",
        "\n",
        "ee.Authenticate()\n",
        "ee.Initialize(project='kavyajeetbora-ee')"
      ]
    },
    {
      "cell_type": "markdown",
      "source": [
        "## Area of Interest\n",
        "\n",
        "Used this tool to create a geojson file of the area of interest:\n",
        "\n",
        "[keene Polyline Tool](https://www.keene.edu/campus/maps/tool/?coordinates=77.1200409%2C%2011.5324541%0A76.9923248%2C%2011.5062217%0A76.9916382%2C%2011.3467571%0A77.1529998%2C%2011.4261642%0A77.1200409%2C%2011.5324541) : Use this tool to create a polygon and generate a GeoJson text for further use"
      ],
      "metadata": {
        "id": "3RUp8F9ZcXnI"
      }
    },
    {
      "cell_type": "code",
      "source": [
        "geojson  = {\n",
        "  \"coordinates\": [\n",
        "    [\n",
        "      [\n",
        "        91.7843056,\n",
        "        26.1960062\n",
        "      ],\n",
        "      [\n",
        "        91.7582989,\n",
        "        26.1955441\n",
        "      ],\n",
        "      [\n",
        "        91.7451668,\n",
        "        26.1849926\n",
        "      ],\n",
        "      [\n",
        "        91.7316055,\n",
        "        26.1772131\n",
        "      ],\n",
        "      [\n",
        "        91.730175,\n",
        "        26.1650935\n",
        "      ],\n",
        "      [\n",
        "        91.7433071,\n",
        "        26.1432647\n",
        "      ],\n",
        "      [\n",
        "        91.7656231,\n",
        "        26.1314755\n",
        "      ],\n",
        "      [\n",
        "        91.7870808,\n",
        "        26.1312444\n",
        "      ],\n",
        "      [\n",
        "        91.788969,\n",
        "        26.1308591\n",
        "      ],\n",
        "      [\n",
        "        91.8041611,\n",
        "        26.1422631\n",
        "      ],\n",
        "      [\n",
        "        91.8041611,\n",
        "        26.1422631\n",
        "      ],\n",
        "      [\n",
        "        91.8176365,\n",
        "        26.1543594\n",
        "      ],\n",
        "      [\n",
        "        91.8238163,\n",
        "        26.1748509\n",
        "      ],\n",
        "      [\n",
        "        91.8238163,\n",
        "        26.1748509\n",
        "      ],\n",
        "      [\n",
        "        91.7997837,\n",
        "        26.1835548\n",
        "      ],\n",
        "      [\n",
        "        91.7843056,\n",
        "        26.1960062\n",
        "      ]\n",
        "    ]\n",
        "  ],\n",
        "  \"type\": \"Polygon\"\n",
        "}\n",
        "\n",
        "geometry = ee.Geometry(geojson)"
      ],
      "metadata": {
        "colab": {
          "base_uri": "https://localhost:8080/",
          "height": 17
        },
        "id": "9CYxWtqcgfS1",
        "outputId": "589e5624-30ff-4ef3-bb23-8138ac64c7a5"
      },
      "execution_count": 50,
      "outputs": [
        {
          "output_type": "display_data",
          "data": {
            "text/plain": [
              "<IPython.core.display.HTML object>"
            ],
            "text/html": [
              "\n",
              "            <style>\n",
              "                .geemap-dark {\n",
              "                    --jp-widgets-color: white;\n",
              "                    --jp-widgets-label-color: white;\n",
              "                    --jp-ui-font-color1: white;\n",
              "                    --jp-layout-color2: #454545;\n",
              "                    background-color: #383838;\n",
              "                }\n",
              "\n",
              "                .geemap-dark .jupyter-button {\n",
              "                    --jp-layout-color3: #383838;\n",
              "                }\n",
              "\n",
              "                .geemap-colab {\n",
              "                    background-color: var(--colab-primary-surface-color, white);\n",
              "                }\n",
              "\n",
              "                .geemap-colab .jupyter-button {\n",
              "                    --jp-layout-color3: var(--colab-primary-surface-color, white);\n",
              "                }\n",
              "            </style>\n",
              "            "
            ]
          },
          "metadata": {}
        }
      ]
    },
    {
      "cell_type": "markdown",
      "source": [
        "## Downloading the Global lakes bathymetry dataset\n",
        "\n",
        "[Global lakes bathymetry dataset](https://gee-community-catalog.org/projects/globathy/): bathymetric data of 1.4+ million waterbodies to align with the well-established global dataset, HydroLAKES. GLOBathy uses a GIS-based framework to generate bathymetric maps based on the waterbody maximum depth estimates and HydroLAKES geometric/geophysical attributes of the waterbodies. The maximum depth estimates are validated at 1,503 waterbodies, making use of several observed data sources"
      ],
      "metadata": {
        "id": "9ytI9MTGDJfv"
      }
    },
    {
      "cell_type": "code",
      "source": [
        "globathy = ee.Image(\"projects/sat-io/open-datasets/GLOBathy/GLOBathy_bathymetry\")\n",
        "globathy = globathy.multiply(-1).rename('DSM').unmask(0) ## Multiplying -1 to represent the data in negative\n",
        "\n",
        "Map = geemap.Map(basemap='OpenTopoMap')\n",
        "visParams = {\"min\": -20, \"max\": 0, 'palette': ['#d73027','#f46d43','#fdae61','#fee090','#e0f3f8','#abd9e9','#74add1','#4575b4']}\n",
        "Map.addLayer(globathy.clip(geometry), visParams, 'Global Bathymetry')\n",
        "Map.centerObject(geometry, zoom=12)\n",
        "Map"
      ],
      "metadata": {
        "colab": {
          "base_uri": "https://localhost:8080/",
          "height": 621,
          "referenced_widgets": [
            "6335295688074565ac1b4131e3626fef",
            "9b80ebb0909740c69fb1b8cdc31713d0",
            "1acd5e0426b9454d928383b31469b963",
            "4901b869ef79486cb1ba609b865cbeb4",
            "abec0ea9c2b343c09b9e2f0305f0314d",
            "08e3a72f7ae44281886183069d2de9a5",
            "00ccdcca6e434e1f80ef101ce9462ea3",
            "b2b9edbc5cd949419b6b285bbb5b8068",
            "d7f36dfc7a40475cbee6bad560e05175",
            "465aec40867f48f2b2a7c12d69f342b8",
            "7c1288572e014b82a50ec61c3bfb405f",
            "e455feab58c64a0fbbe7a78c1be76ac8",
            "5ae9063a6ceb40ee87bad333858a8f78",
            "f93c11afe4104e00b9a6dcf6ac1c4bd8",
            "c0dc5bedc7284013b9f01babae5f8540",
            "c48d236920a14229b78f6da6d08f133f",
            "7a5920fbbce54c86b1b832626e664d83",
            "35b74a0bb1d04d409a9de88d71856715",
            "c967aece8de34d2e86dab1821b783202",
            "81e20f91737d4bb7ae9399b4c09ace83",
            "7f5df9dd47ea477391aa0286d9315032",
            "0e7340f8f3b242bc80578508ec986a65",
            "c7953bcc3e7d4db6b05912ad14da2ea7",
            "71450439cbba4523abab977823797fa4",
            "0f48fc036d064e37ab8ea246f01eae77"
          ]
        },
        "id": "426np_3dLAI1",
        "outputId": "7553b921-fc68-465c-f53c-2fbb83fe9b4e"
      },
      "execution_count": 52,
      "outputs": [
        {
          "output_type": "display_data",
          "data": {
            "text/plain": [
              "<IPython.core.display.HTML object>"
            ],
            "text/html": [
              "\n",
              "            <style>\n",
              "                .geemap-dark {\n",
              "                    --jp-widgets-color: white;\n",
              "                    --jp-widgets-label-color: white;\n",
              "                    --jp-ui-font-color1: white;\n",
              "                    --jp-layout-color2: #454545;\n",
              "                    background-color: #383838;\n",
              "                }\n",
              "\n",
              "                .geemap-dark .jupyter-button {\n",
              "                    --jp-layout-color3: #383838;\n",
              "                }\n",
              "\n",
              "                .geemap-colab {\n",
              "                    background-color: var(--colab-primary-surface-color, white);\n",
              "                }\n",
              "\n",
              "                .geemap-colab .jupyter-button {\n",
              "                    --jp-layout-color3: var(--colab-primary-surface-color, white);\n",
              "                }\n",
              "            </style>\n",
              "            "
            ]
          },
          "metadata": {}
        },
        {
          "output_type": "display_data",
          "data": {
            "text/plain": [
              "Map(center=[26.163728983392012, 91.77528600488453], controls=(WidgetControl(options=['position', 'transparent_…"
            ],
            "application/vnd.jupyter.widget-view+json": {
              "version_major": 2,
              "version_minor": 0,
              "model_id": "6335295688074565ac1b4131e3626fef"
            }
          },
          "metadata": {
            "application/vnd.jupyter.widget-view+json": {
              "colab": {
                "custom_widget_manager": {
                  "url": "https://ssl.gstatic.com/colaboratory-static/widgets/colab-cdn-widget-manager/2b70e893a8ba7c0f/manager.min.js"
                }
              }
            }
          }
        }
      ]
    },
    {
      "cell_type": "markdown",
      "source": [
        "## Load the elevation model\n",
        "\n",
        "[All you need to know about digital elevation models](https://up42.com/blog/everything-you-need-to-know-about-digital-elevation-models-dem-digital)\n",
        "\n",
        "- Load the elevation model\n",
        "- add the lake bathymetry depths to the elevation model to get the lake depressions"
      ],
      "metadata": {
        "id": "SrhQ6KL6XKnz"
      }
    },
    {
      "cell_type": "code",
      "source": [
        "alos_dsm = ee.ImageCollection(\"JAXA/ALOS/AW3D30/V3_2\")\\\n",
        ".filter(ee.Filter.bounds(geometry))\n",
        "\n",
        "alos_image = alos_dsm.first().select(\"DSM\")\n",
        "\n",
        "## Add the two images\n",
        "terrain = alos_image.add(globathy)"
      ],
      "metadata": {
        "id": "8vDi1HOYUdpC",
        "outputId": "639a8e2a-4645-4b24-ac29-c44a0b7773d7",
        "colab": {
          "base_uri": "https://localhost:8080/",
          "height": 17
        }
      },
      "execution_count": 53,
      "outputs": [
        {
          "output_type": "display_data",
          "data": {
            "text/plain": [
              "<IPython.core.display.HTML object>"
            ],
            "text/html": [
              "\n",
              "            <style>\n",
              "                .geemap-dark {\n",
              "                    --jp-widgets-color: white;\n",
              "                    --jp-widgets-label-color: white;\n",
              "                    --jp-ui-font-color1: white;\n",
              "                    --jp-layout-color2: #454545;\n",
              "                    background-color: #383838;\n",
              "                }\n",
              "\n",
              "                .geemap-dark .jupyter-button {\n",
              "                    --jp-layout-color3: #383838;\n",
              "                }\n",
              "\n",
              "                .geemap-colab {\n",
              "                    background-color: var(--colab-primary-surface-color, white);\n",
              "                }\n",
              "\n",
              "                .geemap-colab .jupyter-button {\n",
              "                    --jp-layout-color3: var(--colab-primary-surface-color, white);\n",
              "                }\n",
              "            </style>\n",
              "            "
            ]
          },
          "metadata": {}
        }
      ]
    },
    {
      "cell_type": "code",
      "source": [
        "Map = geemap.Map(basemap='OpenTopoMap')\n",
        "palette = ['#543005','#8c510a','#bf812d','#dfc27d','#f6e8c3','#c7eae5','#80cdc1','#35978f','#01665e','#003c30']\n",
        "visParams = {\"bands\": ['DSM'], \"min\": 0, \"max\": 500, 'palette': palette}\n",
        "\n",
        "Map.addLayer(terrain.clip(geometry), visParams, 'ALOS Global DSM-30m')\n",
        "# Map.addLayer(geometry, {}, \"boundary\")\n",
        "Map.centerObject(geometry, zoom=12)\n",
        "Map"
      ],
      "metadata": {
        "id": "GahfH2dNP1D4",
        "outputId": "d9889931-a137-4744-e68b-fd53100e52c6",
        "colab": {
          "base_uri": "https://localhost:8080/",
          "height": 621,
          "referenced_widgets": [
            "8ab5eb968bf3472e980ad098e1d009d6",
            "3aca50d65ff34232bc1123653be27840",
            "b0433f9c0862414a921e0857e5023f6d",
            "8500e746a5084fcd9c31e0655a76ef05",
            "a583b0d298a445ed814adfeecd8e7d16",
            "2f9f76bd7cac42f1bd98fe9d7b8183e7",
            "923ad4c19efb4c4e9cc9ef7fec15e0ce",
            "3e4e4ba9595e4995a3b8bdd58c73b3da",
            "d676213d26fa4e7cabf4d02b27efbcdd",
            "ad16a90471e3476ca97650fa7d6a189b",
            "22b44438b4b1466aa373eb9c43d0a1f0",
            "f2e9405f64cb471a9b765a6f69978781",
            "926216bf14a24d7288d9c20f0e74d064",
            "75e4d1c73399409bb156dad86a617ca0",
            "ac9773495f6142dc848d397ecb2aa082",
            "21d4eec1b74449bf904aacbaf66fb6f9",
            "c2ca3265d530479783cddc68b694e0b0",
            "f83938aec7b14470a01bd05e896aabf2",
            "9537f43420824baca9f9ceda6eaddb94",
            "b3d2afa427cc41feb73ee96a63a7bfd0",
            "7f3519593da9416dbd072bda606cf025",
            "ab9c96b165514abd8a44193bd7f1562c",
            "294ddb55baa04f3980b124014aac6568",
            "61e87f8da4994282821b0980039de950",
            "87bbafcdfc37474faf5961a451c35aac"
          ]
        }
      },
      "execution_count": 54,
      "outputs": [
        {
          "output_type": "display_data",
          "data": {
            "text/plain": [
              "<IPython.core.display.HTML object>"
            ],
            "text/html": [
              "\n",
              "            <style>\n",
              "                .geemap-dark {\n",
              "                    --jp-widgets-color: white;\n",
              "                    --jp-widgets-label-color: white;\n",
              "                    --jp-ui-font-color1: white;\n",
              "                    --jp-layout-color2: #454545;\n",
              "                    background-color: #383838;\n",
              "                }\n",
              "\n",
              "                .geemap-dark .jupyter-button {\n",
              "                    --jp-layout-color3: #383838;\n",
              "                }\n",
              "\n",
              "                .geemap-colab {\n",
              "                    background-color: var(--colab-primary-surface-color, white);\n",
              "                }\n",
              "\n",
              "                .geemap-colab .jupyter-button {\n",
              "                    --jp-layout-color3: var(--colab-primary-surface-color, white);\n",
              "                }\n",
              "            </style>\n",
              "            "
            ]
          },
          "metadata": {}
        },
        {
          "output_type": "display_data",
          "data": {
            "text/plain": [
              "Map(center=[26.163728983392012, 91.77528600488453], controls=(WidgetControl(options=['position', 'transparent_…"
            ],
            "application/vnd.jupyter.widget-view+json": {
              "version_major": 2,
              "version_minor": 0,
              "model_id": "8ab5eb968bf3472e980ad098e1d009d6"
            }
          },
          "metadata": {
            "application/vnd.jupyter.widget-view+json": {
              "colab": {
                "custom_widget_manager": {
                  "url": "https://ssl.gstatic.com/colaboratory-static/widgets/colab-cdn-widget-manager/2b70e893a8ba7c0f/manager.min.js"
                }
              }
            }
          }
        }
      ]
    },
    {
      "cell_type": "code",
      "source": [
        "gaussianFilter = ee.Kernel.gaussian(radius=50, sigma=10, units='pixels', normalize=True)\n",
        "# Apply Gaussian smoothing to the elevation data\n",
        "smoothed_elevation = terrain.convolve(gaussianFilter)"
      ],
      "metadata": {
        "colab": {
          "base_uri": "https://localhost:8080/",
          "height": 17
        },
        "id": "gXR4O5NMltZ8",
        "outputId": "c953b741-d92f-4bb7-d7f7-a3ee1ffcb07d"
      },
      "execution_count": 55,
      "outputs": [
        {
          "output_type": "display_data",
          "data": {
            "text/plain": [
              "<IPython.core.display.HTML object>"
            ],
            "text/html": [
              "\n",
              "            <style>\n",
              "                .geemap-dark {\n",
              "                    --jp-widgets-color: white;\n",
              "                    --jp-widgets-label-color: white;\n",
              "                    --jp-ui-font-color1: white;\n",
              "                    --jp-layout-color2: #454545;\n",
              "                    background-color: #383838;\n",
              "                }\n",
              "\n",
              "                .geemap-dark .jupyter-button {\n",
              "                    --jp-layout-color3: #383838;\n",
              "                }\n",
              "\n",
              "                .geemap-colab {\n",
              "                    background-color: var(--colab-primary-surface-color, white);\n",
              "                }\n",
              "\n",
              "                .geemap-colab .jupyter-button {\n",
              "                    --jp-layout-color3: var(--colab-primary-surface-color, white);\n",
              "                }\n",
              "            </style>\n",
              "            "
            ]
          },
          "metadata": {}
        }
      ]
    },
    {
      "cell_type": "code",
      "source": [
        "Map = geemap.Map(basemap='OpenTopoMap')\n",
        "palette = ['#543005','#8c510a','#bf812d','#dfc27d','#f6e8c3','#c7eae5','#80cdc1','#35978f','#01665e','#003c30']\n",
        "visParams = {\"bands\": ['DSM'], \"min\": 0, \"max\": 500, 'palette': palette}\n",
        "\n",
        "Map.addLayer(smoothed_elevation.clip(geometry), visParams, 'ALOS Global DSM-30m')\n",
        "Map.centerObject(geometry, zoom=12)\n",
        "Map"
      ],
      "metadata": {
        "colab": {
          "base_uri": "https://localhost:8080/",
          "height": 621,
          "referenced_widgets": [
            "b8e551f09681406296da2039c027071f",
            "62851fce1aa44f0191dd84bc68e39717",
            "aa2e60b3c14249c590f7d64caa947704",
            "dd552047a7904dde931326841bea8089",
            "aa2496b214b6493299129a4655f535a6",
            "7b860652919d4e1d817c2ceb7c5a7663",
            "651b72063fdd45f4a24b54b71b81fc13",
            "3f8def4b142742c0be330298c688f78a",
            "7d3b6bb0b82f4f66a0f28a6279e3c8c9",
            "c63e3394c07a42e09d646b06ed0db559",
            "47c07bd724d04c8288660d21fdcddfee",
            "c5e7dffc86fe4713bef7b838f5b9416a",
            "604150b2eb8e43d4b47737ae5277d0e7",
            "419d982298524adea28d166582c92bbc",
            "d1f65a618c3745f8a6274a729efee12e",
            "c0fe21154f9f403299201b9eaef4d279",
            "ff2e08e2e10c434ea34129a28fc027ce",
            "c9a29c87fb694aa688732e002e52db69",
            "c19b1d839df0438d8538f39ed9b9f356",
            "471d75c5f1cc49868f25f0537cc0767b",
            "16103d3356b04aa2a2b42845ef13e736",
            "e5ac926e1c954068900ae668b315eeb0",
            "9f8681117cdf48f9b2362dd0e37fd444",
            "1019fd1196fe4cd6be66bd1985c7bb05",
            "0ee70b31c1fe494e96258ad37f25bfa2"
          ]
        },
        "id": "W6URRf6NluRx",
        "outputId": "68c4cdc1-23bc-4cdf-e543-75bbf0a65e26"
      },
      "execution_count": 56,
      "outputs": [
        {
          "output_type": "display_data",
          "data": {
            "text/plain": [
              "<IPython.core.display.HTML object>"
            ],
            "text/html": [
              "\n",
              "            <style>\n",
              "                .geemap-dark {\n",
              "                    --jp-widgets-color: white;\n",
              "                    --jp-widgets-label-color: white;\n",
              "                    --jp-ui-font-color1: white;\n",
              "                    --jp-layout-color2: #454545;\n",
              "                    background-color: #383838;\n",
              "                }\n",
              "\n",
              "                .geemap-dark .jupyter-button {\n",
              "                    --jp-layout-color3: #383838;\n",
              "                }\n",
              "\n",
              "                .geemap-colab {\n",
              "                    background-color: var(--colab-primary-surface-color, white);\n",
              "                }\n",
              "\n",
              "                .geemap-colab .jupyter-button {\n",
              "                    --jp-layout-color3: var(--colab-primary-surface-color, white);\n",
              "                }\n",
              "            </style>\n",
              "            "
            ]
          },
          "metadata": {}
        },
        {
          "output_type": "display_data",
          "data": {
            "text/plain": [
              "Map(center=[26.163728983392012, 91.77528600488453], controls=(WidgetControl(options=['position', 'transparent_…"
            ],
            "application/vnd.jupyter.widget-view+json": {
              "version_major": 2,
              "version_minor": 0,
              "model_id": "b8e551f09681406296da2039c027071f"
            }
          },
          "metadata": {
            "application/vnd.jupyter.widget-view+json": {
              "colab": {
                "custom_widget_manager": {
                  "url": "https://ssl.gstatic.com/colaboratory-static/widgets/colab-cdn-widget-manager/2b70e893a8ba7c0f/manager.min.js"
                }
              }
            }
          }
        }
      ]
    },
    {
      "cell_type": "markdown",
      "source": [
        "## Export the `ee.Image` to tif file\n",
        "\n",
        "[Projections in earth engine](https://developers.google.com/earth-engine/guides/projections)\n",
        "\n",
        "\n",
        "There might be some CRS code that might not be recongnizable by google earth engine. In this case we need to define the projection using the `ee.Projection` function.\n",
        "\n",
        "To import a new crs system you can go to epgs.io website and grab the OGC Well Known Text Definitiion of the projection system and copy paste it here:"
      ],
      "metadata": {
        "id": "I-0dSNIkB_Y0"
      }
    },
    {
      "cell_type": "code",
      "source": [
        "projFromWKT = ee.Projection(\n",
        "    '''PROJCS[\"WGS 84 / UTM zone 46N\",\n",
        "    GEOGCS[\"WGS 84\",\n",
        "        DATUM[\"WGS_1984\",\n",
        "            SPHEROID[\"WGS 84\",6378137,298.257223563,\n",
        "                AUTHORITY[\"EPSG\",\"7030\"]],\n",
        "            AUTHORITY[\"EPSG\",\"6326\"]],\n",
        "        PRIMEM[\"Greenwich\",0,\n",
        "            AUTHORITY[\"EPSG\",\"8901\"]],\n",
        "        UNIT[\"degree\",0.0174532925199433,\n",
        "            AUTHORITY[\"EPSG\",\"9122\"]],\n",
        "        AUTHORITY[\"EPSG\",\"4326\"]],\n",
        "    PROJECTION[\"Transverse_Mercator\"],\n",
        "    PARAMETER[\"latitude_of_origin\",0],\n",
        "    PARAMETER[\"central_meridian\",93],\n",
        "    PARAMETER[\"scale_factor\",0.9996],\n",
        "    PARAMETER[\"false_easting\",500000],\n",
        "    PARAMETER[\"false_northing\",0],\n",
        "    UNIT[\"metre\",1,\n",
        "        AUTHORITY[\"EPSG\",\"9001\"]],\n",
        "    AXIS[\"Easting\",EAST],\n",
        "    AXIS[\"Northing\",NORTH],\n",
        "    AUTHORITY[\"EPSG\",\"32646\"]]'''\n",
        ")\n",
        "projFromWKT"
      ],
      "metadata": {
        "colab": {
          "base_uri": "https://localhost:8080/",
          "height": 68
        },
        "id": "qdR-oUTg55vm",
        "outputId": "60ff23c5-6da5-4c70-9c8d-dcf4d7717fcf"
      },
      "execution_count": 57,
      "outputs": [
        {
          "output_type": "display_data",
          "data": {
            "text/plain": [
              "<IPython.core.display.HTML object>"
            ],
            "text/html": [
              "\n",
              "            <style>\n",
              "                .geemap-dark {\n",
              "                    --jp-widgets-color: white;\n",
              "                    --jp-widgets-label-color: white;\n",
              "                    --jp-ui-font-color1: white;\n",
              "                    --jp-layout-color2: #454545;\n",
              "                    background-color: #383838;\n",
              "                }\n",
              "\n",
              "                .geemap-dark .jupyter-button {\n",
              "                    --jp-layout-color3: #383838;\n",
              "                }\n",
              "\n",
              "                .geemap-colab {\n",
              "                    background-color: var(--colab-primary-surface-color, white);\n",
              "                }\n",
              "\n",
              "                .geemap-colab .jupyter-button {\n",
              "                    --jp-layout-color3: var(--colab-primary-surface-color, white);\n",
              "                }\n",
              "            </style>\n",
              "            "
            ]
          },
          "metadata": {}
        },
        {
          "output_type": "execute_result",
          "data": {
            "text/plain": [
              "<ee.projection.Projection at 0x7f69ef1b3eb0>"
            ],
            "text/html": [
              "<div><style>:root {\n",
              "  --font-color-primary: var(--jp-content-font-color0, rgba(0, 0, 0, 1));\n",
              "  --font-color-secondary: var(--jp-content-font-color2, rgba(0, 0, 0, 0.6));\n",
              "  --font-color-accent: rgba(123, 31, 162, 1);\n",
              "  --border-color: var(--jp-border-color2, #e0e0e0);\n",
              "  --background-color: var(--jp-layout-color0, white);\n",
              "  --background-color-row-even: var(--jp-layout-color1, white);\n",
              "  --background-color-row-odd: var(--jp-layout-color2, #eeeeee);\n",
              "}\n",
              "\n",
              "html[theme=\"dark\"],\n",
              "body[data-theme=\"dark\"],\n",
              "body.vscode-dark {\n",
              "  --font-color-primary: rgba(255, 255, 255, 1);\n",
              "  --font-color-secondary: rgba(255, 255, 255, 0.6);\n",
              "  --font-color-accent: rgb(173, 132, 190);\n",
              "  --border-color: #2e2e2e;\n",
              "  --background-color: #111111;\n",
              "  --background-color-row-even: #111111;\n",
              "  --background-color-row-odd: #313131;\n",
              "}\n",
              "\n",
              ".ee {\n",
              "  padding: 1em;\n",
              "  line-height: 1.5em;\n",
              "  min-width: 300px;\n",
              "  max-width: 1200px;\n",
              "  overflow-y: scroll;\n",
              "  max-height: 600px;\n",
              "  border: 1px solid var(--border-color);\n",
              "  font-family: monospace;\n",
              "}\n",
              "\n",
              ".ee li {\n",
              "  list-style-type: none;\n",
              "}\n",
              "\n",
              ".ee ul {\n",
              "  padding-left: 1.5em !important;\n",
              "  margin: 0;\n",
              "}\n",
              "\n",
              ".ee > ul {\n",
              "  padding-left: 0 !important;\n",
              "}\n",
              "\n",
              ".ee-open,\n",
              ".ee-shut {\n",
              "  color: var(--font-color-secondary);\n",
              "  cursor: pointer;\n",
              "  margin: 0;\n",
              "}\n",
              "\n",
              ".ee-open:hover,\n",
              ".ee-shut:hover {\n",
              "  color: var(--font-color-primary);\n",
              "}\n",
              "\n",
              ".ee-k {\n",
              "  color: var(--font-color-accent);\n",
              "  margin-right: 6px;\n",
              "}\n",
              "\n",
              ".ee-v {\n",
              "  color: var(--font-color-primary);\n",
              "}\n",
              "\n",
              ".ee-toggle {\n",
              "  display: none;\n",
              "}\n",
              "\n",
              ".ee-shut + ul {\n",
              "  display: none;\n",
              "}\n",
              "\n",
              ".ee-open + ul {\n",
              "  display: block;\n",
              "}\n",
              "\n",
              ".ee-shut::before {\n",
              "  display: inline-block;\n",
              "  content: \"▼\";\n",
              "  margin-right: 6px;\n",
              "  transform: rotate(-90deg);\n",
              "  transition: transform 0.2s;\n",
              "}\n",
              "\n",
              ".ee-open::before {\n",
              "  transform: rotate(0deg);\n",
              "  display: inline-block;\n",
              "  content: \"▼\";\n",
              "  margin-right: 6px;\n",
              "  transition: transform 0.2s;\n",
              "}\n",
              "</style><div class='ee'><ul><li><label class='ee-shut'>Projection<input type='checkbox' class='ee-toggle'></label><ul><li><span class='ee-k'>type:</span><span class='ee-v'>Projection</span></li><li><span class='ee-k'>crs:</span><span class='ee-v'>EPSG:32646</span></li><li><label class='ee-shut'>transform: [1, 0, 0, 0, 1, 0]<input type='checkbox' class='ee-toggle'></label><ul><li><span class='ee-k'>0:</span><span class='ee-v'>1</span></li><li><span class='ee-k'>1:</span><span class='ee-v'>0</span></li><li><span class='ee-k'>2:</span><span class='ee-v'>0</span></li><li><span class='ee-k'>3:</span><span class='ee-v'>0</span></li><li><span class='ee-k'>4:</span><span class='ee-v'>1</span></li><li><span class='ee-k'>5:</span><span class='ee-v'>0</span></li></ul></li></ul></li></ul></div><script>function toggleHeader() {\n",
              "    const parent = this.parentElement;\n",
              "    parent.className = parent.className === \"ee-open\" ? \"ee-shut\" : \"ee-open\";\n",
              "}\n",
              "\n",
              "for (let c of document.getElementsByClassName(\"ee-toggle\")) {\n",
              "    c.onclick = toggleHeader;\n",
              "}</script></div>"
            ]
          },
          "metadata": {},
          "execution_count": 57
        }
      ]
    },
    {
      "cell_type": "code",
      "source": [
        "geemap.ee_export_image(\n",
        "    terrain.reproject(projFromWKT), filename=\"terrain.tif\", scale=30, region=geometry, file_per_band=False\n",
        ")"
      ],
      "metadata": {
        "colab": {
          "base_uri": "https://localhost:8080/",
          "height": 86
        },
        "id": "oPb1z6Qvk6js",
        "outputId": "ac9735b1-b39d-4b98-f723-a796f7568d85"
      },
      "execution_count": 58,
      "outputs": [
        {
          "output_type": "display_data",
          "data": {
            "text/plain": [
              "<IPython.core.display.HTML object>"
            ],
            "text/html": [
              "\n",
              "            <style>\n",
              "                .geemap-dark {\n",
              "                    --jp-widgets-color: white;\n",
              "                    --jp-widgets-label-color: white;\n",
              "                    --jp-ui-font-color1: white;\n",
              "                    --jp-layout-color2: #454545;\n",
              "                    background-color: #383838;\n",
              "                }\n",
              "\n",
              "                .geemap-dark .jupyter-button {\n",
              "                    --jp-layout-color3: #383838;\n",
              "                }\n",
              "\n",
              "                .geemap-colab {\n",
              "                    background-color: var(--colab-primary-surface-color, white);\n",
              "                }\n",
              "\n",
              "                .geemap-colab .jupyter-button {\n",
              "                    --jp-layout-color3: var(--colab-primary-surface-color, white);\n",
              "                }\n",
              "            </style>\n",
              "            "
            ]
          },
          "metadata": {}
        },
        {
          "output_type": "stream",
          "name": "stdout",
          "text": [
            "Generating URL ...\n",
            "Downloading data from https://earthengine.googleapis.com/v1/projects/kavyajeetbora-ee/thumbnails/1cd22d3eccd6890183ddafc66afee0cd-b9dd63252e18f62cc81a5d32821479fa:getPixels\n",
            "Please wait ...\n",
            "An error occurred while downloading.\n"
          ]
        }
      ]
    },
    {
      "cell_type": "markdown",
      "source": [
        "## Visualize the terrain in 3D\n",
        "\n",
        "- Convert the tif image to xarray.DataArray\n",
        "- Smoothen the terrain based on user input using gaussian filter\n",
        "- Plot the 3D terrain using plotly"
      ],
      "metadata": {
        "id": "aK010aPHWADl"
      }
    },
    {
      "cell_type": "code",
      "source": [
        "def smoothen_dataArray(tif_file, sigma = 10):\n",
        "    da = rxr.open_rasterio(filename=tif_file)\n",
        "    da_vals = da.isel(band=0).values ## Select the first band of the image\n",
        "    # Apply gaussian filter, with sigmas as variables. Higher sigma = more smoothing and more calculations. Downside: min and max values do change due to smoothing\n",
        "    sigma = [sigma, sigma] ## Sigma values in x and y direction\n",
        "    z_smoothed = sp.ndimage.gaussian_filter(da_vals, sigma)\n",
        "\n",
        "    da.data = np.expand_dims(z_smoothed, axis=0)\n",
        "    return da\n",
        "\n",
        "def plot_3D_terrain(xr_array):\n",
        "\n",
        "    Z = xr_array.values\n",
        "    Y = xr_array['y'].values\n",
        "    X = xr_array['x'].values\n",
        "\n",
        "    fig = go.Figure()\n",
        "\n",
        "    fig.add_trace(\n",
        "        go.Surface(\n",
        "            z=Z,\n",
        "            x=X,\n",
        "            y=Y,\n",
        "            colorscale = 'Viridis'\n",
        "        )\n",
        "    )\n",
        "\n",
        "    # Set the box aspect ratio (equal scales for all axes)\n",
        "    fig.update_scenes(aspectratio=dict(x=5, y=5,z=1))\n",
        "    # Remove all margins\n",
        "\n",
        "    camera = dict(\n",
        "        up=dict(x=0, y=0, z=1),\n",
        "        eye=dict(x=1.25, y=1.25, z=1.25)\n",
        "    )\n",
        "\n",
        "    fig.update_layout(\n",
        "        margin=dict(l=0, r=0, t=0, b=0),\n",
        "        scene_camera = camera\n",
        "    )\n",
        "\n",
        "    fig.update_xaxes(showticklabels=False, title='')\n",
        "    fig.update_yaxes(showticklabels=False, title='')\n",
        "\n",
        "    return fig"
      ],
      "metadata": {
        "id": "oMTZ0GGa_31I",
        "outputId": "d8fd1108-4223-43fd-bc5c-a88c71407a1a",
        "colab": {
          "base_uri": "https://localhost:8080/",
          "height": 17
        }
      },
      "execution_count": 59,
      "outputs": [
        {
          "output_type": "display_data",
          "data": {
            "text/plain": [
              "<IPython.core.display.HTML object>"
            ],
            "text/html": [
              "\n",
              "            <style>\n",
              "                .geemap-dark {\n",
              "                    --jp-widgets-color: white;\n",
              "                    --jp-widgets-label-color: white;\n",
              "                    --jp-ui-font-color1: white;\n",
              "                    --jp-layout-color2: #454545;\n",
              "                    background-color: #383838;\n",
              "                }\n",
              "\n",
              "                .geemap-dark .jupyter-button {\n",
              "                    --jp-layout-color3: #383838;\n",
              "                }\n",
              "\n",
              "                .geemap-colab {\n",
              "                    background-color: var(--colab-primary-surface-color, white);\n",
              "                }\n",
              "\n",
              "                .geemap-colab .jupyter-button {\n",
              "                    --jp-layout-color3: var(--colab-primary-surface-color, white);\n",
              "                }\n",
              "            </style>\n",
              "            "
            ]
          },
          "metadata": {}
        }
      ]
    },
    {
      "cell_type": "code",
      "source": [
        "ds = smoothen_dataArray('terrain.tif', sigma=5)\n",
        "da = ds.isel(band=0)\n",
        "fig = plot_3D_terrain(da)\n",
        "fig.show()"
      ],
      "metadata": {
        "id": "bQ5dC_XiGiqK",
        "outputId": "62923a63-1772-4311-9ce6-1c2267d89967",
        "colab": {
          "base_uri": "https://localhost:8080/",
          "height": 542
        }
      },
      "execution_count": 60,
      "outputs": [
        {
          "output_type": "display_data",
          "data": {
            "text/plain": [
              "<IPython.core.display.HTML object>"
            ],
            "text/html": [
              "\n",
              "            <style>\n",
              "                .geemap-dark {\n",
              "                    --jp-widgets-color: white;\n",
              "                    --jp-widgets-label-color: white;\n",
              "                    --jp-ui-font-color1: white;\n",
              "                    --jp-layout-color2: #454545;\n",
              "                    background-color: #383838;\n",
              "                }\n",
              "\n",
              "                .geemap-dark .jupyter-button {\n",
              "                    --jp-layout-color3: #383838;\n",
              "                }\n",
              "\n",
              "                .geemap-colab {\n",
              "                    background-color: var(--colab-primary-surface-color, white);\n",
              "                }\n",
              "\n",
              "                .geemap-colab .jupyter-button {\n",
              "                    --jp-layout-color3: var(--colab-primary-surface-color, white);\n",
              "                }\n",
              "            </style>\n",
              "            "
            ]
          },
          "metadata": {}
        },
        {
          "output_type": "display_data",
          "data": {
            "text/html": [
              "<html>\n",
              "<head><meta charset=\"utf-8\" /></head>\n",
              "<body>\n",
              "    <div>            <script src=\"https://cdnjs.cloudflare.com/ajax/libs/mathjax/2.7.5/MathJax.js?config=TeX-AMS-MML_SVG\"></script><script type=\"text/javascript\">if (window.MathJax && window.MathJax.Hub && window.MathJax.Hub.Config) {window.MathJax.Hub.Config({SVG: {font: \"STIX-Web\"}});}</script>                <script type=\"text/javascript\">window.PlotlyConfig = {MathJaxConfig: 'local'};</script>\n",
              "        <script charset=\"utf-8\" src=\"https://cdn.plot.ly/plotly-2.24.1.min.js\"></script>                <div id=\"9becff27-8d68-4c68-9d07-7bfca23ddba9\" class=\"plotly-graph-div\" style=\"height:525px; width:100%;\"></div>            <script type=\"text/javascript\">                                    window.PLOTLYENV=window.PLOTLYENV || {};                                    if (document.getElementById(\"9becff27-8d68-4c68-9d07-7bfca23ddba9\")) {                    Plotly.newPlot(                        \"9becff27-8d68-4c68-9d07-7bfca23ddba9\",                        [{\"colorscale\":[[0.0,\"#440154\"],[0.1111111111111111,\"#482878\"],[0.2222222222222222,\"#3e4989\"],[0.3333333333333333,\"#31688e\"],[0.4444444444444444,\"#26828e\"],[0.5555555555555556,\"#1f9e89\"],[0.6666666666666666,\"#35b779\"],[0.7777777777777778,\"#6ece58\"],[0.8888888888888888,\"#b5de2b\"],[1.0,\"#fde725\"]],\"x\":[375315.0,375345.0,375375.0,375405.0,375435.0,375465.0,375495.0,375525.0,375555.0,375585.0,375615.0,375645.0,375675.0,375705.0,375735.0,375765.0,375795.0,375825.0,375855.0,375885.0,375915.0,375945.0,375975.0,376005.0,376035.0,376065.0,376095.0,376125.0,376155.0,376185.0,376215.0,376245.0,376275.0,376305.0,376335.0,376365.0,376395.0,376425.0,376455.0,376485.0,376515.0,376545.0,376575.0,376605.0,376635.0,376665.0,376695.0,376725.0,376755.0,376785.0,376815.0,376845.0,376875.0,376905.0,376935.0,376965.0,376995.0,377025.0,377055.0,377085.0,377115.0,377145.0,377175.0,377205.0,377235.0,377265.0,377295.0,377325.0,377355.0,377385.0,377415.0,377445.0,377475.0,377505.0,377535.0,377565.0,377595.0,377625.0,377655.0,377685.0,377715.0,377745.0,377775.0,377805.0,377835.0,377865.0,377895.0,377925.0,377955.0,377985.0,378015.0,378045.0,378075.0,378105.0,378135.0,378165.0,378195.0,378225.0,378255.0,378285.0,378315.0,378345.0,378375.0,378405.0,378435.0,378465.0,378495.0,378525.0,378555.0,378585.0,378615.0,378645.0,378675.0,378705.0,378735.0,378765.0,378795.0,378825.0,378855.0,378885.0,378915.0,378945.0,378975.0,379005.0,379035.0,379065.0,379095.0,379125.0,379155.0,379185.0,379215.0,379245.0,379275.0,379305.0,379335.0,379365.0,379395.0,379425.0,379455.0,379485.0,379515.0,379545.0,379575.0,379605.0,379635.0,379665.0,379695.0,379725.0,379755.0,379785.0,379815.0,379845.0,379875.0,379905.0,379935.0,379965.0,379995.0,380025.0,380055.0,380085.0,380115.0,380145.0,380175.0,380205.0,380235.0,380265.0,380295.0,380325.0,380355.0,380385.0,380415.0,380445.0,380475.0,380505.0,380535.0,380565.0,380595.0,380625.0,380655.0,380685.0,380715.0,380745.0,380775.0],\"y\":[2891865.0,2891895.0,2891925.0,2891955.0,2891985.0,2892015.0,2892045.0,2892075.0,2892105.0,2892135.0,2892165.0,2892195.0,2892225.0,2892255.0,2892285.0,2892315.0,2892345.0,2892375.0,2892405.0,2892435.0,2892465.0,2892495.0,2892525.0,2892555.0,2892585.0,2892615.0,2892645.0,2892675.0,2892705.0,2892735.0,2892765.0,2892795.0,2892825.0,2892855.0,2892885.0,2892915.0,2892945.0,2892975.0,2893005.0,2893035.0,2893065.0,2893095.0,2893125.0,2893155.0,2893185.0,2893215.0,2893245.0,2893275.0,2893305.0,2893335.0,2893365.0,2893395.0,2893425.0,2893455.0,2893485.0,2893515.0,2893545.0,2893575.0,2893605.0,2893635.0,2893665.0,2893695.0,2893725.0,2893755.0,2893785.0,2893815.0,2893845.0,2893875.0,2893905.0,2893935.0,2893965.0,2893995.0,2894025.0,2894055.0,2894085.0,2894115.0,2894145.0,2894175.0,2894205.0,2894235.0,2894265.0,2894295.0,2894325.0,2894355.0,2894385.0,2894415.0,2894445.0,2894475.0,2894505.0,2894535.0,2894565.0,2894595.0,2894625.0,2894655.0,2894685.0,2894715.0,2894745.0,2894775.0,2894805.0,2894835.0,2894865.0,2894895.0,2894925.0,2894955.0,2894985.0,2895015.0,2895045.0,2895075.0,2895105.0,2895135.0,2895165.0,2895195.0,2895225.0,2895255.0,2895285.0,2895315.0,2895345.0,2895375.0],\"z\":[[66.25023651123047,66.22993469238281,66.19409942626953,66.15135955810547,66.11241912841797,66.0880355834961,66.08717346191406,66.11568450927734,66.1756591796875,66.26570892333984,66.38170623779297,66.5179443359375,66.66809844970703,66.82609558105469,66.98634338378906,67.14385223388672,67.29403686523438,67.43245697021484,67.5547103881836,67.65673828125,67.73507690429688,67.78739166259766,67.8127212524414,67.81167602539062,67.78608703613281,67.7383804321289,67.67074584960938,67.58392333984375,67.47633361816406,67.34352111816406,67.17813110351562,66.97032165527344,66.70915985107422,66.3844223022461,65.98876953125,65.5196762084961,64.98097229003906,64.38345336914062,63.74434280395508,63.085845947265625,62.43243408203125,61.80807876586914,61.23353958129883,60.72407531738281,60.28821563720703,59.927738189697266,59.638465881347656,59.41181945800781,59.236915588378906,59.10239028930664,58.99799728393555,58.9155387878418,58.84915542602539,58.795074462890625,58.75094223022461,58.71489334106445,58.68473815917969,58.65739059448242,58.628849029541016,58.59431838989258,58.54893493652344,58.488487243652344,58.410221099853516,58.31354522705078,58.20009994506836,58.07389831542969,57.9406623840332,57.80708312988281,57.67989730834961,57.5648193359375,57.465614318847656,57.38370895385742,57.317962646484375,57.26499557495117,57.219573974609375,57.17533493041992,57.125640869140625,57.06429672241211,56.986183166503906,56.88779830932617,56.767799377441406,56.62718200683594,56.469417572021484,56.30033493041992,56.1276969909668,55.96044921875,55.807716369628906,55.67789840698242,55.57781982421875,55.51206970214844,55.48297119140625,55.490692138671875,55.53395080566406,55.610477447509766,55.717689514160156,55.85292434692383,56.01347351074219,56.19630813598633,56.397708892822266,56.61284637451172,56.835575103759766,57.058292388916016,57.27252960205078,57.46938705444336,57.64035415649414,57.77820587158203,57.877769470214844,57.936588287353516,57.955081939697266,57.93672180175781,57.88764953613281,57.816001892089844,57.731040954589844,57.64227294921875,57.55839920043945,57.48666000366211,57.432044982910156,57.396907806396484,57.380741119384766,57.380184173583984,57.38934326171875,57.40031814575195,57.40421676635742,57.39215850830078,57.35676956176758,57.293548583984375,57.20206832885742,57.086280822753906,56.95435333251953,56.81764602661133,56.68901824951172,56.58095169067383,56.50382995605469,56.46446990966797,56.4656867980957,56.5063362121582,56.582069396972656,56.68635559082031,56.811561584472656,56.94986343383789,57.09382247924805,57.23667907714844,57.372589111328125,57.4964599609375,57.60419845581055,57.69276809692383,57.76056671142578,57.80736541748047,57.83464813232422,57.84537887573242,57.84359359741211,57.83382034301758,57.820438385009766,57.806976318359375,57.79555130004883,57.786678314208984,57.779296875,57.77102279663086,57.75861358642578,57.738494873046875,57.7072639465332,57.66212844848633,57.60130310058594,57.524227142333984,57.43169021606445,57.32585906982422,57.2100715637207,57.08842086791992,56.96554183959961,56.84587097167969,56.733062744140625,56.62968063354492,56.53688049316406,56.454444885253906,56.38123321533203,56.31563186645508,56.25613021850586,56.201873779296875,56.1529655456543,56.110469818115234,56.076019287109375,56.05161666870117,56.0389289855957],[66.62609100341797,66.6064682006836,66.5718002319336,66.53031921386719,66.49227905273438,66.4679183959961,66.46577453613281,66.4913558959961,66.54666900634766,66.63037872314453,66.73868560791016,66.86634063720703,67.00761413574219,67.1570053100586,67.30937194824219,67.4599838256836,67.6042251586914,67.73731994628906,67.85429382324219,67.95032501220703,68.02120208740234,68.06388854980469,68.07694244384766,68.060791015625,68.01738739013672,67.94953155517578,67.86006164550781,67.75050354003906,67.62013244628906,67.46533966064453,67.27951049804688,67.0534439086914,66.77660369873047,66.43902587890625,66.03338623046875,65.55702209472656,65.01348876953125,64.41321563720703,63.773033142089844,63.11474609375,62.46249771118164,61.83998489379883,61.26774978637695,60.76092529296875,60.32793045043945,59.970458984375,59.684242248535156,59.460601806640625,59.28853988647461,59.15658187866211,59.054378509521484,58.97365188598633,58.90848922729492,58.8550910949707,58.81110382080078,58.77467346191406,58.74364471435547,58.71498489379883,58.68476486206055,58.64830017089844,58.60086441040039,58.538414001464844,58.4583625793457,58.36027526855469,58.24591827392578,58.119354248046875,57.98630905151367,57.8534049987793,57.72726058959961,57.61343765258789,57.51554870605469,57.43488311767578,57.37019348144531,57.318031311035156,57.27314376831055,57.22920608520508,57.17964553833008,57.118377685546875,57.040401458740234,56.94232940673828,56.82291030883789,56.68320083618164,56.52667236328125,56.35910415649414,56.18816375732422,56.022666931152344,55.87160110473633,55.74323272705078,55.64430236816406,55.57933044433594,55.55061721801758,55.55833053588867,55.6012077331543,55.67698287963867,55.7830810546875,55.91682434082031,56.075462341308594,56.255924224853516,56.4544677734375,56.66624450683594,56.8851432800293,57.10365676879883,57.31345748901367,57.50584030151367,57.67251205444336,57.80647277832031,57.90272903442383,57.958953857421875,57.97564697265625,57.95625686645508,57.90687561035156,57.83554458618164,57.751441955566406,57.66401290893555,57.58193588256836,57.51247787475586,57.46066665649414,57.42890548706055,57.41667938232422,57.420589447021484,57.4345817565918,57.45054244995117,57.45928955078125,57.45164489746094,57.419986724853516,57.35964584350586,57.27015686035156,57.155574798583984,57.02428436279297,56.88792037963867,56.75962829589844,56.652122497558594,56.575889587402344,56.5377311706543,56.540306091308594,56.58222198486328,56.65882873535156,56.76329803466797,56.88774490356445,57.0241813659668,57.16510772705078,57.303810119628906,57.434593200683594,57.55258560180664,57.65397644042969,57.73601531982422,57.79738235473633,57.83807373046875,57.85972213745117,57.8653678894043,57.859039306640625,57.84518051147461,57.828060150146484,57.81108093261719,57.796241760253906,57.783973693847656,57.77317810058594,57.7614860534668,57.74570846557617,57.722373962402344,57.68820571899414,57.64052200317383,57.57765197753906,57.49910354614258,57.40570068359375,57.29957580566406,57.183998107910156,57.06295394897461,56.94093704223633,56.822265625,56.7104606628418,56.60801315307617,56.51601028442383,56.43421936035156,56.361507415771484,56.29628372192383,56.2370719909668,56.18305206298828,56.13433837890625,56.092018127441406,56.05770492553711,56.033409118652344,56.020774841308594],[67.36450958251953,67.34622192382812,67.31380462646484,67.2747802734375,67.23844909667969,67.21405029296875,67.20925903320312,67.22896575927734,67.27490997314453,67.34596252441406,67.4388656616211,67.54932403564453,67.67268371582031,67.80455017089844,67.94068145751953,68.07681274414062,68.20828247070312,68.3297119140625,68.43500518798828,68.51795959472656,68.57288360595703,68.59546661376953,68.58338928222656,68.53671264648438,68.45764923095703,68.34980773925781,68.21726989746094,68.0631103515625,67.88826751708984,67.6907958984375,67.46553039550781,67.20445251464844,66.89785766601562,66.53619384765625,66.11219024658203,65.62285614013672,65.0711898803711,64.46686553955078,63.82588195800781,63.16926574707031,62.52045440673828,61.9025764465332,61.33578109741211,60.834903717041016,60.408172607421875,60.05712890625,59.77734375,59.55995559692383,59.39376449584961,59.2670783996582,59.16935348510742,59.092159271240234,59.029483795166016,58.977481842041016,58.93379211425781,58.89661407470703,58.86384582519531,58.83256912231445,58.799015045166016,58.75870895385742,58.707210540771484,58.640777587890625,58.55717468261719,58.456260681152344,58.34002685546875,58.21266555786133,58.07987976074219,57.94816970825195,57.823909759521484,57.71237564086914,57.61688232421875,57.538455963134766,57.475643157958984,57.42488479614258,57.38090133666992,57.33743667602539,57.2880744934082,57.226932525634766,57.149234771728516,57.051822662353516,56.933616638183594,56.79576873779297,56.641754150390625,56.47724914550781,56.30973434448242,56.147769927978516,56.000091552734375,55.874717712402344,55.7782096862793,55.71497344970703,55.687259674072266,55.69523620605469,55.7376708984375,55.81232452392578,55.91660690307617,56.04780197143555,56.20308303833008,56.37928009033203,56.57256317138672,56.778053283691406,56.989681243896484,57.20009231567383,57.401222229003906,57.5847282409668,57.742733001708984,57.86866760253906,57.95791244506836,58.0084114074707,58.020809173583984,57.99858856201172,57.9477424621582,57.87617492675781,57.79292297363281,57.70732879638672,57.628047943115234,57.5623779296875,57.515445709228516,57.489707946777344,57.48466110229492,57.49678421020508,57.51975631713867,57.545040130615234,57.56293487548828,57.5637321472168,57.53934860229492,57.4848518371582,57.39972686767578,57.288230895996094,57.15916442871094,57.02467727661133,56.89841079711914,56.79342269897461,56.720340728759766,56.68581008911133,56.69211959838867,56.73731231689453,56.816104888916016,56.92107009887695,57.04385757446289,57.176212310791016,57.31058883666992,57.440460205078125,57.56050109863281,57.66636276245117,57.75483322143555,57.82376480102539,57.872379302978516,57.901092529296875,57.911800384521484,57.907630920410156,57.89255142211914,57.87083053588867,57.846473693847656,57.82262420654297,57.80105972290039,57.78204345703125,57.76442337036133,57.74586868286133,57.72332763671875,57.69352722167969,57.65343475341797,57.600616455078125,57.53361129760742,57.45207595825195,57.356876373291016,57.250099182128906,57.134857177734375,57.01491928100586,56.894527435302734,56.77772903442383,56.66781997680664,56.56711959838867,56.47660446166992,56.395999908447266,56.32419967651367,56.2596549987793,56.200958251953125,56.14735412597656,56.099002838134766,56.0569953918457,56.022953033447266,55.99885559082031,55.986328125],[68.4395751953125,68.4231948852539,68.39401245117188,68.35845184326172,68.32443237304688,68.29975891113281,68.29081726074219,68.3016128540039,68.33352661132812,68.38567352294922,68.45561981201172,68.54032897949219,68.63670349121094,68.74185943603516,68.85279083251953,68.96589660644531,69.07646942138672,69.17828369140625,69.26375579833984,69.32476806640625,69.35363006591797,69.34429931640625,69.29329681396484,69.20027923583984,69.06786346435547,68.90088653564453,68.70525360107422,68.48628997802734,68.24736785888672,67.9888916015625,67.70779418945312,67.39772033691406,67.05010986328125,66.6559829711914,66.20803833007812,65.70278930664062,65.1423110961914,64.53509521484375,63.895896911621094,63.24448776245117,62.60322570800781,61.994384765625,61.4374885559082,60.94696807861328,60.530784606933594,60.190277099609375,59.920833587646484,59.71335983276367,59.55638885498047,59.43794250488281,59.347206115722656,59.27552032470703,59.21673583984375,59.166954040527344,59.123809814453125,59.0855712890625,59.050262451171875,59.01514434814453,58.976680755615234,58.930721282958984,58.87322235107422,58.80091857910156,58.7120361328125,58.60686492919922,58.48773193359375,58.358978271484375,58.22629165649414,58.09597396850586,57.97407531738281,57.865447998046875,57.77299118041992,57.69736099243164,57.63683319091797,57.58770751953125,57.544700622558594,57.50167465209961,57.45244598388672,57.39142990112305,57.314178466796875,57.217830657958984,57.10154342651367,56.966590881347656,56.81643295288086,56.65659713745117,56.49428939819336,56.337730407714844,56.195281982421875,56.07463836669922,55.98210906982422,55.92193603515625,55.89630126953125,55.9053840637207,55.9479866027832,56.02187728881836,56.124446868896484,56.252899169921875,56.40426254272461,56.575199127197266,56.761722564697266,56.95884323120117,57.160499572753906,57.359500885009766,57.548118591308594,57.718482971191406,57.86329650878906,57.97659683227539,58.05431365966797,58.09483337402344,58.09907913208008,58.07063674926758,58.01546096801758,57.94134521484375,57.85719299316406,57.77225112915039,57.695159912109375,57.633296966552734,57.59187316894531,57.57343292236328,57.57745361328125,57.6002311706543,57.63506317138672,57.672855377197266,57.7032356262207,57.7158203125,57.70197677612305,57.65647506713867,57.57881546020508,57.47357177734375,57.35011291503906,57.221229553222656,57.10112380981445,57.003177642822266,56.9379768371582,56.91173553466797,56.92597961425781,56.977779388427734,57.06082534790039,57.166812896728516,57.28676223754883,57.41215133666992,57.535560607910156,57.65094757080078,57.75374221801758,57.84053039550781,57.90910339355469,57.95826721191406,57.98801803588867,57.999332427978516,57.994388580322266,57.97633743286133,57.94894790649414,57.916133880615234,57.88148880004883,57.84772872924805,57.816314697265625,57.787296295166016,57.75946044921875,57.7305793762207,57.69782257080078,57.65824508666992,57.60918426513672,57.548587799072266,57.47529220581055,57.389163970947266,57.2911376953125,57.18320846557617,57.068267822265625,56.94976043701172,56.83155059814453,56.717288970947266,56.60994338989258,56.5115852355957,56.423030853271484,56.34396743774414,56.27330780029297,56.20958709716797,56.15150451660156,56.0984001159668,56.05048370361328,56.00887680053711,55.975181579589844,55.95134735107422,55.93896484375],[69.81424713134766,69.80021667480469,69.77495574951172,69.74349975585938,69.71199798583984,69.68643188476562,69.67156982421875,69.67034149169922,69.6836929321289,69.7110366821289,69.75096130371094,69.80196380615234,69.86276245117188,69.93229675292969,70.00899505615234,70.09004974365234,70.170654296875,70.24359893798828,70.29954528808594,70.32814025878906,70.31935119628906,70.2651596069336,70.16077423095703,70.00550079345703,69.8026123046875,69.55855560302734,69.28162384033203,68.98001098632812,68.66015625,68.325439453125,67.97541809082031,67.60578155517578,67.20935821533203,66.77777099609375,66.30363464355469,65.78268432617188,65.21569061279297,64.60954284667969,63.97723388671875,63.336830139160156,62.70921325683594,62.115482330322266,61.57433319091797,61.09967041015625,60.69915771484375,60.37395095825195,60.119258880615234,59.92576217651367,59.781707763671875,59.67477035522461,59.59380340576172,59.529876708984375,59.47665023803711,59.43014907836914,59.38802719116211,59.348663330078125,59.31025695800781,59.27030563354492,59.225608825683594,59.17243576049805,59.10725021362305,59.027366638183594,58.93160629272461,58.8207893371582,58.69763946533203,58.56670379638672,58.43364334106445,58.30451202392578,58.18494415283203,58.07927322387695,57.98989486694336,57.91702651977539,57.858642578125,57.81089782714844,57.768550872802734,57.725643157958984,57.676307678222656,57.6153450012207,57.538700103759766,57.44387435913086,57.330299377441406,57.19935989379883,57.05448913574219,56.90102005004883,56.74582290649414,56.596710205078125,56.46160125732422,56.347801208496094,56.26131057739258,56.20618438720703,56.184513092041016,56.19646453857422,56.24086380004883,56.31548309326172,56.41764450073242,56.54441833496094,56.692596435546875,56.85857391357422,57.0380744934082,57.22588348388672,57.41585159301758,57.600887298583984,57.773590087890625,57.92660903930664,58.05332565307617,58.148529052734375,58.208892822265625,58.233428955078125,58.22354507446289,58.183101654052734,58.118186950683594,58.03660583496094,57.947235107421875,57.85930252075195,57.781497955322266,57.72128677368164,57.68398666381836,57.67218780517578,57.685302734375,57.719383239746094,57.76726531982422,57.8192253112793,57.86417007446289,57.891029357910156,57.890663146972656,57.85763168334961,57.791561126708984,57.69747543334961,57.585384368896484,57.46873092651367,57.362159729003906,57.27912521362305,57.22975540161133,57.219329833984375,57.24806213378906,57.311492919921875,57.40184783935547,57.50965118408203,57.62521743774414,57.73992919921875,57.84682846069336,57.940860748291016,58.0187873840332,58.07870864868164,58.11992645263672,58.1425666809082,58.14761734008789,58.13668441772461,58.11213684082031,58.07696533203125,58.034507751464844,57.98808288574219,57.94064712524414,57.89434051513672,57.8502082824707,57.808067321777344,57.76667785644531,57.724002838134766,57.677555084228516,57.62484359741211,57.563724517822266,57.492637634277344,57.410823822021484,57.31840133666992,57.21638488769531,57.10663986206055,56.99175262451172,56.87474822998047,56.75898361206055,56.64762496948242,56.54320526123047,56.447479248046875,56.36107635498047,56.28363037109375,56.2140998840332,56.15114212036133,56.09358215332031,56.040897369384766,55.993377685546875,55.9521598815918,55.91883087158203,55.89528274536133,55.883060455322266],[71.44242095947266,71.43089294433594,71.40975189208984,71.38239288330078,71.35293579101562,71.32524108886719,71.30230712890625,71.28585815429688,71.27642822265625,71.27384185791016,71.2778091430664,71.28852844238281,71.30667877197266,71.33308410644531,71.36767578125,71.40838623046875,71.45026397705078,71.48497772216797,71.50126647949219,71.48638153076172,71.42784881591797,71.31558990478516,71.14354705810547,70.91082763671875,70.62164306640625,70.2844467163086,69.91040802001953,69.51112365722656,69.09664154052734,68.67382049560547,68.24520111083984,67.80885314941406,67.35911560058594,66.88825225830078,66.38861846923828,65.85490417480469,65.28620147705078,64.68730926513672,64.06896209716797,63.44706726074219,62.84059524536133,62.26918029785156,61.750492095947266,61.29783630371094,60.9185791015625,60.61375427246094,60.37846374511719,60.20322036743164,60.075992584228516,59.98410415649414,59.916015625,59.86246871948242,59.81688690185547,59.77519989013672,59.735076904296875,59.69503402709961,59.65349578857422,59.6082763671875,59.55656814575195,59.49514389038086,59.42105484008789,59.33228302001953,59.22831344604492,59.11058807373047,58.98229217529297,58.84819793701172,58.71394348144531,58.58531951904297,58.46748352050781,58.364192962646484,58.27728271484375,58.20650100708008,58.149513244628906,58.10237503051758,58.059932708740234,58.01649856567383,57.96659851074219,57.905487060546875,57.829559326171875,57.736717224121094,57.62666320800781,57.500911712646484,57.36283874511719,57.217559814453125,57.07158279418945,56.93226623535156,56.807064056396484,56.702842712402344,56.625267028808594,56.57815933227539,56.5634880065918,56.581382751464844,56.63065719604492,56.70902633666992,56.81369400024414,56.941505432128906,57.08890151977539,57.25185012817383,57.42560958862305,57.604557037353516,57.78227996826172,57.95161819458008,58.10540008544922,58.23674392700195,58.339759826660156,58.41010284423828,58.44537353515625,58.44546890258789,58.41256332397461,58.35112380981445,58.26766586303711,58.1702766418457,58.06804656982422,57.97035217285156,57.886016845703125,57.822635650634766,57.785606384277344,57.77750015258789,57.797576904296875,57.84156036376953,57.90178298950195,57.96788787841797,58.02812194824219,58.07085037231445,58.08660125732422,58.06991958618164,58.02073287963867,57.94462203979492,57.85224914550781,57.75756072998047,57.67532730102539,57.618560791015625,57.596317291259766,57.6121940612793,57.66434097290039,57.74612045288086,57.847782135009766,57.95841979980469,58.067684173583984,58.16714096069336,58.2508544921875,58.31546401977539,58.359832763671875,58.38431167602539,58.39030456542969,58.379661560058594,58.354557037353516,58.31718063354492,58.26991653442383,58.21528625488281,58.15586853027344,58.09407043457031,58.031951904296875,57.970916748046875,57.9115104675293,57.85332489013672,57.795169830322266,57.73530578613281,57.67173767089844,57.60258102416992,57.526336669921875,57.44205856323242,57.349464416503906,57.24897003173828,57.141666412353516,57.029239654541016,56.913902282714844,56.79815673828125,56.68476867675781,56.576297760009766,56.47478103637695,56.3816032409668,56.297183990478516,56.22109603881836,56.152381896972656,56.089839935302734,56.03248977661133,55.979949951171875,55.932613372802734,55.89164352416992,55.85859680175781,55.83530044555664,55.82322311401367],[73.27113342285156,73.26190185546875,73.24436950683594,73.22019958496094,73.19133758544922,73.15947723388672,73.12582397460938,73.09098815917969,73.05520629882812,73.01883697509766,72.98284912109375,72.94916534423828,72.92037200927734,72.8990707397461,72.8864974975586,72.88114166259766,72.8777084350586,72.8666000366211,72.83454895019531,72.76637268066406,72.64718627929688,72.4649658203125,72.21257781982422,71.88914489746094,71.50015258789062,71.05644989013672,70.57246398925781,70.06363677978516,69.54405975341797,69.02439880371094,68.51052856445312,68.0030746459961,67.49800872802734,66.98820495605469,66.46560668945312,65.92359161376953,65.35919952392578,64.77470397949219,64.17810821533203,63.58268356323242,63.00513458251953,62.463321685791016,61.9737434387207,61.54906463623047,61.19641876220703,60.916812896728516,60.705387115478516,60.55257797241211,60.44613265991211,60.373023986816406,60.321285247802734,60.28125,60.24604034423828,60.2114372253418,60.17510986328125,60.135711669921875,60.09192657470703,60.041927337646484,59.98334503173828,59.913490295410156,59.83005142211914,59.73170852661133,59.618682861328125,59.49305725097656,59.358551025390625,59.22019958496094,59.08364486694336,58.95440673828125,58.837162017822266,58.73507308959961,58.6494026184082,58.579429626464844,58.52253723144531,58.47473907470703,58.43104553222656,58.38611602783203,58.33494567871094,58.27330780029297,58.198081970214844,58.10759735107422,58.0018424987793,57.882450103759766,57.75275421142578,57.61766052246094,57.48332214355469,57.35664749145508,57.24462127685547,57.153656005859375,57.08903884887695,57.0543212890625,57.05127716064453,57.07993698120117,57.13901901245117,57.226104736328125,57.33817672729492,57.47173309326172,57.62269973754883,57.786415100097656,57.95743942260742,58.12948226928711,58.295555114746094,58.448204040527344,58.58024215698242,58.68514633178711,58.7577018737793,58.794532775878906,58.79438781738281,58.75836944580078,58.68986129760742,58.594398498535156,58.479408264160156,58.35373306274414,58.227027893066406,58.10909652709961,58.00904846191406,57.93464660644531,57.89130401611328,57.88145446777344,57.904083251953125,57.954490661621094,58.02446365356445,58.10306930541992,58.17805099487305,58.237449645996094,58.271732330322266,58.27570724487305,58.249820709228516,58.20029067993164,58.13833236694336,58.078102111816406,58.033966064453125,58.01780319213867,58.036739349365234,58.09178924560547,58.17816162109375,58.28628921508789,58.403934478759766,58.5185546875,58.61923599243164,58.69818878173828,58.751197814941406,58.77747344970703,58.778900146484375,58.7589225769043,58.72170639038086,58.67123794555664,58.61101150512695,58.543704986572266,58.471435546875,58.395870208740234,58.31840896606445,58.24018096923828,58.162078857421875,58.08460235595703,58.00774383544922,57.93089294433594,57.85300827026367,57.772796630859375,57.68889236450195,57.60017013549805,57.50590896606445,57.40586853027344,57.30030822753906,57.189964294433594,57.07597732543945,56.9598274230957,56.84327697753906,56.72822952270508,56.61676025390625,56.51076889038086,56.41172409057617,56.32061004638672,56.237613677978516,56.16227722167969,56.09374237060547,56.03099060058594,55.973262786865234,55.92036819458008,55.8728141784668,55.83179473876953,55.798828125,55.775657653808594,55.763671875],[75.24302673339844,75.23538208007812,75.2200698852539,75.19705200195312,75.16619873046875,75.12720489501953,75.0797119140625,75.02349853515625,74.95879364013672,74.88671112060547,74.80953979492188,74.73088073730469,74.65502166748047,74.58596801757812,74.52586364746094,74.47333526611328,74.42240142822266,74.36197662353516,74.27667236328125,74.14892578125,73.96155548095703,73.7007827758789,73.35868835449219,72.93470001220703,72.43588256835938,71.87577056884766,71.27239227294922,70.6453628540039,70.01309967041016,69.39037322998047,68.78663635253906,68.20521545410156,67.64384460449219,67.09598541259766,66.55309295654297,66.00701904296875,65.45244598388672,64.88873291015625,64.32075500488281,63.758731842041016,63.21675109863281,62.71067810058594,62.255699157714844,61.863853454589844,61.542144775390625,61.29173278808594,61.10795211791992,60.9813232421875,60.899452209472656,60.84897232055664,60.81743240356445,60.794673919677734,60.773414611816406,60.74919128417969,60.7196159362793,60.683448791503906,60.639617919921875,60.58665084838867,60.52262496948242,60.445377349853516,60.35321807861328,60.24554443359375,60.123294830322266,59.9892578125,59.84770202636719,59.704002380371094,59.56385803222656,59.43256759643555,59.31435775756836,59.211830139160156,59.12569046020508,59.054786682128906,58.996280670166016,58.946189880371094,58.8997802734375,58.85211944580078,58.79874801635742,58.73600387573242,58.661285400390625,58.57337188720703,58.472564697265625,58.360652923583984,58.240966796875,58.1182746887207,57.99842071533203,57.887935638427734,57.793338775634766,57.720584869384766,57.67453384399414,57.65837860107422,57.67359924316406,57.71998977661133,57.796051025390625,57.89910125732422,58.025753021240234,58.17198181152344,58.3329963684082,58.503257751464844,58.676307678222656,58.84481430053711,59.0008544921875,59.13627243041992,59.243560791015625,59.31631088256836,59.34989929199219,59.342002868652344,59.29278564453125,59.205013275146484,59.0838508605957,58.93659210205078,58.77227783203125,58.60113525390625,58.43394088745117,58.281272888183594,58.15275192260742,58.056331634521484,57.99734878540039,57.97793197631836,57.99659729003906,58.048091888427734,58.12361145019531,58.21173858642578,58.29991912841797,58.37617111206055,58.43124771118164,58.460533142089844,58.46517562866211,58.45206832885742,58.43278884887695,58.42124938964844,58.43076705932617,58.47123336791992,58.54686737060547,58.65510940551758,58.78731155395508,58.930233001708984,59.06867980957031,59.18832015991211,59.27789306640625,59.33078384399414,59.34530258178711,59.324180603027344,59.273311614990234,59.20008850097656,59.11210632324219,59.015869140625,58.91627883911133,58.81635665893555,58.717594146728516,58.62037658691406,58.52448654174805,58.42940139770508,58.33457565307617,58.239444732666016,58.14341735839844,58.045738220214844,57.94562911987305,57.84236526489258,57.73537826538086,57.62442398071289,57.5096549987793,57.39162063598633,57.27114486694336,57.149295806884766,57.027244567871094,56.90621566772461,56.7874641418457,56.6722412109375,56.5618782043457,56.457557678222656,56.36014938354492,56.27021408081055,56.187721252441406,56.1121826171875,56.042869567871094,55.97898864746094,55.920040130615234,55.866050720214844,55.817665100097656,55.77611541748047,55.742881774902344,55.71961975097656,55.707611083984375],[77.29862213134766,77.29135131835938,77.27593994140625,77.25088500976562,77.21432495117188,77.16437530517578,77.09963989257812,77.0195541381836,76.92479705810547,76.8175048828125,76.70142364501953,76.58167266845703,76.46383666992188,76.35283660888672,76.25105285644531,76.15665435791016,76.06243896484375,75.9554672241211,75.81807708740234,75.63030242919922,75.37281799316406,75.03034973144531,74.59437561035156,74.06494140625,73.4509048461914,72.76872253417969,72.04024505615234,71.28944396972656,70.53926849365234,69.80885314941406,69.11139678955078,68.45317840576172,67.83382415771484,67.24752807617188,66.68524169921875,66.13719940185547,65.59557342529297,65.05651092529297,64.52142333984375,63.99715805053711,63.49489974975586,63.0283203125,62.61124038696289,62.25510787963867,61.966949462890625,61.7482795715332,61.594852447509766,61.4974365234375,61.443607330322266,61.41965866088867,61.41259765625,61.41164016723633,61.40895462036133,61.39969253540039,61.381282806396484,61.35250473022461,61.312469482421875,61.260005950927734,61.193565368652344,61.11146545410156,61.012577056884766,60.896949768066406,60.7662467956543,60.62394332885742,60.474937438964844,60.32501220703125,60.180023193359375,60.045135498046875,59.92422866821289,59.81939697265625,59.730865478515625,59.6571044921875,59.59510803222656,59.54096603393555,59.4902458190918,59.43850326538086,59.38185501098633,59.31724548339844,59.242637634277344,59.15730285644531,59.06191635131836,58.958518981933594,58.850555419921875,58.74276351928711,58.64082336425781,58.55096435546875,58.479305267333984,58.431312561035156,58.41134262084961,58.422088623046875,58.464561462402344,58.538124084472656,58.64086151123047,58.76962661743164,58.920467376708984,59.08860778808594,59.268287658691406,59.452754974365234,59.634151458740234,59.80364990234375,59.95188903808594,60.069522857666016,60.148284912109375,60.18156814575195,60.165225982666016,60.098087310791016,59.98208999633789,59.82225799560547,59.6263313293457,59.404258728027344,59.1676139831543,58.92886734008789,58.70059585571289,58.49464797973633,58.321380615234375,58.18896484375,58.10251998901367,58.063629150390625,58.07008743286133,58.11588668823242,58.19157409667969,58.28531265258789,58.384464263916016,58.47732925415039,58.55529022216797,58.61457061767578,58.65717697143555,58.69062423706055,58.7265510559082,58.778106689453125,58.8568115234375,58.969669342041016,59.11703872680664,59.291831970214844,59.4807243347168,59.6661491394043,59.82960510253906,59.954925537109375,60.03078079223633,60.052303314208984,60.02112579345703,59.94441223144531,59.83295822143555,59.69889831542969,59.55381774902344,59.40705108642578,59.26494216918945,59.13066101074219,59.00473403930664,58.885841369628906,58.77173614501953,58.659912109375,58.548152923583984,58.434722900390625,58.31843185424805,58.19844436645508,58.074344635009766,57.94612121582031,57.8140983581543,57.67900848388672,57.541954040527344,57.40428924560547,57.26741409301758,57.13270950317383,57.00135040283203,56.874263763427734,56.75217819213867,56.63565444946289,56.525264739990234,56.42145919799805,56.32450485229492,56.23453903198242,56.15131378173828,56.074344635009766,56.003047943115234,55.9368896484375,55.87565612792969,55.81962966918945,55.769615173339844,55.72688674926758,55.69290542602539,55.669227600097656,55.65704345703125],[79.37841796875,79.36985778808594,79.35124969482422,79.32001495361328,79.27316284179688,79.20793914794922,79.12263488769531,79.01707458496094,78.89293670654297,78.7538070678711,78.60493469238281,78.4527816772461,78.30379486083984,78.16307067871094,78.0324935913086,77.9089584350586,77.78338623046875,77.64047241210938,77.46000671386719,77.21951293945312,76.8975830078125,76.47753143310547,75.95045471191406,75.31709289550781,74.58821105957031,73.78328704833984,72.92800903320312,72.05082702636719,71.17935943603516,70.33727264404297,69.54180145263672,68.802490234375,68.12114715576172,67.49298095703125,66.90865325927734,66.35688781738281,65.8272933959961,65.31269836425781,64.8108139038086,64.32489013671875,63.86298751831055,63.436431884765625,63.05764389038086,62.73756408691406,62.48341751098633,62.297298431396484,62.17561721801758,62.109588623046875,62.08685302734375,62.09337615966797,62.11552047729492,62.141719818115234,62.16338348388672,62.175071716308594,62.17385482788086,62.15837097167969,62.12778854370117,62.081119537353516,62.0170783996582,61.93434143066406,61.832237243652344,61.71138000488281,61.57408905029297,61.424564361572266,61.268367767333984,61.1118049621582,60.96101760864258,60.82120132446289,60.69599914550781,60.587127685546875,60.494415283203125,60.416011810302734,60.34880447387695,60.28900146484375,60.232513427734375,60.17540740966797,60.114410400390625,60.04710388183594,59.97207260131836,59.88915252685547,59.799522399902344,59.705623626708984,59.6112174987793,59.52122497558594,59.44133758544922,59.37763214111328,59.33587646484375,59.32102584838867,59.336788177490234,59.385154724121094,59.466400146484375,59.57918167114258,59.720882415771484,59.887611389160156,60.0745849609375,60.27600860595703,60.48481369018555,60.69265365600586,60.88978958129883,61.065364837646484,61.207969665527344,61.306488037109375,61.35136795043945,61.33545684814453,61.254947662353516,61.110008239746094,60.90482711791992,60.647464752197266,60.34925079345703,60.023929595947266,59.68674850463867,59.353458404541016,59.03926467895508,58.757835388183594,58.520511627197266,58.33568572998047,58.20804214477539,58.138301849365234,58.12319564819336,58.15570068359375,58.22557067871094,58.32057189941406,58.428138732910156,58.537086486816406,58.63969039916992,58.73320007324219,58.820526123046875,58.90964126586914,59.01188659667969,59.139076232910156,59.300209045410156,59.49859619140625,59.72991943359375,59.9818229675293,60.23567199707031,60.469207763671875,60.66042709350586,60.791419982910156,60.851112365722656,60.836917877197266,60.75444793701172,60.61602783203125,60.43803024291992,60.237911224365234,60.03162384033203,59.83149719238281,59.645301818847656,59.47614669799805,59.323299407958984,59.18339920043945,59.05186080932617,58.923954010009766,58.7956428527832,58.663963317871094,58.52714538574219,58.384334564208984,58.23556900024414,58.08163070678711,57.92380142211914,57.76382827758789,57.60375213623047,57.44572830200195,57.29169464111328,57.1432991027832,57.00170135498047,56.86750411987305,56.74091339111328,56.62181091308594,56.51002883911133,56.40531539916992,56.30735778808594,56.21590042114258,56.13050079345703,56.05067825317383,55.97603225708008,55.90629959106445,55.84157180786133,55.782413482666016,55.72981643676758,55.685123443603516,55.649784088134766,55.62527847290039,55.61271286010742],[81.42487335205078,81.4130859375,81.38771057128906,81.34569549560547,81.28368377685547,81.19894409179688,81.09039306640625,80.95907592773438,80.80836486816406,80.64366149902344,80.47187042236328,80.30056762695312,80.1365737915039,79.98446655273438,79.84478759765625,79.7123031616211,79.5752944946289,79.41551971435547,79.20975494384766,78.93279266357422,78.56099700927734,78.07622528076172,77.4690933227539,76.7409896850586,75.9044418334961,74.98176574707031,74.00241088867188,72.99922180175781,72.00457000732422,71.04685974121094,70.14771270751953,69.32038116455078,68.56942749023438,67.89157104492188,67.27764892578125,66.7152328491211,66.1915283203125,65.69610595703125,65.222900390625,64.77139282226562,64.34635925292969,63.95670700073242,63.613407135009766,63.32699203491211,63.10505676269531,62.95051574707031,62.86066436767578,62.82734680175781,62.8383674621582,62.87934112548828,62.935874938964844,62.995399475097656,63.04831314086914,63.08832931518555,63.11189651489258,63.1173095703125,63.103599548339844,63.06978988647461,63.014705657958984,62.93721389770508,62.83695602416992,62.714988708496094,62.57423400878906,62.419586181640625,62.257362365722656,62.09451675415039,61.93763732910156,61.79212188720703,61.661563873291016,61.54743194580078,61.44926071166992,61.36497497558594,61.291378021240234,61.224822998046875,61.16156768798828,61.09818649291992,61.03202438354492,60.96133804321289,60.88539123535156,60.804718017578125,60.72117233276367,60.637847900390625,60.5590934753418,60.49031066894531,60.43745422363281,60.40662384033203,60.40330505371094,60.431861877441406,60.495174407958984,60.59423828125,60.728233337402344,60.89472579956055,61.09001159667969,61.30911636352539,61.54607391357422,61.7937126159668,62.04328155517578,62.28438186645508,62.50485610961914,62.69117736816406,62.82923889160156,62.90548324584961,62.90853500366211,62.8303337097168,62.667362213134766,62.42140197753906,62.09955596923828,61.713905334472656,61.28059387207031,60.81853103637695,60.34798049926758,59.88914108276367,59.46075439453125,59.07888412475586,58.75608825683594,58.50090026855469,58.31728744506836,58.204681396484375,58.15833282470703,58.169837951660156,58.227928161621094,58.31989288330078,58.43327331542969,58.557525634765625,58.685916900634766,58.816776275634766,58.95381546020508,59.1052360534668,59.281646728515625,59.49299621582031,59.74516296386719,60.03716278076172,60.359474182128906,60.69407272338867,61.01679229736328,61.300575256347656,61.520050048828125,61.65576934814453,61.69727325439453,61.644657135009766,61.50794219970703,61.30499267578125,61.058101654052734,60.79025650024414,60.52190017700195,60.26833724975586,60.03863525390625,59.835689544677734,59.65729904174805,59.49786376953125,59.35030746459961,59.20758819580078,59.063819885253906,58.914825439453125,58.75830078125,58.59342956542969,58.42076110839844,58.24188232421875,58.05903244018555,57.874916076660156,57.69247055053711,57.514549255371094,57.34355926513672,57.181373596191406,57.029083251953125,56.88699722290039,56.754817962646484,56.63182067871094,56.51716613769531,56.40998458862305,56.30944061279297,56.21492385864258,56.125831604003906,56.04170608520508,55.96232223510742,55.8876953125,55.81824493408203,55.754817962646484,55.6986198425293,55.65109634399414,55.61371994018555,55.58791732788086,55.57472229003906],[83.38447570800781,83.3675537109375,83.33192443847656,83.27474975585938,83.19319152832031,83.0855712890625,82.95237731933594,82.7967758178711,82.62446594238281,82.4430923461914,82.26132202148438,82.08769226074219,81.92896270751953,81.78858947753906,81.66500854492188,81.55010986328125,81.42877960205078,81.2791748046875,81.07455444335938,80.78654479980469,80.38890838623047,79.8617172241211,79.19474029541016,78.38957214355469,77.4600830078125,76.4310073852539,75.33515930175781,74.20958709716797,73.09138488769531,72.01392364501953,71.00370025634766,70.07831573486328,69.24588775634766,68.50546264648438,67.84882354736328,67.26299285888672,66.73326110839844,66.24613952636719,65.79187774658203,65.36615753173828,64.97035217285156,64.61084747314453,64.29718017578125,64.03952026367188,63.84598159790039,63.720497131347656,63.66145324707031,63.66148376464844,63.7086181640625,63.7880859375,63.88456726074219,63.98426055908203,64.07624816894531,64.153076171875,64.21028900146484,64.24556732177734,64.25758361816406,64.24516296386719,64.2070541381836,64.14212799072266,64.0501708984375,63.93255615234375,63.792728424072266,63.63627243041992,63.47031021118164,63.302581787109375,63.140323638916016,62.98931884765625,62.853294372558594,62.73365020751953,62.62974166870117,62.53931427001953,62.459129333496094,62.385658264160156,62.315494537353516,62.24568176269531,62.17416763305664,62.09989929199219,62.022911071777344,61.94458770751953,61.867713928222656,61.79634094238281,61.735774993896484,61.69224548339844,61.67229461669922,61.68224334716797,61.72735595703125,61.811309814453125,61.935890197753906,62.10071563720703,62.30342102050781,62.53998947143555,62.80515670776367,63.092403411865234,63.394168853759766,63.70147705078125,64.0034408569336,64.287109375,64.53730773925781,64.73719024658203,64.86925506591797,64.91687774658203,64.86634063720703,64.70841217041016,64.43993377685547,64.06475067138672,63.59374237060547,63.044193267822266,62.43851089477539,61.80227279663086,61.16221618652344,60.544219970703125,59.97146987915039,59.46294021606445,59.03255844116211,58.68882751464844,58.43459701538086,58.26749801635742,58.18077850341797,58.16420364379883,58.205142974853516,58.290199279785156,58.406917572021484,58.54533386230469,58.699642181396484,58.869117736816406,59.058040618896484,59.27449417114258,59.5279541015625,59.8260612487793,60.17118453979492,60.557777404785156,60.97098922729492,61.38719940185547,61.77690887451172,62.108638763427734,62.3540153503418,62.492469787597656,62.51447677612305,62.42302322387695,62.23262405395508,61.96666717529297,61.65321731567383,61.32057571411133,60.993431091308594,60.6898193359375,60.41992950439453,60.18627166748047,59.985107421875,59.8086051940918,59.64724349975586,59.49176025390625,59.33452224731445,59.17024230957031,58.996158599853516,58.81155014038086,58.61745834350586,58.41623306274414,58.210975646972656,58.005226135253906,57.80266189575195,57.60670471191406,57.42012405395508,57.24492645263672,57.08212661743164,56.931766510009766,56.79314041137695,56.6650276184082,56.546043395996094,56.434818267822266,56.33009719848633,56.230987548828125,56.13675308227539,56.04697036743164,55.961578369140625,55.880859375,55.8055419921875,55.73676681518555,55.67598342895508,55.624759674072266,55.58463668823242,55.557037353515625,55.54296112060547],[85.20984649658203,85.18619537353516,85.13754272460938,85.0618896484375,84.95780944824219,84.82561492919922,84.66830444335938,84.49189758300781,84.30500030517578,84.11783599853516,83.94096374511719,83.78380584716797,83.65280151367188,83.54989624023438,83.4709243774414,83.40434265136719,83.33106231689453,83.22505187988281,83.05548095703125,82.79019165039062,82.39976501464844,81.86178588867188,81.16444396972656,80.30876159667969,79.30911254882812,78.19185638427734,76.99256896972656,75.7520523071289,74.51201629638672,73.31103515625,72.18099975585938,71.14476013183594,70.21499633789062,69.39424133300781,68.67630004882812,68.04859161376953,67.49520111083984,67.00009155273438,66.550048828125,66.13702392578125,65.75897216796875,65.41968536376953,65.127197265625,64.89134979248047,64.72086334228516,64.62080383300781,64.5907974243164,64.62435913085938,64.70977020263672,64.83177947998047,64.97396850585938,65.12103271484375,65.26040649414062,65.38313293457031,65.48355865478516,65.5584487915039,65.60587310791016,65.624267578125,65.6120834350586,65.56803131103516,65.49188995361328,65.38520812988281,65.25186157226562,65.09811401367188,64.93196868896484,64.7620620727539,64.59644317626953,64.44149780273438,64.30126953125,64.17724609375,64.06871795654297,63.97331619262695,63.88775634765625,63.80860137939453,63.73270034790039,63.65751647949219,63.58155059814453,63.504459381103516,63.42713928222656,63.35199737548828,63.28302764892578,63.22561264038086,63.186431884765625,63.1729621887207,63.19266891479492,63.252315521240234,63.356998443603516,63.50957489013672,63.71040725708008,63.957279205322266,64.2457275390625,64.56956481933594,64.92137908935547,65.29257202148438,65.67345428466797,66.05278015136719,66.41703033447266,66.75013732910156,67.03334045410156,67.24585723876953,67.36618041992188,67.37406921386719,67.25311279296875,66.9928207397461,66.59066009521484,66.05322265625,65.39620208740234,64.64348602294922,63.82526779174805,62.975399017333984,62.1285285949707,61.31737518310547,60.57035446166992,59.909732818603516,59.35081100463867,58.90174865722656,58.563758850097656,58.33208084106445,58.19733810424805,58.14693069458008,58.16643142700195,58.241416931152344,58.35917282104492,58.51007080078125,58.68898010253906,58.895809173583984,59.13505554199219,59.41428756713867,59.741485595703125,60.12171173095703,60.55373001098633,61.02753829956055,61.523319244384766,62.01244354248047,62.4608039855957,62.83325958251953,63.09916687011719,63.23736572265625,63.239532470703125,63.111541748046875,62.872108459472656,62.54960632324219,62.17721939086914,61.78789520263672,61.409912109375,61.06359100341797,60.759918212890625,60.50094223022461,60.281455993652344,60.09158706665039,59.919639587402344,59.75441360473633,59.5867805480957,59.4105339050293,59.22256088256836,59.02225875854492,58.811100006103516,58.59207534790039,58.368961334228516,58.14593505859375,57.927188873291016,57.71652603149414,57.51692581176758,57.330440521240234,57.158016204833984,56.99948501586914,56.853858947753906,56.7195930480957,56.594947814941406,56.47821807861328,56.36787414550781,56.26280212402344,56.16218948364258,56.065643310546875,55.97323226928711,55.885475158691406,55.80337905883789,55.72837448120117,55.662147521972656,55.6064453125,55.56292724609375,55.53305435180664,55.51783752441406],[86.86190795898438,86.83063507080078,86.7674789428711,86.67188262939453,86.5445556640625,86.38853454589844,86.21001434326172,86.01837921142578,85.82554626464844,85.64452362060547,85.48789978027344,85.36601257324219,85.28501892089844,85.24529266357422,85.23995208740234,85.25381469726562,85.2635269165039,85.23844909667969,85.1430892944336,84.94083404541016,84.59821319580078,84.08934783935547,83.39973449707031,82.52861785888672,81.48963928222656,80.30967712402344,79.02609252929688,77.68279266357422,76.32581329345703,74.99907684326172,73.74048614501953,72.57908630371094,71.53338623046875,70.61079406738281,69.80851745605469,69.11564636230469,68.51606750488281,67.9919204711914,67.52703094482422,67.10980224609375,66.73482513427734,66.40325164794922,66.12155151367188,65.89915466308594,65.7453842163086,65.6664810180664,65.66331481933594,65.73030853271484,65.8559341430664,66.02435302734375,66.21782684326172,66.41925048828125,66.6141357421875,66.79167938232422,66.94471740722656,67.0688705444336,67.16136932373047,67.22004699707031,67.24293518066406,67.22842407226562,67.1761245727539,67.08766174316406,66.96728515625,66.8218994140625,66.66040802001953,66.49246978759766,66.32707214355469,66.1713638305664,66.02991485595703,65.9044189453125,65.79420471191406,65.69683074951172,65.60896301269531,65.52718353271484,65.4485092163086,65.37074279785156,65.29285430908203,65.21521759033203,65.13963317871094,65.06974029541016,65.01101684570312,64.9705581665039,64.95684814453125,64.97901916503906,65.04583740234375,65.16472625732422,65.34064483642578,65.57545471191406,65.86772918701172,66.212890625,66.60374450683594,67.03125,67.48519134521484,67.95423889160156,68.42601776123047,68.88643646240234,69.31884002685547,69.70354461669922,70.0176773071289,70.23603057861328,70.33264923095703,70.28339385986328,70.06905364990234,69.67808532714844,69.109130859375,68.37242126464844,67.48971557617188,66.4929428100586,65.42166137695312,64.31948852539062,63.23024368286133,62.19444274902344,61.24626922607422,60.411415100097656,59.706336975097656,59.13837814331055,58.70648956298828,58.40283203125,58.214752197265625,58.12668228149414,58.12190246582031,58.18452835083008,58.30116653442383,58.46214294433594,58.66257095336914,58.90254592895508,59.18634033203125,59.52062225341797,59.91160202026367,60.3617057800293,60.866302490234375,61.41148376464844,61.973297119140625,62.519168853759766,63.0115966796875,63.41294479370117,63.69127655029297,63.825477600097656,63.80863571166992,63.64925003051758,63.36955261230469,63.00191116333008,62.5834846496582,62.15071487426758,61.73451614379883,61.35676574707031,61.028892517089844,60.75240707397461,60.52085494995117,60.322715759277344,60.14457702636719,59.973751068115234,59.800010681152344,59.61648941040039,59.41984558105469,59.2095947265625,58.987548828125,58.75712585449219,58.52253341674805,58.288299560546875,58.05886459350586,57.838172912597656,57.629234313964844,57.43407440185547,57.25356674194336,57.08743667602539,56.93460464477539,56.79339599609375,56.66196060180664,56.53845977783203,56.42124557495117,56.30910110473633,56.201175689697266,56.09708786010742,55.997005462646484,55.9016227722168,55.812164306640625,55.730323791503906,55.65803146362305,55.59724044799805,55.54978942871094,55.517242431640625,55.500675201416016],[88.31232452392578,88.27349853515625,88.19618225097656,88.08164978027344,87.93318176269531,87.7569808959961,87.56272888183594,87.36341094970703,87.17431640625,87.01136016845703,86.8892593383789,86.81951141357422,86.80827331542969,86.8547134399414,86.94960021972656,87.0743637084961,87.20144653320312,87.29544830322266,87.3157958984375,87.2206802368164,86.97159576416016,86.5379638671875,85.9011459350586,85.05706024169922,84.01707458496094,82.80708312988281,81.46495819091797,80.03678131103516,78.57239532470703,77.12107849121094,75.72723388671875,74.42707824707031,73.24628448486328,72.19865417480469,71.28644561767578,70.50192260742188,69.83009338378906,69.25230407714844,68.75010681152344,68.30879974365234,67.9197769165039,67.58152770996094,67.29887390136719,67.08071899414062,66.93683624267578,66.87451934814453,66.89579010009766,66.995849609375,67.16323852539062,67.38133239746094,67.63086700439453,67.89268493652344,68.15008544921875,68.39017486572266,68.60401916503906,68.785888671875,68.9320297241211,69.03954315185547,69.10590362548828,69.12910461425781,69.10851287841797,69.04574584960938,68.94532775878906,68.81480407714844,68.6639633178711,68.5035400390625,68.34357452392578,68.19210815429688,68.05431365966797,67.93228149414062,67.82540893554688,67.7312240600586,67.64631652832031,67.56721496582031,67.49099731445312,67.41565704345703,67.34056854248047,67.2667236328125,67.19692993164062,67.13614654541016,67.09159088134766,67.0724105834961,67.08928680419922,67.15342712402344,67.27519989013672,67.46287536621094,67.72129821777344,68.0511245727539,68.44876098632812,68.90668487548828,69.41429901123047,69.958984375,70.52694702148438,71.10347747802734,71.67285919189453,72.21759033203125,72.71739196777344,73.1485595703125,73.4837646484375,73.693115234375,73.7461166381836,73.61478424072266,73.27740478515625,72.72196197509766,71.9491195678711,70.973876953125,69.82539367675781,68.5450668334961,67.1832046508789,65.79440307617188,64.43257904052734,63.146583557128906,61.97650909423828,60.95128631591797,60.08805847167969,59.3927001953125,58.86117172241211,58.481842041015625,58.23811721801758,58.11088943481445,58.08061218261719,58.12945556640625,58.24288558959961,58.41066360473633,58.62763214111328,58.8935546875,59.212005615234375,59.58840560913086,60.027076721191406,60.52797317504883,61.08359909057617,61.67702102661133,62.28141403198242,62.86173629760742,63.37864303588867,63.79348373413086,64.07416534423828,64.2003173828125,64.16654205322266,63.983482360839844,63.67589569091797,63.27875518798828,62.8316535949707,62.373043060302734,61.935218811035156,61.54074478149414,61.201045989990234,60.917083740234375,60.68146514892578,60.48154830932617,60.302825927734375,60.131710052490234,59.95734405517578,59.77251434326172,59.57380294799805,59.36082077026367,59.135562896728516,58.90163803100586,58.66337585449219,58.42533493041992,58.19188690185547,57.966861724853516,57.753116607666016,57.55257797241211,57.366065979003906,57.193336486816406,57.03340530395508,56.88473892211914,56.74562072753906,56.614322662353516,56.48926544189453,56.369239807128906,56.25339126586914,56.141357421875,56.0333251953125,55.93008804321289,55.833038330078125,55.74407196044922,55.66535949707031,55.599090576171875,55.547325134277344,55.51179885864258,55.49371337890625],[89.54571533203125,89.50049591064453,89.41141510009766,89.28168487548828,89.11726379394531,88.927490234375,88.7254409790039,88.52749633789062,88.3521499633789,88.21813201904297,88.14242553710938,88.13804626464844,88.21178436279297,88.36238861083984,88.57909393310547,88.84065246582031,89.11582946777344,89.36459350585938,89.54107666015625,89.5976333618164,89.48969268798828,89.18063354492188,88.64608001708984,87.87686920166016,86.8802719116211,85.67947387695312,84.3113021850586,82.82279205322266,81.26681518554688,79.69769287109375,78.1666030883789,76.71772003173828,75.38507080078125,74.19042205810547,73.14276885986328,72.23925018310547,71.4675521850586,70.80955505371094,70.24551391601562,69.75828552246094,69.33641815185547,68.9758529663086,68.6796646118164,68.45603942871094,68.31494903564453,68.26444244384766,68.30744171142578,68.43968200683594,68.64950561523438,68.91929626464844,69.22803497314453,69.5543212890625,69.8790283203125,70.18701171875,70.46744537353516,70.71312713623047,70.91924285888672,71.08210754394531,71.1986312866211,71.26634979248047,71.28436279296875,71.25421142578125,71.18067932128906,71.07188415527344,70.9384994506836,70.79230499267578,70.64445495605469,70.5039291381836,70.37664031982422,70.26508331298828,70.16883087158203,70.08538055419922,70.01118469238281,69.94264221191406,69.87673950195312,69.8115234375,69.74662017822266,69.6835708618164,69.62609100341797,69.58055877685547,69.55607604980469,69.56409454345703,69.61778259277344,69.73072052001953,69.9151382446289,70.18030548095703,70.53089904785156,70.96617126464844,71.4799575805664,72.06123352050781,72.69529724121094,73.36520385742188,74.05286407470703,74.73944091796875,75.40526580810547,76.02891540527344,76.58609008789062,77.048828125,77.38530731201172,77.56106567382812,77.54141998291016,77.29508972167969,76.79863739013672,76.04055786132812,75.02470397949219,73.77214813232422,72.3207015991211,70.72249603271484,69.0395736694336,67.33822631835938,65.68284606933594,64.13057708740234,62.727115631103516,61.50402069091797,60.47835922241211,59.65373992919922,59.02236557006836,58.56812286376953,58.26988983154297,58.10451126098633,58.049163818359375,58.0836181640625,58.191707611083984,58.36212158203125,58.58889389038086,58.870941162109375,59.21072006225586,59.61216354370117,60.07773971557617,60.60530090332031,61.18527603149414,61.798885345458984,62.41791915893555,63.0066032409668,63.525508880615234,63.936546325683594,64.20870208740234,64.322998046875,64.27555847167969,64.07854461669922,63.75798416137695,63.34986877441406,62.89445495605469,62.43050765991211,61.99031066894531,61.596153259277344,61.25898361206055,60.979217529296875,60.748897552490234,60.55487060546875,60.382225036621094,60.217124938964844,60.04859924316406,59.869422912597656,59.67622756958008,59.46870422363281,59.24884796142578,59.02019119262695,58.78687286376953,58.55312728881836,58.322959899902344,58.09981155395508,57.8862419128418,57.68398666381836,57.49386215209961,57.3157958984375,57.14912796020508,56.99272537231445,56.845272064208984,56.705406188964844,56.57179260253906,56.443363189697266,56.319305419921875,56.19923782348633,56.083316802978516,55.97235870361328,55.86781692504883,55.77174758911133,55.686527252197266,55.61460876464844,55.55831527709961,55.519622802734375,55.49990463256836],[90.56159210205078,90.51219940185547,90.41572570800781,90.27713012695312,90.10472869873047,89.91058349609375,89.71060180664062,89.52399444580078,89.37199401855469,89.27592468261719,89.25513458251953,89.3246841430664,89.49285125732422,89.75907897949219,90.1123046875,90.52974700927734,90.97734832763672,91.41098022460938,91.77947998046875,92.0289306640625,92.1078109741211,91.97216796875,91.59033203125,90.9462890625,90.0413589477539,88.89414978027344,87.53873443603516,86.0216064453125,84.39752960205078,82.72521209716797,81.06246185302734,79.46174621582031,77.96637725830078,76.60738372802734,75.40209197998047,74.35425567626953,73.45598602294922,72.69122314453125,72.04024505615234,71.48442077636719,71.01002502441406,70.61073303222656,70.28785705566406,70.04862213134766,69.90286254882812,69.85895538330078,69.92027282714844,70.08267974853516,70.3340072631836,70.65536499023438,71.02379608154297,71.41552734375,71.80892944335938,72.18657684326172,72.53572082519531,72.84773254394531,73.11675262451172,73.33837127685547,73.50894927978516,73.62564849853516,73.68727111816406,73.69532775878906,73.65480041503906,73.5743408203125,73.46542358398438,73.34088134765625,73.21292114257812,73.09150695800781,72.98329162597656,72.89124298095703,72.81511688232422,72.75236511230469,72.69926452636719,72.65193939208984,72.60713195800781,72.56275939941406,72.51847076416016,72.47618103027344,72.44039154052734,72.41883087158203,72.42250061035156,72.46524047851562,72.5628662109375,72.73149871826172,72.98534393310547,73.33472442626953,73.78409576416016,74.3310775756836,74.9665298461914,75.6754379272461,76.43836212158203,77.23335266113281,78.03732299804688,78.82666778564453,79.57719421386719,80.26319885253906,80.8561782836914,81.323974609375,81.6305923461914,81.7376480102539,81.60712432861328,81.20557403564453,80.5091323852539,79.5082015991211,78.21125030517578,76.64666748046875,74.8620834350586,72.92110443115234,70.89794921875,68.87062072753906,66.91361999511719,65.09172058105469,63.455291748046875,62.037513732910156,60.85438919067383,59.90634536743164,59.181095123291016,58.65746307373047,58.309383392333984,58.10929870605469,58.03080368041992,58.050933837890625,58.15150833129883,58.319698333740234,58.54826354980469,58.8348388671875,59.18046569824219,59.587486267089844,60.05670166015625,60.58441925048828,61.159912109375,61.76386642456055,62.36829376220703,62.938438415527344,63.436553955078125,63.82665252685547,64.07992553710938,64.17935943603516,64.12252807617188,63.92232894897461,63.604820251464844,63.205322265625,62.762962341308594,62.31511688232422,61.89266586303711,61.516658782958984,61.1971435546875,60.93397903442383,60.71903610229492,60.53926086425781,60.38001251220703,60.22785568237305,60.07219314575195,59.90610122680664,59.72640609741211,59.53281021118164,59.32715606689453,59.112632751464844,58.89286422729492,58.671478271484375,58.451805114746094,58.23668670654297,58.0282096862793,57.8278923034668,57.636592864990234,57.45455551147461,57.281654357910156,57.11741256713867,56.961181640625,56.81218719482422,56.66954040527344,56.532405853271484,56.40007019042969,56.272117614746094,56.148616790771484,56.03030014038086,55.91861343383789,55.815696716308594,55.72410583496094,55.64656066894531,55.585689544677734,55.54375076293945,55.5223503112793],[91.37584686279297,91.32536315917969,91.2274398803711,91.08832550048828,90.91802978515625,90.73050689697266,90.54357147216797,90.37840270996094,90.25828552246094,90.20677947998047,90.24571228027344,90.39273834228516,90.65863800048828,91.04487609863281,91.54154968261719,92.12574768066406,92.76175689697266,93.4021224975586,93.99073791503906,94.46726989746094,94.77264404296875,94.85459899902344,94.6728744506836,94.20309448242188,93.43892669677734,92.39265441894531,91.09384155273438,89.5867691040039,87.92662048339844,86.17536926269531,84.39669799804688,82.65118408203125,80.99171447753906,79.45941925048828,78.08120727539062,76.86907958984375,75.8212661743164,74.92554473876953,74.16375732421875,73.51704406738281,72.97032165527344,72.5154800415039,72.15219116210938,71.88655090332031,71.72779846191406,71.68415832519531,71.75886535644531,71.94741821289062,72.2366943359375,72.60627746582031,73.03111267089844,73.48501586914062,73.94393157958984,74.38822937011719,74.80343627929688,75.17960357666016,75.50999450683594,75.78961181640625,76.01441955566406,76.18125915527344,76.28876495361328,76.3384017944336,76.33536529541016,76.28876495361328,76.21084594726562,76.1153793334961,76.01557922363281,75.92236328125,75.84310150146484,75.78125762939453,75.73675537109375,75.70696258544922,75.6878662109375,75.67520141601562,75.66524505615234,75.65550231933594,75.64540100097656,75.63692474365234,75.63511657714844,75.64881896972656,75.69078826904297,75.77714538574219,75.92630004882812,76.15687561035156,76.48505401611328,76.92213439941406,77.47220611572266,78.13104248046875,78.88623809814453,79.71833801269531,80.60269927978516,81.5118179321289,82.41707611083984,83.28961181640625,84.10038757324219,84.81922149658203,85.41354370117188,85.84747314453125,86.0816650390625,86.07495880126953,85.7874984741211,85.18534851074219,84.2459945678711,82.96344757080078,81.3522720336914,79.4493637084961,77.31279754638672,75.0178451538086,72.65055084228516,70.29979705810547,68.04898834228516,65.96914672851562,64.11380767822266,62.51641845703125,61.19072723388672,60.133087158203125,59.32609939575195,58.743167877197266,58.353084564208984,58.12380599975586,58.0252571105957,58.031612396240234,58.12245178222656,58.28315734863281,58.50489807128906,58.78376388549805,59.11922073364258,59.5120735168457,59.961788177490234,60.46377182006836,61.00711441040039,61.5732421875,62.13589096069336,62.662933349609375,63.119842529296875,63.47406005859375,63.69991683959961,63.78276443481445,63.721458435058594,63.52891159057617,63.22996520996094,62.857765197753906,62.44866943359375,62.037147521972656,61.65142822265625,61.31050109863281,61.023101806640625,60.788570404052734,60.59892654418945,60.44176483154297,60.30331802368164,60.171085357666016,60.035282135009766,59.889556884765625,59.73100280761719,59.5593147277832,59.376014709472656,59.18373107910156,58.985328674316406,58.78355026245117,58.58083724975586,58.379234313964844,58.180267333984375,57.985191345214844,57.794960021972656,57.61026382446289,57.43169021606445,57.259639739990234,57.094356536865234,56.93585205078125,56.78384017944336,56.637840270996094,56.49726486206055,56.36166763305664,56.23096466064453,56.10573959350586,55.98734664916992,55.87794876098633,55.78024673461914,55.69721984863281,55.63182067871094,55.586639404296875,55.56354522705078],[92.02153778076172,91.97357940673828,91.88106536865234,91.7508773803711,91.59381866455078,91.42459869384766,91.26181030273438,91.1275405883789,91.04629516601562,91.04346466064453,91.14339447021484,91.36687469482422,91.72818756103516,92.23216247558594,92.87152099609375,93.62471771240234,94.4556884765625,95.31464385986328,96.1411361694336,96.86864471435547,97.43038940429688,97.76532745361328,97.82384490966797,97.5721664428711,96.9950942993164,96.09712982177734,94.9017105102539,93.44918823242188,91.79345703125,89.9980697631836,88.13123321533203,86.2606430053711,84.44827270507812,82.7454833984375,81.18949127197266,79.80170440673828,78.58810424804688,77.54203796386719,76.64869689941406,75.89053344726562,75.2523193359375,74.72492218017578,74.30672454833984,74.00262451171875,73.8209228515625,73.76909637451172,73.84966278076172,74.0571517944336,74.3770751953125,74.78719329833984,75.26028442382812,75.767822265625,76.28350067138672,76.78578186035156,77.25870513916016,77.69132232666016,78.07628631591797,78.4082260131836,78.68289184570312,78.8969955444336,79.04910278320312,79.14070129394531,79.17719268798828,79.1681137084961,79.12638092041016,79.0666275024414,79.00299072265625,78.947265625,78.90753936767578,78.88771057128906,78.8878402709961,78.9051513671875,78.93523406982422,78.97317504882812,79.0145492553711,79.05611419677734,79.09668731689453,79.1379165649414,79.18498229980469,79.24746704101562,79.33949279785156,79.47915649414062,79.68717956542969,79.98442077636719,80.38882446289062,80.91246032714844,81.55887603759766,82.32177734375,83.18529510498047,84.12527465820312,85.11160278320312,86.11094665527344,87.08885955810547,88.01106262207031,88.84362030029297,89.55210876464844,90.10041809082031,90.44985961914062,90.55908966064453,90.38591766357422,89.89064025878906,89.04100036621094,87.81792449951172,86.22088623046875,84.27191925048828,82.01717376708984,79.52528381347656,76.88252258300781,74.18548583984375,71.53218841552734,69.01292419433594,66.70284271240234,64.65673065185547,62.906646728515625,61.46285629272461,60.31684112548828,59.44570541381836,58.81736755371094,58.39561080932617,58.14411544799805,58.02935791015625,58.02275848388672,58.10169982910156,58.249698638916016,58.456233978271484,58.71577072143555,59.0262336730957,59.3870849609375,59.79685974121094,60.25072479248047,60.738487243652344,61.2434196472168,61.742210388183594,62.206626892089844,62.60654067993164,62.913795471191406,63.10649871826172,63.17259979248047,63.11199188232422,62.936927795410156,62.6700439453125,62.341064453125,61.98230743408203,61.62412643432617,61.2911491394043,60.99966812133789,60.756805419921875,60.561397552490234,60.4058952331543,60.27892303466797,60.168060302734375,60.06214141845703,59.95250701904297,59.83355712890625,59.702735900878906,59.55967712402344,59.40547561645508,59.242034912109375,59.07128143310547,58.89490509033203,58.71430587768555,58.53062057495117,58.344730377197266,58.15761184692383,57.970359802246094,57.78419494628906,57.60054397583008,57.42084884643555,57.24639892578125,57.07815170288086,56.91654586791992,56.76154327392578,56.61273956298828,56.46964645385742,56.3320198059082,56.200233459472656,56.075496673583984,55.95994186401367,55.85637283325195,55.768028259277344,55.69819259643555,55.64980697631836,55.625030517578125],[92.54821014404297,92.50647735595703,92.4263687133789,92.31463623046875,92.1817855834961,92.04210662841797,91.9137191772461,91.81849670410156,91.78136444091797,91.82907104492188,91.98845672607422,92.28390502929688,92.7340087890625,93.34806823730469,94.12275695800781,95.03921508789062,96.06227111816406,97.140869140625,98.21109771728516,99.20085906982422,100.03604888916016,100.64702606201172,100.97477722167969,100.97584533691406,100.62559509277344,99.91985321044922,98.87467193603516,97.52486419677734,95.92111206054688,94.12653350830078,92.21178436279297,90.2498550415039,88.31043243408203,86.45431518554688,84.72893524169922,83.16572570800781,81.77959442138672,80.57109832763672,79.5305404663086,78.64347839355469,77.89600372314453,77.27906799316406,76.7903823852539,76.43379211425781,76.21647644042969,76.14470672607422,76.2197036743164,76.43450164794922,76.7728500366211,77.21046447753906,77.71794128417969,78.26457977294922,78.8221435546875,79.36752319335938,79.88369750976562,80.35910034179688,80.78609466552734,81.15927124023438,81.47442626953125,81.72834014892578,81.91964721679688,82.0499496459961,82.12489318847656,82.15438079833984,82.15192413330078,82.1329116821289,82.11234283447266,82.1028060913086,82.1130599975586,82.14741516113281,82.20601654052734,82.28582000732422,82.38184356689453,82.48829650878906,82.59963989257812,82.71147918701172,82.82152557373047,82.93057250976562,83.0433578491211,83.16960906982422,83.32428741455078,83.52687072753906,83.79985809326172,84.1658935546875,84.64423370361328,85.24737548828125,85.97807312011719,86.82780456542969,87.77714538574219,88.79724884033203,89.8525390625,90.90391540527344,91.91129302978516,92.8351821899414,93.63716125488281,94.2792739868164,94.72288513183594,94.92793273925781,94.85294342041016,94.45685577392578,93.70256805419922,92.56189727783203,91.02143096923828,89.08782196044922,86.79158020019531,84.18830108642578,81.35645294189453,78.39179229736328,75.39923858642578,72.48332214355469,69.73844909667969,67.24124908447266,65.04549407958984,63.18013381958008,61.65079879760742,60.44355773925781,59.52994918823242,58.87270736694336,58.431095123291016,58.165096282958984,58.03823471069336,58.01960754394531,58.08467483520508,58.21526336669922,58.39927673339844,58.62969207763672,58.90306854248047,59.21781539916992,59.571998596191406,59.96112060546875,60.37643814086914,60.80387496948242,61.22392654418945,61.613075256347656,61.946311950683594,62.20042037963867,62.357574462890625,62.40835189819336,62.353416442871094,62.20384979248047,61.97935104370117,61.70539855957031,61.409420013427734,61.11691665649414,60.848304748535156,60.61677932739258,60.42769241333008,60.279396057128906,60.164920806884766,60.074188232421875,59.99637985229492,59.921905517578125,59.843414306640625,59.75615692138672,59.657958984375,59.548370361328125,59.42800521850586,59.29795455932617,59.15913009643555,59.0120964050293,58.85712814331055,58.69440841674805,58.52415084838867,58.347042083740234,58.16431427001953,57.977760314941406,57.78971481323242,57.60270690917969,57.41917419433594,57.241092681884766,57.069725036621094,56.90553665161133,56.74835968017578,56.59770202636719,56.453147888183594,56.31486892700195,56.18389892578125,56.06230545043945,55.95297622680664,55.859397888183594,55.78517532348633,55.733612060546875,55.7071647644043],[93.02022552490234,92.9881362915039,92.92684173583984,92.8421859741211,92.74334716796875,92.64299774169922,92.55766296386719,92.50798797607422,92.51854705810547,92.61701202392578,92.83261108398438,93.19354248046875,93.72322082519531,94.43618774414062,95.33394622802734,96.40132141113281,97.60504150390625,98.89384460449219,100.20133209228516,101.45083618164062,102.56190490722656,103.45720672607422,104.06909942626953,104.34504699707031,104.25122833251953,103.7746353149414,102.92321014404297,101.72492218017578,100.2253646850586,98.48482513427734,96.5738525390625,94.5680923461914,92.54263305664062,90.56591033935547,88.6945571899414,86.96980285644531,85.41608428955078,84.04236602783203,82.84575653076172,81.81668090820312,80.94428253173828,80.22093963623047,79.6446762084961,79.2187728881836,78.94935607910156,78.8412857055664,78.89412689208984,79.09905242919922,79.43775177001953,79.88379669189453,80.40565490722656,80.97068786621094,81.549072265625,82.11658477783203,82.65556335449219,83.15424346923828,83.60513305664062,84.00310516357422,84.34432983398438,84.62589263916016,84.8466796875,85.00852966308594,85.11731719970703,85.18330383300781,85.22050476074219,85.2449951171875,85.27249145507812,85.3163833618164,85.38604736328125,85.48617553710938,85.61695098876953,85.77494812011719,85.9543685913086,86.148193359375,86.34937286376953,86.55180358886719,86.75145721435547,86.94760131835938,87.1438217163086,87.3492660522461,87.57891082763672,87.85285949707031,88.19461822509766,88.62787628173828,89.17259979248047,89.84121704101562,90.6353988647461,91.54429626464844,92.54500579833984,93.6042709350586,94.68148040771484,95.73233795166016,96.71173095703125,97.57579803466797,98.28262329101562,98.79190826416016,99.0640869140625,99.05963134765625,98.73915100097656,98.06524658203125,97.0059814453125,95.53966522216797,93.66051483154297,91.38368225097656,88.74858856201172,85.8196792602539,82.68367004394531,79.44335174560547,76.20893859863281,73.08808898925781,70.17601776123047,67.54788208007812,65.25408935546875,63.31880569458008,61.74216842651367,60.50460433959961,59.572425842285156,58.903865814208984,58.45455551147461,58.18165588378906,58.04658126831055,58.01676940917969,58.066287994384766,58.17568588256836,58.33160400390625,58.525814056396484,58.75381851196289,59.013336181640625,59.302364349365234,59.61719512939453,59.95100784301758,60.29285430908203,60.62744903564453,60.93632888793945,61.1998291015625,61.3997688293457,61.52236557006836,61.56066131591797,61.51582717895508,61.397422790527344,61.221824645996094,61.00988006591797,60.78376388549805,60.56382369995117,60.36604690551758,60.20042419433594,60.07048034667969,59.97410583496094,59.90496826171875,59.854393005371094,59.813228607177734,59.77354431152344,59.72932815551758,59.67671203613281,59.61390686035156,59.540382385253906,59.456268310546875,59.36186218261719,59.25706100463867,59.141319274902344,59.01382064819336,58.87378692626953,58.720760345458984,58.55511474609375,58.378211975097656,58.19236755371094,58.00077819824219,57.807064056396484,57.614784240722656,57.42696762084961,57.24571228027344,57.07206726074219,56.90614318847656,56.74751663208008,56.59565353393555,56.45054626464844,56.31307601928711,56.185245513916016,56.07002639770508,55.971126556396484,55.89247512817383,55.837703704833984,55.809574127197266],[93.51364135742188,93.4940414428711,93.45687866210938,93.40638732910156,93.3495101928711,93.29633331298828,93.26080322265625,93.26153564453125,93.3221435546875,93.47078704833984,93.73890686035156,94.158447265625,94.75777435302734,95.5569076538086,96.56254577636719,97.76371765136719,99.12975311279297,100.61002349853516,102.1367416381836,103.62996673583984,105.0043716430664,106.1765365600586,107.07184600830078,107.63014221191406,107.80960083007812,107.58898162841797,106.96810150146484,105.96721649169922,104.6251449584961,102.99697875976562,101.15013122558594,99.15969848632812,97.1030044555664,95.05339813232422,93.07463836669922,91.21662139892578,89.5130615234375,87.98197937011719,86.62853240966797,85.4496841430664,84.43936920166016,83.59302520751953,82.91024780273438,82.3946762084961,82.0518569946289,81.88545227050781,81.89337158203125,82.0648193359375,82.37938690185547,82.80851745605469,83.31871032714844,83.87564849853516,84.4482650756836,85.0115966796875,85.54774475097656,86.04518127441406,86.4969253540039,86.89855194091797,87.24691009521484,87.53968811035156,87.7762451171875,87.95873260498047,88.09331512451172,88.1905517578125,88.2648696899414,88.33289337158203,88.41104888916016,88.513427734375,88.65003967285156,88.82597351074219,89.0413818359375,89.2923355102539,89.57198333740234,89.8717041015625,90.18240356445312,90.4956283569336,90.804931640625,91.10721588134766,91.40408325195312,91.70316314697266,92.01850128173828,92.36983489990234,92.78070068359375,93.27490997314453,93.87232971191406,94.58474731445312,95.41240692138672,96.34212493896484,97.34786224365234,98.39254760742188,99.43143463134766,100.4161148071289,101.2977523803711,102.02952575683594,102.5676498413086,102.87130737304688,102.90203094482422,102.62310028076172,101.99971008300781,101.0006332397461,99.60150909423828,97.78922271728516,95.56710815429688,92.95941925048828,90.01412200927734,86.80306243896484,83.41875457763672,79.96783447265625,76.56208038330078,73.3084716796875,70.29947662353516,67.60580444335938,65.2722396850586,63.31684875488281,61.73375701904297,60.49795913696289,59.57128143310547,58.90852355957031,58.462867736816406,58.18986129760742,58.04985046386719,58.009521484375,58.042266845703125,58.1279182434082,58.2523307800293,58.406471252441406,58.58515167236328,58.78573989868164,59.00648880004883,59.244773864746094,59.49589920043945,59.75215530395508,60.00248718261719,60.233360290527344,60.43024826049805,60.5797233581543,60.67173385620117,60.70147705078125,60.670387268066406,60.58633804321289,60.46231460571289,60.314544677734375,60.1600341796875,60.01410675048828,59.88846969604492,59.790016174316406,59.72053146362305,59.677467346191406,59.65512466430664,59.64614486694336,59.64300537109375,59.63933181762695,59.630393981933594,59.61317825317383,59.586265563964844,59.5490837097168,59.5013427734375,59.44261932373047,59.37190628051758,59.28765106201172,59.18801498413086,59.071319580078125,58.936439514160156,58.783409118652344,58.613616943359375,58.429805755615234,58.235904693603516,58.03649139404297,57.83616638183594,57.63893508911133,57.447750091552734,57.26426315307617,57.088958740234375,56.92155838012695,56.761531829833984,56.608768463134766,56.46406555175781,56.329402923583984,56.20783996582031,56.10330581665039,56.02001953125,55.96192932128906,55.93206787109375],[94.11271667480469,94.10775756835938,94.0987319946289,94.08771514892578,94.07872772216797,94.07852935791016,94.09780883789062,94.15258026123047,94.2650146484375,94.46341705322266,94.78105926513672,95.25335693359375,95.91329193115234,96.78607177734375,97.8833999633789,99.19849395751953,100.70355224609375,102.34922790527344,104.06739044189453,105.77632141113281,107.38772583007812,108.81427764892578,109.97669982910156,110.80951690673828,111.26483917236328,111.31466674804688,110.95132446289062,110.18710327148438,109.05280303955078,107.59603118896484,105.87805938720703,103.9698486328125,101.94719696044922,99.88483428955078,97.85067749023438,95.9011459350586,94.07807922363281,92.40836334228516,90.90586853027344,89.57537841796875,88.41725158691406,87.43170928955078,86.62149047851562,85.99192810058594,85.54902648925781,85.29595184326172,85.22943878173828,85.33708953857422,85.59664916992188,85.9776611328125,86.44487762451172,86.96253204345703,87.49856567382812,88.02753448486328,88.53160858154297,88.99976348876953,89.4259033203125,89.806640625,90.13987731933594,90.42422485351562,90.65971374511719,90.8489761352539,90.99846649169922,91.11895751953125,91.22515869140625,91.33412170410156,91.46285247802734,91.62614440917969,91.83464050292969,92.09382629394531,92.40386199951172,92.76019287109375,93.1546859741211,93.57673645019531,94.01465606689453,94.45698547363281,94.89401245117188,95.31944274902344,95.73188781738281,96.13642883300781,96.54508972167969,96.97608947753906,97.45182800292969,97.99515533447266,98.62493133544922,99.35163879394531,100.17379760742188,101.07601165771484,102.02967071533203,102.99491119384766,103.92424774169922,104.76683044433594,105.4720458984375,105.99220275878906,106.28386688232422,106.30805969238281,106.0298080444336,105.41769409179688,104.44390106201172,103.08568572998047,101.32819366455078,99.16830444335938,96.61912536621094,93.71375274658203,90.50740051269531,87.0770263671875,83.51781463623047,79.93643188476562,76.44222259521484,73.13756561279297,70.10868072509766,67.41912841796875,65.10623931884766,63.18108367919922,61.631717681884766,60.428348541259766,59.52943420410156,58.88771438598633,58.45537185668945,58.18769836425781,58.045196533203125,57.994815826416016,58.010101318359375,58.07085037231445,58.16265869140625,58.27613067626953,58.405757904052734,58.54884338378906,58.70410919189453,58.87009811401367,59.04421615600586,59.22179412841797,59.39567184448242,59.55677795410156,59.695167541503906,59.801597595214844,59.86922073364258,59.89501190185547,59.88044738769531,59.831695556640625,59.7585334777832,59.67292404174805,59.5871467590332,59.511962890625,59.45521926879883,59.421016693115234,59.40959167480469,59.41798782348633,59.44106674194336,59.47264099121094,59.506614685058594,59.53800582885742,59.563228607177734,59.580047607421875,59.58742904663086,59.584815979003906,59.57161331176758,59.546844482421875,59.50875473022461,59.454933166503906,59.38264465332031,59.28938674926758,59.17336654663086,59.0341911315918,58.87314987182617,58.693206787109375,58.498809814453125,58.29527282714844,58.08805847167969,57.882041931152344,57.68098068237305,57.48717498779297,57.30156707763672,57.124183654785156,56.95463180541992,56.7928581237793,56.63968276977539,56.49714660644531,56.368431091308594,56.2576789855957,56.16937255859375,56.10773468017578,56.0760383605957],[94.90617370605469,94.91734313964844,94.93923950195312,94.97140502929688,95.01448822021484,95.07145690917969,95.14934539794922,95.2612075805664,95.42745971679688,95.67615509033203,96.0419921875,96.5632095336914,97.2767105102539,98.21210479736328,99.38540649414062,100.79354858398438,102.41145324707031,104.19145965576172,106.06607055664062,107.95335388183594,109.76417541503906,111.40985107421875,112.80927276611328,113.89443969726562,114.6140365600586,114.93534851074219,114.84456634521484,114.34637451171875,113.46285247802734,112.2322998046875,110.70703887939453,108.95033264160156,107.03245544433594,105.02546691894531,102.99774932861328,101.00922393798828,99.10774230957031,97.3279800415039,95.69237518310547,94.21424865722656,92.90167999267578,91.76133728027344,90.80089569091797,90.02910614013672,89.45399475097656,89.07957458496094,88.90251159667969,88.90967559814453,89.07758331298828,89.3743896484375,89.76338195800781,90.2075424194336,90.67390441894531,91.13658142089844,91.5778579711914,91.98738098144531,92.360107421875,92.69402313232422,92.9884033203125,93.24310302734375,93.45911407470703,93.63966369628906,93.79148864746094,93.92544555664062,94.05635833740234,94.20148468017578,94.3782730102539,94.60211181640625,94.88430786132812,95.23081970214844,95.64181518554688,96.11209869384766,96.632080078125,97.18885803222656,97.76763916015625,98.35328674316406,98.93206787109375,99.49352264404297,100.03227996826172,100.54975128173828,101.05472564697266,101.56265258789062,102.0935287475586,102.6680679321289,103.30311584472656,104.00720977783203,104.77690124511719,105.59489440917969,106.4308853149414,107.24360656738281,107.9847183227539,108.60324096679688,109.04927825927734,109.27698516845703,109.24602508544922,108.92195129394531,108.2759017944336,107.28416442871094,105.92803955078125,104.19496154785156,102.08079528808594,99.5928726196289,96.75373840332031,93.60408020019531,90.2042236328125,86.63322448730469,82.98529052734375,79.36317443847656,75.8697509765625,72.59912872314453,69.62828826904297,67.01139831542969,64.7771224975586,62.92917251586914,61.449981689453125,60.30600357055664,59.45372772216797,58.845394134521484,58.433753967285156,58.175270080566406,58.0318603515625,57.971778869628906,57.96957778930664,58.005680084228516,58.065975189208984,58.14111328125,58.2255744934082,58.316810607910156,58.41407012939453,58.51702117919922,58.624916076660156,58.735740661621094,58.84564208984375,58.94932174682617,59.04066467285156,59.113861083984375,59.16465377807617,59.191349029541016,59.19527816772461,59.18101119995117,59.15547561645508,59.12692642211914,59.10358428955078,59.09233856201172,59.0977668762207,59.121639251708984,59.16287612915039,59.21818542480469,59.28287124633789,59.35172653198242,59.419837951660156,59.48339080810547,59.53978729248047,59.58750915527344,59.625919342041016,59.65458297729492,59.672767639160156,59.679134368896484,59.67138671875,59.64643478393555,59.60078430175781,59.531158447265625,59.435062408447266,59.31157302856445,59.161651611328125,58.98821258544922,58.79591751098633,58.59053039550781,58.37812423706055,58.16428756713867,57.953529357910156,57.74882507324219,57.55173110961914,57.36273956298828,57.181819915771484,57.00917053222656,56.84580993652344,56.69393539428711,56.55691146850586,56.43910217285156,56.345211029052734,56.27969741821289,56.246009826660156],[95.98357391357422,96.01188659667969,96.06658172607422,96.14451599121094,96.24270629882812,96.36013793945312,96.4999771118164,96.67214965820312,96.89505767822266,97.19615173339844,97.61092376708984,98.17964172363281,98.94207763671875,99.9311294555664,101.16603088378906,102.64659118652344,104.35009002685547,106.23069763183594,108.222412109375,110.24462890625,112.20952606201172,114.02974700927734,115.62532806396484,116.92882537841797,117.88842010498047,118.46920013427734,118.65303802490234,118.43798828125,117.83728790283203,116.87877655029297,115.60354614257812,114.06396484375,112.32093048095703,110.43966674804688,108.48493194580078,106.51644134521484,104.58514404296875,102.73145294189453,100.98542785644531,99.36883544921875,97.89830780029297,96.58837890625,95.45350646972656,94.50789642333984,93.763671875,93.22765350341797,92.89817810058594,92.7627944946289,92.7979507446289,92.97111511230469,93.2445297241211,93.58003997802734,93.94364166259766,94.30880737304688,94.65771484375,94.98052215576172,95.27330780029297,95.5355453491211,95.7682113647461,95.97271728515625,96.15125274658203,96.30780029296875,96.4493408203125,96.58663177490234,96.73432922363281,96.90959930419922,97.13005828857422,97.41158294677734,97.76605224609375,98.19996643066406,98.71359252929688,99.30115509033203,99.9515609741211,100.64938354492188,101.37638854980469,102.11322021484375,102.84137725830078,103.5454330444336,104.2149887084961,104.84669494628906,105.4448471069336,106.02081298828125,106.59088897705078,107.17244720458984,107.77935028076172,108.41755676269531,109.08158111572266,109.75276184082031,110.40023040771484,110.983154296875,111.45466613769531,111.76641082763672,111.87226867675781,111.73133087158203,111.30944061279297,110.57953643798828,109.52137756347656,108.12103271484375,106.37043762207031,104.26814270019531,101.82086181640625,99.04584503173828,95.9736557006836,92.65042114257812,89.13863372802734,85.51604461669922,81.8720932006836,78.30176544189453,74.89791870117188,71.74331665039062,68.90336608886719,66.42141723632812,64.31688690185547,62.586395263671875,61.20763397216797,60.14461135864258,59.35341262817383,58.78739547729492,58.401405334472656,58.15445327758789,58.01103210449219,57.94166564941406,57.92267990112305,57.93573760986328,57.96747589111328,58.00893783569336,58.05481719970703,58.10279083251953,58.15262222290039,58.204891204833984,58.26036834716797,58.319149017333984,58.38002395629883,58.44068145751953,58.49800109863281,58.548824310302734,58.59081268310547,58.623165130615234,58.646942138671875,58.66524124145508,58.68259048461914,58.70418167114258,58.734954833984375,58.778709411621094,58.837432861328125,58.911067962646484,58.99751663208008,59.09323501586914,59.19387435913086,59.29499816894531,59.392635345458984,59.48394012451172,59.56715393066406,59.64142608642578,59.706581115722656,59.7624397277832,59.80833053588867,59.8427619934082,59.86310577392578,59.86577606201172,59.846622467041016,59.80160903930664,59.727481842041016,59.62257766723633,59.48726272583008,59.324058532714844,59.13745880126953,58.93332290649414,58.71805191040039,58.49776840209961,58.27764892578125,58.06143569946289,57.8514404296875,57.64887237548828,57.454315185546875,57.26848220825195,57.09278869628906,56.92972946166992,56.78293991088867,56.65699768066406,56.556800842285156,56.48697280883789,56.45109558105469],[97.43208312988281,97.47823333740234,97.5671157836914,97.69281768798828,97.84868621826172,98.0296630859375,98.23502349853516,98.47144317626953,98.75508117675781,99.11234283447266,99.57880401611328,100.19575500488281,101.00463104248047,102.040283203125,103.32391357421875,104.85721588134766,106.61927032470703,108.5661392211914,110.63404846191406,112.74512481689453,114.81491088867188,116.75990295410156,118.50411987304688,119.98368835449219,121.1491470336914,121.96603393554688,122.41400146484375,122.48585510253906,122.18656158447266,121.5329818725586,120.55348205566406,119.28707122802734,117.78192901611328,116.09258270263672,114.2760009765625,112.38772583007812,110.47824096679688,108.5909194946289,106.76152801513672,105.0195083618164,103.39015197753906,101.89689636230469,100.56270599365234,99.4094467163086,98.45578002929688,97.7138442993164,97.18594360351562,96.86235809326172,96.72099304199219,96.72966766357422,96.85013580322266,97.04312133789062,97.27332305908203,97.51304626464844,97.74382781982422,97.9559326171875,98.14627075195312,98.31584167480469,98.46746826171875,98.60438537597656,98.730224609375,98.84981536865234,98.97032165527344,99.1021957397461,99.25950622558594,99.45889282226562,99.7177505493164,100.05213928222656,100.47442626953125,100.99160766601562,101.60419464111328,102.30596160888672,103.08441925048828,103.92166137695312,104.79584503173828,105.68307495117188,106.55960845947266,107.404296875,108.2009048461914,108.94022369384766,109.62089538574219,110.24893188476562,110.83564758300781,111.39390563964844,111.9337158203125,112.45800018310547,112.9593276977539,113.41841888427734,113.80532836914062,114.0817642211914,114.20504760742188,114.13256072998047,113.82524108886719,113.25045776367188,112.38330078125,111.20680236816406,109.71149444580078,107.89466857910156,105.75962829589844,103.31591796875,100.58025360107422,97.57809448242188,94.34571075439453,90.93172454833984,87.39749145507812,83.81585693359375,80.2679443359375,76.83766174316406,73.60497283935547,70.6391372680664,67.99258422851562,65.69725036621094,63.76346969604492,62.18152618408203,60.92559814453125,59.95874786376953,59.238216400146484,58.7199821472168,58.36234664916992,58.128055572509766,57.985145568847656,57.90719985961914,57.872928619384766,57.865726470947266,57.873313903808594,57.887351989746094,57.902862548828125,57.917755126953125,57.93217468261719,57.94737243652344,57.9652214050293,57.987388610839844,58.014644622802734,58.046905517578125,58.083248138427734,58.12241744995117,58.16339111328125,58.20585632324219,58.25044250488281,58.2989616394043,58.35395050048828,58.41819381713867,58.49409866333008,58.5831413269043,58.685401916503906,58.79951095581055,58.92266082763672,59.0511589050293,59.18095397949219,59.30821228027344,59.42972946166992,59.5434455871582,59.64835739135742,59.744300842285156,59.831634521484375,59.91061019897461,59.98081588745117,60.04082489013672,60.08787536621094,60.11801528930664,60.12651443481445,60.108543395996094,60.059932708740234,59.9780387878418,59.86229705810547,59.71441650390625,59.538299560546875,59.33950424194336,59.12445068359375,58.89958953857422,58.67072677612305,58.442447662353516,58.21802520751953,57.999664306640625,57.78889083862305,57.58721160888672,57.39670181274414,57.2203254699707,57.06206130981445,56.92672348022461,56.81936264038086,56.74470520019531,56.70640182495117],[99.33378601074219,99.39836120605469,99.52262115478516,99.69792175292969,99.91401672363281,100.16185760498047,100.43681335449219,100.74224090576172,101.09176635742188,101.51020812988281,102.03243255615234,102.69964599609375,103.55368041992188,104.6300048828125,105.95053100585938,107.51789093017578,109.31243133544922,111.29217529296875,113.39618682861328,115.55059051513672,117.67604064941406,119.6950454711914,121.53805541992188,123.14732360839844,124.47832489013672,125.4994125366211,126.19013214111328,126.53968811035156,126.5457763671875,126.21456146240234,125.56105041503906,124.60931396484375,123.39237213134766,121.95081329345703,120.33010864257812,118.5776596069336,116.73966979980469,114.85912322998047,112.97494506835938,111.12260437011719,109.33551788330078,107.64653015136719,106.08851623535156,104.69315338134766,103.48829650878906,102.4942398071289,101.72006225585938,101.16121673583984,100.79906463623047,100.60314178466797,100.53533935546875,100.55534362792969,100.62610626220703,100.71805572509766,100.81124114990234,100.89525604248047,100.96736145019531,101.02980041503906,101.08721160888672,101.1447982788086,101.20780181884766,101.28195190429688,101.37451934814453,101.49529266357422,101.65729522705078,101.8760757446289,102.16825103759766,102.5495834350586,103.03263092041016,103.62483978271484,104.32705688476562,105.13284301757812,106.02860260009766,106.99420166015625,108.0043716430664,109.0306625366211,110.04389953613281,111.0168228149414,111.92667388916016,112.7575454711914,113.50138854980469,114.15771484375,114.73170471191406,115.23072052001953,115.66017150878906,116.01970672607422,116.30028533935547,116.48303985595703,116.54064178466797,116.43971252441406,116.1446533203125,115.62178039550781,114.84243774414062,113.78543090820312,112.4378890991211,110.79518127441406,108.86006927490234,106.64169311523438,104.15447235107422,101.41778564453125,98.4564437866211,95.30157470703125,91.9920883178711,88.57573699951172,85.10929870605469,81.65740966796875,78.28986358642578,75.07698822021484,72.08402252197266,69.36552429199219,66.96055603027344,64.88988494873047,63.15556716918945,61.742759704589844,60.62356185913086,59.761566162109375,59.11659622192383,58.64851760864258,58.32018280029297,58.098941802978516,57.95708465576172,57.871795654296875,57.82460021972656,57.8009033203125,57.789737701416016,57.78347396850586,57.77748107910156,57.76982879638672,57.7608642578125,57.75223922729492,57.746559143066406,57.746578216552734,57.75447463989258,57.77174377441406,57.79900360107422,57.83626174926758,57.88328170776367,57.93988037109375,58.00614547729492,58.082698822021484,58.17045593261719,58.270320892333984,58.382843017578125,58.50784683227539,58.64411926269531,58.78944396972656,58.94062805175781,59.093955993652344,59.24567794799805,59.39248275756836,59.53181076049805,59.662315368652344,59.783729553222656,59.896610260009766,60.00199890136719,60.10075378417969,60.19291687011719,60.27732849121094,60.35124588012695,60.41044235229492,60.44960403442383,60.463016510009766,60.445396423339844,60.39280700683594,60.303340911865234,60.17745590209961,60.018001556396484,59.82980728149414,59.618980407714844,59.392112731933594,59.155601501464844,58.91497039794922,58.67470169067383,58.43831253051758,58.2086181640625,57.9882698059082,57.7802734375,57.5882568359375,57.416656494140625,57.270530700683594,57.155059814453125,57.07499694824219,57.03399658203125],[101.76333618164062,101.8468246459961,102.00751495361328,102.23414611816406,102.51298522949219,102.83109283447266,103.1799545288086,103.55944061279297,103.98028564453125,104.46512603759766,105.04719543457031,105.7666015625,106.6643295288086,107.7752456665039,109.12094116210938,110.70423126220703,112.50638580322266,114.48749542236328,116.59009552001953,118.7453384399414,120.88040924072266,122.92546844482422,124.81920623779297,126.51189422607422,127.96588134765625,129.15423583984375,130.0581817626953,130.6649932861328,130.9664306640625,130.95883178710938,130.64407348632812,130.03077697753906,129.1353759765625,127.9822769165039,126.6024398803711,125.03160858154297,123.3080062866211,121.47068786621094,119.55867004394531,117.61122131347656,115.66868591308594,113.7731704711914,111.96843719482422,110.29785919189453,108.80107879638672,107.50948333740234,106.4419937133789,105.60203552246094,104.9767074584961,104.53887176513672,104.25142669677734,104.07315826416016,103.96478271484375,103.89395141601562,103.83818817138672,103.78538513183594,103.73228454589844,103.68183135986328,103.64021301269531,103.61451721191406,103.61163330078125,103.6381607055664,103.70130157470703,103.8098373413086,103.97517395019531,104.21105194091797,104.53260040283203,104.95465087890625,105.4894790649414,106.14476013183594,106.92172241210938,107.81400299072266,108.80736541748047,109.87995910644531,111.00360107421875,112.14571380615234,113.2718734741211,114.34866333007812,115.34651184082031,116.24225616455078,117.02037048339844,117.67296600341797,118.19817352294922,118.59709930419922,118.8701171875,119.01358032226562,119.01744842529297,118.86449432373047,118.53192138671875,117.99371337890625,117.22420501708984,116.20169830322266,114.91093444824219,113.3448715209961,111.50487518310547,109.4000473022461,107.04597473144531,104.4632797241211,101.67620849609375,98.71194458007812,95.60061645507812,92.37583923339844,89.07572937011719,85.74378967285156,82.42906188964844,79.18522644042969,76.06859588623047,73.1344223022461,70.43243408203125,68.00243377685547,65.87059783935547,64.04754638671875,62.52836227416992,61.29457473754883,60.31766128540039,59.563106536865234,58.994476318359375,58.57645797729492,58.27717971801758,58.06912612915039,57.92923355102539,57.83855438232422,57.781620025634766,57.7459831237793,57.72202682495117,57.702850341796875,57.684085845947266,57.66385269165039,57.64250183105469,57.62185287475586,57.60493469238281,57.59522247314453,57.595863342285156,57.60947036743164,57.63768768310547,57.681312561035156,57.7404670715332,57.81480407714844,57.90372085571289,58.006717681884766,58.123329162597656,58.25299072265625,58.39487838745117,58.5477180480957,58.709503173828125,58.877593994140625,59.04869079589844,59.21925354003906,59.3858757019043,59.5457763671875,59.6970329284668,59.839012145996094,59.972225189208984,60.09807586669922,60.21842575073242,60.33492660522461,60.448272705078125,60.557716369628906,60.660648345947266,60.752601623535156,60.8276252746582,60.878963470458984,60.89995193481445,60.88501739501953,60.830467224121094,60.73503494262695,60.60002517700195,60.42911148071289,60.227760314941406,60.00249481201172,59.76026153564453,59.50764465332031,59.250579833984375,58.99424743652344,58.74312210083008,58.50138473510742,58.27326202392578,58.06328201293945,57.8764533996582,57.71813201904297,57.59357833862305,57.50751876831055,57.46354293823242],[104.78462982177734,104.88734436035156,105.08516693115234,105.36437225341797,105.70793151855469,106.09908294677734,106.52544403076172,106.9831771850586,107.4797134399414,108.0348129272461,108.67926025390625,109.45098876953125,110.3891372680664,111.52703094482422,112.88516998291016,114.46612548828125,116.25204467773438,118.20536041259766,120.27272033691406,122.39117431640625,124.49541473388672,126.52434539794922,128.42596435546875,130.15965270996094,131.69570922851562,133.0131072998047,134.09608459472656,134.93138122558594,135.50624084472656,135.80848693847656,135.827880859375,135.5579833984375,134.99839782714844,134.15614318847656,133.04571533203125,131.68844604492188,130.111328125,128.34608459472656,126.42865753173828,124.39947509765625,122.30403900146484,120.19304656982422,118.12152099609375,116.14598083496094,114.32008361816406,112.68916320800781,111.28499603271484,110.12188720703125,109.19513702392578,108.48277282714844,107.94976043701172,107.55426025390625,107.2543716430664,107.0140609741211,106.80711364746094,106.61847686767578,106.44327545166016,106.28423309326172,106.14852142333984,106.04476165771484,105.98128509521484,105.96544647216797,106.00410461425781,106.10462951660156,106.27620697021484,106.5300064086914,106.87877655029297,107.33563232421875,107.91191101074219,108.6151351928711,109.44685363769531,110.40106964111328,111.46346282958984,112.61126708984375,113.8142318725586,115.03643798828125,116.2388916015625,117.3824462890625,118.43083953857422,119.35350036621094,120.12702941894531,120.73560333251953,121.16976928710938,121.42394256591797,121.49333190917969,121.37134552001953,121.04776763916016,120.50846099853516,119.73707580566406,118.71729278564453,117.43596649169922,115.88597869873047,114.06785583496094,111.9905776977539,109.6709976196289,107.13237762451172,104.40264892578125,101.51258087158203,98.49407958984375,95.37926483154297,92.20036315917969,88.9900131225586,85.78219604492188,82.61309051513672,79.52144622802734,76.54812622070312,73.73480224609375,71.12125396728516,68.74198150634766,66.6229019165039,64.77861785888672,63.21116638183594,61.91032791137695,60.85554504394531,60.01905822753906,59.36936950683594,58.87459182739258,58.50480270385742,58.23371887207031,58.03913879394531,57.902706146240234,57.809364318847656,57.746612548828125,57.70412063598633,57.67355728149414,57.64864730834961,57.62519073486328,57.601192474365234,57.57685089111328,57.5539665222168,57.53577423095703,57.52622604370117,57.52918243408203,57.548057556152344,57.585208892822266,57.641883850097656,57.71826171875,57.81357955932617,57.92641830444336,58.05514144897461,58.1980094909668,58.35324478149414,58.51898956298828,58.6932373046875,58.87359619140625,59.05732727050781,59.24130630493164,59.4223518371582,59.59755325317383,59.76474380493164,59.92271041870117,60.071617126464844,60.2128791809082,60.348880767822266,60.48249053955078,60.61632537841797,60.75188446044922,60.888973236083984,61.02516555786133,61.15574264526367,61.27401351928711,61.37199020385742,61.44133758544922,61.474464416503906,61.465457916259766,61.410831451416016,61.30987548828125,61.16466522216797,60.97966766357422,60.761138916015625,60.5164909362793,60.253475189208984,59.97971725463867,59.70237731933594,59.42799758911133,59.16264343261719,58.91212463378906,58.68210220336914,58.47831344604492,58.30646896362305,58.17190933227539,58.07928466796875,58.03207015991211],[108.44644165039062,108.56826782226562,108.8031234741211,109.13499450683594,109.54373168945312,110.00891876220703,110.51425170898438,111.052001953125,111.6258316040039,112.25199127197266,112.95799255371094,113.77875518798828,114.75077056884766,115.90518951416016,117.26106262207031,118.8206558227539,120.5672378540039,122.46612548828125,124.46871948242188,126.51868438720703,128.55885314941406,130.53733825683594,132.41175842285156,134.15081787109375,135.7330322265625,137.14361572265625,138.3704833984375,139.4007568359375,140.2185516357422,140.80467224121094,141.13824462890625,141.19908142089844,140.97064208984375,140.44259643554688,139.61199951171875,138.4840545654297,137.0720672607422,135.3975372314453,133.49029541015625,131.38925170898438,129.14295959472656,126.80948638916016,124.45494842529297,122.14983367919922,119.96356964111328,117.95780181884766,116.17990112304688,114.6578140258789,113.3975601196289,112.38426971435547,111.58621978759766,110.96147155761719,110.46527099609375,110.05712127685547,109.70589447021484,109.39221954345703,109.10820770263672,108.85521697998047,108.64041137695312,108.47330474853516,108.36320495605469,108.31787872314453,108.34354400634766,108.44569396972656,108.63067626953125,108.90630340576172,109.28202819824219,109.76829528808594,110.37471008300781,111.10808563232422,111.9701156616211,112.95539855957031,114.0501480102539,115.23162078857422,116.46863555908203,117.72314453125,118.95267486572266,120.11325073242188,121.1625747680664,122.06299591064453,122.78337097167969,123.29988098144531,123.59539031982422,123.65765380859375,123.4770278930664,123.04460906982422,122.35108947753906,121.38689422607422,120.14395141601562,118.6176528930664,116.80941009521484,114.72853088378906,112.39271545410156,109.82783508300781,107.0663070678711,104.14486694335938,101.102294921875,97.97720336914062,94.80631256103516,91.62344360351562,88.45951080322266,85.3428955078125,82.30049896240234,79.35879516601562,76.54459381103516,73.88504791259766,71.4070816040039,69.13562774658203,67.0911865234375,65.28739929199219,63.72919464111328,62.411903381347656,61.321781158447266,60.43769454956055,59.73381423950195,59.182456970214844,58.7567253112793,58.432254791259766,58.18832015991211,58.007869720458984,57.877044677734375,57.78444290161133,57.72035217285156,57.67635726928711,57.6452751159668,57.62131118774414,57.60028076171875,57.5799560546875,57.560237884521484,57.542781829833984,57.53092575073242,57.528968811035156,57.5413703918457,57.57218551635742,57.624324798583984,57.699283599853516,57.79710006713867,57.91641616821289,58.05485153198242,58.209556579589844,58.37753677368164,58.55588912963867,58.741905212402344,58.93309020996094,59.12690353393555,59.3207893371582,59.51203155517578,59.69803237915039,59.876556396484375,60.04621124267578,60.20664978027344,60.35898971557617,60.505714416503906,60.650360107421875,60.79697799682617,60.949317932128906,61.10982131958008,61.27893829345703,61.45445251464844,61.6313591003418,61.80210494995117,61.95726013183594,62.08654022216797,62.179969787597656,62.22901153564453,62.22749328613281,62.1722297668457,62.063255310058594,61.90367889404297,61.699214935302734,61.45762634277344,61.1878547668457,60.89937973022461,60.601627349853516,60.303550720214844,60.013484954833984,59.7391471862793,59.48762130737305,59.26557159423828,59.079158782958984,58.933841705322266,58.83417892456055,58.78350067138672],[112.7764663696289,112.91659545898438,113.1869888305664,113.56959533691406,114.0413589477539,114.57839965820312,115.16053771972656,115.7759780883789,116.42425537109375,117.1175537109375,117.87945556640625,118.74124908447266,119.73624420166016,120.89309692382812,122.22946166992188,123.7475814819336,125.43240356445312,127.25286102294922,129.1658172607422,131.12208557128906,133.07298278808594,134.97573852539062,136.79727172851562,138.51499938964844,140.114990234375,141.5883331298828,142.9264678955078,144.11741638183594,145.1431121826172,145.97886657714844,146.59498596191406,146.95932006835938,147.04080200195312,146.8126220703125,146.2546844482422,145.35536193847656,144.11276245117188,142.53599548339844,140.6463165283203,138.47860717773438,136.08229064941406,133.52130126953125,130.8720703125,128.21926879882812,125.64911651611328,123.2413330078125,121.06109619140625,119.15240478515625,117.53428649902344,116.20093536376953,115.12537384033203,114.26627349853516,113.57612609863281,113.00940704345703,112.52901458740234,112.1098861694336,111.73960876464844,111.41667938232422,111.14700317382812,110.93994140625,110.80504608154297,110.74993133544922,110.77972412109375,110.89762878417969,111.10655212402344,111.41019439697266,111.8138427734375,112.32430267333984,112.94852447509766,113.69195556640625,114.55609130859375,115.53624725341797,116.61979675292969,117.7850112915039,119.0011215209961,120.22943878173828,121.42549896240234,122.5418930053711,123.53142547607422,124.35029602050781,124.96025848388672,125.3300552368164,125.4353256225586,125.25775909423828,124.78356170654297,124.00250244140625,122.90740966796875,121.49471282958984,119.76610565185547,117.73018646240234,115.40413665771484,112.81450653076172,109.99645233154297,106.99234008789062,103.84903717041016,100.61495208740234,97.33721923828125,94.05941009521484,90.81978607177734,87.65058135986328,84.57821655273438,81.62405395507812,78.80572509765625,76.1385726928711,73.63676452636719,71.31389617919922,69.18304443359375,67.25576782226562,65.54044342041016,64.0406265258789,62.75368118286133,61.6702766418457,60.77482986450195,60.04695129394531,59.4636116027832,59.00138854980469,58.638492584228516,58.355926513671875,58.138179779052734,57.972930908203125,57.850372314453125,57.76237487792969,57.70166778564453,57.66150665283203,57.6356315612793,57.61857223510742,57.60602951049805,57.59542465209961,57.58628463745117,57.58007049560547,57.58015823364258,57.591182708740234,57.618167877197266,57.665794372558594,57.73745346069336,57.83481216430664,57.9576530456543,58.1038932800293,58.270057678222656,58.45197296142578,58.64533233642578,58.8460807800293,59.05070495605469,59.25632095336914,59.460391998291016,59.660728454589844,59.855224609375,60.04207992553711,60.21995162963867,60.388427734375,60.5482292175293,60.70162582397461,60.852359771728516,61.005313873291016,61.1658935546875,61.33912658691406,61.528526306152344,61.73524856567383,61.95732879638672,62.18941116333008,62.42298889160156,62.64702606201172,62.84904098510742,63.01640701293945,63.1375846862793,63.203346252441406,63.207584381103516,63.14787673950195,63.02556610107422,62.84550094604492,62.615562438964844,62.34577941894531,62.04751205444336,61.73263931274414,61.41277313232422,61.098838806152344,60.800811767578125,60.527488708496094,60.286705017089844,60.08523941040039,59.92876052856445,59.82178497314453,59.76750183105469],[117.77385711669922,117.93051147460938,118.23304748535156,118.66163635253906,119.19068145751953,119.7930908203125,120.44496154785156,121.13043212890625,121.84465789794922,122.59542083740234,123.40193939208984,124.29145050048828,125.29386901855469,126.43538665771484,127.73255157470703,129.18820190429688,130.789794921875,132.51071166992188,134.3140411376953,136.15821838378906,138.0029754638672,139.8142852783203,141.56735229492188,143.24708557128906,144.84580993652344,146.35922241210938,147.78160095214844,149.10174560546875,150.29995727539062,151.34738159179688,152.2073211669922,152.8378448486328,153.19534301757812,153.23841857910156,152.9308319091797,152.2445068359375,151.16188049316406,149.678466796875,147.80516052246094,145.57077026367188,143.02365112304688,140.23182678222656,137.28102111816406,134.26956176757812,131.30079650878906,128.47348022460938,125.87210845947266,123.55859375,121.56692504882812,119.9021987915039,118.54364013671875,117.45154571533203,116.57599639892578,115.8662109375,115.27828979492188,114.78019714355469,114.35342407226562,113.99197387695312,113.6988754272461,113.48200225830078,113.35008239746094,113.30982208251953,113.36470794677734,113.51518249511719,113.76022338867188,114.09880828857422,114.53126525878906,115.05986022949219,115.6880111694336,116.41903686523438,117.25382995605469,118.18843841552734,119.21186065673828,120.3044204711914,121.43714904785156,122.57237243652344,123.66543579101562,124.667236328125,125.52732849121094,126.19720458984375,126.63285064697266,126.79668426513672,126.65827178955078,126.19429779052734,125.38804626464844,124.22919464111328,122.7139892578125,120.8460693359375,118.63795471191406,116.11212921142578,113.3017807006836,110.25032806396484,107.0093994140625,103.63619995117188,100.18978118896484,96.7274169921875,93.301513671875,89.95726013183594,86.73120880126953,83.65096282958984,80.73590087890625,77.99839782714844,75.44558715820312,73.08120727539062,70.90716552734375,68.9245834350586,67.13433074951172,65.53668212890625,64.1302490234375,62.91083908081055,61.87047576904297,60.99705123901367,60.27462387084961,59.684574127197266,59.20721435546875,58.82352066040039,58.516605377197266,58.27239990234375,58.08004379272461,57.93132400512695,57.819923400878906,57.740474700927734,57.68775939941406,57.65639114379883,57.64083480834961,57.63578414916992,57.63673782348633,57.64070129394531,57.64677429199219,57.656219482421875,57.672462463378906,57.70048904418945,57.74591827392578,57.81407165527344,57.908836364746094,58.032039642333984,58.18314743041992,58.35927963256836,58.5557746887207,58.76702880859375,58.98729705810547,59.21129608154297,59.43466567993164,59.65410232543945,59.86714553833008,60.072052001953125,60.26749038696289,60.45263671875,60.62725067138672,60.79212188720703,60.94926452636719,61.10231399536133,61.256473541259766,61.41815185546875,61.59428405761719,61.791316986083984,62.01395034790039,62.26413345336914,62.5401725769043,62.83638381958008,63.14324188232422,63.44802474975586,63.73593521118164,63.991493225097656,64.19996643066406,64.34874725341797,64.42847442626953,64.43385314941406,64.3640365600586,64.2225570678711,64.01704406738281,63.75830078125,63.45942306518555,63.13467788696289,62.798465728759766,62.46452331542969,62.145347595214844,61.851776123046875,61.593109130859375,61.37698745727539,61.209503173828125,61.09524917602539,61.03736114501953],[123.40084075927734,123.57115173339844,123.90029907226562,124.36701202392578,124.94356536865234,125.60008239746094,126.30928039550781,127.0513687133789,127.81717681884766,128.6099090576172,129.4442596435547,130.3433074951172,131.33352661132812,132.43898010253906,133.67564392089844,135.04779052734375,136.5463104248047,138.14999389648438,139.8289031982422,141.5494384765625,143.27957153320312,144.9931640625,146.6724090576172,148.30796813964844,149.89649963378906,151.43663024902344,152.92410278320312,154.34780883789062,155.68667602539062,156.9085693359375,157.97146606445312,158.82579040527344,159.41781616210938,159.6936798095703,159.60293579101562,159.10220336914062,158.1587371826172,156.7541961669922,154.88818359375,152.58212280273438,149.88156127929688,146.85711669921875,143.60235595703125,140.22837829589844,136.85520935058594,133.60081481933594,130.5697784423828,127.84306335449219,125.47111511230469,123.47146606445312,121.83104705810547,120.51286315917969,119.46529388427734,118.63233947753906,117.96279907226562,117.41654968261719,116.96752166748047,116.60342407226562,116.3226547241211,116.12996673583984,116.03194427490234,116.03340148925781,116.13552856445312,116.33555603027344,116.62814331054688,117.00711822509766,117.46727752685547,118.00564575195312,118.62132263183594,119.3147964477539,120.08589172363281,120.93130493164062,121.84207153320312,122.80142211914062,123.78353881835938,124.75346374511719,125.66826629638672,126.47920227050781,127.13457489013672,127.5831527709961,127.77698516845703,127.6739730834961,127.23931121826172,126.44635772705078,125.27701568603516,123.72234344482422,121.783203125,119.47132110595703,116.8104019165039,113.83659362792969,110.59822082519531,107.15397644042969,103.5697021484375,99.91464233398438,96.25679779052734,92.65886688232422,89.17501068115234,85.84873962402344,82.71192169189453,79.78512573242188,77.07894134521484,74.59574127197266,72.33195495605469,70.28026580810547,68.43157196044922,66.77629852294922,65.30534362792969,64.01013946533203,62.88199996948242,61.91129684448242,61.08676528930664,60.39512634277344,59.82126235961914,59.34897232055664,58.962162017822266,58.64606475830078,58.38823699951172,58.178951263427734,58.01127624511719,57.880428314208984,57.782936096191406,57.715667724609375,57.675045013427734,57.65676498413086,57.65581512451172,57.66697311401367,57.68546676635742,57.7078742980957,57.7328987121582,57.761600494384766,57.79747009277344,57.84588623046875,57.91306686401367,58.0050163269043,58.12612533569336,58.27839279174805,58.460975646972656,58.670162200927734,58.90005874633789,59.14354705810547,59.393348693847656,59.64284133911133,59.88669204711914,60.121124267578125,60.343692779541016,60.5531120300293,60.7489013671875,60.93134689331055,61.101470947265625,61.2614631652832,61.41482162475586,61.56675720214844,61.72412109375,61.895023345947266,62.08809280395508,62.31134796142578,62.570804595947266,62.86931228637695,63.20555114746094,63.573577880859375,63.96290969848633,64.35918426513672,64.74531555175781,65.10298919677734,65.41419219970703,65.66281127929688,65.83600616455078,65.92523956298828,65.92698669433594,65.84294128417969,65.67987060546875,65.44882202148438,65.16413879394531,64.8421859741211,64.5,64.15415954589844,63.81987380981445,63.51032257080078,63.236610412597656,63.00761032104492,62.83013916015625,62.709136962890625,62.647865295410156],[129.57501220703125,129.755126953125,130.10340881347656,130.5975799560547,131.2082977294922,131.90345764160156,132.65292358398438,133.43336486816406,134.2315216064453,135.04615783691406,135.88748168945312,136.7744903564453,137.7305145263672,138.77786254882812,139.93267822265625,141.20155334472656,142.5798797607422,144.05282592773438,145.59812927246094,147.19036865234375,148.80545043945312,150.42410278320312,152.03392028808594,153.62928771972656,155.20899963378906,156.77243041992188,158.3151397705078,159.8250274658203,161.2792510986328,162.64308166503906,163.87051391601562,164.90623474121094,165.6887664794922,166.1542510986328,166.240234375,165.8899383544922,165.05670166015625,163.70884704589844,161.8347625732422,159.44769287109375,156.5894012451172,153.33169555664062,149.77456665039062,146.04058837890625,142.26547241210938,138.5858917236328,135.12640380859375,131.98757934570312,129.23715209960938,126.90632629394531,124.99100494384766,123.45811462402344,122.2551498413086,121.32130432128906,120.59781646728516,120.0356674194336,119.59982299804688,119.26998138427734,119.0380630493164,118.90387725830078,118.87036895751953,118.9393081665039,119.10884857177734,119.3725814819336,119.72061920166016,120.14141845703125,120.62395477294922,121.15959167480469,121.74260711669922,122.37010955810547,123.04044342041016,123.75081634521484,124.49456787109375,125.25857543945312,126.02132415771484,126.7521743774414,127.41184997558594,127.95406341552734,128.32818603515625,128.48252868652344,128.3675994873047,127.93907165527344,127.15998077392578,126.0024642944336,124.44892883300781,122.4932861328125,120.14205932617188,117.41541290283203,114.34785461425781,110.98802947998047,107.39733123779297,103.64702606201172,99.8138427734375,95.9753189086914,92.20454406738281,88.56584167480469,85.11164855957031,81.88078308105469,78.89810943603516,76.17554473876953,73.71408081054688,71.50608825683594,69.53803253173828,67.79292297363281,66.2525405883789,64.89894104003906,63.715518951416016,62.6873779296875,61.80089569091797,61.043121337890625,60.40119552612305,59.861934661865234,59.41183090209961,59.037445068359375,58.72622299194336,58.467288970947266,58.252079010009766,58.074485778808594,57.93077850341797,57.81889343261719,57.737579345703125,57.68544006347656,57.66018295288086,57.6583366394043,57.67531204223633,57.70591354370117,57.745140075683594,57.7891960144043,57.8364143371582,57.88768768310547,57.94659423828125,58.01885986328125,58.11130142211914,58.230552673339844,58.38149642944336,58.566314697265625,58.78385925292969,59.02961730957031,59.29646301269531,59.57575988769531,59.85863494873047,60.13703155517578,60.40452194213867,60.65670394897461,60.89104080200195,61.10663604736328,61.3038330078125,61.48405075073242,61.64967727661133,61.80441665649414,61.953407287597656,62.10359191894531,62.26362609863281,62.44348907470703,62.65365982055664,62.903900146484375,63.20171356201172,63.55101776123047,63.95105743408203,64.39580535888672,64.87405395507812,65.37000274658203,65.86453247070312,66.33668518066406,66.7653579711914,67.13101196289062,67.41719818115234,67.61188507080078,67.70838928222656,67.70586395263672,67.6093978881836,67.42941284179688,67.1806869506836,66.88098907470703,66.54952239990234,66.2054672241211,65.86676788330078,65.54917907714844,65.26599884033203,65.02780151367188,64.84260559082031,64.71611022949219,64.65199279785156],[136.1638641357422,136.34934997558594,136.7081298828125,137.2173614501953,137.8467559814453,138.5626678466797,139.33273315429688,140.1306610107422,140.9395294189453,141.75399780273438,142.58001708984375,143.43275451660156,144.3327178955078,145.30104064941406,146.35475158691406,147.50372314453125,148.74887084960938,150.0826416015625,151.49107360839844,152.9571533203125,154.46424865722656,155.99888610839844,157.5524139404297,159.12078857421875,160.70257568359375,162.29568481445312,163.89346313476562,165.48146057128906,167.03448486328125,168.51531982421875,169.87493896484375,171.053955078125,171.98524475097656,172.59732055664062,172.8181610107422,172.57980346679688,171.82345581054688,170.50552368164062,168.60374450683594,166.12338256835938,163.10182189941406,159.611083984375,155.7562713623047,151.67001342773438,147.50233459472656,143.40750122070312,139.52935791015625,135.9878387451172,132.8683319091797,130.21641540527344,128.03797912597656,126.3049545288086,124.96492004394531,123.95280456542969,123.20231628417969,122.65496063232422,122.2656021118164,122.00436401367188,121.85479736328125,121.81000518798828,121.86763763427734,122.02522277832031,122.27706909179688,122.61276245117188,123.01776885986328,123.47525787353516,123.96844482421875,124.48297882080078,125.00814819335938,125.53742980957031,126.06744384765625,126.59580993652344,127.11831665039062,127.62602233886719,128.10267639160156,128.5233154296875,128.85406494140625,129.05316162109375,129.07334899902344,128.8650665283203,128.37982177734375,127.57378387451172,126.41040802001953,124.86296081542969,122.91634368896484,120.56875610351562,117.83305358886719,114.73761749267578,111.32662963867188,107.65904998779297,103.806396484375,99.84877014160156,95.86968231201172,91.95069122314453,88.16581726074219,84.57725524902344,81.23258972167969,78.16354370117188,75.38642883300781,72.90384674072266,70.70731353759766,68.78009033203125,67.10015869140625,65.64287567138672,64.38320922851562,63.29734420776367,62.36367416381836,61.563331604003906,60.87986373901367,60.298728942871094,59.80677032470703,59.391761779785156,59.04221725463867,58.74751281738281,58.498355865478516,58.28725814819336,58.10888671875,57.96003341674805,57.839454650878906,57.74715042114258,57.68354034423828,57.648536682128906,57.64085006713867,57.657691955566406,57.69485092163086,57.74723815917969,57.80971145629883,57.87820816040039,57.95078659057617,58.0282096862793,58.11409378051758,58.21444320678711,58.33653259277344,58.48750686645508,58.67265701293945,58.8942756652832,59.150936126708984,59.4373779296875,59.745323181152344,60.064674377441406,60.38497543334961,60.696678161621094,60.99215316772461,61.26621627807617,61.51604461669922,61.740962982177734,61.942012786865234,62.121673583984375,62.28367233276367,62.43326187133789,62.577293395996094,62.724525451660156,62.88555145263672,63.07235336303711,63.297447204589844,63.57252502441406,63.906795501708984,64.30552673339844,64.76881408691406,65.2908935546875,65.86019897460938,66.45996856689453,67.06948852539062,67.6656723022461,68.22474670410156,68.72404479980469,69.14363861083984,69.46780395507812,69.68621826171875,69.79469299316406,69.79560852050781,69.6975326538086,69.51443481445312,69.26436614990234,68.96778106689453,68.64591217041016,68.3192138671875,68.00614166259766,67.72257232666016,67.48135375976562,67.29232788085938,67.16255187988281,67.09659576416016],[142.98402404785156,143.1704559326172,143.53115844726562,144.04322814941406,144.67605590820312,145.3951873779297,146.16676330566406,146.96218872070312,147.76141357421875,148.55532836914062,149.3459930419922,150.14500427246094,150.97044372558594,151.84275817871094,152.78065490722656,153.79811096191406,154.9025115966797,156.0944366455078,157.3688201904297,158.71713256835938,160.1298065185547,161.59814453125,163.11558532714844,164.6776580810547,166.2804412841797,167.91812133789062,169.57992553710938,171.24745178222656,172.89231872558594,174.47457885742188,175.9427490234375,177.2345733642578,178.2789764404297,178.9990234375,179.3154296875,179.1513671875,178.43812561035156,177.1219482421875,175.1712188720703,172.5838623046875,169.39297485351562,165.6702117919922,161.52474975585938,157.0978240966797,152.55224609375,148.0583953857422,143.77822875976562,139.85025024414062,136.37725830078125,133.41946411132812,130.99334716796875,129.07675170898438,127.61817169189453,126.54891204833984,125.79537963867188,125.2892837524414,124.97451782226562,124.81023406982422,124.77001190185547,124.83846282958984,125.00639343261719,125.26586151123047,125.60657501220703,126.01380157470703,126.46847534179688,126.9488296508789,127.4327621459961,127.90061950683594,128.33697509765625,128.7317657470703,129.07992553710938,129.3794708251953,129.6287841796875,129.8234100341797,129.9530487060547,129.99942016601562,129.9355010986328,129.72589111328125,129.3289337158203,128.69961547851562,127.79324340820312,126.56916046142578,124.99398040771484,123.04452514648438,120.71007537841797,117.99430847167969,114.9166488647461,111.51292419433594,107.83504486083984,103.94942474365234,99.9339370727539,95.87323760986328,91.8530502319336,87.95451354980469,84.24858093261719,80.79195404052734,77.62483215332031,74.77027893066406,72.23538208007812,70.01362609863281,68.0880126953125,66.43425750732422,65.0239028930664,63.826942443847656,62.81401824951172,61.95787048339844,61.23420715332031,60.62224578857422,60.10439682006836,59.665836334228516,59.29400634765625,58.97810745239258,58.70879364013672,58.478065490722656,58.279457092285156,58.10829544067383,57.96181106567383,57.83903121948242,57.74055099487305,57.66786575317383,57.622623443603516,57.6057243347168,57.61668014526367,57.65335464477539,57.71198272705078,57.7877197265625,57.87548065185547,57.97112274169922,58.07254409790039,58.1804084777832,58.29829788208008,58.43231201171875,58.58995819091797,58.77863311767578,59.00381851196289,59.2678108215332,59.56886672973633,59.90104675292969,60.25504684448242,60.61943817138672,60.98228454589844,61.332557678222656,61.661346435546875,61.96250534057617,62.232704162597656,62.47124481201172,62.679603576660156,62.861141204833984,63.020774841308594,63.165218353271484,63.303009033203125,63.44474411010742,63.6030387878418,63.79200744628906,64.02637481689453,64.32001495361328,64.68415832519531,65.12576293945312,65.64620208740234,66.24051666259766,66.89735412597656,67.59966278076172,68.32586669921875,69.05152130126953,69.75090789794922,70.3987808227539,70.97206115722656,71.4513168334961,71.8221206665039,72.07608795166016,72.21157836914062,72.23377227783203,72.15416717529297,71.9894790649414,71.76008605957031,71.4882583618164,71.19645690917969,70.9057846069336,70.63504791259766,70.40000915527344,70.2131118774414,70.08353424072266,70.01728820800781],[149.80657958984375,149.9904022216797,150.34617614746094,150.8513946533203,151.47567749023438,152.18447875976562,152.9430694580078,153.72113037109375,154.49594116210938,155.2549591064453,155.9965362548828,156.7289581298828,157.46815490722656,158.23434448242188,159.04849243164062,159.9294891357422,160.8919677734375,161.94541931152344,163.09417724609375,164.3383331298828,165.67498779296875,167.0993194580078,168.6055145263672,170.1869354248047,171.83522033691406,173.538818359375,175.28099060058594,177.03793334960938,178.7769775390625,180.4550018310547,182.0181427001953,183.40196228027344,184.53274536132812,185.3297576904297,185.70860290527344,185.58578491210938,184.88491821289062,183.5441131591797,181.5240936279297,178.81655883789062,175.4508514404297,171.49807739257812,167.07077026367188,162.31753540039062,157.41246032714844,152.5403594970703,147.8798370361328,143.58682250976562,139.78070068359375,136.5360870361328,133.88027954101562,131.7974853515625,130.23782348632812,129.12954711914062,128.39210510253906,127.94730377197266,127.72744750976562,127.67970275878906,127.76628875732422,127.96183013916016,128.24887084960938,128.6128692626953,129.0382843017578,129.5059051513672,129.99244689941406,130.47181701660156,130.91751098632812,131.30540466308594,131.61610412597656,131.83660888671875,131.96044921875,131.98623657226562,131.91505432128906,131.74710083007812,131.47837829589844,131.09793090820312,130.5865936279297,129.91680908203125,129.0543212890625,127.96096801757812,126.59829711914062,124.93153381347656,122.93292999267578,120.58509063720703,117.88330841064453,114.83751678466797,111.47346496582031,107.83307647705078,103.97354125976562,99.96528625488281,95.88838195800781,91.82752227783203,87.86612701416016,84.08073425292969,80.5356674194336,77.27948760986328,74.34329986572266,71.74077606201172,69.46997833251953,67.51624298095703,65.85562896728516,64.45829772949219,63.29160690307617,62.32259750366211,61.5198974609375,60.85500717163086,60.30289840698242,59.842506408691406,59.456398010253906,59.130348205566406,58.8529167175293,58.61490249633789,58.408973693847656,58.229400634765625,58.07204818725586,57.93445587158203,57.815799713134766,57.71673583984375,57.639156341552734,57.58560562133789,57.558597564697266,57.559814453125,57.589508056640625,57.64622116088867,57.726806640625,57.826927185058594,57.941829681396484,58.06753158569336,58.20195770263672,58.34568405151367,58.50215148925781,58.67729949951172,58.878501892089844,59.11302185058594,59.386199951171875,59.7000846862793,60.05251693725586,60.43693542480469,60.8431396484375,61.258567810058594,61.669952392578125,62.064876556396484,62.4330940246582,62.76734924316406,63.063541412353516,63.320621490478516,63.54019546508789,63.72616195678711,63.8843879699707,64.02284240722656,64.15161895751953,64.28313446044922,64.43203735351562,64.61470794677734,64.84828186035156,65.14910888671875,65.53080749511719,66.00253295898438,66.56748962402344,67.2221908569336,67.95630645751953,68.75337219238281,69.59197235107422,70.44730377197266,71.29269409179688,72.1011734008789,72.84703826904297,73.50729370117188,74.06304168701172,74.50074768066406,74.81333923339844,75.00076293945312,75.07000732421875,75.03440856933594,74.91241455078125,74.7259750366211,74.49867248535156,74.25397491455078,74.01386260986328,73.79764556884766,73.62125396728516,73.49684143066406,73.43260955810547],[156.3695068359375,156.54898071289062,156.89646911621094,157.39019775390625,158.00051879882812,158.6931610107422,159.43301391601562,160.1883087158203,160.93385314941406,161.65379333496094,162.34275817871094,163.00576782226562,163.65670776367188,164.31581115722656,165.0067596435547,165.75396728515625,166.5800018310547,167.50389099121094,168.53981018066406,169.69664001464844,170.9779510498047,172.3822021484375,173.90335083007812,175.5312957763672,177.25177001953125,179.04595947265625,180.8896484375,182.75228881835938,184.59584045410156,186.37327575683594,188.0280303955078,189.49371337890625,190.69461059570312,191.54750061035156,191.9644012451172,191.85723876953125,191.14404296875,189.75685119628906,187.65057373046875,184.8121337890625,181.2678985595703,177.08872985839844,172.39007568359375,167.3269500732422,162.08335876464844,156.8569793701172,151.84140014648438,147.20848083496094,143.09310913085938,139.58352661132812,136.71755981445312,134.48594665527344,132.8406982421875,131.70755004882812,130.99925231933594,130.6278076171875,130.513671875,130.59132385253906,130.8106231689453,131.13504028320312,131.53773498535156,131.99668884277344,132.49057006835938,132.99575805664062,133.48526000976562,133.9296875,134.2992706298828,134.56678771972656,134.7101287841797,134.7143096923828,134.57217407226562,134.28329467773438,133.85159301757812,133.2819366455078,132.57662963867188,131.73231506347656,130.7381591796875,129.57537841796875,128.21849060058594,126.637939453125,124.80361938476562,122.68879699707031,120.27355194091797,117.54800415039062,114.51461791992188,111.18988800048828,107.60518646240234,103.80668640136719,99.85408782958984,95.81816864013672,91.7770767211914,87.81121063232422,83.99757385253906,80.40454864501953,77.0870590209961,74.08373260498047,71.41575622558594,69.0875244140625,67.08898162841797,65.3988265991211,63.98810577392578,62.823604583740234,61.87075424194336,61.095794677734375,60.46739959716797,59.95760726928711,59.54218292236328,59.20097351074219,58.917545318603516,58.6788215637207,58.47468185424805,58.29747772216797,58.141624450683594,58.00322341918945,57.87996292114258,57.771026611328125,57.67698669433594,57.599605560302734,57.54164123535156,57.50633239746094,57.496829986572266,57.51546859741211,57.56324768066406,57.63955307006836,57.742103576660156,57.867401123046875,58.01139831542969,58.17060470581055,58.343162536621094,58.529640197753906,58.73318099975586,58.9592399597168,59.214595794677734,59.5058708190918,59.837764739990234,60.21171188354492,60.62493133544922,61.070194244384766,61.536521911621094,62.01040267944336,62.47743225097656,62.923919677734375,63.33830261230469,63.71206283569336,64.04008483886719,64.32061004638672,64.55496978759766,64.74722290039062,64.90382385253906,65.03372955322266,65.14839172363281,65.26194763183594,65.39110565185547,65.55462646484375,65.77228546142578,66.06324768066406,66.44397735595703,66.9263687133789,67.51619720458984,68.21223449707031,69.00614929199219,69.88314056396484,70.82316589355469,71.80229949951172,72.79415130615234,73.77107238769531,74.70551300048828,75.57119750976562,76.344482421875,77.00581359863281,77.54118347167969,77.94329071044922,78.2122802734375,78.355712890625,78.38793182373047,78.32872772216797,78.20162200927734,78.03186798095703,77.84471130371094,77.6635513305664,77.5086669921875,77.39610290527344,77.33700561523438],[162.39622497558594,162.57217407226562,162.91317749023438,163.39825439453125,163.9985809326172,164.6802978515625,165.4078826904297,166.14805603027344,166.87290954589844,167.56297302246094,168.20889282226562,168.8120880126953,169.38427734375,169.94578552246094,170.52322387695312,171.1469268798828,171.84793090820312,172.65528869628906,173.5934295654297,174.6802978515625,175.9259490966797,177.3319091796875,178.8914794921875,180.5904541015625,182.40792846679688,184.31686401367188,186.2845916748047,188.2727508544922,190.23687744140625,192.1251220703125,193.8775634765625,195.4254608154297,196.69129943847656,197.58990478515625,198.03097534179688,197.92332458496094,197.18130493164062,195.73284912109375,193.52886962890625,190.55303955078125,186.8298797607422,182.4304656982422,177.47308349609375,172.11854553222656,166.55960083007812,161.0053253173828,155.66270446777344,150.71786499023438,146.3197784423828,142.56915283203125,139.5136260986328,137.1500244140625,135.43235778808594,134.28395080566406,133.61126708984375,133.3166961669922,133.30882263183594,133.50918579101562,133.85470581054688,134.29698181152344,134.7989959716797,135.3306884765625,135.86477661132812,136.3734130859375,136.82672119140625,137.19320678710938,137.4414825439453,137.5428924560547,137.4742889404297,137.22007751464844,136.77345275878906,136.13552856445312,135.31317138671875,134.31585693359375,133.15188598632812,131.8252410888672,130.33343505859375,128.66676330566406,126.80925750732422,124.7411117553711,122.44200134277344,119.89484405517578,117.0890121459961,114.02332305908203,110.70796203613281,107.16576385498047,103.43255615234375,99.55672454833984,95.59754943847656,91.62269592285156,87.70458221435547,83.91559600830078,80.3229751586914,76.9842758178711,73.94325256347656,71.22767639160156,68.84886932373047,66.80279541015625,65.07266998291016,63.63240432739258,62.45009231567383,61.4912223815918,60.72128677368164,60.107574462890625,59.620384216308594,59.23362731933594,58.92490768432617,58.675750732421875,58.47122573852539,58.299625396728516,58.15216827392578,58.0225715637207,57.90665817260742,57.801944732666016,57.70743942260742,57.62348937988281,57.55159378051758,57.49421310424805,57.45461654663086,57.436485290527344,57.443443298339844,57.47843551635742,57.54330825805664,57.638492584228516,57.762908935546875,57.914310455322266,58.08979415893555,58.286746978759766,58.50383377075195,58.741668701171875,59.00298309326172,59.292396545410156,59.61555099487305,59.97779846191406,60.382572174072266,60.830142974853516,61.3167610168457,61.8343505859375,62.37115478515625,62.9128303527832,63.44401931762695,63.94988250732422,64.41757202148438,64.83722686767578,65.20246124267578,65.51049041748047,65.76197052001953,65.960693359375,66.11331939697266,66.22947692871094,66.32177734375,66.40595245361328,66.50079345703125,66.62757110595703,66.80896759033203,67.06732940673828,67.4224624633789,67.8896484375,68.47797393798828,69.18939208984375,70.01860809326172,70.9537353515625,71.97737884521484,73.06793212890625,74.20063018798828,75.34838104248047,76.48269653320312,77.57449340820312,78.59528350830078,79.51868438720703,80.32229614257812,80.98958587646484,81.51142883300781,81.88705444335938,82.12421417236328,82.23848724365234,82.25180053710938,82.19036102294922,82.08245086669922,81.95594024658203,81.8361587524414,81.743896484375,81.69395446777344],[167.61822509765625,167.79476928710938,168.13735961914062,168.62567138671875,169.2313690185547,169.9205780029297,170.65682983398438,171.40463256835938,172.13267517089844,172.81704711914062,173.4437255859375,174.00994873046875,174.52479553222656,175.00851440429688,175.49063110351562,176.007568359375,176.59915161132812,177.30484008789062,178.15969848632812,179.19105529785156,180.41580200195312,181.8388671875,183.453125,185.24049377441406,187.1734161376953,189.21653747558594,191.32835388183594,193.46202087402344,195.5657196044922,197.5817413330078,199.4457244873047,201.08575439453125,202.4219970703125,203.3673858642578,203.82980346679688,203.7161102294922,202.9384307861328,201.4223175048828,199.1164093017578,196.00267028808594,192.10491943359375,187.4951629638672,182.29473876953125,176.66983032226562,170.82110595703125,164.96780395507812,159.3286895751953,154.10252380371094,149.45062255859375,145.48472595214844,142.26104736328125,139.78176879882812,138.0024871826172,136.84422302246094,136.20729064941406,135.98484802246094,136.07391357421875,136.38314819335938,136.8365020751953,137.37342834472656,137.9464569091797,138.51730346679688,139.05274963378906,139.52134704589844,139.89126586914062,140.13046264648438,140.2076873779297,140.09494018554688,139.76992797851562,139.21817016601562,138.4344482421875,137.422119140625,136.19122314453125,134.7555389404297,133.12881469726562,131.3217315673828,129.339599609375,127.18145751953125,124.8409194946289,122.30833435058594,119.57386016845703,116.6308822631836,113.47881317138672,110.1255874633789,106.5890884399414,102.89771270751953,99.09032440185547,95.21533203125,91.32888793945312,87.49252319335938,83.76979064941406,80.22224426269531,76.905029296875,73.86323547363281,71.1286392211914,68.71822357177734,66.6341781616211,64.86536407470703,63.39003372192383,62.17921447753906,61.19997024536133,60.41831970214844,59.80143737792969,59.319026947021484,58.94410705566406,58.65330505371094,58.42667770385742,58.24782180786133,58.1035041809082,57.983421325683594,57.880001068115234,57.78809356689453,57.70459747314453,57.62805938720703,57.558414459228516,57.496761322021484,57.44515609741211,57.40644073486328,57.384117126464844,57.38214111328125,57.40449523925781,57.45476531982422,57.5357666015625,57.64923095703125,57.79566192626953,57.97452926635742,58.184574127197266,58.424537658691406,58.69392776489258,58.993587493896484,59.32573318481445,59.69380187988281,60.10174560546875,60.55291748046875,61.04872131347656,61.58757781982422,62.16416549682617,62.76919937133789,63.38996124267578,64.01126098632812,64.61685943603516,65.19087219238281,65.7192153930664,66.19063568115234,66.59732055664062,66.9351806640625,67.203857421875,67.40650939941406,67.54967498779297,67.64337921142578,67.70121002197266,67.74043273925781,67.78199005126953,67.84980773925781,67.96976470947266,68.16776275634766,68.46748352050781,68.88819122314453,69.44304656982422,70.13810729980469,70.97216796875,71.93745422363281,73.02057647705078,74.20365905761719,75.46497344970703,76.77930450439453,78.11823272705078,79.45048522949219,80.7427749633789,81.96134948730469,83.07418060302734,84.05366516113281,84.87914276123047,85.53901672363281,86.0319595336914,86.36712646484375,86.56310272216797,86.64588165283203,86.64629364013672,86.59671020507812,86.52792358398438,86.46607208251953,86.43018341064453],[171.79916381835938,171.98385620117188,172.3428497314453,172.85589599609375,173.4943084716797,174.22314453125,175.00375366210938,175.7971649169922,176.5673065185547,177.2846221923828,177.92926025390625,178.49334716796875,178.98272705078125,179.41700744628906,179.82846069335938,180.25955200195312,180.7589111328125,181.37661743164062,182.15875244140625,183.1425323486328,184.35235595703125,185.7974090576172,187.47119140625,189.3528289794922,191.4091033935547,193.59713745117188,195.86685180664062,198.1627197265625,200.4248809814453,202.5885772705078,204.58364868164062,206.33360290527344,207.75521850585938,208.7589111328125,209.2507781982422,209.13624572753906,208.32630920410156,206.74554443359375,204.34182739257812,201.0968475341797,197.03494262695312,192.22982788085938,186.80625915527344,180.93565368652344,174.8260040283203,168.70558166503906,162.80348205566406,157.32937622070312,152.45510864257812,148.30166625976562,144.9323272705078,142.353515625,140.52175903320312,139.35552978515625,138.74923706054688,138.5872344970703,138.75552368164062,139.1504364013672,139.6833038330078,140.2816925048828,140.8878631591797,141.45550537109375,141.94602966308594,142.3250274658203,142.56004333496094,142.62002563476562,142.47589111328125,142.10238647460938,141.48020935058594,140.5978240966797,139.45297241210938,138.05209350585938,136.40855407714844,134.54000854492188,132.4649200439453,130.19956970214844,127.75605010986328,125.14128875732422,122.35784149169922,119.4059066772461,116.28602600097656,113.00209045410156,109.56350708007812,105.98706817626953,102.29763793945312,98.52808380126953,94.71863555908203,90.91568756103516,87.16996765136719,83.53446960449219,80.06172180175781,76.80061340332031,73.79298400878906,71.0708999633789,68.6543197631836,66.55021667480469,64.75297546386719,63.246009826660156,62.00442886352539,60.99816131591797,60.19492721557617,59.562686920166016,59.07146453857422,58.69424057006836,58.407379150390625,58.19062805175781,58.0267219543457,57.90141296386719,57.803138732910156,57.7228889465332,57.65412521362305,57.59257507324219,57.535953521728516,57.48353576660156,57.43586730957031,57.394508361816406,57.36180114746094,57.340721130371094,57.3348274230957,57.348201751708984,57.38513946533203,57.44989776611328,57.546409606933594,57.67799377441406,57.84712600708008,58.055484771728516,58.30400848388672,58.59330368041992,58.924171447753906,59.29790115356445,59.71620178222656,60.181053161621094,60.694149017333984,61.2560920715332,61.86538314819336,62.517669677734375,63.20527648925781,63.91705322265625,64.63887786865234,65.3544921875,66.04666900634766,66.69853973388672,67.29480743408203,67.82283020019531,68.2733154296875,68.6407241821289,68.9234619140625,69.12385559082031,69.24810028076172,69.30647277832031,69.31346893310547,69.2879638671875,69.25314331054688,69.23583984375,69.26541137695312,69.37169647216797,69.5826644897461,69.922119140625,70.407958984375,71.05110168457031,71.85537719726562,72.81819915771484,73.93140411376953,75.1821517944336,76.55308532714844,78.02210998535156,79.56195831298828,81.13990783691406,82.71815490722656,84.25530242919922,85.70887756347656,87.03878021240234,88.21097564697266,89.20086669921875,89.99578857421875,90.5963134765625,91.01583099365234,91.27876281738281,91.41755676269531,91.46870422363281,91.46842956542969,91.44844818115234,91.43223571777344],[174.7559356689453,174.9595947265625,175.35610961914062,175.9242706298828,176.6336669921875,177.44654846191406,178.3201904296875,179.210205078125,180.0738983154297,180.8743896484375,181.5845489501953,182.19029235839844,182.69325256347656,183.11184692382812,183.4805908203125,183.84765625,184.2704315185547,184.80958557128906,185.52247619628906,186.45684814453125,187.64566040039062,189.1038055419922,190.82725524902344,192.79432678222656,194.9681396484375,197.2998504638672,199.73191833496094,202.20040893554688,204.63690185546875,206.9683837890625,209.11720275878906,211.00054931640625,212.53009033203125,213.61260986328125,214.15174865722656,214.0516815185547,213.22283935546875,211.5899200439453,209.10133361816406,205.73976135253906,201.53118896484375,196.5519256591797,190.93051147460938,184.84368896484375,178.5062255859375,172.15451049804688,166.02659606933594,160.3412628173828,155.27902221679688,150.96812438964844,147.47718811035156,144.81552124023438,142.93968200683594,141.76528930664062,141.18106079101562,141.06301879882812,141.28700256347656,141.7378692626953,142.31517028808594,142.935302734375,143.53094482421875,144.04844665527344,144.4445343017578,144.68292236328125,144.73178100585938,144.56277465820312,144.1509246826172,143.4757843017578,142.5231170654297,141.28619384765625,139.76707458496094,137.97601318359375,135.9298858642578,133.6497344970703,131.15774536132812,128.4745635986328,125.61758422851562,122.60031127929688,119.43305206298828,116.12488555908203,112.68595886230469,109.12991333007812,105.4754409790039,101.74723815917969,97.97602844238281,94.19768524169922,90.4521713256836,86.78206634521484,83.2309341430664,79.8416519165039,76.65451049804688,73.70499420166016,71.02147674560547,68.62345123291016,66.51998901367188,64.70944213867188,63.1800422668457,61.911521911621094,60.8775634765625,60.0485725402832,59.394203186035156,58.885372161865234,58.49562454223633,58.20164489746094,57.983341217041016,57.8235969543457,57.7077522277832,57.623565673828125,57.560970306396484,57.512046813964844,57.47108840942383,57.434513092041016,57.400634765625,57.3692512512207,57.34132766723633,57.318695068359375,57.303794860839844,57.29957962036133,57.30953598022461,57.337772369384766,57.38887023925781,57.46780014038086,57.57976531982422,57.72993087768555,57.923133850097656,58.16375732421875,58.45549774169922,58.80142593383789,59.204124450683594,59.66569137573242,60.187435150146484,60.76968765258789,61.41140365600586,62.10967254638672,62.859100341796875,63.65150451660156,64.47577667236328,65.31795501708984,66.1617660522461,66.98933410644531,67.7822036743164,68.52236938476562,69.19336700439453,69.7812271118164,70.27525329589844,70.66848754882812,70.95811462402344,71.1456069946289,71.2368392944336,71.24243927001953,71.17794036865234,71.06403350830078,70.92642211914062,70.79512786865234,70.70327758789062,70.68495178222656,70.7727279663086,70.99528503417969,71.37566375732422,71.93019104003906,72.66836547851562,73.59358215332031,74.7038345336914,75.99237060546875,77.44734191894531,79.05089569091797,80.7779541015625,82.59516906738281,84.46080017089844,86.32594299316406,88.13739013671875,89.84180450439453,91.39056396484375,92.74452209472656,93.87789154052734,94.7807846069336,95.45963287353516,95.9356460571289,96.24166107177734,96.41734313964844,96.50376892089844,96.53788757324219,96.5475082397461],[176.37380981445312,176.60980224609375,177.0698699951172,177.7303924560547,178.5572509765625,179.50759887695312,180.53211975097656,181.57852172851562,182.59521484375,183.53599548339844,184.3648681640625,185.06024169921875,185.6185760498047,186.0563201904297,186.40965270996094,186.73196411132812,187.08895874023438,187.55181884765625,188.18936157226562,189.06060791015625,190.2083740234375,191.65528869628906,193.4022979736328,195.4297637939453,197.699951171875,200.16050720214844,202.7481231689453,205.39120483398438,208.01246643066406,210.5294647216797,212.855224609375,214.89837646484375,216.56350708007812,217.75204467773438,218.36415100097656,218.30230712890625,217.47674560546875,215.81295776367188,213.26095581054688,209.80551147460938,205.47528076171875,200.34994506835938,194.56231689453125,188.29446411132812,181.76748657226562,175.22500610351562,168.9126434326172,163.05661010742188,157.8440399169922,153.4084930419922,149.82212829589844,147.0955810546875,145.1845703125,144.00143432617188,143.42938232421875,143.3368682861328,143.59048461914062,144.06480407714844,144.64881896972656,145.24896240234375,145.7893524169922,146.2100372314453,146.46409606933594,146.51454162597656,146.3314971923828,145.89083862304688,145.17344665527344,144.1655731201172,142.85987854003906,141.2560272216797,139.3616180419922,137.19149780273438,134.76609802246094,132.1093292236328,129.24603271484375,126.19982147216797,122.99179077148438,119.64031982421875,116.16191864013672,112.57305145263672,108.89213562011719,105.1412582397461,101.34703826904297,97.54068756103516,93.75725555419922,90.0340805053711,86.4092788696289,82.92024993896484,79.60220336914062,76.48717498779297,73.6029281616211,70.9718246459961,68.60951232910156,66.52410888671875,64.7153549194336,63.174720764160156,61.88608932495117,60.827232360839844,59.971927642822266,59.29228210449219,58.76078796386719,58.351898193359375,58.04294967651367,57.81437301635742,57.64945983886719,57.53397750854492,57.455562591552734,57.403663635253906,57.36943054199219,57.34580612182617,57.32771301269531,57.31210708618164,57.29777145385742,57.28492736816406,57.27486038208008,57.26957321166992,57.271514892578125,57.283531188964844,57.308956146240234,57.351871490478516,57.41712188720703,57.510433197021484,57.63840103149414,57.808265686035156,58.027587890625,58.303916931152344,58.644287109375,59.05483627319336,59.54050827026367,60.104671478271484,60.74848175048828,61.470577239990234,62.266780853271484,63.12994384765625,64.04975128173828,65.012939453125,66.00364685058594,67.00384521484375,67.9939956665039,68.95380401611328,69.86300659179688,70.70222473144531,71.45378875732422,72.10254669189453,72.63660430908203,73.04785919189453,73.33255004882812,73.4916000366211,73.5309066772461,73.4617919921875,73.30127716064453,73.07227325439453,72.8034439086914,72.52835845947266,72.28417205810547,72.10940551757812,72.04131317138672,72.11353302001953,72.35428619384766,72.7854232788086,73.4223403930664,74.27477264404297,75.34739685058594,76.64021301269531,78.147705078125,79.85716247558594,81.74666595458984,83.78318786621094,85.92185974121094,88.10694885253906,90.27488708496094,92.35917663574219,94.29627227783203,96.03176879882812,97.52566528320312,98.75623321533203,99.72132873535156,100.43730926513672,100.93573760986328,101.25796508789062,101.44871520996094,101.54920196533203,101.5909423828125],[176.61325073242188,176.89645385742188,177.4488067626953,178.24258422851562,179.2375946044922,180.38299560546875,181.62001037597656,182.8855743408203,184.11669921875,185.25576782226562,186.2562255859375,187.0877685546875,187.74078369140625,188.22897338867188,188.58946228027344,188.88027954101562,189.17486572265625,189.5546112060547,190.09994506835938,190.8818817138672,191.9547119140625,193.35110473632812,195.08006286621094,197.12744140625,199.4581298828125,202.01930236816406,204.74404907226562,207.55426025390625,210.36375427246094,213.07949829101562,215.60324096679688,217.8328094482422,219.66329956054688,220.9888153076172,221.70469665527344,221.7110137939453,220.91773986816406,219.2516326904297,216.66510009765625,213.1459197998047,208.72628784179688,203.48988342285156,197.57415771484375,191.1664581298828,184.49374389648438,177.80592346191406,171.35479736328125,165.372314453125,160.05030822753906,155.52569580078125,151.87234497070312,149.1008758544922,147.16519165039062,145.97409057617188,145.40550231933594,145.3210906982422,145.5793914794922,146.04608154296875,146.60110473632812,147.1423797607422,147.5869140625,147.86972045898438,147.94143676757812,147.76551818847656,147.31524658203125,146.5719757080078,145.52381896972656,144.16517639160156,142.49700927734375,140.52667236328125,138.26837158203125,135.74200439453125,132.97164916992188,129.98361206054688,126.80440521240234,123.45916748046875,119.97112274169922,116.36174011230469,112.65193939208984,108.86383056640625,105.02233123779297,101.15629577636719,97.29850006103516,93.48497009277344,89.75336456298828,86.14091491699219,82.68254852294922,79.40946197509766,76.34801483154297,73.51937103271484,70.93929290771484,68.61804962158203,66.56002807617188,64.76371002197266,63.221412658691406,61.91962432861328,60.83966064453125,59.9588737487793,59.25238037109375,58.694881439208984,58.26226043701172,57.93271255493164,57.687339782714844,57.51003646850586,57.38710021972656,57.30672073364258,57.258365631103516,57.2327766418457,57.22196578979492,57.21947479248047,57.22069549560547,57.22301483154297,57.22562026977539,57.2291374206543,57.23515319824219,57.2458381652832,57.26364517211914,57.2912712097168,57.331878662109375,57.389488220214844,57.469200134277344,57.57753372192383,57.72256088256836,57.91378402709961,58.16177749633789,58.47768783569336,58.87241744995117,59.35578155517578,59.93573760986328,60.61745834350586,61.402339935302734,62.28744125366211,63.265193939208984,64.32354736328125,65.44622802734375,66.61355590820312,67.80338287353516,68.9920425415039,70.15534210205078,71.26937103271484,72.31130981445312,73.25994110107422,74.09632110595703,74.80430603027344,75.3711929321289,75.78823852539062,76.05136108398438,76.16156005859375,76.12548065185547,75.95585632324219,75.67192840576172,75.2995376586914,74.8708724975586,74.4234848022461,73.998779296875,73.63969421386719,73.38797760009766,73.2818603515625,73.35438537597656,73.63247680664062,74.13713073730469,74.88423156738281,75.8851547241211,77.14686584472656,78.67059326171875,80.44943237304688,82.4654541015625,84.6869888305664,87.06717681884766,89.5446548461914,92.04663848876953,94.4944076538086,96.8102035522461,98.92461395263672,100.78319549560547,102.35162353515625,103.61791229248047,104.59188842773438,105.30192565917969,105.78909301757812,106.09983825683594,106.27809143066406,106.35794067382812],[175.50735473632812,175.85264587402344,176.5260467529297,177.49374389648438,178.70677185058594,180.1033172607422,181.6119384765625,183.15591430664062,184.6582489013672,186.04794311523438,187.2664337158203,188.2736053466797,189.0530242919922,189.61502075195312,189.99703979492188,190.26100158691406,190.48753356933594,190.76771545410156,191.1936798095703,191.8491668701172,192.80152893066406,194.09605407714844,195.75306701660156,197.76766967773438,200.11111450195312,202.7334747314453,205.5667266845703,208.52761840820312,211.5211639404297,214.44276428222656,217.18112182617188,219.62088012695312,221.64537048339844,223.13929748535156,223.99163818359375,224.09921264648438,223.3714141845703,221.73655700683594,219.14996337890625,215.6031494140625,211.13247680664062,205.8260955810547,199.82623291015625,193.32530212402344,186.5555419921875,179.77206420898438,173.23155212402344,167.169921875,161.78196716308594,157.20611572265625,153.51638793945312,150.72216796875,148.77481079101562,147.57937622070312,147.00889587402344,146.9191131591797,147.16172790527344,147.5951385498047,148.0918426513672,148.54295349121094,148.8599395751953,148.97421264648438,148.835205078125,148.4078369140625,147.6694793701172,146.60784912109375,145.21914672851562,143.5067901611328,141.48095703125,139.1575927734375,136.55812072753906,133.70797729492188,130.63490295410156,127.36722564697266,123.93228912353516,120.35565185546875,116.6611328125,112.8716812133789,109.01082611083984,105.10445404052734,101.18211364746094,97.2774429321289,93.42749786376953,89.67118072509766,86.04705047607422,82.5907211303711,79.3328628540039,76.2978744506836,73.50325012207031,70.9598617553711,68.672607421875,66.64122772216797,64.86072540283203,63.32199478149414,62.01195526123047,60.913997650146484,60.00849151611328,59.273685455322266,58.686973571777344,58.22624588012695,57.87102508544922,57.60320281982422,57.4073600769043,57.27042770385742,57.18115234375,57.129573822021484,57.1064567565918,57.10334777832031,57.11277770996094,57.12862014770508,57.146583557128906,57.16440963745117,57.18170928955078,57.199527740478516,57.219825744628906,57.2449836730957,57.27750778198242,57.319984436035156,57.37541198730469,57.44776153564453,57.542388916015625,57.66661071777344,57.83004379272461,58.04457092285156,58.32400131225586,58.68342208862305,59.13808059692383,59.70205307006836,60.386940002441406,61.20037841796875,62.14447784423828,63.21498107910156,64.40082550048828,65.68451690673828,67.0428466796875,68.44830322265625,69.8708267211914,71.27933502197266,72.64330291748047,73.93382263183594,75.12442016601562,76.1915054321289,77.11470031738281,77.87712097167969,78.46578216552734,78.87210083007812,79.09256744384766,79.12933349609375,78.99082946777344,78.69235229492188,78.25639343261719,77.71266174316406,77.09761810302734,76.4532241821289,75.82526397705078,75.26083374023438,74.80562591552734,74.5016860961914,74.38589477539062,74.48931121826172,74.83757781982422,75.45198822021484,76.35002899169922,77.54535675048828,79.04597473144531,80.85115051269531,82.94769287109375,85.30635070800781,87.87974548339844,90.60256958007812,93.39469909667969,96.16708374023438,98.82942199707031,101.29855346679688,103.50630187988281,105.4056625366211,106.97400665283203,108.21308135986328,109.14598083496094,109.81107330322266,110.25415802001953,110.51974487304688,110.6429214477539],[173.1511688232422,173.5719757080078,174.39224243164062,175.57008361816406,177.0451202392578,178.74151611328125,180.5721435546875,182.44378662109375,184.26319885253906,185.94424438476562,187.41519165039062,188.62545776367188,189.55126953125,190.19918823242188,190.60647583007812,190.83834838867188,190.98190307617188,191.13751220703125,191.40887451171875,191.89315795898438,192.67227172851562,193.80650329589844,195.33070373535156,197.25282287597656,199.5542449951172,202.19114685058594,205.096923828125,208.18460083007812,211.35067749023438,214.478271484375,217.44140625,220.1096649169922,222.35243225097656,224.0431671142578,225.0630340576172,225.30470275878906,224.67666625976562,223.1088409423828,220.559814453125,217.02525329589844,212.54612731933594,207.2152099609375,201.17945861816406,194.6359100341797,187.8212432861328,180.99468994140625,174.4163360595703,168.3245849609375,162.91546630859375,158.32749938964844,154.63352966308594,151.84080505371094,149.89764404296875,148.70538330078125,148.13267517089844,148.03021240234375,148.2442626953125,148.6273651123047,149.04638671875,149.3873291015625,149.55775451660156,149.48684692382812,149.1239776611328,148.4363250732422,147.40594482421875,146.02723693847656,144.30479431152344,142.25135803222656,139.88665771484375,137.23558044433594,134.32716369628906,131.19268798828125,127.86360168457031,124.37004089355469,120.73973083496094,116.99774169921875,113.16739654541016,109.27169799804688,105.335205078125,101.38583374023438,97.45584106445312,93.5816879272461,89.802734375,86.15885925292969,82.6878433227539,79.4223861694336,76.38807678222656,73.60228729248047,71.07402801513672,68.80488586425781,66.7903823852539,65.0216064453125,63.48625946044922,62.169734954833984,61.05550765991211,60.12559509277344,59.360816955566406,58.741355895996094,58.24755859375,57.860836029052734,57.56438064575195,57.34358215332031,57.18607711791992,57.08127975463867,57.019798278808594,56.992881774902344,56.99202346801758,57.00910949707031,57.036800384521484,57.06907653808594,57.10182571411133,57.133121490478516,57.16301727294922,57.19306945800781,57.2256965637207,57.26361083984375,57.309452056884766,57.36577224731445,57.435455322265625,57.52245330810547,57.632381439208984,57.77337646484375,57.95660400390625,58.196380615234375,58.509883880615234,58.916378021240234,59.43582534790039,60.087074279785156,60.885982513427734,61.84326934814453,62.962371826171875,64.23806762695312,65.65586853027344,67.19243621826172,68.81675720214844,70.49221801757812,72.17914581298828,73.83722686767578,75.42777252197266,76.915283203125,78.26847839355469,79.46064758300781,80.46979522705078,81.27855682373047,81.8743896484375,82.2498550415039,82.40325927734375,82.33924865722656,82.06952667236328,81.61334228515625,80.99779510498047,80.2575912475586,79.43428039550781,78.57463836669922,77.72877502441406,76.94744110107422,76.27933502197266,75.7690200805664,75.45574188232422,75.37312316894531,75.54998016357422,76.01163482666016,76.7806396484375,77.8765869140625,79.31391906738281,81.09817504882812,83.22150421142578,85.65824890136719,88.3621597290039,91.26616668701172,94.28529357910156,97.32283782958984,100.27848815917969,103.05756378173828,105.57963562011719,107.78571319580078,109.64216613769531,111.14138793945312,112.29907989501953,113.1483383178711,113.73152923583984,114.09124755859375,114.26165771484375],[169.68557739257812,170.1924591064453,171.17971801757812,172.5956268310547,174.36598205566406,176.39828491210938,178.58702087402344,180.82015991210938,182.98635864257812,184.9831085205078,186.72482299804688,188.150146484375,189.22792053222656,189.9608154296875,190.38568115234375,190.57054138183594,190.6083984375,190.6083984375,190.68572998046875,190.95132446289062,191.5029296875,192.41783142089844,193.74806213378906,195.51760864257812,197.72109985351562,200.32373046875,203.2624969482422,206.44808959960938,209.76890563964844,213.09530639648438,216.28565979003906,219.19288635253906,221.67095947265625,223.5806121826172,224.79408264160156,225.19912719726562,224.70298767089844,223.2371368408203,220.76356506347656,217.28231811523438,212.83905029296875,207.53109741210938,201.50970458984375,194.97584533691406,188.16969299316406,181.3533172607422,174.7888641357422,168.71572875976562,163.3298797607422,158.76870727539062,155.10305786132812,152.3374786376953,150.41709899902344,149.2397918701172,148.6703643798828,148.5554962158203,148.73715209960938,149.0636444091797,149.39773559570312,149.62197875976562,149.6415252685547,149.3845977783203,148.8013916015625,147.86183166503906,146.55279541015625,144.87525939941406,142.8419189453125,140.47451782226562,137.80215454101562,134.85861206054688,131.6806640625,128.30551147460938,124.76852416992188,121.10166931152344,117.33283233642578,113.4862060546875,109.5838623046875,105.64787292480469,101.7025146484375,97.77616882324219,93.90206146240234,90.11761474609375,86.46255493164062,82.97599029541016,79.69338989257812,76.64346313476562,73.84613800048828,71.31183624267578,69.04176330566406,67.02946472167969,65.26275634765625,63.726009368896484,62.40168762207031,61.271629333496094,60.3176383972168,59.521812438964844,58.86654281616211,58.334712982177734,57.91006088256836,57.57766342163086,57.324283599853516,57.13849639892578,57.01054763793945,56.93177032470703,56.89400100708008,56.88911056518555,56.90876388549805,56.9447135925293,56.989418029785156,57.03675079345703,57.08266067504883,57.12555694580078,57.165992736816406,57.20613098144531,57.24897003173828,57.297664642333984,57.355125427246094,57.4239616394043,57.50703048706055,57.608306884765625,57.73371124267578,57.89216995239258,58.096378326416016,58.36307144165039,58.71281433105469,59.169158935546875,59.75700759887695,60.500362396240234,61.41983413696289,62.52983856201172,63.83571243286133,65.33175659179688,67.0002212524414,68.81177520751953,70.72693634033203,72.69883728027344,74.67670440673828,76.6092529296875,78.44784545898438,80.14878845214844,81.67472076416016,82.99507141113281,84.08597564697266,84.92994689941406,85.51563262939453,85.83792114257812,85.89839935302734,85.70584869384766,85.27690887451172,84.63650512695312,83.81779479980469,82.86170959472656,81.81565856933594,80.7315673828125,79.66358184814453,78.66529846191406,77.7870864868164,77.07433319091797,76.56670379638672,76.29833221435547,76.29920959472656,76.596923828125,77.21757507324219,78.18560028076172,79.5212173461914,81.23616790771484,83.32843017578125,85.77711486816406,88.53893280029297,91.5474853515625,94.71588897705078,97.9429702758789,101.1216812133789,104.1486587524414,106.93347930908203,109.40641021728516,111.52301788330078,113.265380859375,114.63994598388672,115.67190551757812,116.39740753173828,116.85445404052734,117.07424926757812],[165.27911376953125,165.8785400390625,167.0449676513672,168.71539306640625,170.7999725341797,173.1874542236328,175.7519989013672,178.36106872558594,180.8841094970703,183.2015838623047,185.21389770507812,186.84915161132812,188.06915283203125,188.87294006347656,189.2969970703125,189.4119415283203,189.3162841796875,189.12747192382812,188.9718475341797,188.9743194580078,189.24911499023438,189.8918914794922,190.97377014160156,192.5369415283203,194.59164428710938,197.11419677734375,200.0469512939453,203.29937744140625,206.75233459472656,210.26341247558594,213.67481994628906,216.82217407226562,219.54310607910156,221.68490600585938,223.11021423339844,223.701416015625,223.3642120361328,222.03155517578125,219.6688232421875,216.28033447265625,211.91622924804688,206.67800903320312,200.72055053710938,194.247802734375,187.50225830078125,180.74755859375,174.24649047851562,168.23828125,162.9177703857422,158.42047119140625,154.8147735595703,152.10235595703125,150.2253875732422,149.07862854003906,148.52378845214844,148.4044189453125,148.5594024658203,148.83407592773438,149.08856201171875,149.203369140625,149.08251953125,148.65426635742188,147.87017822265625,146.70318603515625,145.14462280273438,143.20155334472656,140.89393615722656,138.2518310546875,135.31301879882812,132.1197967529297,128.71649169921875,125.1463394165039,121.44880676269531,117.65792083740234,113.8019027709961,109.90401458740234,105.98480224609375,102.06475830078125,98.16691589355469,94.3188705444336,90.55327606201172,86.90679931640625,83.41785430908203,80.12316131591797,77.05460357666016,74.23601531982422,71.68138885498047,69.39446258544922,67.3695297241211,65.59339904785156,64.04788970947266,62.7125358581543,61.566375732421875,60.58944320678711,59.763328552246094,59.07136154174805,58.49833297729492,58.030338287353516,57.654754638671875,57.36033630371094,57.13723373413086,56.97687911987305,56.87166976928711,56.81433868408203,56.79738998413086,56.81275939941406,56.85179138183594,56.905696868896484,56.96643829345703,57.02760696411133,57.085147857666016,57.13779830932617,57.18667984008789,57.23466110229492,57.28544616699219,57.34275817871094,57.409889221191406,57.4896354675293,57.58491897583008,57.699806213378906,57.84053421020508,58.016822814941406,58.24281692504883,58.537567138671875,58.9249382019043,59.43272018432617,60.09080505371094,60.92853927612305,61.97163772583008,63.23867416381836,64.73743438720703,66.46223449707031,68.39241790771484,70.49266052246094,72.71465301513672,75.00050354003906,77.28713989257812,79.51083374023438,81.61148834228516,83.53573608398438,85.2389907836914,86.68606567382812,87.85105895996094,88.7166519165039,89.27355194091797,89.52023315429688,89.46311950683594,89.11688232421875,88.50493621826172,87.6595230102539,86.62142181396484,85.43887329101562,84.16582489013672,82.8593978881836,81.57728576660156,80.37478637695312,79.30233001708984,78.40409088134766,77.71788024902344,77.27599334716797,77.10731506347656,77.23960876464844,77.7008056640625,78.5188217163086,79.71887969970703,81.31863403320312,83.32235717773438,85.71501159667969,88.45813751220703,91.48854064941406,94.72052764892578,98.05195617675781,101.37254333496094,104.57354736328125,107.55720520019531,110.24481201171875,112.5817642211914,114.53935241699219,116.11321258544922,117.31842041015625,118.18224334716797,118.7356185913086,119.00483703613281],[160.1112823486328,160.8048095703125,162.153076171875,164.08096313476562,166.4818115234375,169.22447204589844,172.16168212890625,175.1396942138672,178.00831604003906,180.631103515625,182.89495849609375,184.7181396484375,186.05616760253906,186.9051513671875,187.30152893066406,187.31863403320312,187.06016540527344,186.6514434814453,186.22955322265625,185.93310546875,185.89285278320312,186.22325134277344,187.01531982421875,188.33055114746094,190.19595336914062,192.60023498535156,195.49208068847656,198.78070068359375,202.3400421142578,206.015380859375,209.633056640625,213.01148986816406,215.9721221923828,218.3487091064453,219.99424743652344,220.78570556640625,220.62713623046875,219.45278930664062,217.2312469482422,213.97079467773438,209.72560119628906,204.60057067871094,198.7532958984375,192.38958740234375,185.7529296875,179.10719299316406,172.71463012695312,166.81324768066406,161.59603881835938,157.19625854492188,153.67979431152344,151.04571533203125,149.23361206054688,148.1357879638672,147.61158752441406,147.50233459472656,147.64480590820312,147.8824462890625,148.0739288330078,148.0988311767578,147.86099243164062,147.28936767578125,146.33724975585938,144.98031616210938,143.2139129638672,141.05018615722656,138.51536560058594,135.64671325683594,132.48977661132812,129.09469604492188,125.5130615234375,121.7940902709961,117.98157501220703,114.11199951171875,110.21430206298828,106.31111145019531,102.42146301269531,98.56399536132812,94.75988006591797,91.034912109375,87.41987609863281,83.94926452636719,80.65864562988281,77.5810546875,74.74372100830078,72.1650390625,69.85298156738281,67.80509948730469,66.00969696044922,64.44824981689453,63.09812545776367,61.93568801879883,60.93817138671875,60.08518981933594,59.359249114990234,58.74574661254883,58.2324104309082,57.80884552001953,57.466148376464844,57.19666290283203,56.993717193603516,56.85127639770508,56.763492584228516,56.72405242919922,56.725650787353516,56.759830474853516,56.817203521728516,56.888126373291016,56.96383285522461,57.037498474121094,57.10503005981445,57.165504455566406,57.22068786621094,57.27423095703125,57.33063507080078,57.39430236816406,57.46902847290039,57.55788803100586,57.663978576660156,57.79152297973633,57.947113037109375,58.141204833984375,58.389286041259766,58.71255111694336,59.137916564941406,59.69720458984375,60.425148010253906,61.356388092041016,62.521854400634766,63.944576263427734,65.63518524169922,67.58851623535156,69.78142547607422,72.17285919189453,74.70570373535156,77.31068420410156,79.91175842285156,82.43182373046875,84.79818725585938,86.94673919677734,88.8247299194336,90.39181518554688,91.619873046875,92.49214935302734,93.0022201538086,93.15338134765625,92.95841979980469,92.4395980834961,91.6287841796875,90.56713104248047,89.30425262451172,87.89659118652344,86.40495300292969,84.8914566040039,83.41650390625,82.03575897216797,80.79786682128906,79.74359893798828,78.90652465820312,78.31466674804688,77.99345397949219,77.96869659423828,78.26834869384766,78.92244720458984,79.9603042602539,81.40522003173828,83.26805877685547,85.54070281982422,88.19123077392578,91.1620864868164,94.37175750732422,97.72048950195312,101.09827423095703,104.39431762695312,107.50635528564453,110.34871673583984,112.85768127441406,114.99375915527344,116.74080657958984,118.10208892822266,119.09394836425781,119.7381820678711,120.05453491210938],[154.35897827148438,155.14295959472656,156.6656036376953,158.83946228027344,161.54087829589844,164.6186065673828,167.90399169921875,171.22230529785156,174.40428161621094,177.2974090576172,179.77618408203125,181.75021362304688,183.16998291015625,184.02963256835938,184.36627197265625,184.25616455078125,183.80810546875,183.15487670898438,182.4435577392578,181.82577514648438,181.44805908203125,181.44308471679688,181.9213104248047,182.9633331298828,184.61293029785156,186.871337890625,189.69403076171875,192.9905242919922,196.62867736816406,200.44241333007812,204.2432861328125,207.8336639404297,211.0196990966797,213.62249755859375,215.48597717285156,216.4819793701172,216.51300048828125,215.5144500732422,213.4577178955078,210.35458374023438,206.26243591308594,201.28872680664062,195.59255981445312,189.38031005859375,182.89511108398438,176.39971923828125,170.15480041503906,164.39627075195312,159.3148956298828,155.04164123535156,151.64015197753906,149.107421875,147.38111877441406,146.3518524169922,145.87738037109375,145.79754638671875,145.9478759765625,146.17080688476562,146.3243865966797,146.28805541992188,145.96615600585938,145.28868103027344,144.21063232421875,142.7101287841797,140.7857208251953,138.45361328125,135.74513244628906,132.7035369873047,129.38107299804688,125.83490753173828,122.12342071533203,118.30171203613281,114.41807556152344,110.51188659667969,106.61327362060547,102.74466705322266,98.92385864257812,95.1676025390625,91.49478149414062,87.92862701416016,84.49703216552734,81.23108673095703,78.16233825683594,75.31905364990234,72.72310638427734,70.38711547851562,68.31322479248047,66.49339294433594,64.91097259521484,63.54339599609375,62.36503601074219,61.35049057006836,60.47648239135742,59.72327423095703,59.0750732421875,58.519874572753906,58.04862594604492,57.654518127441406,57.33232116699219,57.07781219482422,56.88726806640625,56.75689697265625,56.682289123535156,56.65771484375,56.67570495605469,56.72708511352539,56.80143356323242,56.88803482055664,56.97725296020508,57.061771392822266,57.137451171875,57.203739166259766,57.26307678222656,57.319969177246094,57.37976837158203,57.44762420654297,57.52791976928711,57.62409973144531,57.73951721191406,57.87861633300781,58.04835891723633,58.25986862182617,58.52981185913086,58.88124084472656,59.34379577636719,59.952919006347656,60.7477912902832,61.76805877685547,63.04969787597656,64.62022399902344,66.49335479736328,68.66484069824219,71.10955810546875,73.78125762939453,76.61441040039062,79.52860260009766,82.43479919433594,85.24225616455078,87.865234375,90.22831726074219,92.27011108398438,93.94480895996094,95.22207641601562,96.08607482910156,96.53401947021484,96.57511138916016,96.2298355102539,95.5294418334961,94.51560974121094,93.23954772949219,91.76054382324219,90.14360809326172,88.45631408691406,86.76516723632812,85.1322021484375,83.61189270019531,82.24923706054688,81.0794677734375,80.129638671875,79.42121124267578,78.97399139404297,78.80988311767578,78.95520782470703,79.44084167480469,80.29935455322266,81.55939483642578,83.23868560791016,85.33688354492188,87.83014678955078,90.66863250732422,93.77760314941406,97.06267547607422,100.41722106933594,103.7314224243164,106.9011459350586,109.83587646484375,112.4640884399414,114.73599243164062,116.62342834472656,118.1169204711914,119.22061920166016,119.94586944580078,120.30474090576172],[148.1878204345703,149.05340576171875,150.73301696777344,153.12734985351562,156.096435546875,159.46987915039062,163.05873107910156,166.66859436035156,170.11260986328125,173.22386169433594,175.86610412597656,177.9420166015625,179.39854431152344,180.22914123535156,180.4724884033203,180.20822143554688,179.55015563964844,178.637939453125,177.6277618408203,176.68283081054688,175.96395874023438,175.62037658691406,175.7803192138672,176.5419921875,177.96473693847656,180.0615234375,182.79444885253906,186.0736846923828,189.76205444335938,193.6836700439453,197.63714599609375,201.4107666015625,204.79734802246094,207.6068878173828,209.67543029785156,210.870361328125,211.0928497314453,210.2793426513672,208.40359497070312,205.48007202148438,201.5685272216797,196.7777557373047,191.2671356201172,185.24221801757812,178.94436645507812,172.63401794433594,166.5691680908203,160.9831085205078,156.0641326904297,151.94110107421875,148.67596435546875,146.26434326171875,144.64285278320312,143.70115661621094,143.29623413085938,143.26718139648438,143.44891357421875,143.6835479736328,143.82907104492188,143.76531982421875,143.39743041992188,142.65658569335938,141.49932861328125,139.90570068359375,137.87669372558594,135.43157958984375,132.60562133789062,129.44692993164062,126.0133285522461,122.36821746826172,118.57613372802734,114.69778442382812,110.78604888916016,106.88345336914062,103.02178192138672,99.22371673583984,95.50611114501953,91.88386535644531,88.37334442138672,84.99463653564453,81.77193450927734,78.73197937011719,75.90138244628906,73.30294799804688,70.9527587890625,68.85765075683594,67.0143051147461,65.40988159179688,64.02383422851562,62.83074951171875,61.80328369140625,60.915443420410156,60.14441680908203,59.471858978271484,58.884178161621094,58.3721923828125,57.93012237548828,57.55466842651367,57.244083404541016,56.99736785888672,56.813499450683594,56.69068145751953,56.62568664550781,56.61313247680664,56.64514923095703,56.711631774902344,56.80097961425781,56.90129852294922,57.00203323364258,57.09537124633789,57.17713928222656,57.2471809387207,57.30863952636719,57.36687469482422,57.42811584472656,57.4982795715332,57.58237075805664,57.68427276611328,57.80764389038086,57.95719909667969,58.14023971557617,58.36846923828125,58.65950393676758,59.03791046142578,59.535552978515625,60.190921783447266,61.04703903198242,62.14796829223633,63.53428268432617,65.23772430419922,67.27510070800781,69.64335632324219,72.31595611572266,75.2421875,78.34898376464844,81.54562377929688,84.73082733154297,87.80076599121094,90.656982421875,93.21294403076172,95.39867401123047,97.1629638671875,98.47348022460938,99.31568145751953,99.69104766845703,99.61551666259766,99.11820220947266,98.24026489257812,97.03398895263672,95.56117248535156,93.89093017578125,92.09660339355469,90.25189208984375,88.42668151855469,86.68329620361328,85.07345581054688,83.63671875,82.4009017944336,81.3846206665039,80.60090637207031,80.06214904785156,79.78474426269531,79.79200744628906,80.1146240234375,80.7877197265625,81.84501647949219,83.3113021850586,85.19473266601562,87.48070526123047,90.12874603271484,93.07292938232422,96.22650146484375,99.4886703491211,102.75297546386719,105.91568756103516,108.88330841064453,111.57799530029297,113.94061279296875,115.9314193725586,117.52823638916016,118.72270202636719,119.51527404785156,119.90994262695312],[141.74745178222656,142.68113708496094,144.4913330078125,147.0679931640625,150.25648498535156,153.86920166015625,157.69915771484375,161.5345916748047,165.1735076904297,168.43687438964844,171.18002319335938,173.30072021484375,174.74424743652344,175.50477600097656,175.62356567382812,175.18406677246094,174.30499267578125,173.132080078125,171.8292236328125,170.56935119628906,169.52513122558594,168.85964965820312,168.71620178222656,169.20791625976562,170.407470703125,172.33810424804688,174.96778869628906,178.20773315429688,181.9169464111328,185.9117889404297,189.98056030273438,193.90028381347656,197.45309448242188,200.44017028808594,202.69131469726562,204.0704803466797,204.47789001464844,203.85086059570312,202.16493225097656,199.43646240234375,195.72642517089844,191.14378356933594,185.84674072265625,180.03857421875,173.95753479003906,167.86050415039062,162.0019073486328,156.61187744140625,151.8761444091797,147.9217987060547,144.80972290039062,142.5349884033203,141.0340576171875,140.196533203125,139.8793487548828,139.92153930664062,140.15805053710938,140.4311065673828,140.5990447998047,140.5424041748047,140.16722106933594,139.40582275390625,138.21603393554688,136.57936096191406,134.49855041503906,131.9951171875,129.1072998046875,125.88700103759766,122.39671325683594,118.705078125,114.88211822509766,110.99369812011719,107.0970687866211,103.23796844482422,99.45008850097656,95.75662994384766,92.17376708984375,88.71459197998047,85.39274597167969,82.22474670410156,79.23049926757812,76.43171691894531,73.8495101928711,71.50082397460938,69.39588165283203,67.53600311279297,65.91302490234375,64.51017761230469,63.30409622192383,62.26765823364258,61.37289047241211,60.594139099121094,59.9097785949707,59.303321838378906,58.763587951660156,58.28422927856445,57.86259460449219,57.49863815307617,57.19382095336914,56.95008850097656,56.768863677978516,56.65011978149414,56.59162139892578,56.588191986083984,56.63145446777344,56.71030044555664,56.81195068359375,56.92333984375,57.03303909301758,57.1328010559082,57.21845245361328,57.29024887084961,57.352027893066406,57.409976959228516,57.471160888671875,57.54222869873047,57.6287956237793,57.73520278930664,57.86543655395508,58.024478912353516,58.21994400024414,58.46394348144531,58.7747802734375,59.17809295654297,59.70737838745117,60.4034309387207,61.31228256225586,62.48158264160156,63.95575714111328,65.77021789550781,67.94463348388672,70.47726440429688,73.34072875976562,76.48082733154297,79.81820678710938,83.25333404541016,86.67422485351562,89.96539306640625,93.01689147949219,95.7320556640625,98.03303527832031,99.86376953125,101.19035339355469,101.99996185302734,102.29875183105469,102.10987854003906,101.47148132324219,100.4349365234375,99.06314849853516,97.42823028564453,95.60853576660156,93.6847915649414,91.73560333251953,89.83283233642578,88.03759765625,86.39734649658203,84.94470977783203,83.69864654541016,82.66795349121094,81.85588073730469,81.26619720458984,80.90863800048828,80.80253601074219,80.97756958007812,81.4709243774414,82.32122039794922,83.5604476928711,85.2057876586914,87.25271606445312,89.6712646484375,92.4056396484375,95.37823486328125,98.49563598632812,101.6563720703125,104.7586669921875,107.70757293701172,110.42033386230469,112.82978820800781,114.88573455810547,116.5542221069336,117.81513214111328,118.65853118896484,119.0806655883789],[135.1700439453125,136.1544647216797,138.0614013671875,140.7718505859375,144.11891174316406,147.90069580078125,151.8953399658203,155.87705993652344,159.6318817138672,162.9717559814453,165.7462615966797,167.85073852539062,169.230712890625,169.88259887695312,169.85116577148438,169.22401428222656,168.12435913085938,166.7030029296875,165.1297149658203,163.5845489501953,162.2489776611328,161.29635620117188,160.88133239746094,161.1284637451172,162.120849609375,163.8898468017578,166.4084014892578,169.58908081054688,173.28866577148438,177.31834411621094,181.45933532714844,185.48085021972656,189.1576385498047,192.28485107421875,194.68809509277344,196.22911071777344,196.80767822265625,196.36184692382812,194.8683319091797,192.34442138671875,188.85116577148438,184.4962921142578,179.43548583984375,173.86825561523438,168.02835083007812,162.16786193847656,156.53675842285156,151.36148071289062,146.8251495361328,143.05337524414062,140.10659790039062,137.980224609375,136.6114044189453,135.89060974121094,135.67555236816406,135.80589294433594,136.1171112060547,136.4520263671875,136.6696319580078,136.6512908935547,136.30404663085938,135.5612335205078,134.38172912597656,132.74815368652344,130.6645050048828,128.1539764404297,125.25703430175781,122.0285873413086,118.53483581542969,114.84878540039062,111.0450439453125,107.19392395019531,103.35652923583984,99.58157348632812,95.90455627441406,92.34925842285156,88.93120574951172,85.66168212890625,82.55144500732422,79.61314392089844,76.8619613647461,74.31425476074219,71.98534393310547,69.88630676269531,68.0217514038086,66.38802337646484,64.97291564941406,63.75672912597656,62.714332580566406,61.81795120239258,61.03989028930664,60.35557556152344,59.74504852294922,59.19390869140625,58.69338607788086,58.23978805541992,57.833274841308594,57.47669982910156,57.17435836791992,56.9307975769043,56.74959945678711,56.63230895996094,56.577545166015625,56.58026123046875,56.631591796875,56.71949768066406,56.830108642578125,56.949344635009766,57.065025329589844,57.16857147216797,57.25588607788086,57.327632904052734,57.3883056640625,57.4448356628418,57.50503158569336,57.57618713378906,57.66448974609375,57.77467727661133,57.911067962646484,58.07886505126953,58.285888671875,58.54448699951172,58.873313903808594,59.29856872558594,59.85469055175781,60.583919525146484,61.53428649902344,62.75596618652344,64.2962417602539,66.19339752197266,68.4694595336914,71.12401580810547,74.1293716430664,77.42894744873047,80.93877410888672,84.55257415771484,88.14988708496094,91.60587310791016,94.80123901367188,97.63092041015625,100.01062774658203,101.88046264648438,103.20561218261719,103.97538757324219,104.20085906982422,103.9123764038086,103.15692901611328,101.9956283569336,100.50122833251953,98.75504302978516,96.84322357177734,94.85224914550781,92.86390686035156,90.9503402709961,89.169921875,87.56449890136719,86.15870666503906,84.96174621582031,83.97183227539062,83.18180084228516,82.58609771728516,82.18718719482422,81.9997787475586,82.05204772949219,82.38289642333984,83.03565979003906,84.0497055053711,85.4515609741211,87.24734497070312,89.4182357788086,91.91925048828125,94.6826171875,97.62297821044922,100.64451599121094,103.64823150634766,106.53870391845703,109.2294921875,111.64685821533203,113.73179626464844,115.44033813476562,116.74224090576172,117.61862182617188,118.05902862548828],[128.57022094726562,129.5851593017578,131.54954528808594,134.33763122558594,137.7733154296875,141.64414978027344,145.7173614501953,149.75726318359375,153.54177856445312,156.87745666503906,159.61129760742188,161.6387481689453,162.90760803222656,163.41798400878906,163.2188720703125,162.40208435058594,161.0946807861328,159.45098876953125,157.6443634033203,155.85897827148438,154.28128051757812,153.09075927734375,152.44908142089844,152.48814392089844,153.2980499267578,154.9159698486328,157.31881713867188,160.4209747314453,164.07887268066406,168.1014862060547,172.26669311523438,176.33984375,180.09205627441406,183.3155517578125,185.83404541015625,187.50851440429688,188.2388458251953,187.96368408203125,186.66033935546875,184.34603881835938,181.08065795898438,176.96939086914062,172.1638641357422,166.85841369628906,161.2808074951172,155.67710876464844,150.29183959960938,145.34710693359375,141.02322387695312,137.4445343017578,134.6715545654297,132.70077514648438,131.47096252441406,130.8743438720703,130.77024841308594,130.99978637695312,131.39959716796875,131.8135528564453,132.10169982910156,132.14639282226562,131.855712890625,131.1639862060547,130.03103637695312,128.44036865234375,126.39701843261719,123.92550659179688,121.06800079345703,117.88176727294922,114.43587493896484,110.80667114257812,107.07231903076172,103.30654907226562,99.57350158691406,95.92418670654297,92.39551544189453,89.01162719726562,85.7872543334961,82.73175811767578,79.85286712646484,77.15918731689453,74.66102600097656,72.36927795410156,70.29354858398438,68.43934631347656,66.80622100830078,65.3863296508789,64.16436767578125,63.11876678466797,62.22365951538086,61.451560974121094,60.77584457397461,60.17354202270508,59.626651763916016,59.12291717529297,58.655818939208984,58.223995208740234,57.82999038696289,57.479103088378906,57.17801284790039,56.9334716796875,56.75092315673828,56.63325881958008,56.579856872558594,56.5858039855957,56.64183044433594,56.73514938354492,56.851009368896484,56.97454071044922,57.0930290222168,57.19770431518555,57.28461837768555,57.35485076904297,57.4134521484375,57.46800231933594,57.52690505981445,57.59797668457031,57.6878547668457,57.80162811279297,57.943851470947266,58.11988067626953,58.33760452270508,58.609378814697266,58.95382308959961,59.39715576171875,59.974002838134766,60.72709274291992,61.705345153808594,62.96024703979492,64.5407485961914,66.48698425292969,68.82268524169922,71.54859924316406,74.6372299194336,78.03083801269531,81.64278411865234,85.36251831054688,89.06404113769531,92.61612701416016,95.89299774169922,98.78372955322266,101.19959259033203,103.07827758789062,104.38497924804688,105.11153411865234,105.27388000488281,104.90911865234375,104.07225799560547,102.83291625976562,101.27214050292969,99.47852325439453,97.54388427734375,95.55826568603516,93.60450744628906,91.7531967163086,90.05851745605469,88.55570983886719,87.26081085205078,86.17298889160156,85.27977752685547,84.56351470947266,84.00926208496094,83.61194610595703,83.38139343261719,83.34392547607422,83.53987884521484,84.01725769042969,84.82283782958984,85.99274444580078,87.5440673828125,89.46939086914062,91.7347640991211,94.28219604492188,97.03424835205078,99.90061950683594,102.78506469726562,105.5920639038086,108.23235321044922,110.62704467773438,112.71028137207031,114.43032836914062,115.74920654296875,116.64118957519531,117.09073638916016],[122.04549407958984,123.06897735595703,125.0482177734375,127.85327911376953,131.30242919921875,135.17686462402344,139.23757934570312,143.2436065673828,146.9692840576172,150.21969604492188,152.84263610839844,154.73638916015625,155.85293579101562,156.19723510742188,155.82298278808594,154.8258514404297,153.33560180664062,151.5082244873047,149.5178985595703,147.54937744140625,145.79002380371094,144.4208526611328,143.6058807373047,143.48008728027344,144.1370086669922,145.6172332763672,147.9007568359375,150.90443420410156,154.4864501953125,158.45693969726562,162.5944061279297,166.6645965576172,170.43894958496094,173.71011352539062,176.30239868164062,178.07748413085938,178.93606567382812,178.81732177734375,177.69854736328125,175.595947265625,172.56707763671875,168.71319580078125,164.18045043945312,159.15640258789062,153.8614044189453,148.53407287597656,143.41229248046875,138.7130889892578,134.61346435546875,131.2364959716797,128.64309692382812,126.83147430419922,125.74285125732422,125.27214813232422,125.28132629394531,125.61380004882812,126.10823822021484,126.61022186279297,126.98129272460938,127.10518646240234,126.89118957519531,126.27472686767578,125.2165756225586,123.70115661621094,121.73450469970703,119.34227752685547,116.56803131103516,113.47077178955078,110.12157440185547,106.59902954101562,102.98358154296875,99.35111236572266,95.7676010131836,92.28540802001953,88.94210815429688,85.76171875,82.75790405273438,79.93791961669922,77.3063735961914,74.86781311035156,72.62772369384766,70.59172821044922,68.76410675048828,67.14537811279297,65.73084259033203,64.50941467285156,63.463768005371094,62.57150650024414,61.80701446533203,61.14392852783203,60.55730438232422,60.02616500854492,59.53460693359375,59.072418212890625,58.635066986083984,58.22309875488281,57.84096145629883,57.495872497558594,57.19640350341797,56.951080322265625,56.766868591308594,56.64779281616211,56.593894958496094,56.600440979003906,56.65790557861328,56.752994537353516,56.8703727722168,56.99467849731445,57.1129035949707,57.21627426147461,57.30107116699219,57.36875534057617,57.42485809326172,57.47743606567383,57.53533172607422,57.606719970703125,57.698543548583984,57.81612014770508,57.964149475097656,58.14801025390625,58.3754997253418,58.65869903564453,59.01580047607422,59.472476959228516,60.06276321411133,60.828895568847656,61.819515228271484,63.086143493652344,64.6781005859375,66.63623809814453,68.98518371582031,71.72660064697266,74.83364868164062,78.24869537353516,81.88449096679688,85.62904357910156,89.35407257080078,92.92550659179688,96.2144546508789,99.10721588134766,101.51304626464844,103.3690414428711,104.64141082763672,105.32485961914062,105.43985748291016,105.02941131591797,104.15512084960938,102.89328002929688,101.33096313476562,99.56153106689453,97.67987823486328,95.77701568603516,93.93460083007812,92.21985626220703,90.68155670166016,89.34770202636719,88.22566223144531,87.30484771728516,86.56259155273438,85.97122955322266,85.5067138671875,85.15654754638672,84.92552185058594,84.83785247802734,84.93508911132812,85.26971435546875,85.89596557617188,86.8597412109375,88.18926239013672,89.88865661621094,91.93479919433594,94.27903747558594,96.85114288330078,99.5654525756836,102.32780456542969,105.04228973388672,107.61721801757812,109.96973419189453,112.02906036376953,113.73817443847656,115.0540542602539,115.94667053222656,116.39734649658203],[115.67628479003906,116.685791015625,118.63629150390625,121.39641571044922,124.78263854980469,128.57440185546875,132.53150939941406,136.41275024414062,139.99362182617188,143.0819549560547,145.52981567382812,147.24085998535156,148.1730194091797,148.33692932128906,147.79095458984375,146.6338348388672,144.9965362548828,143.0343017578125,140.91912841796875,138.83261108398438,136.9586944580078,135.4752960205078,134.54415893554688,134.29905700683594,134.83352661132812,136.18943786621094,138.34913635253906,141.23277282714844,144.70263671875,148.5734100341797,152.62838745117188,156.6380615234375,160.37823486328125,163.64535522460938,166.26686096191406,168.1067657470703,169.0672607421875,169.08815002441406,168.1461944580078,166.25572204589844,163.47084045410156,159.8875732421875,155.64511108398438,150.9226837158203,145.9315643310547,140.90142822265625,136.0621337890625,131.62442016601562,127.76134490966797,124.59428405761719,122.18467712402344,120.53291320800781,119.58341979980469,119.23481750488281,119.35275268554688,119.78411102294922,120.37059020996094,120.96044158935547,121.41743469238281,121.62722778320312,121.50074005126953,120.97478485107422,120.01133728027344,118.59588623046875,116.73553466796875,114.45698547363281,111.80489349365234,108.83939361572266,105.63262939453125,102.26415252685547,98.81523895263672,95.3624267578125,91.97207641601562,88.69668579101562,85.57357025146484,82.6259536743164,79.86607360839844,77.29890441894531,74.92594909667969,72.74783325195312,70.76551818847656,68.97982025146484,67.39031982421875,65.99337768554688,64.781005859375,63.73993682861328,62.85190963745117,62.09471130371094,61.44387435913086,60.874847412109375,60.364845275878906,59.895118713378906,59.45186233520508,59.02674865722656,58.61686706542969,58.22422790527344,57.85465621948242,57.516754150390625,57.2204704284668,56.97565460205078,56.79044723510742,56.66975784301758,56.61420822143555,56.619285583496094,56.67539978027344,56.769020080566406,56.884552001953125,57.00647735595703,57.12177658081055,57.221839904785156,57.30326461791992,57.36787033081055,57.421546936035156,57.47265625,57.530303955078125,57.60282516479492,57.69731140136719,57.81917190551758,57.973114013671875,58.16439437866211,58.40050506591797,58.692989349365234,59.059207916259766,59.52373123168945,60.1192626953125,60.8865966796875,61.87294006347656,63.12858963012695,64.70194244384766,66.6333999633789,68.94763946533203,71.64692687988281,74.70545959472656,78.06697845458984,81.64573669433594,85.3311538696289,88.9961166381836,92.5074234008789,95.73678588867188,98.57098388671875,100.92001342773438,102.72224426269531,103.94599914550781,104.58905029296875,104.67589569091797,104.25414276123047,103.39017486572266,102.16465759277344,100.66800689697266,98.99554443359375,97.24237060546875,95.49789428710938,93.84040069580078,92.3321762084961,91.01568603515625,89.91154479980469,89.01881408691406,88.31793212890625,87.7769775390625,87.35906219482422,87.03164672851562,86.7750244140625,86.58885192871094,86.49495697021484,86.53570556640625,86.76783752441406,87.25298309326172,88.04690551757812,89.18914031982422,90.69538116455078,92.5531005859375,94.72236633300781,97.13909149169922,99.72100830078125,102.37484741210938,105.00348663330078,107.51265716552734,109.81629943847656,111.84030151367188,113.52469635009766,114.82403564453125,115.70654296875,116.15243530273438],[109.5263671875,110.5,112.37942504882812,115.0346908569336,118.28441619873047,121.91104888916016,125.67832946777344,129.3499755859375,132.70748901367188,135.56561279296875,137.7840118408203,139.27406311035156,140.0009765625,139.98146057128906,139.278076171875,137.9913787841797,136.2515106201172,134.2104034423828,132.03463745117188,129.8988800048828,127.97945404052734,126.44677734375,125.45596313476562,125.13566589355469,125.57638549804688,126.8193359375,128.8487091064453,131.58900451660156,134.90890502929688,138.631103515625,142.5477294921875,146.43817138671875,150.08656311035156,153.29649353027344,155.9010009765625,157.76809692382812,158.8023681640625,158.94435119628906,158.16998291015625,156.49102783203125,153.95709228515625,150.65777587890625,146.723876953125,142.32472229003906,137.66078186035156,132.9510040283203,128.41558837890625,124.25761413574219,120.64498138427734,117.69676208496094,115.47467803955078,113.98152923583984,113.16565704345703,112.93035888671875,113.1462173461914,113.6648941040039,114.33246612548828,115.00102996826172,115.53767395019531,115.830810546875,115.79365539550781,115.36492919921875,114.5081787109375,113.21024322509766,111.47937774658203,109.34325408935547,106.84724426269531,104.05187225341797,101.02925872802734,97.8585433959961,94.62022399902344,91.38978576660156,88.23245239257812,85.1994857788086,82.32691955566406,79.63651275634766,77.13867950439453,74.83604431152344,72.72712707519531,70.80896759033203,69.07849884033203,67.53240966796875,66.16641998291016,64.97369384765625,63.94399642944336,63.062992095947266,62.31250762939453,61.671451568603516,61.11724853515625,60.627708435058594,60.18253707885742,59.76531982421875,59.36426544189453,58.97266387939453,58.5888671875,58.21588134765625,57.86040496826172,57.531898498535156,57.24118423461914,56.999000549316406,56.81428146362305,56.69260787963867,56.63505554199219,56.63737869262695,56.69010925292969,56.77973937988281,56.89076614379883,57.007835388183594,57.11817932128906,57.21355056762695,57.290916442871094,57.3524169921875,57.404178619384766,57.4547119140625,57.5131721496582,57.58788299560547,57.68590545654297,57.812583923339844,57.97248840332031,58.17059326171875,58.41389465332031,58.713111877441406,59.084415435791016,59.55075454711914,60.14284133911133,60.899139404296875,61.86440658569336,63.08652114868164,64.61177825927734,66.47900390625,68.7121353149414,71.31369018554688,74.25929260253906,77.49517822265625,80.93907928466797,84.4845962524414,88.00912475585938,91.38394165039062,94.48497009277344,97.20278930664062,99.45077514648438,101.17046356201172,102.333251953125,102.94007873535156,103.01868438720703,102.61980438232422,101.8125228881836,100.67930603027344,99.3111801147461,97.80253601074219,96.24598693847656,94.72694396972656,93.31848907470703,92.07681274414062,91.0376205444336,90.21434783935547,89.59856414794922,89.16287231445312,88.86726379394531,88.66670989990234,88.52080535888672,88.40291595458984,88.307373046875,88.25314331054688,88.28288269042969,88.45712280273438,88.84467315673828,89.51118469238281,90.50769805908203,91.86157989501953,93.57079315185547,95.60354614257812,97.90089416503906,100.38262176513672,102.95484924316406,105.51808166503906,107.97484588623047,110.23603820800781,112.22528839111328,113.88140869140625,115.15876007080078,116.0260238647461,116.46405029296875],[103.64378356933594,104.56137084960938,106.33085632324219,108.82644653320312,111.87281036376953,115.26004791259766,118.76084899902344,122.14888000488281,125.21630859375,127.7886734008789,129.7362060546875,130.97998046875,131.49331665039062,131.29884338378906,130.46237182617188,129.08457946777344,127.29256439208984,125.23216247558594,123.06133270263672,120.94430541992188,119.04597473144531,117.52533721923828,116.5270767211914,116.1714096069336,116.54318237304688,117.6814193725586,119.57190704345703,122.1445083618164,125.27655029296875,128.8018798828125,132.5252227783203,136.23876953125,139.73858642578125,142.83851623535156,145.37965393066406,147.23565673828125,148.31446838378906,148.55772399902344,147.9403839111328,146.47117614746094,144.19442749023438,141.1922149658203,137.58563232421875,133.53250122070312,129.22076416015625,124.85675048828125,120.64910888671875,116.79147338867188,113.44520568847656,110.72600555419922,108.69537353515625,107.35855865478516,106.66834259033203,106.53367614746094,106.8314208984375,107.41951751708984,108.14998626708984,108.88028717041016,109.48214721679688,109.84789276123047,109.89395141601562,109.56165313720703,108.8166275024414,107.64732360839844,106.06324768066406,104.09281158447266,101.78155517578125,99.18952178955078,96.3875732421875,93.45292663574219,90.46361541748047,87.49240112304688,84.60176849365234,81.8404541015625,79.2422103881836,76.82672119140625,74.60228729248047,72.5692138671875,70.72331237792969,69.05854797363281,67.5684814453125,66.24652862548828,65.08545684814453,64.07628631591797,63.20759582519531,62.46499252319336,61.831336975097656,61.287445068359375,60.813232421875,60.38925552368164,59.99790573120117,59.62508773803711,59.26085662841797,58.89982986450195,58.54125213623047,58.188690185546875,57.8492317199707,57.532745361328125,57.25046157836914,57.01357650756836,56.831485748291016,56.71018600463867,56.65109634399414,56.6502571105957,56.6984748840332,56.782527923583984,56.887290954589844,56.99788284301758,57.1020393371582,57.1920280456543,57.265235900878906,57.32408142089844,57.37480545043945,57.42588806152344,57.48636245727539,57.564361572265625,57.66674041748047,57.79863739013672,57.96434020996094,58.16838836669922,58.41709518432617,58.720130920410156,59.0921516418457,59.554073333740234,60.134029388427734,60.86745834350586,61.7957649230957,62.96342849731445,64.41358947753906,66.18257141113281,68.2928466796875,70.74691772460938,73.5220947265625,76.56814575195312,79.80802154541016,83.14191436767578,86.45466613769531,89.62532806396484,92.53724670410156,95.0877456665039,97.19600677490234,98.80833435058594,99.9000244140625,100.47505187988281,100.56349182128906,100.21762084960938,99.5070571899414,98.5136489868164,97.32635498046875,96.03609466552734,94.73065948486328,93.48959350585938,92.37945556640625,91.44964599609375,90.72913360595703,90.22480010986328,89.92179107666016,89.78622436523438,89.77132415771484,89.82503509521484,89.89979553222656,89.962158203125,90.00084686279297,90.03129577636719,90.09566497802734,90.25757598876953,90.59256744384766,91.17608642578125,92.07079315185547,93.31599426269531,94.92023468017578,96.8595962524414,99.07955169677734,101.50076293945312,104.02735900878906,106.55606842041016,108.98524475097656,111.2223129272461,113.18895721435547,114.82379913330078,116.08241271972656,116.93548583984375,117.3658218383789],[98.06271362304688,98.90687561035156,100.53301239013672,102.82211303710938,105.60848999023438,108.69422149658203,111.86561584472656,114.91090393066406,117.63701629638672,119.88375091552734,121.5343246459961,122.52081298828125,122.8249740600586,122.47476959228516,121.53782653808594,120.1129379272461,118.32176208496094,116.30136108398438,114.19820404052734,112.1629867553711,110.34600830078125,108.89164733886719,107.93114471435547,107.57363891601562,107.89630889892578,108.93486022949219,110.67655181884766,113.05757904052734,115.9658432006836,119.24910736083984,122.72785949707031,126.21043395996094,129.508056640625,132.44761657714844,134.88046264648438,136.68759155273438,137.78128051757812,138.1048583984375,137.6324462890625,136.36944580078125,134.35438537597656,131.66099548339844,128.39950561523438,124.71479034423828,120.78053283691406,116.78846740722656,112.9337158203125,109.39849853515625,106.33592224121094,103.85700988769531,102.02222442626953,100.83906555175781,100.2651138305664,100.21593475341797,100.57595825195312,101.2110366821289,101.98087310791016,102.74998474121094,103.3963394165039,103.81755065917969,103.93437194824219,103.69157409667969,103.05742645263672,102.02226257324219,100.59676361083984,98.8097152709961,96.70612335205078,94.34446716308594,91.79304504394531,89.12559509277344,86.4160385131836,83.73282623291016,81.13428497314453,78.66545867919922,76.35700225830078,74.22603607177734,72.27864074707031,70.51294708251953,68.92252349853516,67.49883270263672,66.23289489746094,65.11570739746094,64.13807678222656,63.28984832763672,62.559417724609375,61.93323516845703,61.39596939086914,60.93095397949219,60.52103042602539,60.14973068237305,59.80217742919922,59.46649932861328,59.134361267089844,58.80141830444336,58.46744155883789,58.136173248291016,57.81471252441406,57.51291275024414,57.24201965332031,57.01332092285156,56.83636474609375,56.717323303222656,56.657840728759766,56.65424346923828,56.697723388671875,56.77556610107422,56.87327575683594,56.97669219970703,57.07427215576172,57.15889358520508,57.228416442871094,57.28546905517578,57.33628463745117,57.38916778564453,57.45285415649414,57.53513717651367,57.64250946044922,57.779788970947266,57.950843811035156,58.159664154052734,58.4117431640625,58.71551513671875,59.083892822265625,59.535438537597656,60.09529495239258,60.7952995300293,61.67284393310547,62.76823043823242,64.12064361572266,65.76316833496094,67.71624755859375,69.98216247558594,72.5401840209961,75.3443832397461,78.32433319091797,81.38876342773438,84.43236541748047,87.34454345703125,90.01871490478516,92.36132049560547,94.29924011230469,95.7848129272461,96.79769897460938,97.34467315673828,97.45714569091797,97.1873550415039,96.60350799560547,95.78458404541016,94.81531524658203,93.78108215332031,92.76315307617188,91.83393859863281,91.05274200439453,90.46207427978516,90.08458709716797,89.92152404785156,89.9528579711914,90.13965606689453,90.42975616455078,90.76515197753906,91.09175872802734,91.36945343017578,91.58089447021484,91.7371597290039,91.87886810302734,92.07174682617188,92.39733123779297,92.94051361083984,93.7756118774414,94.95416259765625,96.49560546875,98.38404083251953,100.56909942626953,102.9715805053711,105.49251556396484,108.02360534667969,110.45779418945312,112.69815063476562,114.66400909423828,116.29386138916016,117.54500579833984,118.39083099365234,118.81675720214844],[92.80681610107422,93.5638427734375,95.0204086303711,97.06658935546875,99.5495376586914,102.28707885742188,105.0831527709961,107.7444839477539,110.09619140625,111.99498748779297,113.33880615234375,114.07144165039062,114.18281555175781,113.705078125,112.7059555053711,111.2802963256836,109.54192352294922,107.61678314208984,105.63739013671875,103.73854064941406,102.0535888671875,100.71003723144531,99.82354736328125,99.49031829833984,99.77851867675781,100.71975708007812,102.30274963378906,104.47075653076172,107.1238021850586,110.12562561035156,113.31499481201172,116.51904296875,119.56670379638672,122.30025482177734,124.5832748413086,126.30557250976562,127.38489532470703,127.76697540283203,127.42543029785156,126.3624267578125,124.6104507446289,122.23430633544922,119.33250427246094,116.0357666015625,112.50191497802734,108.90629577636719,105.428466796875,102.23725128173828,99.47561645507812,97.24839782714844,95.61402130126953,94.58177185058594,94.11426544189453,94.13439178466797,94.53541564941406,95.19270324707031,95.97539520263672,96.75688171386719,97.42308044433594,97.87837982177734,98.0490951538086,97.88433074951172,97.35552978515625,96.45510864257812,95.19470977783203,93.60297393798828,91.72346496582031,89.61198425292969,87.3328628540039,84.95489501953125,82.54641723632812,80.17018127441406,77.87921142578125,75.71394348144531,73.70136260986328,71.85577392578125,70.18107604980469,68.67355346679688,67.32502746582031,66.12519836425781,65.0633316040039,64.12889099121094,63.3116340637207,62.60112762451172,61.98640441894531,61.45548629760742,60.99543762207031,60.592533111572266,60.23278045654297,59.902767181396484,59.59027862548828,59.28547668457031,58.98139190673828,58.674407958984375,58.36450958251953,58.0553092956543,57.75360107421875,57.46890640258789,57.2121696472168,56.99447250366211,56.82523727416992,56.71061325073242,56.652339935302734,56.647010803222656,56.68629837036133,56.75815200805664,56.8488883972168,56.94528579711914,57.03664779663086,57.11656188964844,57.183349609375,57.23979187011719,57.2919921875,57.34794616699219,57.41595458984375,57.503334045410156,57.61610794067383,57.758663177490234,57.93437576293945,58.146602630615234,58.399932861328125,58.70145797729492,59.06221389770508,59.498207092285156,60.031333923339844,60.68946838378906,61.505531311035156,62.515132904052734,63.75297927856445,65.2483901977539,67.01945495605469,69.0680923461914,71.3757095336914,73.90130615234375,76.58201599121094,79.33650970458984,82.07096099853516,84.68696594238281,87.08982849121094,89.19673919677734,90.94353485107422,92.28936004638672,93.21842193603516,93.7398681640625,93.88548278808594,93.7060775756836,93.26675415039062,92.64192962646484,91.91043853759766,91.15074157714844,90.43653869628906,89.83253479003906,89.39069366455078,89.14696502685547,89.11842346191406,89.3017807006836,89.6731948852539,90.19010162353516,90.79627990722656,91.42884826660156,92.02786254882812,92.5466079711914,92.96124267578125,93.27758026123047,93.53347778320312,93.79548645019531,94.15009307861328,94.69091796875,95.50374603271484,96.65251922607422,98.1680679321289,100.04296112060547,102.23123168945312,104.6537094116211,107.20773315429688,109.77899932861328,112.25386810302734,114.52986907958984,116.5229263305664,118.17064666748047,119.43163299560547,120.2817611694336,120.70903778076172],[87.89311218261719,88.55364227294922,89.8228988647461,91.6019058227539,93.75324249267578,96.1135025024414,98.5074462890625,100.76324462890625,102.72673797607422,104.27332305908203,105.31655883789062,105.81198120117188,105.75685119628906,105.18608856201172,104.16563415527344,102.78429412841797,101.14607238769531,99.36380004882812,97.55435943603516,95.8350830078125,94.32095336914062,93.1213150024414,92.33509826660156,92.04457092285156,92.30810546875,93.15279388427734,94.56881713867188,96.50698852539062,98.88037109375,101.57003784179688,104.43465423583984,107.32197570800781,110.08045959472656,112.56950378417969,114.66648864746094,116.2713623046875,117.30844116210938,117.72665405273438,117.4997329711914,116.62692260742188,115.13475799560547,113.07892608642578,110.54569244384766,107.6507339477539,104.53478240966797,101.3552474975586,98.2743148803711,95.44551086425781,92.99984741210938,91.03439331054688,89.60437774658203,88.72026824951172,88.3496322631836,88.42327880859375,88.84432983398438,89.49906921386719,90.26773834228516,91.03433990478516,91.69441223144531,92.16061401367188,92.36601257324219,92.2649154663086,91.83243560791016,91.0631103515625,89.9692611694336,88.57868194580078,86.93254852294922,85.0827865600586,83.08851623535156,81.01226043701172,78.91557312011719,76.85444641113281,74.87574768066406,73.01477813720703,71.2945556640625,69.72652435302734,68.31262969970703,67.0477523803711,65.92256164550781,64.92567443847656,64.0453872680664,63.270442962646484,62.590335845947266,61.99506378173828,61.47492980957031,61.02004623413086,60.6202392578125,60.26494598388672,59.94340133666992,59.64518356323242,59.36058044433594,59.081539154052734,58.80219650268555,58.519386291503906,58.23306655883789,57.94647979736328,57.665889739990234,57.400264739990234,57.160030364990234,56.9558219909668,56.796722412109375,56.688690185546875,56.633453369140625,56.62784194946289,56.66405487060547,56.73080825805664,56.815399169921875,56.9056396484375,56.99179458618164,57.06819152832031,57.13357925415039,57.19081115722656,57.24577331542969,57.3060188293457,57.379302978515625,57.47237777709961,57.59071731567383,57.73822784423828,57.91775131225586,58.131988525390625,58.384586334228516,58.68129348754883,59.031211853027344,59.44774627685547,59.94941711425781,60.55998992919922,61.307701110839844,62.22319793701172,63.33644485473633,64.6727523803711,66.2477035522461,68.06279754638672,70.10174560546875,72.32877349853516,74.68917846679688,77.11225891113281,79.51659393310547,81.81690216064453,83.93132781982422,85.78864288330078,87.3342056274414,88.53423309326172,89.37735748291016,89.87456512451172,90.05715942382812,89.973388671875,89.68404388427734,89.25777435302734,88.7665023803711,88.28106689453125,87.86724853515625,87.58204650878906,87.47045135498047,87.56254577636719,87.87081146240234,88.38860321044922,89.08956909179688,89.92887115478516,90.84754943847656,91.77894592285156,92.65795135498047,93.43152618408203,94.06900787353516,94.57009887695312,94.9686279296875,95.33048248291016,95.74565887451172,96.31541442871094,97.13636779785156,98.28479766845703,99.80332946777344,101.69369506835938,103.91504669189453,106.3886947631836,109.00836181640625,111.65328979492188,114.20235443115234,116.5462646484375,118.59615325927734,120.2873306274414,121.57846069335938,122.44697570800781,122.8828125],[83.33546447753906,83.89484405517578,84.96819305419922,86.46883392333984,88.27660369873047,90.24895477294922,92.23360443115234,94.08206176757812,95.66232299804688,96.86930847167969,97.63227081298828,97.9178695678711,97.72948455810547,97.10317993164062,96.10127258300781,94.80473327636719,93.30610656738281,91.703857421875,90.0982437133789,88.58849334716797,87.27082061767578,86.23607635498047,85.56624603271484,85.32945251464844,85.57408905029297,86.3226089477539,87.56663513183594,89.26464080810547,91.34306335449219,93.70079803466797,96.21713256835938,98.76129913330078,101.2022933959961,103.41767120361328,105.2997055053711,106.759521484375,107.72897338867188,108.16107940673828,108.0303955078125,107.3338623046875,106.0924301147461,104.35285949707031,102.18904876708984,99.70121002197266,97.01220703125,94.26038360595703,91.58915710449219,89.13517761230469,87.0158920288086,85.31914520263672,84.09577941894531,83.35668182373047,83.07412719726562,83.18706512451172,83.60923767089844,84.23895263671875,84.96890258789062,85.6951904296875,86.32445526123047,86.77894592285156,86.99954986572266,86.94652557373047,86.59898376464844,85.95357513427734,85.02286529541016,83.83309936523438,82.42210388183594,80.83684539794922,79.13011932373047,77.35718536376953,75.57192993164062,73.82292175292969,72.15044403076172,70.58441162109375,69.14388275146484,67.83767700195312,66.66612243652344,65.62319946289062,64.69902038574219,63.8818244934082,63.15960693359375,62.52105712890625,61.956016540527344,61.455440521240234,61.01130294799805,60.6160888671875,60.26253128051758,59.94322967529297,59.650550842285156,59.376869201660156,59.11471939086914,58.857582092285156,58.600425720214844,58.340328216552734,58.07703399658203,57.81327819824219,57.554664611816406,57.30949401855469,57.08751678466797,56.89878463745117,56.75187683105469,56.652435302734375,56.60207748413086,56.597843170166016,56.632476806640625,56.69552993774414,56.77534103393555,56.86084747314453,56.94329833984375,57.01775360107422,57.08333969116211,57.14289855957031,57.20199203491211,57.26765060424805,57.34701156616211,57.446197509765625,57.57011032104492,57.7221565246582,57.9046630859375,58.119693756103516,58.37000274658203,58.660037994384766,58.99702835083008,59.39183044433594,59.85963439941406,60.42012023925781,61.096832275390625,61.915470123291016,62.90121078491211,64.07537841796875,65.45103454589844,67.02932739257812,68.79634094238281,70.72161102294922,72.75872802734375,74.84773254394531,76.91975402832031,78.90274810791016,80.72779083251953,82.33526611328125,83.68001556396484,84.73507690429688,85.49317932128906,85.96656036376953,86.18537139892578,86.19451141357422,86.04973602294922,85.81328582763672,85.54978942871094,85.32232666015625,85.18891906738281,85.1993408203125,85.39228820800781,85.79285430908203,86.40992736816406,87.23463439941406,88.23931121826172,89.37815856933594,90.59072875976562,91.80775451660156,92.95989990234375,93.98831176757812,94.85549926757812,95.55440521240234,96.11365509033203,96.59689331054688,97.09588623046875,97.71792602539062,98.56932067871094,99.73815155029297,101.27900695800781,103.20346069335938,105.47679138183594,108.02180480957031,110.72931671142578,113.47233581542969,116.12179565429688,118.56060028076172,120.6935806274414,122.45207214355469,123.79306030273438,124.69403076171875,125.14575958251953],[79.14713287353516,79.60543060302734,80.48341369628906,81.70744323730469,83.17558288574219,84.76720428466797,86.35396575927734,87.81147003173828,89.03020477294922,89.92445373535156,90.4384994506836,90.54899597167969,90.26399230957031,89.61902618408203,88.67118835449219,87.49223327636719,86.1622543334961,84.76473236083984,83.38318634033203,82.09895324707031,80.98995208740234,80.12918090820312,79.5822525024414,79.40364837646484,79.63211059570312,80.28556060791016,81.35696411132812,82.81224822998047,84.59087371826172,86.60929107666016,88.76718139648438,90.95515441894531,93.06289672851562,94.98644256591797,96.63348388671875,97.92700958251953,98.80719757080078,99.23194885253906,99.17748260498047,98.63920593261719,97.63314056396484,96.19764709472656,94.39457702636719,92.30874633789062,90.0449447631836,87.7219009399414,85.46343994140625,83.38827514648438,81.59903717041016,80.17314147949219,79.15595245361328,78.55796813964844,78.3556900024414,78.49617767333984,78.90409851074219,79.49047088623047,80.16139221191406,80.8261489868164,81.403564453125,81.82649993896484,82.04450225830078,82.02427673339844,81.74916076660156,81.21775817871094,80.44243621826172,79.44717407226562,78.26560974121094,76.93889617919922,75.51268768310547,74.03428649902344,72.54945373535156,71.09908294677734,69.716796875,68.42725372314453,67.24581146240234,66.17902374267578,65.22610473632812,64.38064575195312,63.6328239440918,62.97105026245117,62.38361358642578,61.859657287597656,61.3897819519043,60.96620559692383,60.582759857177734,60.23432922363281,59.916465759277344,59.624752044677734,59.35442352294922,59.1003532409668,58.85700988769531,58.6191291809082,58.3823127746582,58.14371871948242,57.90279006958008,57.66169738769531,57.42538833618164,57.20143508911133,56.99886703491211,56.82705307006836,56.69398498535156,56.60488510131836,56.56119918823242,56.560123443603516,56.59495162963867,56.65608596801758,56.732948303222656,56.815589904785156,56.896240234375,56.97063064575195,57.0381965637207,57.1016845703125,57.166255950927734,57.23834991455078,57.32444763183594,57.4300422668457,57.559471130371094,57.71568298339844,57.90053176879883,58.11552047729492,58.362606048583984,58.64504623413086,58.96833419799805,59.34092330932617,59.77486038208008,60.285919189453125,60.89316177368164,61.61753463745117,62.47964859008789,63.497013092041016,64.68035888671875,66.03057098388672,67.53608703613281,69.17166137695312,70.89886474609375,72.66809844970703,74.4224624633789,76.1025619506836,77.6517562866211,79.02139282226562,80.17518615722656,81.09243774414062,81.76940155029297,82.21912384033203,82.4700927734375,82.56350708007812,82.54978942871094,82.48469543457031,82.42567443847656,82.4283447265625,82.54352569580078,82.8144302368164,83.27424621582031,83.94393157958984,84.82969665527344,85.92137908935547,87.19107818603516,88.59317016601562,90.06700134277344,91.5419921875,92.94577026367188,94.21459197998047,95.30450439453125,96.20150756835938,96.92805480957031,97.54397583007812,98.1408462524414,98.82997131347656,99.72559356689453,100.9265365600586,102.49897766113281,104.46485900878906,106.79666137695312,109.42008972167969,112.22435760498047,115.0771255493164,117.84163665771484,120.3924331665039,122.62684631347656,124.47054290771484,125.87696838378906,126.82191467285156,127.29566192626953],[75.341064453125,75.70272064208984,76.39427185058594,77.35523223876953,78.50196838378906,79.73579406738281,80.95211791992188,82.05023956298828,82.94242095947266,83.56132507324219,83.86497497558594,83.83853149414062,83.4931640625,82.8624267578125,81.99697875976562,80.95851135253906,79.81429290771484,78.63299560546875,77.48198699951172,76.42572784423828,75.52509307861328,74.83658599853516,74.41073608398438,74.28944396972656,74.50247955322266,75.06353759765625,75.9667739868164,77.18499755859375,78.66985321044922,80.35426330566406,82.1572494506836,83.98988342285156,85.76181030273438,87.38717651367188,88.7890396118164,89.90252685546875,90.67662048339844,91.07482147216797,91.07582092285156,90.67430877685547,89.88227844238281,88.7304916381836,87.26949310302734,85.56929779052734,83.71700286865234,81.81183624267578,79.9578857421875,78.25543212890625,76.79166412353516,75.6326904296875,74.81754302978516,74.35550689697266,74.22672271728516,74.38594818115234,74.76873016357422,75.2989501953125,75.89653015136719,76.4844970703125,76.99449157714844,77.37060546875,77.57144927978516,77.57048797607422,77.35529327392578,76.92617797851562,76.29488372802734,75.48250579833984,74.51789093017578,73.43573760986328,72.27410888671875,71.07210540771484,69.86727142333984,68.69295501708984,67.57640075683594,66.53742218017578,65.588134765625,64.73335266113281,63.971683502197266,63.296897888183594,62.6997184753418,62.169254302978516,61.694522857666016,61.26546096801758,60.8736686706543,60.512733459472656,60.17826843261719,59.867401123046875,59.57820510864258,59.30887222290039,59.05711364746094,58.819923400878906,58.593360900878906,58.3731803894043,58.15543746948242,57.937320709228516,57.71796798706055,57.499053955078125,57.28490447998047,57.08243179321289,56.89994430541992,56.746097564697266,56.62824630737305,56.551124572753906,56.51594161987305,56.5200080871582,56.55714416503906,56.61857986450195,56.69478225708008,56.776878356933594,56.85801696777344,56.934513092041016,57.00601577758789,57.075096130371094,57.14645767211914,57.225921630859375,57.31931686401367,57.43154525756836,57.56644058227539,57.726558685302734,57.91338348388672,58.12795639038086,58.37157440185547,58.646446228027344,58.95653533935547,59.30812454223633,59.71038818359375,60.17552185058594,60.71846389770508,61.35578918457031,62.10394287109375,62.976966857910156,63.983524322509766,65.12437438964844,66.39024353027344,67.7607650756836,69.20487213134766,70.68248748779297,72.14759063720703,73.55223083496094,74.850830078125,76.0045394897461,76.98494720458984,77.77682495117188,78.37934112548828,78.80596923828125,79.08336639404297,79.24900817871094,79.3481674194336,79.43045043945312,79.54659271240234,79.74539184570312,80.07111358642578,80.56111145019531,81.24378967285156,82.13660430908203,83.2437515258789,84.55447387695312,86.04145812988281,87.66026306152344,89.3512954711914,91.04409790039062,92.66474914550781,94.14591979980469,95.43815612792969,96.52070617675781,97.40930938720703,98.15859985351562,98.85787200927734,99.62010192871094,100.5652084350586,101.80098724365234,103.40436553955078,105.40771484375,107.7917251586914,110.4865951538086,113.38172912597656,116.3409652709961,119.22078704833984,121.88752746582031,124.2303237915039,126.1678466796875,127.64830780029297,128.6441192626953,129.14370727539062],[71.92840576171875,72.20150756835938,72.7225570678711,73.4437026977539,74.29885864257812,75.21028137207031,76.09590911865234,76.8772964477539,77.48690032958984,77.8740463256836,78.0087890625,77.88316345214844,77.510009765625,76.91976165771484,76.15591430664062,75.26985931396484,74.31632995605469,73.34998321533203,72.42330169677734,71.58547973632812,70.88220977783203,70.3553695678711,70.04216003417969,69.97335052490234,70.17074584960938,70.64417266845703,71.38878631591797,72.38343811035156,73.59063720703125,74.95817565917969,76.42262268066406,77.91385650634766,79.36007690429688,80.69253540039062,81.84902954101562,82.77667236328125,83.4334487915039,83.78894805908203,83.82501220703125,83.53649139404297,82.93230438232422,82.03665161132812,80.88986206054688,79.5481948852539,78.08200073242188,76.57182312011719,75.1025161743164,73.7562026977539,72.60449981689453,71.70188903808594,71.08045196533203,70.74759674072266,70.68636322021484,70.85859680175781,71.2101821899414,71.6775894165039,72.19438171386719,72.69731140136719,73.13094329833984,73.45067596435547,73.6242904663086,73.63191986083984,73.4652099609375,73.12590789794922,72.62468719482422,71.97937774658203,71.2136001586914,70.3553695678711,69.43506622314453,68.48369598388672,67.53091430664062,66.60298919677734,65.72135925292969,64.90160369873047,64.1531982421875,63.47980499267578,62.87995910644531,62.348106384277344,61.87596893310547,61.4537467956543,61.07149124145508,60.72014236450195,60.392372131347656,60.083045959472656,59.78934097290039,59.5102424621582,59.24588394165039,58.99656295776367,58.76197052001953,58.540767669677734,58.33028030395508,58.12706756591797,57.927555084228516,57.72898864746094,57.530303955078125,57.33282470703125,57.140411376953125,56.95940017700195,56.797447204589844,56.66251754760742,56.561283111572266,56.497955322265625,56.47344207763672,56.48512268066406,56.52725601196289,56.591861724853516,56.67035675048828,56.75485610961914,56.83929443359375,56.92047119140625,56.99814224243164,57.074623107910156,57.15412139892578,57.24185562133789,57.343040466308594,57.462074279785156,57.602386474609375,57.766258239746094,57.95492172241211,58.169090270996094,58.40953826904297,58.67762756347656,58.97601318359375,59.30908966064453,59.68352127075195,60.10835266113281,60.594886779785156,61.15585708618164,61.804046630859375,62.55052185058594,63.402217864990234,64.35989379882812,65.41641235351562,66.55577850341797,67.75346374511719,68.97764587402344,70.19176483154297,71.3576889038086,72.43927764892578,73.4060287475586,74.23615264892578,74.91897583007812,75.4560775756836,75.86111450195312,76.15904235839844,76.38396453857422,76.57654571533203,76.78089904785156,77.04177856445312,77.4018783569336,77.8995590209961,78.56690979003906,79.42794799804688,80.49700927734375,81.77655029296875,83.25560760498047,84.90795135498047,86.69119262695312,88.54795837402344,90.40943145751953,92.20188903808594,93.85613250732422,95.31857299804688,96.5625,97.5968017578125,98.46980285644531,99.26658630371094,100.09921264648438,101.09064483642578,102.3553695678711,103.97962951660156,106.00585174560547,108.42366790771484,111.16939544677734,114.13470458984375,117.18170928955078,120.1617660522461,122.93384552001953,125.37890625,127.4078369140625,128.9623565673828,130.01007080078125,130.53636169433594],[68.91581726074219,69.11113739013672,69.48269653320312,69.9942398071289,70.59575653076172,71.22858428955078,71.83110809326172,72.3448715209961,72.72029113769531,72.92115020751953,72.9276123046875,72.73694610595703,72.36244201660156,71.83070373535156,71.1778564453125,70.44532012939453,69.67615509033203,68.9123306274414,68.19319915771484,67.55473327636719,67.02960968017578,66.64728546142578,66.4336929321289,66.41009521484375,66.5914535522461,66.98422241210938,67.58424377441406,68.37542724609375,69.32952880859375,70.40715026855469,71.56018829345703,72.73512268066406,73.87677001953125,74.93192291259766,75.85210418701172,76.5958251953125,77.12995147705078,77.43038940429688,77.482666015625,77.2825698852539,76.8369140625,76.16448974609375,75.29671478271484,74.27752685546875,73.16197967529297,72.0133056640625,70.89830780029297,69.88184356689453,69.02050018310547,68.35723876953125,67.91700744628906,67.70476531982422,67.70573425292969,67.88801574707031,68.20701599121094,68.6109619140625,69.0464096069336,69.4632797241211,69.81855773925781,70.07856750488281,70.21990203857422,70.22904205322266,70.101318359375,69.8395767211914,69.4531021118164,68.95619201660156,68.3671646118164,67.70738983154297,66.99986267089844,66.26797485351562,65.53414916992188,64.81829833984375,64.1368408203125,63.50184631347656,62.92085266113281,62.39692306518555,61.929046630859375,61.512760162353516,61.14115905761719,60.805809020996094,60.49801254272461,60.20978546142578,59.93483352661133,59.66907501220703,59.4108772277832,59.16058349609375,58.919795989990234,58.6903190612793,58.47324752807617,58.268455505371094,58.07422637939453,57.88775634765625,57.70585632324219,57.52592849731445,57.34691619873047,57.170005798339844,56.998802185058594,56.839229583740234,56.69837951660156,56.58356475830078,56.500762939453125,56.45361328125,56.44267654418945,56.46529769897461,56.5161018371582,56.58776092529297,56.67252731323242,56.76332473754883,56.854732513427734,56.94388198852539,57.03049850463867,57.116573333740234,57.20580291748047,57.302825927734375,57.41233444213867,57.5383415222168,57.684017181396484,57.85150146484375,58.04192352294922,58.255821228027344,58.493614196777344,58.756019592285156,59.04463195800781,59.3622932434082,59.713565826416016,60.104862213134766,60.5444221496582,61.04176330566406,61.60663986206055,62.24766540527344,62.97043228149414,63.775814056396484,64.65856170654297,65.60643768310547,66.6003646850586,67.61538696289062,68.62266540527344,69.59204864501953,70.49501037597656,71.3077621459961,72.01384735107422,72.60628509521484,73.088623046875,73.4747543334961,73.7883071899414,74.06068420410156,74.32879638671875,74.63214874267578,75.01036834716797,75.50074005126953,76.13626861572266,76.94403839111328,77.94384002685547,79.14677429199219,80.55349731445312,82.1528091430664,83.91978454589844,85.81463623046875,87.78328704833984,89.76002502441406,91.67320251464844,93.45368194580078,95.04554748535156,96.41732025146484,97.57139587402344,98.549072265625,99.42949676513672,100.32135009765625,101.34778594970703,102.62741088867188,104.25385284423828,106.27882385253906,108.7013168334961,111.46527862548828,114.46688842773438,117.56898498535156,120.61997985839844,123.47300720214844,126.00154113769531,128.1085662841797,129.728515625,130.82321166992188,131.37399291992188],[66.30245208740234,66.43233489990234,66.6783676147461,67.0144271850586,67.40454864501953,67.80671691894531,68.17701721191406,68.4742202758789,68.66397094726562,68.72216033935547,68.63701629638672,68.40958404541016,68.05271911621094,67.5888671875,67.04708862304688,66.45965576171875,65.85926055908203,65.27690887451172,64.7408218383789,64.27599334716797,63.90443801879883,63.64551544189453,63.515933990478516,63.529197692871094,63.694583892822266,64.01560974121094,64.48847961425781,65.10111236572266,65.83272552490234,66.65448760986328,67.5311279296875,68.4232177734375,69.28990173339844,70.0916519165039,70.79230499267578,71.36087799072266,71.77269744873047,72.00997161865234,72.06222534179688,71.9267807006836,71.6092529296875,71.12420654296875,70.49555969238281,69.75658416748047,68.9488525390625,68.1201171875,67.32085418701172,66.60009765625,66.00048065185547,65.5540542602539,65.27873992919922,65.1767807006836,65.2348861694336,65.42647552490234,65.71539306640625,66.06050109863281,66.4201889038086,66.75651550292969,67.03792572021484,67.24083709716797,67.3498764038086,67.35726165771484,67.26150512695312,67.0661392211914,66.7788314819336,66.41029357910156,65.97368621826172,65.48413848876953,64.95783996582031,64.411376953125,63.860801696777344,63.32062911987305,62.803131103515625,62.31768035888672,61.87053680419922,61.46470642089844,61.10005187988281,60.77353286743164,60.4798698425293,60.21221160888672,59.963199615478516,59.725948333740234,59.49504470825195,59.267173767089844,59.04144287109375,58.818965911865234,58.60218048095703,58.393741607666016,58.19557571411133,58.00832748413086,57.83094787597656,57.66118621826172,57.49630355834961,57.334075927734375,57.17371368408203,57.016544342041016,56.866180419921875,56.72832489013672,56.60962677001953,56.51678466796875,56.45509338378906,56.42757034301758,56.4343376159668,56.47261428833008,56.53725051879883,56.621395111083984,56.71794509887695,56.820411682128906,56.923805236816406,57.0253791809082,57.12468338012695,57.223304748535156,57.32439422607422,57.43206787109375,57.55060577392578,57.68377685546875,57.83466720581055,58.00544357299805,58.197303771972656,58.41078567504883,58.64613723754883,58.90363693237305,59.184104919433594,59.489192962646484,59.82182693481445,60.186344146728516,60.58859634399414,61.03557205200195,61.534671783447266,62.09264373779297,62.71409606933594,63.40010070800781,64.14698028564453,64.94549560546875,65.78083801269531,66.63335418701172,67.48008728027344,68.29693603515625,69.06112670898438,69.75395202636719,70.36308288574219,70.88449096679688,71.3234634399414,71.69441223144531,72.02030181884766,72.33079528808594,72.66007232666016,73.04409790039062,73.51824188232422,74.11502838134766,74.86241912841797,75.78251647949219,76.89056396484375,78.19403076171875,79.69123077392578,81.37031555175781,83.20752716064453,85.16594696044922,87.195556640625,89.23513793945312,91.21685028076172,93.07369995117188,94.74937438964844,96.20919036865234,97.44978332519531,98.50520324707031,99.44734191894531,100.37925720214844,101.42163848876953,102.69451141357422,104.29682922363281,106.2884750366211,108.67797088623047,111.41820526123047,114.41207885742188,117.5257797241211,120.60731506347656,123.5060043334961,126.08905029296875,128.25192260742188,129.92156982421875,131.0533447265625,131.6239013671875],[64.07752990722656,64.1548080444336,64.3000717163086,64.49566650390625,64.71733856201172,64.93688201904297,65.12504577636719,65.2547607421875,65.30406951904297,65.25850677490234,65.11251831054688,64.86965942382812,64.54178619384766,64.14730072021484,63.70884704589844,63.250755310058594,62.79692077636719,62.36930847167969,61.98713684082031,61.666690826416016,61.42161178588867,61.26337432861328,61.20148468017578,61.243309020996094,61.393524169921875,61.65312957763672,62.01839828491211,62.48011016845703,63.02323532104492,63.62722396850586,64.26708221435547,64.91488647460938,65.54171752929688,66.1196517944336,66.62325286865234,67.03093719482422,67.32579803466797,67.49608612060547,67.53543090820312,67.44310760498047,67.22428131103516,66.89034271240234,66.45917510986328,65.95512390136719,65.40827941894531,64.8530502319336,64.32565307617188,63.861175537109375,63.489776611328125,63.233612060546875,63.10404968261719,63.10050582885742,63.21063995361328,63.412254333496094,63.67641830444336,63.971248626708984,64.26555633544922,64.53207397460938,64.74940490722656,64.90282440185547,64.98397064208984,64.98992156982422,64.92172241210938,64.783203125,64.58024597167969,64.32007598876953,64.01110076904297,63.6628303527832,63.285526275634766,62.889915466308594,62.486778259277344,62.08625030517578,61.6973991394043,61.327674865722656,60.98265838623047,60.665740966796875,60.37797546386719,60.11796188354492,59.8822135925293,59.66554641723633,59.461997985839844,59.26571273803711,59.07198715209961,58.877952575683594,58.6829833984375,58.488407135009766,58.296836853027344,58.11115264892578,57.93357849121094,57.765113830566406,57.60515594482422,57.45198440551758,57.303443908691406,57.157936096191406,57.015262603759766,56.877227783203125,56.747718811035156,56.63243865966797,56.5377311706543,56.46975326538086,56.43309783935547,56.43012619018555,56.460426330566406,56.52096176147461,56.60660171508789,56.71077346801758,56.82672882080078,56.94828796386719,57.07060623168945,57.1908073425293,57.308074951171875,57.4234504699707,57.53951644897461,57.659908294677734,57.788597106933594,57.92927169799805,58.085113525390625,58.258514404296875,58.450931549072266,58.6630973815918,58.89529037475586,59.147613525390625,59.420413970947266,59.71455001831055,60.031829833984375,60.375152587890625,60.74868392944336,61.157649993896484,61.60780715942383,62.104618072509766,62.65205383300781,63.251399993896484,63.9001350402832,64.59117889404297,65.31271362304688,66.04873657226562,66.78033447265625,67.4875259399414,68.15150451660156,68.75714874267578,69.29519653320312,69.7640609741211,70.1707992553711,70.5308609008789,70.86746215820312,71.2096939086914,71.59024047851562,72.04263305664062,72.598876953125,73.2872314453125,74.13075256347656,75.14627075195312,76.3438949584961,77.72661590576172,79.28953552246094,81.01936340332031,82.89300537109375,84.87632751464844,86.92383575439453,88.97981262207031,90.98177337646484,92.86673736572266,94.57997131347656,96.08525848388672,97.37456512451172,98.47488403320312,99.45001983642578,100.39576721191406,101.42802429199219,102.66585540771484,104.21149444580078,106.1318588256836,108.44493103027344,111.11372375488281,114.04987335205078,117.1255111694336,120.19083404541016,123.09357452392578,125.69620513916016,127.88741302490234,129.5867156982422,130.74261474609375,131.32662963867188],[62.21926498413086,62.25625991821289,62.32447814941406,62.41297912597656,62.50676727294922,62.588558197021484,62.64065170288086,62.647064208984375,62.59546661376953,62.47875213623047,62.2959098815918,62.052059173583984,61.75778579711914,61.427818298339844,61.0793342590332,60.730106353759766,60.396968841552734,60.094757080078125,59.83577346801758,59.629722595214844,59.48399353027344,59.40419006347656,59.3944091796875,59.45732879638672,59.59398651123047,59.80323791503906,60.08108139038086,60.42017364501953,60.80956268310547,61.23487091064453,61.67896270751953,62.12293243408203,62.547454833984375,62.93415832519531,63.26667022705078,63.531524658203125,63.71879959106445,63.822296142578125,63.839630126953125,63.772239685058594,63.62538528442383,63.40824890136719,63.13397979736328,62.81970977783203,62.48610305786133,62.15643310546875,61.85495376586914,61.60487747192383,61.425689697265625,61.3309211730957,61.32609939575195,61.40796661376953,61.564727783203125,61.7777099609375,62.023983001708984,62.27944564819336,62.521728515625,62.73262023925781,62.899261474609375,63.014339447021484,63.07527160644531,63.08295822143555,63.040279388427734,62.950927734375,62.818939208984375,62.6483039855957,62.44319534301758,62.20834732055664,61.949073791503906,61.671390533447266,61.38192367553711,61.08748245239258,60.79483413696289,60.510215759277344,60.23902130126953,59.985355377197266,59.75162887573242,59.53818893432617,59.343379974365234,59.1637077331543,58.99456787109375,58.831058502197266,58.669002532958984,58.50568771362305,58.34033203125,58.1739501953125,58.0087776184082,57.84736633300781,57.69175338745117,57.54296875,57.400691986083984,57.26374053955078,57.1307258605957,57.00096893310547,56.87519454956055,56.75603103637695,56.64794921875,56.55687713623047,56.489009857177734,56.45002746582031,56.44386672973633,56.47215270996094,56.53386688232422,56.62553024291992,56.741817474365234,56.87614059448242,57.02177429199219,57.172489166259766,57.32321548461914,57.470638275146484,57.613304138183594,57.75153350830078,57.88726043701172,58.02362823486328,58.16439437866211,58.31330108642578,58.47380828857422,58.64873504638672,58.84001541137695,59.04878616333008,59.2756233215332,59.52072525024414,59.78434371948242,60.06700134277344,60.369972229003906,60.69540023803711,61.04655456542969,61.42768859863281,61.84366226196289,62.299224853515625,62.79801940917969,63.341468811035156,63.9277229309082,64.55089569091797,65.20083618164062,65.863525390625,66.52225494384766,67.15933227539062,67.75826263427734,68.30624389648438,68.79624938964844,69.22886657714844,69.61322021484375,69.96656799316406,70.31350708007812,70.68387603759766,71.1102294921875,71.62483215332031,72.25715637207031,73.03163146972656,73.96632385253906,75.07229614257812,76.3536605834961,77.80779266357422,79.42542266845703,81.19071960449219,83.08040618896484,85.06265258789062,87.09657287597656,89.13251495361328,91.114501953125,92.98509979248047,94.69288635253906,96.2017593383789,97.50029754638672,98.6090087890625,99.58343505859375,100.51103973388672,101.50135040283203,102.67058563232422,104.12265014648438,105.93046569824219,108.12142181396484,110.6695556640625,113.49705505371094,116.48429107666016,119.4860610961914,122.35061645507812,124.93716430664062,127.1284408569336,128.83665466308594,130.0032196044922,130.59408569335938],[60.695621490478516,60.703426361083984,60.71590805053711,60.72712707519531,60.7290153503418,60.71244430541992,60.6683349609375,60.58894348144531,60.46904754638672,60.30686950683594,60.10455322265625,59.868080139160156,59.60673904418945,59.332149505615234,59.05710983276367,58.79425811767578,58.555049896240234,58.34903335571289,58.18349075317383,58.06342697143555,57.99183654785156,57.97016906738281,57.99864959716797,58.07647705078125,58.201873779296875,58.37184143066406,58.581809997558594,58.82541275024414,59.094356536865234,59.378543853759766,59.66655731201172,59.9462776184082,60.205810546875,60.434425354003906,60.623172760009766,60.76546859741211,60.85740661621094,60.89775848388672,60.88780975341797,60.8311767578125,60.73357391357422,60.602691650390625,60.4481086730957,60.28132629394531,60.115509033203125,59.964996337890625,59.84434127807617,59.76707458496094,59.743865966796875,59.78107452392578,59.87929916381836,60.03292465209961,60.230464935302734,60.4560432434082,60.69158172607422,60.9193229675293,61.12407684326172,61.294979095458984,61.426025390625,61.5157585144043,61.566017150878906,61.5804557800293,61.563045501708984,61.516963958740234,61.444366455078125,61.346343994140625,61.2234992980957,61.07667922973633,60.90732955932617,60.7179069519043,60.51200485229492,60.294132232666016,60.06956100463867,59.843910217285156,59.62275314331055,59.41108703613281,59.212730407714844,59.02973556518555,58.86221694946289,58.70830535888672,58.56468200683594,58.42728805541992,58.29233169555664,58.15700912475586,58.02006530761719,57.88179397583008,57.74360656738281,57.60729217529297,57.474327087402344,57.34551239013672,57.220706939697266,57.09931945800781,56.98091506958008,56.86601638793945,56.75661849975586,56.65651321411133,56.571067810058594,56.506675720214844,56.469566345214844,56.465057373046875,56.4964599609375,56.56464767456055,56.66788101196289,56.802066802978516,56.9614143371582,57.13897705078125,57.32765197753906,57.520713806152344,57.71244430541992,57.8986701965332,58.07697296142578,58.24669647216797,58.40895462036133,58.566349029541016,58.72241973876953,58.88106918334961,59.046180725097656,59.221187591552734,59.40872573852539,59.61060333251953,59.827972412109375,60.06149673461914,60.31175994873047,60.57949447631836,60.8661003112793,61.17375183105469,61.50565719604492,61.86595916748047,62.25936508178711,62.69048309326172,63.16287612915039,63.677974700927734,64.23400115966797,64.82524108886719,65.4417953491211,66.06995391845703,66.69344329833984,67.29515075683594,67.85945892333984,68.37478637695312,68.8358154296875,69.24530792236328,69.61495971679688,69.96483612060547,70.32225036621094,70.71923828125,71.18962097167969,71.76561737060547,72.47494506835938,73.33856201171875,74.36935424804688,75.57197570800781,76.94346618652344,78.47431182861328,80.14946746826172,81.94921112060547,83.84895324707031,85.81839752197266,87.82083892822266,89.81285858154297,91.74556732177734,93.5681381225586,95.23381042480469,96.70806121826172,97.97738647460938,99.05677032470703,99.99383544921875,100.86748504638672,101.78008270263672,102.84396362304688,104.16362762451172,105.8174057006836,107.84208679199219,110.22348022460938,112.89575958251953,115.74938201904297,118.64569091796875,121.43508911132812,123.97471618652344,126.141845703125,127.84138488769531,129.0072784423828,129.59947204589844],[59.46647262573242,59.454498291015625,59.429256439208984,59.3883056640625,59.32841110229492,59.24615478515625,59.138484954833984,59.00343322753906,58.840702056884766,58.65215301513672,58.441993713378906,58.216575622558594,57.9840202331543,57.753501892089844,57.53449249267578,57.33586502075195,57.16523361206055,57.02848434448242,56.92950439453125,56.87022018432617,56.85075759887695,56.86981201171875,56.92497634887695,57.01296615600586,57.129825592041016,57.27093505859375,57.43092346191406,57.60367202758789,57.78234100341797,57.95957946777344,58.12786102294922,58.27996826171875,58.40957260131836,58.51185989379883,58.58383560180664,58.62456130981445,58.63520431518555,58.61878967285156,58.57985305786133,58.52401351928711,58.457603454589844,58.387359619140625,58.32022476196289,58.2634391784668,58.224403381347656,58.21055221557617,58.2288818359375,58.28532791137695,58.38362121582031,58.52442169189453,58.704376220703125,58.915985107421875,59.147972106933594,59.38666534423828,59.61785125732422,59.82878494262695,60.00991439819336,60.15605545043945,60.26642608642578,60.34387969970703,60.39334487915039,60.42020797729492,60.42879867553711,60.42146682739258,60.39850997924805,60.35850524902344,60.29916000366211,60.218345642089844,60.11469650268555,59.98821258544922,59.84050750732422,59.67467498779297,59.49521255493164,59.30756378173828,59.11773681640625,58.93164825439453,58.75444030761719,58.58972930908203,58.43923568725586,58.30255889892578,58.17756271362305,58.06093215942383,57.94915008544922,57.83917236328125,57.729068756103516,57.61814498901367,57.506690979003906,57.39543533325195,57.2850341796875,57.175872802734375,57.067928314208984,56.961265563964844,56.8565673828125,56.755821228027344,56.662620544433594,56.58224105834961,56.52125549316406,56.486793518066406,56.48534393310547,56.52201461791992,56.59956741333008,56.718135833740234,56.87516784667969,57.065765380859375,57.283382415771484,57.520320892333984,57.76864242553711,58.02062225341797,58.26938247680664,58.50942611694336,58.73692321777344,58.949913024902344,59.148433685302734,59.3343505859375,59.510929107666016,59.682212829589844,59.85260009765625,60.026283264160156,60.20681381225586,60.396942138671875,60.598758697509766,60.81380844116211,61.04353713989258,61.2895393371582,61.5540885925293,61.84026336669922,62.15214538574219,62.49466323852539,62.873172760009766,63.292686462402344,63.75690460205078,64.26705169677734,64.82075500488281,65.411376953125,66.0278091430664,66.65501403808594,67.27542114257812,67.87095642089844,68.42558288574219,68.9281234741211,69.37466430664062,69.77035522460938,70.13024139404297,70.47834014892578,70.84609985351562,71.26930236816406,71.78450012207031,72.42501831054688,73.21763610839844,74.18008422851562,75.31987762451172,76.63449096679688,78.11278533935547,79.73697662353516,81.48471069335938,83.33090209960938,85.2483139038086,87.20706176757812,89.17391967773438,91.11127471923828,92.97744750976562,94.72868347167969,96.32379913330078,97.73098754882812,98.9359359741211,99.94928741455078,100.81166076660156,101.59394073486328,102.39146423339844,103.31251525878906,104.46192169189453,105.92326354980469,107.74288940429688,109.91901397705078,112.39879608154297,115.0840072631836,117.84378051757812,120.53164672851562,123.0031967163086,125.13028717041016,126.81011199951172,127.96851348876953,128.558837890625],[58.486846923828125,58.462623596191406,58.4140625,58.340938568115234,58.24311828613281,58.120849609375,57.97498321533203,57.807273864746094,57.62058639526367,57.419090270996094,57.20820617675781,56.99436569213867,56.78471374511719,56.586612701416016,56.407196044921875,56.25275421142578,56.128387451171875,56.037662506103516,55.98243713378906,55.962833404541016,55.977317810058594,56.022953033447266,56.095638275146484,56.19037628173828,56.301551818847656,56.423099517822266,56.54867935180664,56.67185974121094,56.78634262084961,56.886295318603516,56.966670989990234,57.023590087890625,57.05476760864258,57.05985641479492,57.040496826171875,57.00027847290039,56.94449234008789,56.87969970703125,56.81312942504883,56.752140045166016,56.70366668701172,56.673824310302734,56.667667388916016,56.68927764892578,56.74179458618164,56.82753372192383,56.947837829589844,57.10296630859375,57.291446685791016,57.5096435546875,57.75126266479492,58.00741195678711,58.26707077026367,58.518333435058594,58.750003814697266,58.95319747924805,59.12261962890625,59.25728225708008,59.36011505126953,59.436885833740234,59.49441146850586,59.538875579833984,59.57436752319336,59.60213088989258,59.620689392089844,59.626495361328125,59.61501693725586,59.58198928833008,59.524200439453125,59.4401741027832,59.330448150634766,59.197479248046875,59.045528411865234,58.88021469116211,58.708072662353516,58.535884857177734,58.36992645263672,58.21512222290039,58.07455825805664,57.94911193847656,57.837677001953125,57.737606048583984,57.64559555053711,57.55830764770508,57.473060607910156,57.388065338134766,57.302337646484375,57.215370178222656,57.126853942871094,57.03664016723633,56.944766998291016,56.85200119018555,56.760284423828125,56.67329025268555,56.596473693847656,56.53690719604492,56.50269317626953,56.50199508666992,56.54181671142578,56.627288818359375,56.7607536315918,56.94165802001953,57.16657257080078,57.429630279541016,57.723201751708984,58.0384521484375,58.3660888671875,58.696861267089844,59.02217483520508,59.33465576171875,59.62858581542969,59.90024185180664,60.14820861816406,60.37334060668945,60.5783805847168,60.767398834228516,60.94526672363281,61.11700439453125,61.28723907470703,61.45995330810547,61.63853454589844,61.825931549072266,62.025062561035156,62.23912048339844,62.47214889526367,62.72908401489258,63.015892028808594,63.339263916015625,63.70601272583008,64.12213897705078,64.5916519165039,65.11531829833984,65.6894760131836,66.30543518066406,66.94941711425781,67.60342407226562,68.24700164794922,68.8596420288086,69.4238510131836,69.92820739746094,70.37007141113281,70.7574462890625,71.10956573486328,71.4556655883789,71.83281707763672,72.28208923339844,72.84420013427734,73.55474090576172,74.44031524658203,75.51570129394531,76.78276062011719,78.23110961914062,79.84029388427734,81.58284759521484,83.42760467529297,85.34257507324219,87.29639434814453,89.25833129882812,91.19752502441406,93.08145904541016,94.87518310546875,96.54205322265625,98.04683685302734,99.36128234863281,100.47142028808594,101.38489532470703,102.13671112060547,102.79098510742188,103.4370346069336,104.17982482910156,105.12500762939453,106.36177825927734,107.9464340209961,109.89002227783203,112.15323638916016,114.64971160888672,117.25675201416016,119.8311767578125,122.22676849365234,124.3093032836914,125.96733856201172,127.11760711669922,127.7059555053711],[57.71041488647461,57.67965316772461,57.618656158447266,57.52843475341797,57.41059112548828,57.2674560546875,57.102108001708984,56.91843795776367,56.72113037109375,56.51564025878906,56.3079833984375,56.104488372802734,55.91154098510742,55.73525619506836,55.58122634887695,55.454158782958984,55.357688903808594,55.29415512084961,55.26441192626953,55.26778793334961,55.3019905090332,55.363277435302734,55.44658660888672,55.5457763671875,55.653961181640625,55.76381301879883,55.86790084838867,55.95911407470703,56.03105545043945,56.0785026550293,56.09781265258789,56.08727264404297,56.04740905761719,55.981143951416016,55.89364242553711,55.79199981689453,55.68475341796875,55.58124542236328,55.4908447265625,55.42225646972656,55.38290023803711,55.37846755981445,55.41263198852539,55.48722457885742,55.602352142333984,55.756690979003906,55.94759750366211,56.17129898071289,56.42265701293945,56.69502639770508,56.9800910949707,57.26810073852539,57.54836654663086,57.81044387817383,58.045475006103516,58.247474670410156,58.41422653198242,58.547672271728516,58.65317153930664,58.73822021484375,58.81053161621094,58.87632751464844,58.93899917602539,58.99850082397461,59.05171203613281,59.093326568603516,59.117156982421875,59.117530822753906,59.09019088745117,59.032989501953125,58.94613265991211,58.83202362060547,58.69511032104492,58.5413932800293,58.37794494628906,58.212249755859375,58.05146408081055,57.901512145996094,57.76655960083008,57.64851760864258,57.54716873168945,57.4604606628418,57.38529586791992,57.31809616088867,57.25545883178711,57.19453430175781,57.133026123046875,57.06916427612305,57.00157165527344,56.92948913574219,56.852989196777344,56.77352523803711,56.69438552856445,56.621089935302734,56.561180114746094,56.52383041381836,56.51897048950195,56.556148529052734,56.64320755004883,56.78555679321289,56.985347747802734,57.241432189941406,57.549495697021484,57.90253829956055,58.29157638549805,58.70621871948242,59.13534927368164,59.567630767822266,59.9921875,60.399208068847656,60.78053283691406,61.130157470703125,61.444732666015625,61.7236328125,61.968719482421875,62.18376922607422,62.37393569946289,62.54499435424805,62.702728271484375,62.85257339477539,62.999610900878906,63.14871597290039,63.30498123168945,63.47404479980469,63.66266632080078,63.87871551513672,64.1311264038086,64.42937469482422,64.78260803222656,65.1983642578125,65.68119812011719,66.23117065429688,66.84264373779297,67.50374603271484,68.1966781616211,68.89894104003906,69.585693359375,70.2327651977539,70.82022094726562,71.33596801757812,71.77867889404297,72.1596908569336,72.50335693359375,72.84540557861328,73.22994995117188,73.70481872558594,74.31623840332031,75.10321044921875,76.09285736083984,77.29729461669922,78.71253204345703,80.31965637207031,82.0878677368164,83.97871398925781,85.95074462890625,87.96353912353516,89.98014068603516,91.96753692626953,93.89598846435547,95.73699951171875,97.46157836914062,99.03973388671875,100.44221496582031,101.64484405517578,102.635009765625,103.41881561279297,104.02739715576172,104.51992797851562,104.9814682006836,105.51516723632812,106.22864532470703,107.2175521850586,108.54864501953125,110.24610137939453,112.28419494628906,114.58824920654297,117.04331970214844,119.50874328613281,121.83541107177734,123.88165283203125,125.52588653564453,126.67431640625,127.26415252685547],[57.09259796142578,57.059364318847656,56.993690490722656,56.8971061706543,56.771949768066406,56.62147521972656,56.44976043701172,56.261695861816406,56.06278991699219,55.85902404785156,55.6566047668457,55.46162033081055,55.2798957824707,55.116737365722656,54.976837158203125,54.86406707763672,54.78139877319336,54.730743408203125,54.712738037109375,54.72661209106445,54.77000427246094,54.83893966674805,54.92792510986328,55.03010559082031,55.137630462646484,55.242069244384766,55.33489990234375,55.408119201660156,55.454811096191406,55.46977996826172,55.45002746582031,55.3951301574707,55.30748748779297,55.19232177734375,55.057373046875,54.912330627441406,54.76817321777344,54.63629150390625,54.52760696411133,54.451759338378906,54.416465759277344,54.42705154418945,54.48619079589844,54.59415054321289,54.748985290527344,54.94694900512695,55.182769775390625,55.450050354003906,55.74127197265625,56.047889709472656,56.36037826538086,56.668601989746094,56.96232986450195,57.232337951660156,57.47157287597656,57.676151275634766,57.846012115478516,57.98497009277344,58.09981155395508,58.19883728027344,58.28990173339844,58.37873077392578,58.46771240234375,58.55545425415039,58.63734817504883,58.706661224365234,58.75603485107422,58.77896499633789,58.77077102661133,58.72922134399414,58.65474319458008,58.550106048583984,58.420223236083984,58.27156066894531,58.1116828918457,57.948570251464844,57.78996658325195,57.64247512817383,57.51101303100586,57.39830017089844,57.30485153198242,57.22917175292969,57.168426513671875,57.118900299072266,57.07661437988281,57.03776931762695,56.998863220214844,56.95685577392578,56.909305572509766,56.854766845703125,56.79326248168945,56.72691345214844,56.66036605834961,56.60107421875,56.55886459350586,56.54526138305664,56.572357177734375,56.651432037353516,56.79154586791992,56.998722076416016,57.275184631347656,57.61935806274414,58.026084899902344,58.48712158203125,58.99190902709961,59.528141021728516,60.08243942260742,60.640907287597656,61.189857482910156,61.716495513916016,62.20965576171875,62.66048812866211,63.0631103515625,63.41482925415039,63.71604919433594,63.96974182128906,64.18093872070312,64.35591125488281,64.50153350830078,64.62480926513672,64.73284912109375,64.83299255371094,64.93321990966797,65.04251098632812,65.1713638305664,65.33171081542969,65.53656768798828,65.79928588867188,66.1322021484375,66.54505920410156,67.04317474365234,67.62576293945312,68.28459167480469,69.00366973876953,69.75993347167969,70.52503204345703,71.26844787597656,71.96122741699219,72.58027648925781,73.11245727539062,73.55782318115234,73.93155670166016,74.26402282714844,74.59852600097656,74.98751068115234,75.48688507080078,76.14961242675781,77.01909637451172,78.12366485595703,79.47307586669922,81.05738830566406,82.8486099243164,84.8047103881836,86.87510681152344,89.0066909790039,91.14920043945312,93.25861358642578,95.29821014404297,97.2380142211914,99.05231475830078,100.7170639038086,102.2082290649414,103.50227355957031,104.57941436767578,105.42933654785156,106.05811309814453,106.49500274658203,106.79649353027344,107.04566192626953,107.34586334228516,107.80835723876953,108.536376953125,109.60772705078125,111.05977630615234,112.87997436523438,115.00452423095703,117.32501983642578,119.7017822265625,121.98094940185547,124.01142883300781,125.65946960449219,126.81893920898438,127.41707611083984],[56.59308624267578,56.56010437011719,56.49494934082031,56.39917755126953,56.27520751953125,56.126426696777344,55.95709228515625,55.772281646728516,55.5776481628418,55.37919998168945,55.18301010131836,54.994869232177734,54.82017135620117,54.66374206542969,54.52983093261719,54.4219970703125,54.343135833740234,54.295284271240234,54.27938461303711,54.295074462890625,54.340335845947266,54.411399841308594,54.502685546875,54.60694122314453,54.71561813354492,54.81935501098633,54.90861511230469,54.974449157714844,55.00923156738281,55.007442474365234,54.966243743896484,54.88589096069336,54.76993942260742,54.6251335144043,54.46096420288086,54.28893280029297,54.121665954589844,53.97193145751953,53.851627349853516,53.770904541015625,53.737552642822266,53.756526947021484,53.82977294921875,53.95650863647461,54.13350296020508,54.35556411743164,54.61589050292969,54.906578063964844,55.21879959106445,55.54302978515625,55.86920166015625,56.187198638916016,56.48735809326172,56.76149368286133,57.00392150878906,57.21224594116211,57.387786865234375,57.53547286987305,57.66273880004883,57.778053283691406,57.888912200927734,58.000240325927734,58.11328125,58.2253532409668,58.33053207397461,58.42097091674805,58.48850631713867,58.526214599609375,58.52939224243164,58.496150970458984,58.42744827270508,58.32670211791992,58.19941329956055,58.05254364013672,57.89403533935547,57.73216247558594,57.5749626159668,57.429405212402344,57.300872802734375,57.19266128540039,57.10589599609375,57.039615631103516,56.99134063720703,56.957374572753906,56.933372497558594,56.91477584838867,56.897010803222656,56.8758659362793,56.847808837890625,56.81065368652344,56.76427459716797,56.711360931396484,56.65787887573242,56.61324691772461,56.58970260620117,56.60134506225586,56.662742614746094,56.78728103637695,56.98561477661133,57.26477813720703,57.627376556396484,58.071624755859375,58.591636657714844,59.17790985107422,59.81815719604492,60.49794006347656,61.2012825012207,61.91135787963867,62.61124801635742,63.28470993041992,63.91706466674805,64.49600219726562,65.01244354248047,65.46089935302734,65.83955383300781,66.14984130859375,66.39603424072266,66.58441162109375,66.72264862060547,66.81929016113281,66.88368225097656,66.92608642578125,66.95806884765625,66.99282836914062,67.04563903808594,67.133544921875,67.27483367919922,67.48774719238281,67.78876495361328,68.1904525756836,68.69924926757812,69.31350708007812,70.02201080322266,70.80392456054688,71.62995910644531,72.46488952636719,73.27147674560547,74.01513671875,74.66900634765625,75.21863555908203,75.66552734375,76.02910614013672,76.34639739990234,76.66915130615234,77.05915832519531,77.58142852783203,78.29666900634766,79.25353240966797,80.48225402832031,81.99053192138672,83.76251220703125,85.76077270507812,87.9313735961914,90.21060943603516,92.5325927734375,94.83586883544922,97.06798553466797,99.18712615966797,101.16168975830078,102.96746063232422,104.5842056274414,105.99303436279297,107.17578887939453,108.1173095703125,108.81046295166016,109.26289367675781,109.50408935546875,109.5903549194336,109.60531616210938,109.6548843383789,109.8558349609375,110.32019805908203,111.13736724853516,112.35774230957031,113.98114013671875,115.95329284667969,118.17054748535156,120.49205780029297,122.75685119628906,124.80194091796875,126.47906494140625,127.66770935058594,128.2836151123047],[56.17764663696289,56.146602630615234,56.08517837524414,55.99467468261719,55.8771858215332,55.73574447631836,55.574275970458984,55.39754104614258,55.21089172363281,55.020023345947266,54.830665588378906,54.64826202392578,54.477867126464844,54.32402801513672,54.19084930419922,54.08195877075195,54.00052261352539,53.949066162109375,53.929176330566406,53.94118118286133,53.98369598388672,54.053382873535156,54.14481735229492,54.25059509277344,54.36168670654297,54.467994689941406,54.55912399291992,54.62525939941406,54.65803527832031,54.651493072509766,54.6026725769043,54.5120964050293,54.38394546508789,54.225852966308594,54.04837417602539,53.86406326293945,53.68650817871094,53.52920150756836,53.40446472167969,53.322574615478516,53.2911491394043,53.31475067138672,53.394771575927734,53.529788970947266,53.71586990356445,53.9471435546875,54.21613693237305,54.51432800292969,54.83243942260742,55.160675048828125,55.48898696899414,55.807586669921875,56.107460021972656,56.38129806518555,56.62443161010742,56.83545684814453,57.016510009765625,57.17304229736328,57.31264114379883,57.44352340698242,57.57256317138672,57.70377731323242,57.837303161621094,57.96929931640625,58.09274673461914,58.19894027709961,58.27915954589844,58.326324462890625,58.33595275878906,58.30668258666992,58.240177154541016,58.140586853027344,58.01405334472656,57.86798858642578,57.710594177246094,57.55023956298828,57.39501190185547,57.25197219848633,57.12672424316406,57.02294158935547,56.942264556884766,56.88427734375,56.84693908691406,56.82677459716797,56.81930160522461,56.819419860839844,56.82167053222656,56.82075881958008,56.81207275390625,56.792625427246094,56.76200485229492,56.72334289550781,56.683815002441406,56.6547737121582,56.65093994140625,56.68915939331055,56.7867317199707,56.959503173828125,57.22011184692383,57.57698059082031,58.033451080322266,58.58781814575195,59.233638763427734,59.96025848388672,60.753665924072266,61.59719467163086,62.4721565246582,63.35859680175781,64.2361068725586,65.08467102050781,65.88563537597656,66.6226577758789,67.28276062011719,67.85680389404297,68.3398208618164,68.73076629638672,69.03224182128906,69.24983215332031,69.39146423339844,69.46697998046875,69.48799896240234,69.46802520751953,69.42277526855469,69.37043762207031,69.33197021484375,69.33060455322266,69.39087677001953,69.53695678710938,69.79031372070312,70.16705322265625,70.67518615722656,71.31237030029297,72.06432342529297,72.90503692626953,73.79846954345703,74.70185852050781,75.57064056396484,76.3640365600586,77.05099487304688,77.61553192138672,78.06060028076172,78.41001892089844,78.70782470703125,79.01470947265625,79.40238189697266,79.94563293457031,80.71360778808594,81.76093292236328,83.12027740478516,84.79776763916016,86.77178192138672,88.9953842163086,91.40231323242188,93.91505432128906,96.4539566040039,98.94523620605469,101.32673645019531,103.55018615722656,105.58098602294922,107.3951187133789,108.97505950927734,110.30625915527344,111.37561798095703,112.17285919189453,112.69499206542969,112.95284271240234,112.97836303710938,112.83016967773438,112.59506225585938,112.38383483886719,112.32059478759766,112.5273208618164,113.10535430908203,114.1176528930664,115.5753402709961,117.43196868896484,119.58650207519531,121.89450073242188,124.18526458740234,126.28126525878906,128.01724243164062,129.25621032714844,129.90087890625],[55.818824768066406,55.7906379699707,55.73472213745117,55.651973724365234,55.54396057128906,55.413108825683594,55.26271438598633,55.096946716308594,54.92058181762695,54.73878479003906,54.55682373046875,54.379737854003906,54.2122917175293,54.05888366699219,53.923667907714844,53.8105354309082,53.72314453125,53.66471481323242,53.637630462646484,53.643070220947266,53.68039321899414,53.74681854248047,53.83722686767578,53.944210052490234,54.0584602355957,54.16935729980469,54.2658576965332,54.337467193603516,54.37522888183594,54.372745513916016,54.326847076416016,54.23808288574219,54.11086654663086,53.95319747924805,53.77607727050781,53.59246826171875,53.416255950927734,53.26104736328125,53.139095306396484,53.06041717529297,53.032264709472656,53.05876159667969,53.14088439941406,53.27686309814453,53.46253967285156,53.69193649291992,53.95756149291992,54.2509880065918,54.5631217956543,54.88446807861328,55.20541763305664,55.5167350769043,55.81010055541992,56.078941345214844,56.31930160522461,56.53037643432617,56.71469497680664,56.87782669067383,57.027191162109375,57.170536041259766,57.31406021118164,57.46091079711914,57.61027526855469,57.757362365722656,57.8942985534668,58.011722564697266,58.10055160522461,58.15367126464844,58.16689682006836,58.139427185058594,58.073646545410156,57.97441482543945,57.84846878051758,57.703590393066406,57.548118591308594,57.390357971191406,57.23826599121094,57.09877395629883,56.97752380371094,56.87842559814453,56.80353927612305,56.753013610839844,56.725364685058594,56.7175178527832,56.72506332397461,56.742610931396484,56.76399612426758,56.782962799072266,56.793846130371094,56.79277420043945,56.778934478759766,56.7557258605957,56.73139190673828,56.7191162109375,56.736087799072266,56.8019905090332,56.93704605102539,57.159828186035156,57.48529815673828,57.92362594604492,58.4792594909668,59.1508903503418,59.93181610107422,60.810455322265625,61.77126693725586,62.79550552368164,63.86186599731445,64.94729614257812,66.02787017822266,67.07962036132812,68.07958221435547,69.00688934326172,69.84391784667969,70.57696533203125,71.19683074951172,71.69886779785156,72.08292388916016,72.35285186767578,72.51611328125,72.58331298828125,72.56816864013672,72.48751831054688,72.36160278320312,72.21419525146484,72.07266235351562,71.96724700927734,71.92961120605469,71.99066162109375,72.17766571044922,72.51094818115234,73.00067138671875,73.64421081542969,74.42451477050781,75.3105239868164,76.25945281982422,77.22093200683594,78.14291381835938,78.97823333740234,79.6915054321289,80.26504516601562,80.70309448242188,81.03376007080078,81.3080062866211,81.595458984375,81.97782135009766,82.53990173339844,83.35962677001953,84.49803161621094,85.99078369140625,87.84295654296875,90.0275650024414,92.48839569091797,95.14678955078125,97.91105651855469,100.68709564208984,103.38780975341797,105.94013977050781,108.28804016113281,110.39254760742188,112.22856903076172,113.78018188476562,115.03648376464844,115.98917388916016,116.63327026367188,116.97099304199219,117.0180435180664,116.81100463867188,116.41329956054688,115.91728210449219,115.44078063964844,115.11676025390625,115.07801055908203,115.43785095214844,116.27114868164062,117.5989761352539,119.38091278076172,121.51638793945312,123.85490417480469,126.21353149414062,128.39768981933594,130.2228240966797,131.5335235595703,132.21803283691406],[55.49595260620117,55.47103500366211,55.421417236328125,55.34755325317383,55.250423431396484,55.13175582885742,54.99409103393555,54.84086608886719,54.676151275634766,54.50446319580078,54.330528259277344,54.15894317626953,53.99420928955078,53.84065246582031,53.70256805419922,53.584224700927734,53.48988342285156,53.42351531982422,53.38835906982422,53.386444091796875,53.41788864135742,53.48048782348633,53.56946563720703,53.67752456665039,53.79523849487305,53.911685943603516,54.015438079833984,54.0955924987793,54.142826080322266,54.150455474853516,54.115150451660156,54.03736114501953,53.92146682739258,53.77541732788086,53.61012268066406,53.438358306884766,53.27370071411133,53.129329681396484,53.016963958740234,52.946048736572266,52.92326354980469,52.9522705078125,53.033729553222656,53.165771484375,53.34434509277344,53.56381607055664,53.81717300415039,54.096588134765625,54.39365768432617,54.69960021972656,55.005550384521484,55.30300521850586,55.58433151245117,55.843563079833984,56.077213287353516,56.284767150878906,56.46882247924805,56.634803771972656,56.789772033691406,56.94095993041992,57.093929290771484,57.25112533569336,57.4110107421875,57.568111419677734,57.71392822265625,57.838653564453125,57.93294906616211,57.98970413208008,58.00499725341797,57.9785270690918,57.91327667236328,57.81471633911133,57.69005584716797,57.54735565185547,57.39497756958008,57.24106216430664,57.093292236328125,56.95835494995117,56.84177017211914,56.747581481933594,56.67822265625,56.6344108581543,56.615291595458984,56.61835479736328,56.63948440551758,56.6732063293457,56.71284866333008,56.75132751464844,56.781986236572266,56.8000373840332,56.804141998291016,56.79779815673828,56.79013442993164,56.79600143432617,56.83494567871094,56.92945861816406,57.10274887084961,57.37627410888672,57.76755142211914,58.28881072998047,58.9459342956543,59.7384033203125,60.659637451171875,61.69753646850586,62.83543395996094,64.05289459228516,65.32637023925781,66.6300048828125,67.93653869628906,69.21807098388672,70.4471664428711,71.59796142578125,72.64749145507812,73.57654571533203,74.37056732177734,75.02005004882812,75.52079010009766,75.87378692626953,76.08499145507812,76.16507720947266,76.12939453125,75.99796295166016,75.79564666748047,75.5521011352539,75.30158233642578,75.08183288574219,74.93223571777344,74.89103698730469,74.99188995361328,75.2599868774414,75.7082748413086,76.33451080322266,77.11955261230469,78.02794647216797,79.01080322265625,80.01068115234375,80.9684829711914,81.83097076416016,82.55850219726562,83.1316146850586,83.5555648803711,83.86231231689453,84.10919952392578,84.37423706054688,84.74864196777344,85.32688903808594,86.1956558227539,87.42259216308594,89.04685974121094,91.07311248779297,93.46973419189453,96.17182922363281,99.08873748779297,102.11459350585938,105.14046478271484,108.06520080566406,110.80371856689453,113.29084777832031,115.48188018798828,117.34925079345703,118.87759399414062,120.05895233154297,120.8897476196289,121.37080383300781,121.5107421875,121.3318862915039,120.8775863647461,120.21833038330078,119.45418548583984,118.71166229248047,118.1337661743164,117.86446380615234,118.02875518798828,118.71249389648438,119.9453125,121.69108581542969,123.84771728515625,126.25663757324219,128.72056579589844,131.02584838867188,132.96678161621094,134.367919921875,135.1019287109375],[55.19460678100586,55.17301559448242,55.129825592041016,55.06507873535156,54.979183197021484,54.8731689453125,54.74882125854492,54.608802795410156,54.45643997192383,54.29554748535156,54.13026809692383,53.96476364135742,53.80328369140625,53.650115966796875,53.5097541809082,53.38689422607422,53.286399841308594,53.212989807128906,53.17070007324219,53.16231918334961,53.18863296508789,53.2479362487793,53.33577346801758,53.44499969482422,53.566184997558594,53.68833923339844,53.7999153137207,53.88991928100586,53.948970794677734,53.970359802246094,53.950714111328125,53.89039993286133,53.793575286865234,53.6678352355957,53.523536682128906,53.37275695800781,53.22823715209961,53.10221862792969,53.005496978759766,52.946651458740234,52.931640625,52.963626861572266,53.04304122924805,53.168087005615234,53.33509063720703,53.5390625,53.773841857910156,54.032569885253906,54.307891845703125,54.592041015625,54.87711715698242,55.15544128417969,55.42007064819336,55.66551971435547,55.88856506347656,56.088741302490234,56.268489837646484,56.43290328979492,56.58860397338867,56.74231719970703,56.89909362792969,57.0609016418457,57.22574234008789,57.38772201538086,57.537986755371094,57.66643142700195,57.76356506347656,57.82227325439453,57.83880615234375,57.813201904296875,57.74888610839844,57.6517448425293,57.529335021972656,57.38986587524414,57.24164962768555,57.09257888793945,56.94999694824219,56.82025909423828,56.70869445800781,56.61939239501953,56.55510711669922,56.517120361328125,56.505252838134766,56.517669677734375,56.55072784423828,56.59907531738281,56.655738830566406,56.71298599243164,56.763267517089844,56.800907135009766,56.82398223876953,56.8359375,56.8465690612793,56.872161865234375,56.934391021728516,57.05839157104492,57.2702522277832,57.59431076049805,58.05075454711914,58.65407180786133,59.41190719604492,60.3249397277832,61.387203216552734,62.58665466308594,63.906131744384766,65.32416534423828,66.8155746459961,68.3522720336914,69.90403747558594,71.43926239013672,72.92597198486328,74.33297729492188,75.63133239746094,76.79540252685547,77.80415344238281,78.64193725585938,79.2991943359375,79.77277374267578,80.06599426269531,80.18867492675781,80.1571044921875,79.99405670166016,79.72882843017578,79.39690399169922,79.03947448730469,78.70198059082031,78.43168640136719,78.27444458007812,78.27064514160156,78.45079803466797,78.83128356933594,79.41109466552734,80.17003631591797,81.0694580078125,82.05559539794922,83.065185546875,84.0331039428711,84.90087127685547,85.62503051757812,86.18437194824219,86.58480834960938,86.86139678955078,87.0768814086914,87.31649017333984,87.67990112304688,88.2704086303711,89.18292236328125,90.49169921875,92.23983001708984,94.43236541748047,97.03410339355469,99.97254943847656,103.14590454101562,106.43468475341797,109.71513366699219,112.87149047851562,115.80563354492188,118.4419174194336,120.72828674316406,122.63326263427734,124.14077758789062,125.2451400756836,125.94740295410156,126.25482177734375,126.18366241455078,125.76466369628906,125.04998779296875,124.11919403076172,123.08179473876953,122.07425689697266,121.25015258789062,120.76457214355469,120.75352478027344,121.31271362304688,122.47896575927734,124.21894836425781,126.42756652832031,128.93673706054688,131.53346252441406,133.98374938964844,136.0595703125,137.5644989013672,138.35484313964844],[54.90569305419922,54.88726043701172,54.85020065307617,54.7942008972168,54.71916198730469,54.62549591064453,54.514278411865234,54.38744354248047,54.24757766723633,54.097808837890625,53.941707611083984,53.78301239013672,53.62574768066406,53.474212646484375,53.33311080932617,53.207576751708984,53.10304641723633,53.0248908996582,52.977806091308594,52.965187072753906,52.98830032348633,53.0457878112793,53.13341522216797,53.244163513183594,53.36870193481445,53.49613952636719,53.6151008605957,53.714839935302734,53.7862548828125,53.82292175292969,53.82164001464844,53.78276062011719,53.71017074584961,53.610862731933594,53.49431610107422,53.3714714050293,53.2537727355957,53.15213394165039,53.07606887817383,53.03305435180664,53.02819061279297,53.06412124633789,53.14110565185547,53.25754165649414,53.41031265258789,53.595298767089844,53.80741882324219,54.041046142578125,54.29009246826172,54.548030853271484,54.808048248291016,55.06336212158203,55.30768585205078,55.53591537475586,55.744937896728516,55.934146881103516,56.10565948486328,56.264137268066406,56.415714263916016,56.56666946411133,56.72169876098633,56.88248825073242,57.046852111816406,57.20874786376953,57.35919952392578,57.48799133300781,57.585548400878906,57.64474105834961,57.6618766784668,57.63716506958008,57.574249267578125,57.47925567626953,57.359901428222656,57.22443771362305,57.08104705810547,56.937355041503906,56.80033493041992,56.67597198486328,56.569358825683594,56.48457336425781,56.42462158203125,56.39130401611328,56.38512420654297,56.40499496459961,56.44786834716797,56.50870132446289,56.58045196533203,56.65496826171875,56.72398376464844,56.78106689453125,56.823699951171875,56.85518264770508,56.88574981689453,56.93281936645508,57.01985549926758,57.17429733276367,57.42482376098633,57.798492431640625,58.31809997558594,59.000511169433594,59.85539627075195,60.885066986083984,62.08476638793945,63.443233489990234,64.9436264038086,66.56429290771484,68.27928924560547,70.05902862548828,71.87091827392578,73.67998504638672,75.44976806640625,77.14351654052734,78.72577667236328,80.1636962890625,81.4287338256836,82.4979019165039,83.35507202148438,83.99166107177734,84.4072265625,84.60968017578125,84.61539459228516,84.44923400878906,84.14437103271484,83.74173736572266,83.28911590576172,82.83931732177734,82.44723510742188,82.1661605834961,82.04319763183594,82.11438751220703,82.40010070800781,82.90145874023438,83.5985336303711,84.4510726928711,85.40229034423828,86.38489532470703,87.32950592041016,88.17366790771484,88.87097930908203,89.39872741699219,89.76305389404297,90.00118255615234,90.1798095703125,90.38978576660156,90.73760986328125,91.33403778076172,92.28130340576172,93.66000366210938,95.51751708984375,97.86033630371094,100.65106964111328,103.81121063232422,107.2293472290039,110.77342224121094,114.30533599853516,117.69451141357422,120.828857421875,123.62079620361328,126.0091781616211,127.95682525634766,129.44552612304688,130.47093200683594,131.03851318359375,131.16253662109375,130.86817932128906,130.19625854492188,129.2096710205078,127.99882507324219,126.68403625488281,125.41243743896484,124.34828186035156,123.65717315673828,123.48514556884766,123.93648529052734,125.05392456054688,126.80582427978516,129.08323669433594,131.7079315185547,134.45079040527344,137.05714416503906,139.27642822265625,140.8909912109375,141.74069213867188],[54.624324798583984,54.60873794555664,54.57722854614258,54.529197692871094,54.46414566040039,54.38195037841797,54.28308868408203,54.16883087158203,54.04110336303711,53.90238571166992,53.7557258605957,53.60449981689453,53.452552795410156,53.304229736328125,53.16448211669922,53.038848876953125,52.93327331542969,52.85364532470703,52.80514144897461,52.7915153503418,52.81428909301758,52.87221908569336,52.96113204956055,53.07406997680664,53.20183563232422,53.33378982543945,53.458988189697266,53.56724166870117,53.65010070800781,53.70173645019531,53.71939468383789,53.703556060791016,53.657840728759766,53.588531494140625,53.50398635864258,53.413692474365234,53.32746505737305,53.254547119140625,53.202903747558594,53.17872619628906,53.186153411865234,53.227264404296875,53.30219268798828,53.409610748291016,53.547054290771484,53.711395263671875,53.89877700805664,54.10494613647461,54.32521057128906,54.55438232421875,54.786834716796875,55.01668930053711,55.23828887939453,55.44683074951172,55.63919448852539,55.814510345458984,55.97446060180664,56.123199462890625,56.26636505126953,56.409847259521484,56.558101654052734,56.71274185180664,56.87161636352539,57.028785705566406,57.17536544799805,57.30121612548828,57.39677429199219,57.45488357543945,57.47182846069336,57.447811126708984,57.38650131225586,57.29404830932617,57.17817306518555,57.04704284667969,56.90867614746094,56.77039337158203,56.63880920410156,56.5195426940918,56.417415618896484,56.33643341064453,56.2797737121582,56.249671936035156,56.247276306152344,56.272239685058594,56.32221221923828,56.392635345458984,56.47665023803711,56.56596755981445,56.65188980102539,56.7274284362793,56.78959655761719,56.841461181640625,56.89351272583008,56.963924407958984,57.07750701904297,57.26350021362305,57.552738189697266,57.97464370727539,58.55442810058594,59.311336517333984,60.25728988647461,61.39667892456055,62.72659683227539,64.23738861083984,65.91349792480469,67.73409271240234,69.67342376708984,71.70127868652344,73.78335571289062,75.88174438476562,77.95565795898438,79.96265411376953,81.86036682128906,83.60809326171875,85.1689682006836,86.51177215576172,87.61270904541016,88.45675659179688,89.03860473632812,89.3632583618164,89.4462661743164,89.3136978149414,89.00182342529297,88.55620574951172,88.03046417236328,87.48400115966797,86.97860717773438,86.5743179321289,86.3244857788086,86.27056121826172,86.43717956542969,86.82844543457031,87.42607879638672,88.19013977050781,89.06304168701172,89.97587585449219,90.85720825195312,91.64250946044922,92.28366088867188,92.75694274902344,93.06842041015625,93.25637817382812,93.38983154296875,93.563232421875,93.8878173828125,94.47998809814453,95.44806671142578,96.87847900390625,98.82328033447266,101.29151153564453,104.24542236328125,107.6026382446289,111.24420166015625,115.02723693847656,118.80030059814453,122.41812133789062,125.75389099121094,128.70657348632812,131.2039337158203,133.20095825195312,134.67543029785156,135.62301635742188,136.05313110351562,135.98739624023438,135.4608917236328,134.52613830566406,133.2584228515625,131.76052856445312,130.16456604003906,128.62869262695312,127.32747650146484,126.43609619140625,126.10933685302734,126.45872497558594,127.5318374633789,129.2980499267578,131.64437866210938,134.3827362060547,137.2684783935547,140.0270538330078,142.38612365722656,144.1074981689453,145.01498413085938],[54.348514556884766,54.33537292480469,54.308650970458984,54.26754379272461,54.21125411987305,54.139251708984375,54.051509857177734,53.948753356933594,53.832332611083984,53.70418167114258,53.56690979003906,53.423606872558594,53.278018951416016,53.13459396362305,52.998538970947266,52.875789642333984,52.77268981933594,52.695491790771484,52.64961242675781,52.63890838623047,52.66484832763672,52.7260627746582,52.81822204589844,52.93431854248047,53.065277099609375,53.200836181640625,53.330684661865234,53.44548797607422,53.53777313232422,53.602630615234375,53.63801574707031,53.644744873046875,53.62623977661133,53.58806228637695,53.53731155395508,53.48184585571289,53.42961883544922,53.38799285888672,53.36319351196289,53.3599853515625,53.3814697265625,53.42913055419922,53.50297164916992,53.60196304321289,53.72434997558594,53.868019104003906,54.03038787841797,54.20861053466797,54.399444580078125,54.59907150268555,54.80305862426758,55.00642776489258,55.20412063598633,55.39157485961914,55.565589904785156,55.7249641418457,55.870872497558594,56.006919860839844,56.138240814208984,56.270389556884766,56.40766525268555,56.55175018310547,56.70071029663086,56.84891891479492,56.98780822753906,57.10747528076172,57.19849395751953,57.253719329833984,57.269351959228516,57.245452880859375,57.18553924560547,57.095603942871094,56.98320388793945,56.85633087158203,56.7227668762207,56.58953857421875,56.462921142578125,56.348167419433594,56.24980926513672,56.17170715332031,56.11710739135742,56.08857345581055,56.08777618408203,56.11508560180664,56.16889190673828,56.24529266357422,56.33787536621094,56.43854522705078,56.53854751586914,56.63065719604492,56.71158218383789,56.78419494628906,56.85901641845703,56.95460510253906,57.0965690612793,57.31535720825195,57.643367767333984,58.111900329589844,58.74828338623047,59.574066162109375,60.60358810424805,61.843746185302734,63.294158935546875,64.94763946533203,66.7908706665039,68.80490112304688,70.96514129638672,73.24163055419922,75.59901428222656,77.99689483642578,80.39033508300781,82.73117065429688,84.96991729736328,87.0576400756836,88.94866180419922,90.60289764404297,91.98826599121094,93.08251953125,93.87472534179688,94.3661117553711,94.57050323486328,94.51424407958984,94.23565673828125,93.78390502929688,93.21723937988281,92.6004409790039,92.00090789794922,91.48426055908203,91.10913848876953,90.9217758178711,90.9510269165039,91.20455932617188,91.66705322265625,92.30084228515625,93.05001068115234,93.84676361083984,94.62027740478516,95.30628967285156,95.85660552978516,96.24730682373047,96.48426055908203,96.60577392578125,96.68142700195312,96.80702209472656,97.09619903564453,97.66888427734375,98.6379623413086,100.09497833251953,102.09696960449219,104.6568603515625,107.73865509033203,111.25870513916016,115.09326171875,119.09095001220703,123.08859252929688,126.92679595947266,130.46347045898438,133.5826416015625,136.1986846923828,138.25628662109375,139.726806640625,140.60414123535156,140.90061950683594,140.64505004882812,139.88320922851562,138.68048095703125,137.12600708007812,135.33621215820312,133.45571899414062,131.6537628173828,130.11459350585938,129.02183532714844,128.53758239746094,128.77935791015625,129.7986602783203,131.565673828125,133.96388244628906,136.7965087890625,139.80496215820312,142.6967010498047,145.17938232421875,146.995849609375,147.95498657226562],[54.07803726196289,54.066898345947266,54.04412078857422,54.00876235961914,53.95983123779297,53.89649200439453,53.8183479309082,53.725685119628906,53.6193962097168,53.50099182128906,53.372745513916016,53.237579345703125,53.0992317199707,52.96231460571289,52.83233642578125,52.71556854248047,52.6186637878418,52.54804992675781,52.5091438293457,52.50559997558594,52.53853988647461,52.606170654296875,52.703800201416016,52.824222564697266,52.95846176147461,53.096702575683594,53.22944641113281,53.34843826293945,53.44746017456055,53.52280807495117,53.573402404785156,53.60057067871094,53.60769271850586,53.59964370727539,53.58226776123047,53.56172180175781,53.54401779174805,53.534523010253906,53.53764343261719,53.55663299560547,53.59349822998047,53.649105072021484,53.72329330444336,53.81532287597656,53.924095153808594,54.04850387573242,54.18717956542969,54.338653564453125,54.50108337402344,54.6719856262207,54.848079681396484,55.0252571105957,55.19901657104492,55.365013122558594,55.51993179321289,55.662208557128906,55.792484283447266,55.91380310058594,56.03080368041992,56.14870071411133,56.271705627441406,56.401649475097656,56.536949157714844,56.67246627807617,56.80012512207031,56.91045379638672,56.99428939819336,57.04457473754883,57.05741882324219,57.032657623291016,56.9735221862793,56.885684967041016,56.77640151977539,56.65339279174805,56.52415466308594,56.39542770385742,56.27314758300781,56.16222381591797,56.06686019897461,55.99070358276367,55.93695068359375,55.908329010009766,55.906898498535156,55.93366622924805,55.98777389526367,56.06610107421875,56.1629638671875,56.270835876464844,56.38131332397461,56.487300872802734,56.58548355102539,56.678592681884766,56.777015686035156,56.89930725097656,57.07130813598633,57.32401657104492,57.690738677978516,58.204105377197266,58.89320755004883,59.7817497253418,60.88664245605469,62.217681884765625,63.77762985229492,65.56256866455078,67.56233978271484,69.7607650756836,72.13531494140625,74.65699005126953,77.28995513916016,79.99165344238281,82.7132339477539,85.40087127685547,87.99791717529297,90.44715881347656,92.6939926147461,94.68936920166016,96.3927001953125,97.77428436279297,98.8171157836914,99.51813507080078,99.888671875,99.95443725585938,99.75470733642578,99.34091186523438,98.77446746826172,98.12385559082031,97.46037292480469,96.85355377197266,96.36579132080078,96.04701232910156,95.92974853515625,96.02543640136719,96.32271575927734,96.78803253173828,97.36959075927734,98.00357055664062,98.62273406982422,99.1656723022461,99.58618927001953,99.86128997802734,99.99681091308594,100.0302734375,100.0301284790039,100.09132385253906,100.32743835449219,100.85967254638672,101.80374145507812,103.2554931640625,105.27720642089844,107.88703918457031,111.0530776977539,114.69343566894531,118.68277740478516,122.86416625976562,127.06485748291016,131.11239624023438,134.8491973876953,138.14283752441406,140.89199829101562,143.0281219482422,144.5132598876953,145.3370819091797,145.51318359375,145.07684326171875,144.0846405029297,142.6156768798828,140.7739715576172,138.69056701660156,136.52316284179688,134.4519805908203,132.6702117919922,131.36875915527344,130.71566772460938,130.833251953125,131.77635192871094,133.51611328125,135.9335479736328,138.82508850097656,141.92074584960938,144.91273498535156,147.49148559570312,149.3832244873047,150.38363647460938],[53.81373596191406,53.80416488647461,53.784488677978516,53.75370407104492,53.710689544677734,53.654415130615234,53.584228515625,53.50008773803711,53.402565002441406,53.2928581237793,53.17304992675781,53.0460090637207,52.91557312011719,52.786598205566406,52.6649055480957,52.55708312988281,52.469966888427734,52.40998458862305,52.382286071777344,52.390045166015625,52.43374252319336,52.510887145996094,52.6162109375,52.7421760559082,52.87986373901367,53.019962310791016,53.15388870239258,53.274662017822266,53.37751388549805,53.46015930175781,53.522666931152344,53.56706619262695,53.59681701660156,53.61623764038086,53.630001068115234,53.642616271972656,53.65818405151367,53.680110931396484,53.71097946166992,53.75252914428711,53.8056526184082,53.87056350708008,53.946903228759766,54.03412628173828,54.13173294067383,54.2394905090332,54.357147216796875,54.48448181152344,54.62093734741211,54.7652587890625,54.91524124145508,55.067588806152344,55.21833038330078,55.36333084106445,55.49916076660156,55.62391662597656,55.737728118896484,55.84307861328125,55.94411087036133,56.045719146728516,56.15202331542969,56.265045166015625,56.38364791870117,56.50328826904297,56.61655807495117,56.71456527709961,56.7885856628418,56.83174514770508,56.84010314941406,56.813228607177734,56.75397491455078,56.667579650878906,56.56088638305664,56.44124984741211,56.31584167480469,56.191097259521484,56.072628021240234,55.96500015258789,55.872066497802734,55.79716110229492,55.7432975769043,55.71320724487305,55.70918273925781,55.73273468017578,55.78373718261719,55.85996627807617,55.956695556640625,56.06734085083008,56.18425750732422,56.3009033203125,56.41421890258789,56.52689743041992,56.64907455444336,56.79894256591797,57.00204086303711,57.289268493652344,57.6942138671875,58.250301361083984,58.98801040649414,59.93309020996094,61.10511779785156,62.51713562011719,64.17557525634766,66.0804443359375,68.2254638671875,70.59790802001953,73.17793273925781,75.9379653930664,78.84204864501953,81.845703125,84.89632415771484,87.9345703125,90.8968505859375,93.71793365478516,96.33470153808594,98.68952178955078,100.73371887207031,102.4303970336914,103.756591796875,104.70477294921875,105.28333282470703,105.51653289794922,105.44351959228516,105.11650848388672,104.5983657836914,103.95929718017578,103.27239227294922,102.60893249511719,102.0331039428711,101.59688568115234,101.33541870117188,101.26360321044922,101.3746337890625,101.6405029296875,102.01577758789062,102.44341278076172,102.86268615722656,103.2179183959961,103.4671630859375,103.58985900878906,103.59232330322266,103.51081848144531,103.41129302978516,103.38581848144531,103.54560852050781,104.01087188720703,104.89840698242188,106.30744171142578,108.30562591552734,110.9177017211914,114.11824798583984,117.83032989501953,121.93058013916016,126.2599105834961,130.63868713378906,134.88291931152344,138.8196563720703,142.298828125,145.20106506347656,147.44137573242188,148.96926879882812,149.76707458496094,149.84730529785156,149.25027465820312,148.0428009033203,146.31788635253906,144.1951141357422,141.8207244873047,139.3659210205078,137.0218048095703,134.9899139404297,133.46730041503906,132.6268310546875,132.5946502685547,133.4285888671875,135.10130310058594,137.49281311035156,140.39520263671875,143.53024291992188,146.57846069335938,149.21658325195312,151.15721130371094,152.1851043701172],[53.55679702758789,53.54841995239258,53.53112030029297,53.503868103027344,53.465492248535156,53.41484451293945,53.35109329223633,53.27398681640625,53.18388748168945,53.08180618286133,52.96976852416992,52.850704193115234,52.728668212890625,52.60882568359375,52.497337341308594,52.40105438232422,52.32688903808594,52.28108596801758,52.268310546875,52.29099655151367,52.34870529174805,52.43804168701172,52.55297088623047,52.68552780151367,52.82682418823242,52.96806335449219,53.10167694091797,53.2220573425293,53.32600784301758,53.412776947021484,53.483699798583984,53.5416259765625,53.5902214050293,53.633392333984375,53.674781799316406,53.7174186706543,53.76365661621094,53.81505584716797,53.872493743896484,53.936256408691406,54.006141662597656,54.08168029785156,54.162235260009766,54.24736785888672,54.33702087402344,54.431678771972656,54.53200912475586,54.63886260986328,54.7527961730957,54.87362289428711,55.0001106262207,55.129695892333984,55.2589225769043,55.38387680053711,55.50108337402344,55.608341217041016,55.7053337097168,55.79401397705078,55.87804412841797,55.961978912353516,56.04985809326172,56.14388656616211,56.24339294433594,56.34453201293945,56.440673828125,56.523681640625,56.585411071777344,56.61928939819336,56.62141418457031,56.591094970703125,56.53076171875,56.44514083862305,56.340572357177734,56.22397232055664,56.10213851928711,55.9811897277832,55.866397857666016,55.7619743347168,55.6713752746582,55.59755325317383,55.5432014465332,55.5108757019043,55.502933502197266,55.521244049072266,55.56636428833008,55.637020111083984,55.72964096069336,55.8388786315918,55.9582405090332,56.08210372924805,56.20794677734375,56.33855438232422,56.48373031616211,56.661014556884766,56.895172119140625,57.21648025512695,57.65825653076172,58.2542724609375,59.03610610961914,60.03144454956055,61.26264572143555,62.74626159667969,64.4927978515625,66.50662231445312,68.78575897216797,71.32132720947266,74.09638214111328,77.08496856689453,80.25104522705078,83.54827880859375,86.92040252685547,90.30282592773438,93.62543487548828,96.8156967163086,99.80278778076172,102.52152252197266,104.91612243652344,106.94338989257812,108.57505798339844,109.79937744140625,110.62171173095703,111.06430053710938,111.16506958007812,110.9755859375,110.55827331542969,109.98287963867188,109.32185363769531,108.64574432373047,108.01811981201172,107.49091339111328,107.1003189086914,106.8638687133789,106.77932739257812,106.82521057128906,106.9642562866211,107.14862823486328,107.32694244384766,107.45201110839844,107.48857116699219,107.4202880859375,107.25484466552734,107.0271987915039,106.79991912841797,106.66058349609375,106.7160415649414,107.0834732055664,107.87909698486328,109.20452117919922,111.13282012939453,113.69644927978516,116.8787612915039,120.6109619140625,124.7752914428711,129.21417236328125,133.74411010742188,138.17156982421875,142.30885314941406,145.98736572265625,149.0674591064453,151.44473266601562,153.05245971679688,153.8622283935547,153.88246154785156,153.15628051757812,151.75950622558594,149.79849243164062,147.40843200683594,144.75112915039062,142.011474609375,139.39138793945312,137.10032653808594,135.34071350097656,134.28936767578125,134.07565307617188,134.76026916503906,136.31813049316406,138.63011169433594,141.48670959472656,144.6050262451172,147.65794372558594,150.3124237060547,152.27105712890625,153.31031799316406],[53.30881118774414,53.301361083984375,53.285919189453125,53.26145553588867,53.22677230834961,53.18064880371094,53.12214660644531,53.050880432128906,52.96709060668945,52.87171936035156,52.76683807373047,52.65557098388672,52.542259216308594,52.43244552612305,52.3326416015625,52.24991989135742,52.191165924072266,52.16227722167969,52.1672477722168,52.207550048828125,52.28165054321289,52.38507080078125,52.51091766357422,52.650733947753906,52.795650482177734,52.93742752075195,53.06955337524414,53.18782424926758,53.2906494140625,53.378822326660156,53.45497131347656,53.52279281616211,53.58626174926758,53.64899444580078,53.71381378173828,53.78250503540039,53.85590362548828,53.93398666381836,54.01609802246094,54.10120391845703,54.18806457519531,54.275508880615234,54.3625373840332,54.448673248291016,54.53410720825195,54.61981201171875,54.707149505615234,54.79780578613281,54.893218994140625,54.99410629272461,55.100067138671875,55.20921325683594,55.3185920715332,55.4245719909668,55.52369689941406,55.613590240478516,55.693572998046875,55.765132904052734,55.831478118896484,55.896827697753906,55.965087890625,56.03863525390625,56.11726379394531,56.19785690307617,56.274658203125,56.34041213989258,56.38768768310547,56.41037368774414,56.40467071533203,56.36969757080078,56.30746078491211,56.22213363647461,56.11949920654297,56.00597381591797,55.88793182373047,55.771141052246094,55.6605110168457,55.559871673583984,55.47224426269531,55.40009689331055,55.34568786621094,55.31125259399414,55.299034118652344,55.31111526489258,55.3486442565918,55.41129684448242,55.49678421020508,55.601200103759766,55.719486236572266,55.847232818603516,55.98270797729492,56.12889862060547,56.29522705078125,56.49837875366211,56.76202392578125,57.115413665771484,57.59121322631836,58.22322463989258,59.04396057128906,60.083003997802734,61.365596771240234,62.91200256347656,64.73700714111328,66.84956359863281,69.25208282470703,71.93951416015625,74.89768981933594,78.10202026367188,81.51615905761719,85.09176635742188,88.76895904541016,92.47823333740234,96.14366912841797,99.68643951416016,103.02941131591797,106.10137176513672,108.84103393554688,111.20036315917969,113.14695739746094,114.66563415527344,115.7589340209961,116.4467544555664,116.76490020751953,116.76285552978516,116.50066375732422,116.0453109741211,115.46602630615234,114.82987976074219,114.1971664428711,113.61731719970703,113.1256103515625,112.74087524414062,112.46492767333984,112.28319549560547,112.16780090332031,112.08204650878906,111.98628997802734,111.84436798095703,111.63011932373047,111.33333587646484,110.96434020996094,110.55724334716797,110.17088317871094,109.88732147216797,109.80757141113281,110.04414367675781,110.71114349365234,111.91162872314453,113.72390747070312,116.1890640258789,119.3011474609375,123.0023422241211,127.18402862548828,131.69371032714844,136.34725952148438,140.9439697265625,145.28245544433594,149.17526245117188,152.46075439453125,155.01226806640625,156.74343872070312,157.6114044189453,157.6170654296875,156.80361938476562,155.25375366210938,153.08599853515625,150.4505615234375,147.52467346191406,144.5069122314453,141.6100311279297,139.05108642578125,137.0375518798828,135.7496337890625,135.31961059570312,135.8112335205078,137.20266723632812,139.37750244140625,142.12753295898438,145.1689910888672,148.17129516601562,150.79600524902344,152.739501953125,153.7727508544922],[53.07168197631836,53.06504440307617,53.051231384277344,53.02920150756836,52.99773406982422,52.95555114746094,52.90163040161133,52.835487365722656,52.75729751586914,52.66802215576172,52.56987380981445,52.46623229980469,52.3618278503418,52.26260757446289,52.175437927246094,52.10756301879883,52.06574249267578,52.055419921875,52.07976150512695,52.139156341552734,52.23085021972656,52.349212646484375,52.486454010009766,52.63364028930664,52.78194808959961,52.923736572265625,53.053550720214844,53.168582916259766,53.26877212524414,53.35637664794922,53.435245513916016,53.50987243652344,53.584564208984375,53.662776947021484,53.7467155456543,53.83719253540039,53.93385696411133,54.03539276123047,54.139896392822266,54.24517822265625,54.34906005859375,54.449649810791016,54.545494079589844,54.63589859008789,54.7210807800293,54.8022346496582,54.881141662597656,54.96003341674805,55.041015625,55.1254997253418,55.21377944946289,55.30461120605469,55.39555358886719,55.48333740234375,55.56467056274414,55.63711929321289,55.69977569580078,55.75375747680664,55.80186462402344,55.84797286987305,55.89582061767578,55.94790267944336,56.004451751708984,56.063072204589844,56.118927001953125,56.165733337402344,56.19689178466797,56.20685958862305,56.19207763671875,56.151546478271484,56.086875915527344,56.001708984375,55.901241302490234,55.791351318359375,55.677940368652344,55.56637954711914,55.46117401123047,55.3657341003418,55.282569885253906,55.2136116027832,55.16055679321289,55.125186920166016,55.109493255615234,55.11561965942383,55.14519119262695,55.19878005981445,55.275390625,55.37267303466797,55.48716735839844,55.615848541259766,55.7579345703125,55.91669845581055,56.10117721557617,56.327091217041016,56.6168212890625,56.998374938964844,57.5035514831543,58.166053771972656,59.01926040649414,60.09470748901367,61.42061233520508,63.02106857299805,64.91521453857422,67.11650848388672,69.63155364990234,72.45870971679688,75.58609008789062,78.9898910522461,82.6329345703125,86.46453094482422,90.42121124267578,94.42900848388672,98.4070816040039,102.27174377441406,105.94131469726562,109.34059143066406,112.40489196777344,115.08330535888672,117.3409423828125,119.16035461425781,120.54182434082031,121.50281524658203,122.07632446289062,122.30835723876953,122.25473022460938,121.9773178100586,121.53951263427734,121.00211334228516,120.41931915283203,119.83547973632812,119.28267669677734,118.77936553955078,118.33041381835938,117.92790985107422,117.55396270751953,117.18424987792969,116.79266357421875,116.356201171875,115.85990905761719,115.30166625976562,114.69593048095703,114.076904296875,113.49996948242188,113.04135131835938,112.79534149169922,112.86864471435547,113.37207794189453,114.40919494628906,116.06321716308594,118.3843002319336,121.37860107421875,125.00160217285156,129.15679931640625,133.70010375976562,138.4499969482422,143.2011260986328,147.73997497558594,151.86048889160156,155.3780975341797,158.14166259765625,160.0421600341797,161.01882934570312,161.06150817871094,160.21022033691406,158.55191040039062,156.21530151367188,153.3643798828125,150.19105529785156,146.90736389160156,143.73675537109375,140.90383911132812,138.62095642089844,137.0715789794922,136.39088439941406,136.6461181640625,137.8197021484375,139.79989624023438,142.38267517089844,145.28704833984375,148.18328857421875,150.73184204101562,152.62673950195312,153.63648986816406],[52.848175048828125,52.842403411865234,52.830299377441406,52.810794830322266,52.7826042175293,52.74435806274414,52.69493103027344,52.63373947143555,52.560916900634766,52.47748565673828,52.38584518432617,52.289710998535156,52.19422149658203,52.10576248168945,52.03153610229492,51.978919982910156,51.9544792175293,51.96310806274414,52.007080078125,52.085636138916016,52.19478225708008,52.327754974365234,52.475914001464844,52.62992858886719,52.781089782714844,52.922386169433594,53.049415588378906,53.16067886352539,53.25752258300781,53.34349060058594,53.423465728759766,53.50263595581055,53.58559799194336,53.67573928833008,53.77482223510742,53.88300323486328,53.999088287353516,54.120819091796875,54.24533462524414,54.369537353515625,54.49039840698242,54.605323791503906,54.71228790283203,54.81019973754883,54.89903259277344,54.97991943359375,55.05475616455078,55.126041412353516,55.19629669189453,55.2674446105957,55.34037780761719,55.41445541381836,55.48781204223633,55.557655334472656,55.62099838256836,55.675537109375,55.72028350830078,55.7560920715332,55.78541564941406,55.81178283691406,55.838741302490234,55.868831634521484,55.90265655517578,55.93850326538086,55.97246170043945,55.99924850463867,56.01319885253906,56.00943374633789,55.9847526550293,55.938133239746094,55.87088394165039,55.78615188598633,55.68856430053711,55.58343505859375,55.47615432739258,55.371639251708984,55.27393341064453,55.18594741821289,55.10963821411133,55.046295166015625,54.996986389160156,54.962928771972656,54.94572830200195,54.94746780395508,54.97010803222656,55.01502227783203,55.08244323730469,55.171546936035156,55.280494689941406,55.40771484375,55.55342102050781,55.721229553222656,55.91979217529297,56.16383361816406,56.474395751953125,56.8781623840332,57.40605163574219,58.09165573120117,58.969295501708984,60.07253646850586,61.432674407958984,63.07765579223633,65.03087615966797,67.31002807617188,69.92542266845703,72.87813568115234,76.15771484375,79.74029541015625,83.58716583251953,87.64485168457031,91.84628295898438,96.11357116699219,100.36210632324219,104.50498962402344,108.45814514160156,112.144775390625,115.4992904663086,118.47023010253906,121.02220916748047,123.13699340820312,124.81344604492188,126.0667724609375,126.92655181884766,127.43412780761719,127.63932037353516,127.59664154052734,127.36111450195312,126.98454284667969,126.51231384277344,125.9810791015625,125.41741943359375,124.83750915527344,124.24788665771484,123.64659118652344,123.02554321289062,122.37337493896484,121.67855072021484,120.93267059326172,120.13373565673828,119.2894287109375,118.41999816894531,117.56101989746094,116.76529693603516,116.10356903076172,115.66326141357422,115.54467010498047,115.85450744628906,116.69598388671875,118.15666961669922,120.29576873779297,123.13229370117188,126.63653564453125,130.7263946533203,135.26902770996094,140.08837890625,144.9771270751953,149.71165466308594,154.0683135986328,157.83950805664062,160.84840393066406,162.96116638183594,164.0961456298828,164.2289276123047,163.3929443359375,161.6763916015625,159.21560668945312,156.1863555908203,152.7939910888672,149.26319885253906,145.82778930664062,142.71986389160156,140.15658569335938,138.32484436035156,137.3629608154297,137.34219360351562,138.25033569335938,139.982177734375,142.3406219482422,145.05096435546875,147.78839111328125,150.2164764404297,152.03077697753906,153.00022888183594],[52.642066955566406,52.63735580444336,52.6273307800293,52.61083984375,52.58646774291992,52.55268859863281,52.508209228515625,52.452308654785156,52.38505554199219,52.30754470825195,52.22238540649414,52.13364028930664,52.046878814697266,51.96892166137695,51.907291412353516,51.869441986083984,51.86171340942383,51.888404846191406,51.950889587402344,52.04728317260742,52.17241287231445,52.31850051879883,52.4761848449707,52.63584899902344,52.78901672363281,52.92933654785156,53.05341720581055,53.160945892333984,53.25446701049805,53.33858108520508,53.41897201538086,53.50132369995117,53.590450286865234,53.68970489501953,53.800601959228516,53.92290496826172,54.054927825927734,54.1938362121582,54.336143493652344,54.47804641723633,54.61581802368164,54.74615478515625,54.866355895996094,54.97472381591797,55.07074737548828,55.155181884765625,55.229740142822266,55.29692077636719,55.35942840576172,55.41954803466797,55.47868728637695,55.53681945800781,55.592742919921875,55.64427947998047,55.688926696777344,55.72469711303711,55.75067138671875,55.76757049560547,55.777565002441406,55.783851623535156,55.78973388671875,55.79773712158203,55.808746337890625,55.821659088134766,55.83344268798828,55.83981704711914,55.83607864379883,55.818115234375,55.783180236816406,55.7303581237793,55.66075897216797,55.57712936401367,55.48356628417969,55.384822845458984,55.28575134277344,55.19075393676758,55.10331726074219,55.025794982910156,54.95948791503906,54.90497970581055,54.86263656616211,54.83302688598633,54.81728744506836,54.81730651855469,54.835262298583984,54.8731689453125,54.93235778808594,55.01339340209961,55.1159782409668,55.23991775512695,55.38639450073242,55.55935287475586,55.7670783996582,56.02333450317383,56.34785461425781,56.766075134277344,57.30809783935547,58.00751876831055,58.89970016479492,60.02035903930664,61.40391159057617,63.08209991455078,65.08236694335938,67.42616271972656,70.12683868408203,73.18731689453125,76.59757995605469,80.33271026611328,84.35163879394531,88.59766387939453,93.00017547607422,97.47803497314453,101.94413757324219,106.31026458740234,110.49224853515625,114.41434478759766,118.01271057128906,121.23789978027344,124.05621337890625,126.45027923583984,128.41859436035156,129.97438049316406,131.1434326171875,131.96139526367188,132.470458984375,132.71575927734375,132.7415771484375,132.58827209472656,132.28990173339844,131.87303161621094,131.35655212402344,130.75244140625,130.06735229492188,129.3040313720703,128.4635772705078,127.54725646972656,126.55838012695312,125.50383758544922,124.39568328857422,123.2528076171875,122.102783203125,120.98411560058594,119.94835662841797,119.06173706054688,118.40531158447266,118.07299041748047,118.16692352294922,118.78925323486328,120.03112030029297,121.96026611328125,124.6084976196289,127.96161651611328,131.9533233642578,136.4640350341797,141.3257293701172,146.33175659179688,151.25071716308594,155.84323120117188,159.8795928955078,163.15731811523438,165.5166473388672,166.8531951904297,167.12547302246094,166.3573455810547,164.63494873046875,162.09922790527344,158.93516540527344,155.3594970703125,151.60824584960938,147.92481994628906,144.54844665527344,141.70111083984375,139.57322692871094,138.306640625,137.97720336914062,138.57923889160156,140.01576232910156,142.09912109375,144.56422424316406,147.09503173828125,149.3622283935547,151.06658935546875,151.98028564453125],[52.458152770996094,52.45480728149414,52.44743347167969,52.434722900390625,52.41505432128906,52.38663864135742,52.34794616699219,52.29803466796875,52.23686599731445,52.16558074951172,52.08697509765625,52.00545883178711,51.92702102661133,51.858890533447266,51.808876037597656,51.78447341918945,51.79177474975586,51.834495544433594,51.91314697265625,52.02482604980469,52.16333770751953,52.32005310058594,52.485084533691406,52.64871597290039,52.80279541015625,52.94166564941406,53.062889099121094,53.16717529296875,53.25802993774414,53.340816497802734,53.4217414855957,53.506778717041016,53.600826263427734,53.70722198486328,53.827362060546875,53.96088790893555,54.10592269897461,54.259403228759766,54.41750717163086,54.57597351074219,54.7304801940918,54.87702941894531,55.012149810791016,55.133358001708984,55.23939514160156,55.33037567138672,55.40755081176758,55.473182678222656,55.52996826171875,55.5804443359375,55.626487731933594,55.66874694824219,55.7067756652832,55.73916244506836,55.764076232910156,55.77999496459961,55.7862434387207,55.78351593017578,55.77376174926758,55.759857177734375,55.74483108520508,55.731109619140625,55.71976089477539,55.71021270751953,55.7002067565918,55.686431884765625,55.665157318115234,55.63307571411133,55.58799362182617,55.529239654541016,55.457847595214844,55.376277923583984,55.288185119628906,55.197792053222656,55.109375,55.02676010131836,54.952796936035156,54.88917541503906,54.836456298828125,54.79446029663086,54.76277542114258,54.74127197265625,54.73055648803711,54.73222351074219,54.748538970947266,54.78199768066406,54.8348274230957,54.90879440307617,55.00494384765625,55.12430191040039,55.2689094543457,55.44300079345703,55.654502868652344,55.916259765625,56.246803283691406,56.67042922973633,57.21656799316406,57.91893005371094,58.81403350830078,59.93978500366211,61.33369064331055,63.031131744384766,65.063232421875,67.45470428466797,70.22113037109375,73.36637115478516,76.87981414794922,80.73452758789062,84.88636016845703,89.27503204345703,93.82656860351562,98.45734405517578,103.07918548583984,107.6045150756836,111.95148468017578,116.0479965209961,119.8346939086914,123.26666259765625,126.31410217285156,128.9622344970703,131.2102508544922,133.0698699951172,134.56288146972656,135.71832275390625,136.5694122314453,137.15011596679688,137.49197387695312,137.62179565429688,137.56021118164062,137.32164001464844,136.91542053222656,136.34754943847656,135.6231231689453,134.7482452392578,133.73187255859375,132.58697509765625,131.33111572265625,129.98634338378906,128.57913208007812,127.14046478271484,125.70652770996094,124.32032012939453,123.0337905883789,121.91007232666016,121.02494049072266,120.46640014648438,120.33195495605469,120.72207641601562,121.73052978515625,123.43256378173828,125.8720474243164,129.05003356933594,132.91650390625,137.36643981933594,142.2418212890625,147.33912658691406,152.42196655273438,157.23777770996094,161.53688049316406,165.0924072265625,167.71908569335938,169.28897094726562,169.74183654785156,169.0893096923828,167.41241455078125,164.85333251953125,161.6031494140625,157.88729858398438,153.95106506347656,150.0460968017578,146.41787719726562,143.29295349121094,140.86520385742188,139.2802276611328,138.619140625,138.8837127685547,139.9868621826172,141.75270080566406,143.92880249023438,146.21148681640625,148.28236389160156,149.8508758544922,150.6951446533203],[52.302303314208984,52.300655364990234,52.29655838012695,52.28848648071289,52.27450180053711,52.252479553222656,52.22053527832031,52.177425384521484,52.12295150756836,52.05823516845703,51.98624038696289,51.911678314208984,51.840919494628906,51.78156280517578,51.74165344238281,51.72870635986328,51.74855041503906,51.80437088012695,51.89592742919922,52.019447326660156,52.16791534423828,52.332096099853516,52.50180435180664,52.66740036010742,52.82117462158203,52.95819091796875,53.076866149902344,53.17874526977539,53.268028259277344,53.350547790527344,53.4327507019043,53.520652770996094,53.61912536621094,53.7314567565918,53.85904312133789,54.0015869140625,54.15730285644531,54.32317352294922,54.49530792236328,54.66918182373047,54.84000015258789,55.003082275390625,55.154109954833984,55.2896614074707,55.40752029418945,55.506935119628906,55.58848571777344,55.653995513916016,55.7060432434082,55.74734878540039,55.78026580810547,55.806175231933594,55.825504302978516,55.83774948120117,55.841888427734375,55.83701705932617,55.82281494140625,55.80003356933594,55.770450592041016,55.736637115478516,55.70130920410156,55.666725158691406,55.63404846191406,55.60309982299805,55.57231903076172,55.539276123046875,55.501182556152344,55.4555549621582,55.400840759277344,55.33671569824219,55.2642936706543,55.18588638305664,55.10478973388672,55.02475357055664,54.9494743347168,54.88214111328125,54.82487869262695,54.77861022949219,54.74308776855469,54.71728515625,54.69999313354492,54.69033432006836,54.6883430480957,54.695255279541016,54.71329116821289,54.74527359008789,54.794105529785156,54.86251449584961,54.9526481628418,55.06654739379883,55.20695495605469,55.378299713134766,55.5881462097168,55.848487854003906,56.17674255371094,56.59618377685547,57.135677337646484,57.82911682128906,58.71417999267578,59.83089065551758,61.219688415527344,62.91929626464844,64.96409606933594,67.38143920898438,70.18843078613281,73.38898468017578,76.97102355957031,80.90486145019531,85.14273071289062,89.62063598632812,94.26162719726562,98.98051452636719,103.68950653076172,108.30360412597656,112.74554443359375,116.94939422607422,120.86274719238281,124.44759368896484,127.68009185791016,130.54966735839844,133.0573272705078,135.2137908935547,137.0367431640625,138.5480499267578,139.77081298828125,140.7264862060547,141.43228149414062,141.89974975585938,142.13450622558594,142.13731384277344,141.90643310546875,141.44039916992188,140.74127197265625,139.8168487548828,138.68238830566406,137.3610076904297,135.88316345214844,134.28515625,132.607421875,130.89329528808594,129.18846130371094,127.5417709350586,126.00726318359375,124.64669036865234,123.53192901611328,122.74597930908203,122.38188171386719,122.53791046142578,123.30937194824219,124.77763366699219,126.99720764160156,129.98338317871094,133.7020263671875,138.0631866455078,142.92031860351562,148.07542419433594,153.29005432128906,158.30177307128906,162.84414672851562,166.6686553955078,169.56625366210938,171.38612365722656,172.0486297607422,171.55133056640625,169.9673309326172,167.43670654296875,164.15306091308594,160.34722900390625,156.2709197998047,152.18186950683594,148.33041381835938,144.94667053222656,142.22769165039062,140.32281494140625,139.31878662109375,139.22572326660156,139.96791076660156,141.38340759277344,143.2352752685547,145.23558044433594,147.08038330078125,148.49107360839844,149.25424194335938],[52.18104553222656,52.181373596191406,52.18107986450195,52.17836380004883,52.170902252197266,52.15613555908203,52.13174819946289,52.096126556396484,52.048824310302734,51.99091339111328,51.92544937133789,51.857398986816406,51.793453216552734,51.74151611328125,51.70982360839844,51.70588302612305,51.73527526855469,51.80073165893555,51.901390075683594,52.032814025878906,52.187416076660156,52.35560607910156,52.52714157104492,52.69265365600586,52.84496307373047,52.97985076904297,53.09647750854492,53.197017669677734,53.28610610961914,53.3697509765625,53.4543571472168,53.54578399658203,53.64872741699219,53.76640701293945,53.9002685546875,54.050228118896484,54.21477508544922,54.39116668701172,54.57564163208008,54.76356887817383,54.94978713989258,55.12894821166992,55.29587173461914,55.44607162475586,55.576263427734375,55.684669494628906,55.77105712890625,55.836708068847656,55.88401412963867,55.91587448120117,55.935157775878906,55.94404983520508,55.943946838378906,55.93534469604492,55.918128967285156,55.89208984375,55.85732650756836,55.8146858215332,55.76580047607422,55.71293258666992,55.65845489501953,55.60441589355469,55.551971435546875,55.50125503540039,55.45126724243164,55.40038299560547,55.34668731689453,55.28852462768555,55.22502517700195,55.15632247924805,55.083744049072266,55.00957489013672,54.9368782043457,54.868980407714844,54.80900955200195,54.75947189331055,54.72170639038086,54.69578552246094,54.680572509765625,54.67416763305664,54.674522399902344,54.68001174926758,54.690067291259766,54.70551681518555,54.72844314575195,54.76181411743164,54.80902099609375,54.873504638671875,54.958255767822266,55.066104888916016,55.200313568115234,55.36541748046875,55.56858825683594,55.82099914550781,56.13902282714844,56.54497528076172,57.067161560058594,57.73960876464844,58.60100555419922,59.693260192871094,61.059391021728516,62.74103546142578,64.77530670166016,67.19158172607422,70.00782012939453,73.22734832763672,76.83601379394531,80.80093383789062,85.07060241699219,89.5774917602539,94.24227142333984,98.97925567626953,103.70248413085938,108.33134460449219,112.7951889038086,117.03636169433594,121.01154327392578,124.69161224365234,128.06044006347656,131.11306762695312,133.85337829589844,136.2916259765625,138.44151306152344,140.31735229492188,141.93148803710938,143.29183959960938,144.4002227783203,145.25189208984375,145.83631896972656,146.1396484375,146.14797973632812,145.85134887695312,145.24742126464844,144.34414672851562,143.16119384765625,141.7299041748047,140.09169006347656,138.2953643798828,136.394287109375,134.44361877441406,132.4988555908203,130.61573791503906,128.85183715820312,127.26919555664062,125.93733978271484,124.935302734375,124.35202026367188,124.28311920166016,124.82427978515625,126.06127166748047,128.05740356445312,130.84051513671875,134.39134216308594,138.6348876953125,143.4370574951172,148.60752868652344,153.9091033935547,159.0733642578125,163.82131958007812,167.88674926757812,171.0400390625,173.1094512939453,173.99649047851562,173.68373107910156,172.23403930664062,169.7821502685547,166.5203857421875,162.6811065673828,158.51893615722656,154.29476928710938,150.26148986816406,146.6513671875,143.66355895996094,141.45082092285156,140.1056365966797,139.64715576171875,140.01231384277344,141.05511474609375,142.55679321289062,144.2482452392578,145.8433380126953,147.07843017578125,147.75096130371094],[52.100833892822266,52.10329055786133,52.10710144042969,52.11013412475586,52.10965347290039,52.102603912353516,52.0861930847168,52.058380126953125,52.01842498779297,51.96728515625,51.908050537109375,51.84587478637695,51.787689208984375,51.741641998291016,51.71609115600586,51.71851348876953,51.7542839050293,51.82575225830078,51.931602478027344,52.06695556640625,52.223899841308594,52.392757415771484,52.563446044921875,52.72702407836914,52.87692642211914,53.00961685180664,53.12486267089844,53.22526931762695,53.31564712524414,53.40192794799805,53.49024200439453,53.586097717285156,53.69389724731445,53.816741943359375,53.95615768432617,54.112342834472656,54.2841911315918,54.469356536865234,54.664344787597656,54.86454391479492,55.06450653076172,55.25828552246094,55.439823150634766,55.603572845458984,55.745121002197266,55.86161804199219,55.95197296142578,56.01691818237305,56.05866241455078,56.080318450927734,56.08531951904297,56.076725006103516,56.056941986083984,56.02751159667969,55.98923110961914,55.942596435546875,55.88810729980469,55.826698303222656,55.75984573364258,55.689483642578125,55.61764144897461,55.54609680175781,55.4759635925293,55.4075813293457,55.34043502807617,55.273597717285156,55.20595169067383,55.13663864135742,55.065486907958984,54.993167877197266,54.92131042480469,54.85231018066406,54.789085388183594,54.73460006713867,54.69144821166992,54.661434173583984,54.64506912231445,54.641536712646484,54.648780822753906,54.663997650146484,54.6843147277832,54.707359313964844,54.731964111328125,54.75850296020508,54.78883743286133,54.82596206665039,54.87355422973633,54.93553924560547,55.01553726196289,55.11693572998047,55.24335861206055,55.39933395385742,55.59160614013672,55.830528259277344,56.131439208984375,56.515655517578125,57.010833740234375,57.650909423828125,58.475242614746094,59.52717208862305,60.851768493652344,62.49296569824219,64.489990234375,66.8736572265625,69.66224670410156,72.85807800292969,76.44470977783203,80.38604736328125,84.6270980834961,89.09744262695312,93.71623229980469,98.3984603881836,103.06140899658203,107.63040161132812,112.04303741455078,116.2515640258789,120.22335052490234,123.93965148925781,127.39336395263672,130.58631896972656,133.52610778808594,136.22315979003906,138.68743896484375,140.92576599121094,142.93943786621094,144.72238159179688,146.26055908203125,147.53233337402344,148.51065063476562,149.16647338867188,149.4733428955078,149.41195678710938,148.97462463378906,148.16796875,147.0142364501953,145.5507354736328,143.82748413085938,141.9036865234375,139.84375,137.71359252929688,135.57814025878906,133.5004425048828,131.5426788330078,129.7685546875,128.24661254882812,127.05290985107422,126.27262878417969,125.99835968017578,126.32489013671875,127.3405990600586,129.11541748046875,131.68771362304688,135.0515899658203,139.14642333984375,143.85130310058594,148.9856414794922,154.31683349609375,159.5749053955078,164.47332763671875,168.73313903808594,172.10850524902344,174.4099884033203,175.52191162109375,175.41175842285156,174.13052368164062,171.80458068847656,168.62112426757812,164.80984497070312,160.6241912841797,156.3245391845703,152.1634063720703,148.37283325195312,145.1526336669922,142.65809631347656,140.98715209960938,140.16842651367188,140.15261840820312,140.8114776611328,141.94680786132812,143.311279296875,144.6395721435547,145.68585205078125,146.26052856445312],[52.06723403930664,52.07181167602539,52.079689025878906,52.088436126708984,52.09487533569336,52.0954704284668,52.08692932128906,52.066776275634766,52.033935546875,51.98921585083008,51.9356689453125,51.8785514831543,51.82496643066406,51.783206939697266,51.761714935302734,51.767913818359375,51.8069953918457,51.88105010986328,51.98847198486328,52.12413787841797,52.28006362915039,52.44670104980469,52.61433792114258,52.77457809448242,52.92149353027344,53.05216598510742,53.16684341430664,53.268367767333984,53.361507415771484,53.451900482177734,53.545204162597656,53.64643096923828,53.75960159301758,53.88762283325195,54.03209686279297,54.19350814819336,54.37120056152344,54.56327819824219,54.76658248901367,54.97661209106445,55.187713623046875,55.3934211730957,55.586875915527344,55.76154708862305,55.911949157714844,56.034217834472656,56.12648010253906,56.188961029052734,56.22377395629883,56.23430252075195,56.22459411621094,56.198612213134766,56.15976333618164,56.11057662963867,56.05270767211914,55.98725509643555,55.915035247802734,55.837005615234375,55.75442886352539,55.66889572143555,55.58208084106445,55.495487213134766,55.41015625,55.326595306396484,55.244693756103516,55.16413497924805,55.084529876708984,55.00575256347656,54.928321838378906,54.853458404541016,54.783164978027344,54.72001647949219,54.6668586730957,54.62637710571289,54.600643157958984,54.590797424316406,54.596519470214844,54.616111755371094,54.6466178894043,54.68436050415039,54.725669860839844,54.7674560546875,54.80796432495117,54.84709548950195,54.88642501831055,54.92886734008789,54.97822952270508,55.03874206542969,55.11445236206055,55.20912551879883,55.32660675048828,55.47132110595703,55.649532318115234,55.8707389831543,56.14919662475586,56.505104064941406,56.96522521972656,57.56303024291992,58.33803176879883,59.3343391418457,60.59832763671875,62.175472259521484,64.10640716552734,66.42276763916016,69.1427993774414,72.26763916015625,75.7787094116211,79.63715362548828,83.78526306152344,88.1506576538086,92.65219116210938,97.20677185058594,101.73622131347656,106.17301940917969,110.46416473388672,114.57288360595703,118.47814178466797,122.17245483398438,125.65857696533203,128.94589233398438,132.04644775390625,134.97140502929688,137.7275848388672,140.31460571289062,142.72293090820312,144.93275451660156,146.9141845703125,148.62881469726562,150.0331268310547,151.08306884765625,151.73944091796875,151.97341918945312,151.77114868164062,151.13674926757812,150.09326171875,148.6817626953125,146.95840454101562,144.9901885986328,142.850341796875,140.6138153076172,138.35394287109375,136.1408233642578,134.0416259765625,132.12261962890625,130.45225524902344,129.10440063476562,128.1606903076172,127.7101821899414,127.84558868408203,128.65599060058594,130.21575927734375,132.5716094970703,135.7292938232422,139.6417694091797,144.20181274414062,149.2406005859375,154.53355407714844,159.81390380859375,164.79302978515625,169.1849822998047,172.73292541503906,175.23388671875,176.55747985839844,176.65695190429688,175.57032775878906,173.41307067871094,170.36349487304688,166.64431762695312,162.50338745117188,158.19638061523438,153.97186279296875,150.05877685546875,146.65550231933594,143.91842651367188,141.9503936767578,140.78958129882812,140.40126037597656,140.67645263671875,141.43972778320312,142.468017578125,143.51953125,144.3687286376953,144.84092712402344],[52.084014892578125,52.090518951416016,52.10211181640625,52.1160774230957,52.12886428833008,52.1364860534668,52.13519287109375,52.12208557128906,52.09574890136719,52.05679702758789,52.0081901550293,51.955204010009766,51.9050178527832,51.865997314453125,51.846614837646484,51.8542366027832,51.89392852783203,51.96760940551758,52.07355499267578,52.20659255981445,52.35886001586914,52.52113723754883,52.6841926574707,52.84025955200195,52.984031677246094,53.11314010620117,53.2281608581543,53.33201217651367,53.429237365722656,53.525020599365234,53.62441635131836,53.73182678222656,53.85080337524414,53.98400115966797,54.133033752441406,54.29863739013672,54.480560302734375,54.6773567199707,54.88623046875,55.10282897949219,55.32140350341797,55.53508758544922,55.736385345458984,55.91791915893555,56.07330322265625,56.19784164428711,56.28900909423828,56.346683502197266,56.37297058105469,56.37160873413086,56.347286224365234,56.304840087890625,56.24859619140625,56.18193817138672,56.10721969604492,56.02596664428711,55.93916702270508,55.8476676940918,55.75244903564453,55.65472412109375,55.55582046508789,55.45699691772461,55.35923385620117,55.26320266723633,55.169158935546875,55.07733917236328,54.987998962402344,54.90168380737305,54.81953048706055,54.7432975769043,54.675357818603516,54.618492126464844,54.57550811767578,54.54884719848633,54.54013442993164,54.54987716674805,54.576995849609375,54.61897659301758,54.67203903198242,54.731712341308594,54.793582916259766,54.853919982910156,54.91039276123047,54.962432861328125,55.01128387451172,55.0596923828125,55.111488342285156,55.171058654785156,55.242733001708984,55.33052444458008,55.43837356567383,55.570518493652344,55.73270034790039,55.93349838256836,56.18598556518555,56.509033203125,56.928192138671875,57.475955963134766,58.19131088256836,59.118324279785156,60.30376052856445,61.79373550415039,63.62947463989258,65.8428955078125,68.45186614990234,71.45649719238281,74.8365249633789,78.55120849609375,82.54125213623047,86.73367309570312,91.04840850830078,95.40557861328125,99.732666015625,103.9701919555664,108.07516479492188,112.02216339111328,115.80205535888672,119.4188003540039,122.88529968261719,126.21885681152344,129.43646240234375,132.5507049560547,135.56590270996094,138.47523498535156,141.25914001464844,143.88473510742188,146.30703735351562,148.47158813476562,150.31907653808594,151.79092407226562,152.83567810058594,153.41494750976562,153.50845336914062,153.11685180664062,152.26251220703125,150.98825073242188,149.35386657714844,147.4315948486328,145.30091857910156,143.0436248779297,140.7398223876953,138.46568298339844,136.2930450439453,134.2908172607422,132.52774047851562,131.0757598876953,130.01295471191406,129.42422485351562,129.39901733398438,130.0253143310547,131.37982177734375,133.5154571533203,136.44790649414062,140.1429443359375,144.50741577148438,149.3861846923828,154.56619262695312,159.78866577148438,164.7686767578125,169.2192840576172,172.87840270996094,175.53419494628906,177.04490661621094,177.35081481933594,176.47666931152344,174.5248260498047,171.6614227294922,168.0979766845703,164.07223510742188,159.83082580566406,155.6144256591797,151.64566040039062,148.11888122558594,145.1898651123047,142.9653778076172,141.49290466308594,140.7528076171875,140.656494140625,141.05294799804688,141.74551391601562,142.51809692382812,143.16744995117188,143.53536987304688],[52.1523323059082,52.16043472290039,52.17511749267578,52.193458557128906,52.211605072021484,52.225215911865234,52.23015594482422,52.22314453125,52.20243835449219,52.16841506958008,52.12388229370117,52.07405090332031,52.026092529296875,51.98838806152344,51.969398498535156,51.976444244384766,52.01453399658203,52.085533142089844,52.18772506713867,52.31605911254883,52.46294403076172,52.619598388671875,52.77735137939453,52.92905807495117,53.06999969482422,53.1982307434082,53.31455612182617,53.421810150146484,53.524200439453125,53.6263427734375,53.73261260986328,53.846736907958984,53.97172164916992,54.109893798828125,54.262786865234375,54.43130111694336,54.61549758911133,54.81432342529297,55.02533721923828,55.24439239501953,55.465755462646484,55.68232727050781,55.88618469238281,56.06937026977539,56.224849700927734,56.347328186035156,56.433868408203125,56.48416519165039,56.500450134277344,56.486873626708984,56.448753356933594,56.39169692993164,56.32078552246094,56.24006652832031,56.1523551940918,56.05937576293945,55.96207046508789,55.86103439331055,55.756874084472656,55.650394439697266,55.54259490966797,55.434547424316406,55.32722473144531,55.22150421142578,55.11800765991211,55.017486572265625,54.92078399658203,54.82901382446289,54.743865966796875,54.66753005981445,54.602699279785156,54.55232238769531,54.519168853759766,54.505455017089844,54.51241683959961,54.540008544921875,54.586509704589844,54.64871597290039,54.72215270996094,54.80168533325195,54.88227844238281,54.9596061706543,55.030826568603516,55.09490203857422,55.15272903442383,55.20682907104492,55.2609748840332,55.31962966918945,55.38729476928711,55.4681282043457,55.56608963012695,55.6851806640625,55.830535888671875,56.0097770690918,56.2346305847168,56.52242660522461,56.8971061706543,57.38960647583008,58.037628173828125,58.88426971435547,59.975677490234375,61.35760498046875,63.0710334777832,65.14754486083984,67.60448455810547,70.44114685058594,73.63636779785156,77.14863586425781,80.91854095458984,84.87410736083984,88.93781280517578,93.0343246459961,97.09767150878906,101.07689666748047,104.93909454345703,108.66997528076172,112.27186584472656,115.75978088378906,119.15646362304688,122.48711395263672,125.77394104003906,129.0315399169922,132.26260375976562,135.4550018310547,138.5803680419922,141.59410095214844,144.43740844726562,147.04112243652344,149.331298828125,151.23587036132812,152.69187927246094,153.6519012451172,154.0891571044922,154.00035095214844,153.40606689453125,152.3491668701172,150.89096069335938,149.1063690185547,147.0785675048828,144.89369201660156,142.636474609375,140.38751220703125,138.22215270996094,136.21128845214844,134.423583984375,132.9288330078125,131.8011016845703,131.1204376220703,130.97177124023438,131.4403839111328,132.60336303710938,134.5178985595703,137.20809936523438,140.65171813964844,144.77012634277344,149.4237060546875,154.4142608642578,159.4956817626953,164.392333984375,168.82235717773438,172.52426147460938,175.2822723388672,176.94680786132812,177.44717407226562,176.79483032226562,175.07757568359375,172.4464569091797,169.09803771972656,165.25576782226562,161.15301513671875,157.01864624023438,153.06558227539062,149.48146057128906,146.41949462890625,143.9890594482422,142.2463836669922,141.18698120117188,140.7432403564453,140.7896728515625,141.1573486328125,141.65740966796875,142.11026000976562,142.3752899169922],[52.27027130126953,52.27956771850586,52.29658126831055,52.31827163696289,52.340606689453125,52.35899353027344,52.36899948120117,52.36702346801758,52.350990295410156,52.321022033691406,52.279685974121094,52.23207092285156,52.18525314331055,52.1475830078125,52.12752151489258,52.13238525390625,52.167198181152344,52.23388671875,52.33088302612305,52.45336151123047,52.59410095214844,52.74479293823242,52.8973274230957,53.045127868652344,53.18395233154297,53.31219482421875,53.43073654174805,53.542259216308594,53.650543212890625,53.75960922241211,53.873104095458984,53.99405288696289,54.12485885620117,54.26742935180664,54.42311096191406,54.592830657958984,54.776859283447266,54.974449157714844,55.183494567871094,55.40012741088867,55.61876678466797,55.832305908203125,56.03266906738281,56.211612701416016,56.36178207397461,56.47758483886719,56.55591583251953,56.596473693847656,56.60173416137695,56.57625961303711,56.52593231201172,56.45698165893555,56.375022888183594,56.284507751464844,56.18842315673828,56.08843994140625,55.9852409362793,55.87900924682617,55.769874572753906,55.65822219848633,55.544769287109375,55.43046569824219,55.316368103027344,55.20363235473633,55.093292236328125,54.986602783203125,54.88493728637695,54.78989791870117,54.70357894897461,54.62849807739258,54.567543029785156,54.52372741699219,54.499732971191406,54.49755859375,54.51810073852539,54.560874938964844,54.62366485595703,54.7027587890625,54.79316329956055,54.88924789428711,54.98548126220703,55.07706832885742,55.16069412231445,55.23488998413086,55.30019760131836,55.35890579223633,55.41468048095703,55.472007751464844,55.53549575805664,55.60940170288086,55.6976318359375,55.80390167236328,55.932708740234375,56.09061813354492,56.287906646728516,56.540103912353516,56.8691520690918,57.30386734008789,57.87989044189453,58.638423919677734,59.62396240234375,60.880863189697266,62.449005126953125,64.35905456542969,66.62767028808594,69.25373077392578,72.21599578857422,75.4735336303711,78.96839904785156,82.63127136230469,86.3887710571289,90.17120361328125,93.91984558105469,97.59235382080078,101.16549682617188,104.63529205322266,108.0145263671875,111.32825469970703,114.6082534790039,117.88717651367188,121.1924819946289,124.54124450683594,127.93555450439453,131.35934448242188,134.77711486816406,138.13436889648438,141.36044311523438,144.37326049804688,147.08590698242188,149.4143524169922,151.28530883789062,152.64306640625,153.4547882080078,153.7130889892578,153.43614196777344,152.6655731201172,151.46250915527344,149.9023895263672,148.06956481933594,146.05191040039062,143.93634033203125,141.8056640625,139.7368927001953,137.80145263671875,136.06692504882812,134.6000518798828,133.47012329101562,132.75137329101562,132.52304077148438,132.86624145507812,133.85670471191406,135.5542755126953,137.99005126953125,141.1531524658203,144.9798126220703,149.3476104736328,154.07623291015625,158.93653869628906,163.66741943359375,167.997802734375,171.67227172851562,174.47601318359375,176.25527954101562,176.9305419921875,176.50062561035156,175.03781127929688,172.6758575439453,169.59329223632812,165.99569702148438,162.09947204589844,158.11810302734375,154.251708984375,150.6786346435547,147.5474853515625,144.9688262939453,143.00669860839844,141.6712646484375,140.9158935546875,140.64083862304688,140.7053985595703,140.94851684570312,141.2148895263672,141.3818817138672],[52.43263626098633,52.442726135253906,52.461326599121094,52.485374450683594,52.510772705078125,52.53280258178711,52.54680633544922,52.548912048339844,52.536720275878906,52.51003646850586,52.471134185791016,52.42489242553711,52.37825393676758,52.33951950073242,52.317176818847656,52.31861877441406,52.3489990234375,52.410423278808594,52.501583099365234,52.617950439453125,52.7526969909668,52.8979606628418,53.046112060546875,53.191017150878906,53.32878875732422,53.45801544189453,53.5795783996582,53.69593811035156,53.81044006347656,53.92649841308594,54.04705810546875,54.17442321777344,54.31035614013672,54.45624923706055,54.61314010620117,54.7818489074707,54.96272277832031,55.15525436401367,55.357669830322266,55.566463470458984,55.77638626098633,55.9805793762207,56.17112731933594,56.339839935302734,56.479373931884766,56.584144592285156,56.65111541748047,56.68016815185547,56.67405319213867,56.63773727416992,56.57752227783203,56.50005340576172,56.41122055053711,56.31558609008789,56.216041564941406,56.11394119262695,56.00950241088867,55.90235137939453,55.79208755493164,55.67865753173828,55.56255340576172,55.444698333740234,55.32634735107422,55.20902633666992,55.094242095947266,54.983768463134766,54.87946701049805,54.783321380615234,54.69770812988281,54.62529754638672,54.56900405883789,54.53178024291992,54.5161247253418,54.52378845214844,54.55538558959961,54.610103607177734,54.68540954589844,54.77727508544922,54.88041305541992,54.9888801574707,55.096805572509766,55.19903564453125,55.291866302490234,55.373443603515625,55.44398880004883,55.50555419921875,55.561710357666016,55.616947174072266,55.67595672607422,55.743038177490234,55.822017669677734,55.916290283203125,56.029666900634766,56.1676025390625,56.33881378173828,56.55684280395508,56.841278076171875,57.21833038330078,57.72087097167969,58.38735580444336,59.25965881347656,60.379791259765625,61.78567123413086,63.506526947021484,65.55818939208984,67.93946838378906,70.62997436523438,73.59060668945312,76.76649475097656,80.09260559082031,83.50102996826172,86.92875671386719,90.32463836669922,93.65473175048828,96.90462493896484,100.07937622070312,103.20072937011719,106.30226135253906,109.42355346679688,112.6038818359375,115.87567138671875,119.25888061523438,122.75597381591797,126.3484878540039,129.9957733154297,133.63571166992188,137.18812561035156,140.560302734375,143.65460205078125,146.37684631347656,148.6449432373047,150.39613342285156,151.59226989746094,152.22218322753906,152.30140686035156,151.86972045898438,150.9867706298828,149.72669982910156,148.1728973388672,146.41250610351562,144.53195190429688,142.61366271972656,140.7340087890625,138.96295166015625,137.36524963378906,136.0032958984375,134.94039916992188,134.24392700195312,133.98623657226562,134.24290466308594,135.08688354492188,136.5791473388672,138.7566680908203,141.61923217773438,145.11822509765625,149.1497344970703,153.55392456054688,158.12232971191406,162.6128692626953,166.77024841308594,170.35009765625,173.14303588867188,174.9946746826172,175.81903076171875,175.60321044921875,174.40374755859375,172.3357391357422,169.5574951171875,166.2540283203125,162.6218719482422,158.85635375976562,155.14219665527344,151.64625549316406,148.51065063476562,145.8456268310547,143.7218017578125,142.1630096435547,141.14273071289062,140.58624267578125,140.3804473876953,140.39163208007812,140.48838806152344,140.5658416748047],[52.63128662109375,52.64185333251953,52.66145706176758,52.68709945678711,52.7147216796875,52.739566802978516,52.756832122802734,52.762386322021484,52.753482818603516,52.72955322265625,52.6925048828125,52.64693832397461,52.599647521972656,52.558895111083984,52.533267974853516,52.53036117553711,52.55558395385742,52.611351013183594,52.69669723510742,52.80744171142578,52.937110900878906,53.07819747924805,53.22339630126953,53.36684799194336,53.504852294921875,53.63606643676758,53.76129150390625,53.88274002075195,54.00334930419922,54.1259765625,54.25291061401367,54.3857421875,54.52555847167969,54.673160552978516,54.82914733886719,54.994102478027344,55.16835403442383,55.3515739440918,55.542362213134766,55.73768997192383,55.9328498840332,56.12150192260742,56.29621124267578,56.44918441772461,56.57339859008789,56.66354751586914,56.71686553955078,56.733497619628906,56.71649169921875,56.67110824584961,56.603885650634766,56.52164077758789,56.43027114868164,56.334163665771484,56.235862731933594,56.13618469238281,56.03471755981445,55.93044662475586,55.8223876953125,55.71007537841797,55.59384536743164,55.47469711303711,55.35419464111328,55.23434066772461,55.1171989440918,55.00507354736328,54.90028381347656,54.80509948730469,54.72203063964844,54.653717041015625,54.60292053222656,54.572357177734375,54.564231872558594,54.58000946044922,54.620052337646484,54.68333053588867,54.76716232299805,54.867408752441406,54.978694915771484,55.0949592590332,55.21015930175781,55.31890106201172,55.41719436645508,55.50286865234375,55.57587814331055,55.63809585571289,55.69301986694336,55.745155334472656,55.79927062988281,55.85969543457031,55.930145263671875,56.01365280151367,56.113319396972656,56.23345947265625,56.381160736083984,56.567840576171875,56.810508728027344,57.13236999511719,57.5629997253418,58.13739776611328,58.89400100708008,59.871639251708984,61.10554885864258,62.62301254272461,64.43891906738281,66.55232238769531,68.94444274902344,71.57920837402344,74.40616607666016,77.365966796875,80.39734649658203,83.44463348388672,86.46439361572266,89.43048095703125,92.336181640625,95.19397735595703,98.03272247314453,100.8926773071289,103.8196029663086,106.85823822021484,110.04546356201172,113.40425872802734,116.9383544921875,120.62849426269531,124.43099975585938,128.27865600585938,132.08448791503906,135.74789428710938,139.16297912597656,142.2277069091797,144.85313415527344,146.97093200683594,148.53875732421875,149.54238891601562,149.99497985839844,149.93423461914062,149.41754150390625,148.51654052734375,147.311767578125,145.88739013671875,144.3268585205078,142.7095184326172,141.10848999023438,139.58984375,138.21356201171875,137.03590393066406,136.1128387451172,135.50363159179688,135.27256774902344,135.48849487304688,136.22027587890625,137.52874755859375,139.45556640625,142.0105743408203,145.16024780273438,148.82008361816406,152.85263061523438,157.0729217529297,161.26153564453125,165.1830291748047,168.6082763671875,171.33717346191406,173.2179412841797,174.1604461669922,174.1415252685547,173.20233154296875,171.4388427734375,168.98797607421875,166.01263427734375,162.68763732910156,159.18832397460938,155.68226623535156,152.3231201171875,149.24505615234375,146.55654907226562,144.3332977294922,142.61119079589844,141.38214111328125,140.59469604492188,140.16163635253906,139.97486877441406,139.925537109375,139.92547607421875],[52.85591506958008,52.86677551269531,52.88705825805664,52.91389465332031,52.943336486816406,52.970638275146484,52.99089050292969,52.99967956542969,52.99386978149414,52.972450256347656,52.93688201904297,52.891456604003906,52.842796325683594,52.799198150634766,52.76945495605469,52.761505126953125,52.78117752075195,52.831321716308594,52.91139221191406,53.01757049560547,53.143646240234375,53.28232192993164,53.426414489746094,53.57014083862305,53.70979309082031,53.84396743774414,53.97330856323242,54.09980010986328,54.226009368896484,54.354331970214844,54.486446380615234,54.6232795715332,54.765228271484375,54.91240692138672,55.06489944458008,55.22294235229492,55.38677215576172,55.55624771118164,55.73038864135742,55.90681076049805,56.08155822753906,56.24910354614258,56.40278244018555,56.535484313964844,56.640785217285156,56.7138557434082,56.752323150634766,56.756622314453125,56.73002243041992,56.67792892456055,56.606910705566406,56.523685455322266,56.43388748168945,56.34150314331055,56.24850082397461,56.155025482177734,56.059932708740234,55.96150588989258,55.85820007324219,55.74917984008789,55.634700775146484,55.51594161987305,55.39488983154297,55.27411651611328,55.156314849853516,55.04435348510742,54.940956115722656,54.848609924316406,54.769798278808594,54.70695877075195,54.66251754760742,54.63878631591797,54.637542724609375,54.659915924072266,54.706031799316406,54.77473068237305,54.86332321166992,54.967742919921875,55.08270263671875,55.20220947265625,55.320194244384766,55.43115997314453,55.53093719482422,55.61714553833008,55.6895637512207,55.74995040893555,55.80179977416992,55.84967041015625,55.89841842651367,55.952388763427734,56.015159606933594,56.08937072753906,56.177406311035156,56.282432556152344,56.40989303588867,56.569034576416016,56.77416229248047,57.04526138305664,57.408260345458984,57.894195556640625,58.53749084472656,59.37314224243164,60.43312454223633,61.742374420166016,63.314701080322266,65.14965057373047,67.23063659667969,69.5255126953125,71.98931121826172,74.56938171386719,77.2119369506836,79.86898040771484,82.50462341308594,85.0997085571289,87.65386199951172,90.18521881103516,92.72767639160156,95.3261489868164,98.03074645996094,100.8902359008789,103.94512939453125,107.22138214111328,110.72468566894531,114.43644714355469,118.31208801269531,122.28192138671875,126.25508880615234,130.12606811523438,133.7835693359375,137.1203155517578,140.04269409179688,142.4786376953125,144.38304138183594,145.73963928222656,146.5598602294922,146.87945556640625,146.7532958984375,146.2496337890625,145.44485473632812,144.4182586669922,143.24801635742188,142.00794982910156,140.76531982421875,139.5799102783203,138.5047149658203,137.58807373046875,136.8771514892578,136.42181396484375,136.27720642089844,136.5043182373047,137.16671752929688,138.3238983154297,140.02105712890625,142.2771453857422,145.07334899902344,148.34487915039062,151.97767639160156,155.8121337890625,159.65403747558594,163.2908172607422,166.51177978515625,169.1292724609375,170.99696350097656,172.0229034423828,172.17538452148438,171.48121643066406,170.01771545410156,167.90045166015625,165.26971435546875,162.27801513671875,159.07992553710938,155.82498168945312,152.65281677246094,149.6885223388672,147.03744506835938,144.7786865234375,142.95814514160156,141.58364868164062,140.62425231933594,140.0156707763672,139.67266845703125,139.50653076171875,139.444091796875],[53.09516525268555,53.106300354003906,53.12723159790039,53.155269622802734,53.18658447265625,53.21647644042969,53.23989486694336,53.25212097167969,53.249549865722656,53.23065185546875,53.196388244628906,53.15070343017578,53.1000862121582,53.05294418334961,53.018409729003906,53.00493621826172,53.0189208984375,53.06378936767578,53.13948440551758,53.24250793457031,53.36682891845703,53.505165100097656,53.650238037109375,53.79609298706055,53.9388313293457,54.076847076416016,54.21058654785156,54.341800689697266,54.4727897644043,54.60554885864258,54.74125671386719,54.88021469116211,55.02211380004883,55.16636657714844,55.31245422363281,55.46022033691406,55.60978317260742,55.761207580566406,55.9140510559082,56.06672668457031,56.21626281738281,56.35817337036133,56.48683166503906,56.596046447753906,56.680171966552734,56.7349853515625,56.75853729248047,56.75151824951172,56.7172966003418,56.661224365234375,56.58966064453125,56.50898742675781,56.424346923828125,56.339111328125,56.25455093383789,56.170040130615234,56.08366775512695,55.9930534362793,55.89611053466797,55.791725158691406,55.68014907836914,55.562843322753906,55.44230651855469,55.32176971435547,55.20459747314453,55.09423065185547,54.9937744140625,54.90583801269531,54.832763671875,54.77663803100586,54.7393798828125,54.72273635864258,54.727970123291016,54.755794525146484,54.80610275268555,54.87765121459961,54.96784210205078,55.07281494140625,55.18750762939453,55.306129455566406,55.42272186279297,55.531822204589844,55.62919235229492,55.71237564086914,55.781089782714844,55.83708953857422,55.883949279785156,55.926326751708984,55.96919250488281,56.016902923583984,56.07286071777344,56.13931655883789,56.21791076660156,56.31069564819336,56.421512603759766,56.55747604370117,56.730201721191406,56.95639419555664,57.258182525634766,57.66240692138672,58.19911193847656,58.899070739746094,59.790611267089844,60.896026611328125,62.22794723510742,63.78652572631836,65.5577392578125,67.51393127441406,69.61628723144531,71.81947326660156,74.07752227783203,76.35017395019531,78.60860443115234,80.83970642089844,83.0479736328125,85.25536346435547,87.49878692626953,89.82569885253906,92.28860473632812,94.93875885009766,97.81926727294922,100.95867156982422,104.3650894165039,108.02180480957031,111.88532257080078,115.88602447509766,119.93208312988281,123.91616821289062,127.72467041015625,131.247802734375,134.38978576660156,137.07688903808594,139.2628631591797,140.93063354492188,142.0906982421875,142.77734375,143.0429229736328,142.951904296875,142.57554626464844,141.9869384765625,141.25717163085938,140.45240783691406,139.6318359375,138.84683227539062,138.14137268066406,137.55422973632812,137.12237548828125,136.8851776123047,136.8876495361328,137.18186950683594,137.82501220703125,138.8739776611328,140.376220703125,142.35858154296875,144.8160400390625,147.7030029296875,150.928955078125,154.36041259765625,157.8297119140625,161.14903259277344,164.1283416748047,166.59481811523438,168.4100341796875,169.4824676513672,169.77386474609375,169.29843139648438,168.1161346435547,166.32217407226562,164.03500366210938,161.3853302001953,158.50721740722656,155.5323028564453,152.5859375,149.78355407714844,147.2262420654297,144.99476623535156,143.14247131347656,141.69000244140625,140.6232452392578,139.89697265625,139.44508361816406,139.1957244873047,139.08831787109375],[53.338111877441406,53.349639892578125,53.37146759033203,53.40106201171875,53.434715270996094,53.46772384643555,53.49485397338867,53.511009216308594,53.512046813964844,53.4958381652832,53.46281814575195,53.41657257080078,53.36351013183594,53.31224060058594,53.27238464355469,53.25306701660156,53.26142501831055,53.30156707763672,53.37396240234375,53.47542190551758,53.59994888305664,53.74009704589844,53.88825988769531,54.03807830810547,54.185264587402344,54.32788848876953,54.46613311767578,54.60157012939453,54.73627853393555,54.871978759765625,55.009429931640625,55.14836502075195,55.28781509399414,55.42647171020508,55.56319046020508,55.69741439819336,55.82915496826172,55.9587516784668,56.08640670776367,56.21149444580078,56.33220672607422,56.4453125,56.54639434814453,56.63033676147461,56.692386627197266,56.728973388671875,56.73854446411133,56.721946716308594,56.6824836730957,56.62525939941406,56.55619430541992,56.481109619140625,56.40446853637695,56.328895568847656,56.254878997802734,56.18099594116211,56.104610443115234,56.02272415161133,55.93281936645508,55.833580017089844,55.72536087036133,55.609981536865234,55.49053192138672,55.370941162109375,55.25527572631836,55.14754104614258,55.05117416381836,54.968849182128906,54.90266418457031,54.85424041748047,54.824867248535156,54.815635681152344,54.827178955078125,54.85975646972656,54.912994384765625,54.9855842590332,55.0750617980957,55.177825927734375,55.289119720458984,55.40345764160156,55.51509475708008,55.61871337890625,55.71016311645508,55.78702926635742,55.84912109375,55.898311614990234,55.93834686279297,55.974056243896484,56.01054382324219,56.052162170410156,56.10213088989258,56.16228103637695,56.23353576660156,56.31687545776367,56.41463851928711,56.53193664550781,56.67780303955078,56.86578369140625,57.1142463684082,57.44582748413086,57.886104583740234,58.46147155761719,59.196441650390625,60.110511779785156,61.215049743652344,62.51083755493164,63.98655700683594,65.61925506591797,67.37650299072266,69.22044372558594,71.11289978027344,73.02103424072266,74.92240142822266,76.80889129638672,78.68843078613281,80.58509063720703,82.53683471679688,84.59168243408203,86.8026351928711,89.22177124023438,91.89360809326172,94.84869384765625,98.0976791381836,101.62664794921875,105.39480590820312,109.3349380493164,113.35704040527344,117.3550033569336,121.21593475341797,124.83051300048828,128.1033172607422,130.9611358642578,133.35829162597656,135.27818298339844,136.7313232421875,137.75106811523438,138.38746643066406,138.7010498046875,138.75746154785156,138.6226806640625,138.35951232910156,138.02499389648438,137.6686248779297,137.3316650390625,137.04766845703125,136.84451293945312,136.74798583984375,136.78607177734375,136.9928436279297,137.41061401367188,138.08912658691406,139.08131408691406,140.43539428710938,142.1845245361328,144.3359375,146.8619842529297,149.6947784423828,152.72662353515625,155.81661987304688,158.80239868164062,161.51593017578125,163.80088806152344,165.5287322998047,166.61056518554688,167.0038604736328,166.71237182617188,165.7808074951172,164.28590393066406,162.32601928710938,160.01144409179688,157.45697021484375,154.77723693847656,152.08372497558594,149.4821014404297,147.0682830810547,144.9228515625,143.10397338867188,141.6414794921875,140.53384399414062,139.7503662109375,139.23963928222656,138.94281005859375,138.80906677246094],[53.57560348510742,53.587745666503906,53.61090087890625,53.642642974853516,53.67932891845703,53.7161865234375,53.74772262573242,53.76838684082031,53.7734375,53.760108947753906,53.7282829284668,53.68122100830078,53.62529754638672,53.5694465637207,53.52389907836914,53.49859619140625,53.50153732299805,53.5376091003418,53.607845306396484,53.70930099487305,53.83592224121094,53.97990417480469,54.13309097290039,54.28852081298828,54.44133758544922,54.58915710449219,54.73187255859375,54.87087631225586,55.00811767578125,55.14513397216797,55.282371520996094,55.41908645629883,55.55369186401367,55.684200286865234,55.80887222290039,55.9267692565918,56.037837982177734,56.14277267456055,56.24251174926758,56.33750915527344,56.42725372314453,56.509883880615234,56.582305908203125,56.64056396484375,56.68083190917969,56.70016860961914,56.69736099243164,56.67329025268555,56.63104248046875,56.57526779174805,56.511268615722656,56.44411849975586,56.377464294433594,56.3130989074707,56.25069046020508,56.18805694580078,56.12190246582031,56.04872512817383,55.9656867980957,55.87138748168945,55.76638412475586,55.65291976928711,55.53471755981445,55.41641616821289,55.302772521972656,55.19832229614258,55.106788635253906,55.03084945678711,54.97230529785156,54.93224334716797,54.91127014160156,54.90974807739258,54.92764663696289,54.964725494384766,55.020294189453125,55.09295654296875,55.18035888671875,55.279144287109375,55.3848991394043,55.49246597290039,55.596397399902344,55.69163513183594,55.77423095703125,55.841983795166016,55.89492416381836,55.9351806640625,55.96677780151367,55.994773864746094,56.024417877197266,56.060062408447266,56.1047248840332,56.15980911254883,56.22555923461914,56.301963806152344,56.389991760253906,56.49292755126953,56.61745071411133,56.774173736572266,56.977935791015625,57.24735641479492,57.60368728637695,58.069034576416016,58.66412353515625,59.40565490722656,60.30369186401367,61.359588623046875,62.56466293334961,63.90056228637695,65.34107971191406,66.85555267333984,68.41320037841797,69.98799133300781,71.56303405761719,73.13411712646484,74.71131896972656,76.31926727294922,77.99530792236328,79.78624725341797,81.74383544921875,83.91940307617188,86.35760498046875,89.0902099609375,92.13021850585938,95.46702575683594,99.06381225585938,102.8576889038086,106.762939453125,110.677490234375,114.49212646484375,118.10077667236328,121.41093444824219,124.3520278930664,126.880615234375,128.9818115234375,130.66696166992188,131.968994140625,132.93594360351562,133.62445068359375,134.09437561035156,134.40423583984375,134.60794067382812,134.7526397705078,134.87730407714844,135.01220703125,135.1796417236328,135.39599609375,135.67529296875,136.0337371826172,136.49392700195312,137.08773803710938,137.85646057128906,138.8477783203125,140.10890197753906,141.6773223876953,143.57037353515625,145.77630615234375,148.24806213378906,150.90232849121094,153.62405395507812,156.27618408203125,158.71302795410156,160.7958526611328,162.4075927734375,163.46412658691406,163.9209747314453,163.7740478515625,163.055419921875,161.82583618164062,160.16587829589844,158.1676025390625,155.92837524414062,153.5472412109375,151.12278747558594,148.7510986328125,146.5222930908203,144.51512145996094,142.789794921875,141.3816375732422,140.29727172851562,139.5157012939453,138.99546813964844,138.68663024902344,138.5450897216797],[53.80149841308594,53.814517974853516,53.839481353759766,53.87401580810547,53.91444778442383,53.95585250854492,53.992401123046875,54.01801681518555,54.02732849121094,54.01692581176758,53.986148834228516,53.93799591064453,53.878875732421875,53.81812286376953,53.766693115234375,53.73543167114258,53.73330307006836,53.76601028442383,53.83516311645508,53.93802261352539,54.068359375,54.217864990234375,54.37767028808594,54.540016174316406,54.69932556152344,54.85267639160156,54.9996223449707,55.141395568847656,55.27988815307617,55.41654968261719,55.55162811279297,55.684017181396484,55.811607360839844,55.93180847167969,56.042354583740234,56.141971588134766,56.23060989379883,56.30935287475586,56.37993240356445,56.443931579589844,56.502174377441406,56.55421829223633,56.59831619262695,56.63166809082031,56.651363372802734,56.655052185058594,56.64178466796875,56.612361907958984,56.569522857666016,56.5173225402832,56.46029281616211,56.40263366699219,56.347076416015625,56.29453659057617,56.24386978149414,56.19219207763672,56.135658264160156,56.07038497924805,55.99336624145508,55.903236389160156,55.800838470458984,55.68890380859375,55.5717887878418,55.45482635498047,55.343406677246094,55.24253845214844,55.15616989135742,55.086936950683594,55.036319732666016,55.0048713684082,54.99251937866211,54.998897552490234,55.023311614990234,55.064979553222656,55.122859954833984,55.195404052734375,55.28028106689453,55.374332427978516,55.473426818847656,55.57273864746094,55.66716003417969,55.75197982788086,55.823577880859375,55.880104064941406,55.92196273803711,55.95165252685547,55.97356414794922,55.9930305480957,56.015464782714844,56.04521179199219,56.085079193115234,56.13605880737305,56.197757720947266,56.269283294677734,56.350406646728516,56.442806243896484,56.551090240478516,56.683258056640625,56.85097122192383,57.06917953491211,57.35515594482422,57.72700500488281,58.201881408691406,58.79380416870117,59.51156234741211,60.356964111328125,61.32371520996094,62.397708892822266,63.55845642089844,64.78187561035156,66.0438461303711,67.32432556152344,68.61106872558594,69.90272521972656,71.21038818359375,72.55799102783203,73.98091888427734,75.52330780029297,77.23419189453125,79.1627197265625,81.35244750976562,83.83543395996094,86.62660217285156,89.71879577636719,93.0799789428711,96.6530532836914,100.35861206054688,104.1010513305664,107.77743530273438,111.28752136230469,114.54405975341797,117.48101806640625,120.05867767333984,122.26485443115234,124.11238098144531,125.63414001464844,126.87632751464844,127.89186096191406,128.73492431640625,129.4566192626953,130.10203552246094,130.70843505859375,131.30419921875,131.9086151123047,132.53274536132812,133.18154907226562,133.85740661621094,134.56480407714844,135.31478881835938,136.12838745117188,137.03761291503906,138.08346557617188,139.31031799316406,140.7576141357422,142.4502410888672,144.3895263671875,146.5466766357422,148.8604278564453,151.23992919921875,153.572265625,155.73388671875,157.6041717529297,159.07888793945312,160.08058166503906,160.56532287597656,160.52383422851562,159.9783935546875,158.97659301757812,157.58383178710938,155.87635803222656,153.9362335205078,151.84864807128906,149.7004852294922,147.57875061035156,145.56735229492188,143.74180603027344,142.16184997558594,140.8648223876953,139.8612060546875,139.1350860595703,138.65036010742188,138.36204528808594,138.22975158691406],[54.01342010498047,54.02754211425781,54.054718017578125,54.09255599975586,54.13724899291992,54.183631896972656,54.225467681884766,54.25613021850586,54.26961135864258,54.261898040771484,54.23185729980469,54.182273864746094,54.11967468261719,54.05385971069336,53.99654769897461,53.95955276489258,53.95280838012695,53.98286437988281,54.0518684387207,54.15724563598633,54.29251480102539,54.448753356933594,54.61624526977539,54.78630828857422,54.95253372192383,55.11137390136719,55.26201248168945,55.405555725097656,55.543888092041016,55.678489685058594,55.809532165527344,55.93569564819336,56.05448532104492,56.16282272338867,56.25801086425781,56.33852005004883,56.404319763183594,56.45689392089844,56.49875259399414,56.53255081176758,56.56040573120117,56.58323669433594,56.60057830810547,56.610748291015625,56.611698150634766,56.60162353515625,56.57977294921875,56.546817779541016,56.50504684448242,56.457847595214844,56.40888977050781,56.36142349243164,56.31720733642578,56.27626419067383,56.23667526245117,56.194923400878906,56.146732330322266,56.0880012512207,56.015682220458984,55.9285888671875,55.827919006347656,55.71693420410156,55.60060119628906,55.48486328125,55.375667572021484,55.27839279174805,55.1971549987793,55.134517669677734,55.09165954589844,55.068641662597656,55.06478500366211,55.07905578613281,55.110130310058594,55.15669250488281,55.21730041503906,55.29014587402344,55.372833251953125,55.46227264404297,55.55453109741211,55.64508056640625,55.729156494140625,55.802459716796875,55.86180877685547,55.90583419799805,55.93541717529297,55.95354080200195,55.96500015258789,55.9754524230957,55.99045944213867,56.014366149902344,56.049766540527344,56.097267150878906,56.155914306640625,56.224063873291016,56.30046463012695,56.38545227050781,56.481868743896484,56.59547805786133,56.73519515991211,56.91276931762695,57.141944885253906,57.437278747558594,57.812713623046875,58.27983093261719,58.84619140625,59.5139274597168,60.278785705566406,61.130332946777344,62.05305862426758,63.02859115600586,64.0385513305664,65.06793212890625,66.108154296875,67.15986633300781,68.23423767089844,69.35360717773438,70.55040740966797,71.86502838134766,73.34265899658203,75.02909088134766,76.96562957763672,79.18370056152344,81.69950103759766,84.50912475585938,87.58570098876953,90.87886810302734,94.31702423095703,97.81293487548828,101.27207946777344,104.60221862792969,107.7232894897461,110.57540893554688,113.12369537353516,115.35938262939453,117.29713439941406,118.96992492675781,120.4222183227539,121.70336151123047,122.86215209960938,123.94274139404297,124.98197937011719,126.0079345703125,127.03914642333984,128.08474731445312,129.14540100097656,130.21546936035156,131.28652954101562,132.3519744873047,133.41165161132812,134.47567749023438,135.56613159179688,136.71612548828125,137.96517944335938,139.3522491455078,140.90670776367188,142.63983154296875,144.53778076171875,146.5585174560547,148.6328887939453,150.67054748535156,152.5692596435547,154.22674560546875,155.55262756347656,156.47792053222656,156.96156311035156,156.99176025390625,156.58372497558594,155.77455139160156,154.6170654296875,153.17398071289062,151.51409912109375,149.71043395996094,147.8394317626953,145.9796142578125,144.20858764648438,142.59750366210938,141.2036590576172,140.06341552734375,139.1875,138.56100463867188,138.1492156982422,137.90855407714844,137.79977416992188],[54.212677001953125,54.22803497314453,54.25764083862305,54.29899978637695,54.34809112548828,54.39942932128906,54.44633483886719,54.48163986206055,54.498756408691406,54.49313735961914,54.46329116821289,54.411861419677734,54.345558166503906,54.27467727661133,54.211708068847656,54.16939163208008,54.158607482910156,54.18669891357422,54.256309509277344,54.3649787902832,54.50590515136719,54.669490814208984,54.8450927734375,55.02302932739258,55.19599533081055,55.359764099121094,55.51313781738281,55.6571159362793,55.793663024902344,55.92439270019531,56.04957962036133,56.1678466796875,56.27649688720703,56.37211990356445,56.451698303222656,56.51350402832031,56.55752944946289,56.585601806640625,56.60088348388672,56.606971740722656,56.607120513916016,56.603450775146484,56.59667205810547,56.586116790771484,56.570533752441406,56.54862594604492,56.51982498168945,56.48464584350586,56.4449348449707,56.403358459472656,56.36271286010742,56.325260162353516,56.29179382324219,56.26144790649414,56.231571197509766,56.1981201171875,56.15652084350586,56.10258102416992,56.033382415771484,55.948020935058594,55.848140716552734,55.737510681152344,55.621646881103516,55.50700378417969,55.39993667602539,55.30609130859375,55.22966766357422,55.17314147949219,55.13743591308594,55.12223434448242,55.12635040283203,55.148223876953125,55.185970306396484,55.237762451171875,55.30170822143555,55.375667572021484,55.45702362060547,55.542633056640625,55.62864303588867,55.710750579833984,55.7845344543457,55.84614562988281,55.89291763305664,55.92404556274414,55.940982818603516,55.947227478027344,55.94804000854492,55.94936752319336,55.956932067871094,55.975059509277344,56.00615310668945,56.05048751831055,56.10663604736328,56.172340393066406,56.24552917480469,56.325443267822266,56.413475036621094,56.513553619384766,56.632301330566406,56.77877426147461,56.9637565612793,57.19877624511719,57.49502944946289,57.86196517944336,58.30603790283203,58.829551696777344,59.429866790771484,60.09955596923828,60.827205657958984,61.599151611328125,62.40169143676758,63.22385025024414,64.05986022949219,64.91156005859375,65.78958129882812,66.71405792236328,67.71385955810547,68.82500457763672,70.08802795410156,71.54449462890625,73.23253631591797,75.18204498291016,77.40972900390625,79.91451263427734,82.67465209960938,85.6469497680664,88.76852416992188,91.96185302734375,95.1423568725586,98.22742462158203,101.14561462402344,103.84431457519531,106.29424285888672,108.49036407470703,110.44922637939453,112.20379638671875,113.79676818847656,115.27404022216797,116.67943572998047,118.0509033203125,119.41803741455078,120.80094146728516,122.20975494384766,123.64493560791016,125.09832763671875,126.55525207519531,127.99789428710938,129.4097442626953,130.78030395507812,132.10910034179688,133.40797424316406,134.70101928710938,136.02117919921875,137.40428161621094,138.8811492919922,140.469482421875,142.16697692871094,143.94737243652344,145.7605438232422,147.53665161132812,149.19374084472656,150.64776611328125,151.82301330566406,152.66061401367188,153.1243896484375,153.20242309570312,152.90521240234375,152.26165771484375,151.31402587890625,150.11337280273438,148.7168731689453,147.186767578125,145.590087890625,143.9976043701172,142.48062133789062,141.1053924560547,139.9253387451172,138.9738006591797,138.25897216796875,137.76393127441406,137.4522705078125,137.27914428710938,137.204345703125],[54.40362548828125,54.42021179199219,54.45219421386719,54.49690628051758,54.550048828125,54.60577392578125,54.65696716308594,54.69596862792969,54.71571350097656,54.71125793457031,54.680843353271484,54.627098083496094,54.55694580078125,54.481170654296875,54.4129753112793,54.36595153808594,54.3518180847168,54.37860870361328,54.44938659667969,54.56174850463867,54.708534240722656,54.87943649291992,55.0628662109375,55.248111724853516,55.426944732666016,55.59444808959961,55.74905014038086,55.891685485839844,56.02449417114258,56.149375915527344,56.26686096191406,56.37574768066406,56.47332763671875,56.55604553222656,56.62068176269531,56.665348052978516,56.69001770019531,56.69673156738281,56.68910598754883,56.671451568603516,56.64789962768555,56.62156677246094,56.59414291381836,56.56585693359375,56.536190032958984,56.50432586669922,56.469879150390625,56.43326187133789,56.395896911621094,56.35978698730469,56.32686233520508,56.29844284057617,56.27436828613281,56.25293731689453,56.230838775634766,56.2036018371582,56.16649627685547,56.11539840698242,56.04765319824219,55.96275329589844,55.86280822753906,55.7520751953125,55.636512756347656,55.52292251586914,55.41791915893555,55.32726287841797,55.255149841308594,55.203975677490234,55.17448425292969,55.166099548339844,55.177310943603516,55.20616912841797,55.2503547668457,55.30757141113281,55.37546157836914,55.451454162597656,55.53258514404297,55.61552429199219,55.696372985839844,55.7709846496582,55.83524703979492,55.885780334472656,55.92047882080078,55.939151763916016,55.943851470947266,55.93861770629883,55.929134368896484,55.921630859375,55.92195510864258,55.934410095214844,55.961246490478516,56.00246047973633,56.056278228759766,56.119964599609375,56.19082260131836,56.267234802246094,56.349456787109375,56.43994140625,56.54348373413086,56.66697311401367,56.81879806518555,57.008033752441406,57.243629455566406,57.53327178955078,57.88242721557617,58.29343795776367,58.76484680175781,59.29151916503906,59.86520767211914,60.47588348388672,61.11347961425781,61.77009201049805,62.44197082519531,63.13154602050781,63.848506927490234,64.61051940917969,65.44264221191406,66.37621307373047,67.44674682617188,68.6910171508789,70.14330291748047,71.83116149902344,73.77108764648438,75.9642105102539,78.39353942871094,81.02304077148438,83.79891967773438,86.65401458740234,89.51466369628906,92.30880737304688,94.97453308105469,97.46711730957031,99.76313018798828,101.86128997802734,103.77976989746094,105.55123901367188,107.21643829345703,108.81790924072266,110.3949966430664,111.98030853271484,113.59748077392578,115.26025390625,116.97219848632812,118.72711181640625,120.51009368896484,122.29947662353516,124.0699691772461,125.7968521118164,127.46054077148438,129.0507049560547,130.56900024414062,132.02976989746094,133.45779418945312,134.88348388671875,136.33612060546875,137.83644104003906,139.38999938964844,140.98306274414062,142.58151245117188,144.1339111328125,145.577392578125,146.84585571289062,147.87892150878906,148.62908935546875,149.06680297851562,149.18185424804688,148.98182678222656,148.48904418945312,147.736572265625,146.76492309570312,145.62063598632812,144.35604858398438,143.02957153320312,141.70472717285156,140.44686889648438,139.3172149658203,138.36477661132812,137.61868286132812,137.08309936523438,136.7372283935547,136.54112243652344,136.4468536376953,136.41207885742188],[54.59228515625,54.60993576049805,54.64393615722656,54.69141387939453,54.74776077270508,54.806766510009766,54.860923767089844,54.90218734741211,54.92315673828125,54.91863250732422,54.886749267578125,54.83019256591797,54.75613784790039,54.67582702636719,54.603057861328125,54.552127838134766,54.53544235229492,54.56158447265625,54.63393020629883,54.750057220458984,54.90242004394531,55.08000183105469,55.27027893066406,55.46153259277344,55.644630432128906,55.813987731933594,55.96770095825195,56.10670471191406,56.23343276977539,56.35021209716797,56.458065032958984,56.55616760253906,56.64203643798828,56.712154388427734,56.763214111328125,56.793190002441406,56.80195236206055,56.791568756103516,56.76585006713867,56.729515075683594,56.687278747558594,56.64295959472656,56.59901809692383,56.55643081665039,56.515316009521484,56.47533416748047,56.436317443847656,56.39863204956055,56.36335754394531,56.3319091796875,56.30543518066406,56.284366607666016,56.267669677734375,56.252891540527344,56.23616409301758,56.21272659301758,56.177825927734375,56.127559661865234,56.059669494628906,55.97412109375,55.87350082397461,55.762474060058594,55.64728546142578,55.534912109375,55.4320182800293,55.34432601928711,55.27595901489258,55.229217529296875,55.20476150512695,55.2019157409668,55.219032287597656,55.25394058227539,55.30402755737305,55.36659622192383,55.438812255859375,55.517608642578125,55.59958267211914,55.68107604980469,55.7580680847168,55.826473236083984,55.882469177246094,55.92313766479492,55.94694137573242,55.954315185546875,55.947879791259766,55.932186126708984,55.91328430175781,55.89763641357422,55.89115905761719,55.898155212402344,55.92073440551758,55.958717346191406,56.01008224487305,56.07177734375,56.14065933227539,56.2144775390625,56.29261016845703,56.376380920410156,56.46916580200195,56.57618713378906,56.7039909362793,56.85976791381836,57.050716400146484,57.28313064575195,57.561641693115234,57.88850784301758,58.263031005859375,58.681678771972656,59.138465881347656,59.626007080078125,60.13686752319336,60.66533660888672,61.20903015136719,61.77056121826172,62.358489990234375,62.98796844482422,63.68034362792969,64.46232604980469,65.36431121826172,66.41807556152344,67.65359497070312,69.09554290771484,70.75947570800781,72.64805603027344,74.74845886230469,77.0313949584961,79.45203399658203,81.95368194580078,84.47383880615234,86.95138549804688,89.33418273925781,91.58550262451172,93.68769073486328,95.64282989501953,97.47029113769531,99.2020034790039,100.87648010253906,102.53302001953125,104.20697021484375,105.92655181884766,107.71080017089844,109.5688705444336,111.49980163574219,113.49298858642578,115.52909088134766,117.581787109375,119.62055969238281,121.61444091796875,123.53640747070312,125.36734008789062,127.09918975830078,128.7362518310547,130.29400634765625,131.79554748535156,133.2659454345703,134.7259063720703,136.18553161621094,137.6403045654297,139.06939697265625,140.4376220703125,141.69992065429688,142.8078155517578,143.7166290283203,144.39117431640625,144.80978393554688,144.96522521972656,144.86325073242188,144.5203857421875,143.9610137939453,143.2154541015625,142.31983947753906,141.31686401367188,140.2566680908203,139.1959991455078,138.19471740722656,137.30938720703125,136.58474731445312,136.04571533203125,135.69210815429688,135.49874877929688,135.4214324951172,135.40866088867188,135.41534423828125],[54.78461456298828,54.80302047729492,54.838409423828125,54.88768768310547,54.94594955444336,55.006675720214844,55.06205749511719,55.10379409790039,55.12430953979492,55.118324279785156,55.084007263183594,55.02418518066406,54.946311950683594,54.86199188232422,54.78550338745117,54.73164749145508,54.71333312988281,54.739505767822266,54.8137092590332,54.93342971801758,55.0907096862793,55.273834228515625,55.469398498535156,55.664730072021484,55.84984588623047,56.018558502197266,56.168701171875,56.30131149291992,56.41923141479492,56.525413513183594,56.62156677246094,56.70749282836914,56.781150817871094,56.8392448425293,56.878475189208984,56.89669418334961,56.8935432434082,56.870914459228516,56.83253479003906,56.78318786621094,56.727840423583984,56.670719146728516,56.614803314208984,56.561649322509766,56.511924743652344,56.46572494506836,56.42314147949219,56.384544372558594,56.35078430175781,56.3227653503418,56.30097961425781,56.28507614135742,56.27325439453125,56.26244354248047,56.248355865478516,56.22609329223633,56.1910514831543,56.13969421386719,56.07026290893555,55.98324203491211,55.88166046142578,55.77048110961914,55.65605163574219,55.54529571533203,55.44472885131836,55.35987854003906,55.29469680786133,55.25142288208008,55.230712890625,55.231956481933594,55.25354766845703,55.29329299926758,55.348411560058594,55.415889739990234,55.492431640625,55.57444381713867,55.658016204833984,55.73908996582031,55.81343078613281,55.876983642578125,55.92617416381836,55.95853805541992,55.97307205200195,55.97079849243164,55.954856872558594,55.93022537231445,55.90322494506836,55.88046646118164,55.867897033691406,55.86978530883789,55.88817596435547,55.92277526855469,55.971435546875,56.03094482421875,56.09785842895508,56.16947937011719,56.24455642700195,56.32356643676758,56.40883255004883,56.50436019897461,56.61534881591797,56.747623443603516,56.907100677490234,57.099029541015625,57.32735824584961,57.59415817260742,57.89910888671875,58.239662170410156,58.611289978027344,59.008338928222656,59.42513656616211,59.8574333190918,60.303688049316406,60.766441345214844,61.25311279296875,61.77653884887695,62.354637145996094,63.00979995727539,63.76754379272461,64.65467834472656,65.69674682617188,66.91513061523438,68.32390594482422,69.92655181884766,71.71371459960938,73.66217803955078,75.7354965209961,77.88705444335938,80.06519317626953,82.21949768066406,84.30735778808594,86.29969787597656,88.18413543701172,89.96561431884766,91.66407012939453,93.3102035522461,94.9400863647461,96.58979797363281,98.29119873046875,100.06903839111328,101.93911743164062,103.90769958496094,105.97129821777344,108.1170883178711,110.32366180419922,112.56237030029297,114.79976654052734,117.00077819824219,119.13273620605469,121.16918182373047,123.09317779541016,124.89915466308594,126.59272766113281,128.1883087158203,129.70474243164062,131.16006469726562,132.5661163330078,133.92471313476562,135.2257843017578,136.4484405517578,137.5641632080078,138.5415802001953,139.3518829345703,139.97274780273438,140.39111328125,140.6033172607422,140.61367797851562,140.43295288085938,140.07656860351562,139.56422424316406,138.9211883544922,138.18028259277344,137.38327026367188,136.5804443359375,135.82672119140625,135.17477416992188,134.66600036621094,134.3219757080078,134.13902282714844,134.0882568359375,134.12185668945312,134.18508911132812,134.23043823242188],[54.984859466552734,55.00359344482422,55.03952407836914,55.08937072753906,55.14797592163086,55.20858383178711,55.263221740722656,55.3034782409668,55.321781158447266,55.31293487548828,55.27527618408203,55.21184539794922,55.13036346435547,55.042728424072266,54.96352767944336,54.907875061035156,54.88895034790039,54.91586685180664,54.9921875,55.11520004272461,55.27650451660156,55.463722229003906,55.66262435913086,55.85967254638672,56.04412078857422,56.20927429199219,56.35279846191406,56.47594451904297,56.58211898803711,56.67506408691406,56.75737762451172,56.8297119140625,56.89066696166992,56.93732452392578,56.96650314331055,56.975894927978516,56.9648323059082,56.934810638427734,56.88920974731445,56.83256149291992,56.7697639465332,56.70513916015625,56.64195251464844,56.582149505615234,56.52682876586914,56.47646713256836,56.43140411376953,56.39208221435547,56.35917282104492,56.33320617675781,56.31411361694336,56.3009147644043,56.291202545166016,56.28144454956055,56.26712417602539,56.2433967590332,56.205963134765625,56.15179443359375,56.079715728759766,55.990753173828125,55.88829040527344,55.77743911743164,55.66444396972656,55.55595397949219,55.4581184387207,55.37611389160156,55.313663482666016,55.2729377746582,55.254703521728516,55.258548736572266,55.2830924987793,55.32625961303711,55.385250091552734,55.45680618286133,55.53722381591797,55.62237548828125,55.70782470703125,55.78907775878906,55.861663818359375,55.92152786254883,55.965328216552734,55.99102020263672,55.99809646606445,55.98809814453125,55.9645881652832,55.93285369873047,55.899383544921875,55.870826721191406,55.85309982299805,55.850440979003906,55.86484146118164,55.8959846496582,55.941715240478516,55.99876022338867,56.063533782958984,56.13304901123047,56.20560836791992,56.28109359741211,56.361083984375,56.44873809814453,56.5483512878418,56.664817810058594,56.80319595336914,56.96798324584961,57.16259002685547,57.38881301879883,57.64641189575195,57.93327713012695,58.24565887451172,58.578880310058594,58.92831039428711,59.29057693481445,59.66459274291992,60.05270767211914,60.46132278442383,60.90127182006836,61.387508392333984,61.93858337402344,62.57558059692383,63.32062911987305,64.19490814208984,65.21635437011719,66.39714050292969,67.74098205566406,69.2411880493164,70.8797836303711,72.62786865234375,74.44805145263672,76.29879760742188,78.13964080810547,79.93681335449219,81.66817474365234,83.32594299316406,84.91718292236328,86.46182250976562,87.9888687133789,89.53170776367188,91.12332153320312,92.79253387451172,94.56148529052734,96.44390869140625,98.44468688964844,100.55958557128906,102.77552032470703,105.0710678100586,107.41743469238281,109.78034973144531,112.12271118164062,114.40808868408203,116.6042709350586,118.68663024902344,120.64038848876953,122.46129608154297,124.15440368652344,125.73101806640625,127.2046127319336,128.58648681640625,129.8824462890625,131.0909881591797,132.20375061035156,133.20750427246094,134.0873260498047,134.83010864257812,135.42648315429688,135.87216186523438,136.1671142578125,136.3140106201172,136.31719970703125,136.18238830566406,135.91761779785156,135.53639221191406,135.06089782714844,134.52427673339844,133.97044372558594,133.449951171875,133.01272583007812,132.6981658935547,132.5261688232422,132.49124145507812,132.5625457763672,132.69015502929688,132.81736755371094,132.89511108398438],[55.19416427612305,55.21274185180664,55.24827194213867,55.297325134277344,55.354583740234375,55.413177490234375,55.465087890625,55.50196838378906,55.51640701293945,55.503440856933594,55.4616813659668,55.39445114135742,55.309715270996094,55.219573974609375,55.13877487182617,55.0825309753418,55.06407928466797,55.09250259399414,55.171199798583984,55.29718017578125,55.4615592956543,55.65131378173828,55.85146713256836,56.047725677490234,56.22868728637695,56.387264251708984,56.52107238769531,56.63170623779297,56.723262786865234,56.80043411254883,56.866886138916016,56.92428970336914,56.972042083740234,57.00774383544922,57.02838134765625,57.03151321411133,57.01605224609375,56.98295974731445,56.93502426147461,56.876277923583984,56.81126022338867,56.74414825439453,56.67823791503906,56.615684509277344,56.557857513427734,56.50554275512695,56.459285736083984,56.419593811035156,56.387027740478516,56.361820220947266,56.343475341796875,56.330535888671875,56.32017517089844,56.30861282348633,56.29130554199219,56.26365280151367,56.22185134887695,56.16348648071289,56.08802795410156,55.99700927734375,55.89406967163086,55.78429412841797,55.67361831665039,55.56818771362305,55.473602294921875,55.394561767578125,55.33449172973633,55.29551696777344,55.27859115600586,55.283626556396484,55.309600830078125,55.35469436645508,55.41618728637695,55.49066925048828,55.574073791503906,55.661781311035156,55.74884796142578,55.83036804199219,55.90163803100586,55.958621978759766,55.998191833496094,56.01869583129883,56.02008056640625,56.00429916381836,55.97523880004883,55.93836212158203,55.90019607543945,55.86732482910156,55.845577239990234,55.83911895751953,55.84992599487305,55.877723693847656,55.92042922973633,55.97481155395508,56.037261962890625,56.10462951660156,56.1749267578125,56.24763870239258,56.3238525390625,56.40618133544922,56.49836730957031,56.60474395751953,56.72985076904297,56.877681732177734,57.05121612548828,57.25193405151367,57.47941970825195,57.73160171508789,58.00495529174805,58.295196533203125,58.598175048828125,58.910953521728516,59.232643127441406,59.56538009643555,59.91471862792969,60.2899055480957,60.703453063964844,61.17067337036133,61.708778381347656,62.335670471191406,63.06843948364258,63.9216194152832,64.90523529052734,66.02272033691406,67.26934051513672,68.63143157958984,70.08658599853516,71.60558319091797,73.15587615966797,74.70589447021484,76.22970581054688,77.71116638183594,79.146240234375,80.54342651367188,81.92205810546875,83.30908966064453,84.735107421875,86.23015594482422,87.8204345703125,89.52617645263672,91.36003875732422,93.32670593261719,95.4225845336914,97.6358871459961,99.94683837890625,102.3282241821289,104.74678039550781,107.16517639160156,109.54501342773438,111.84996795654297,114.04914855957031,116.1196060180664,118.0478286743164,119.82952880859375,121.46785736083984,122.9705810546875,124.34689331054688,125.60481262207031,126.74961853027344,127.78382110595703,128.7082977294922,129.52366638183594,130.2318878173828,130.83628845214844,131.34103393554688,131.74925231933594,132.06129455566406,132.27430725097656,132.3830108642578,132.38272094726562,132.27395629882812,132.06744384765625,131.78720092773438,131.47080993652344,131.1651153564453,130.9183807373047,130.76974487304688,130.73941040039062,130.8223876953125,130.9881591796875,131.18685913085938,131.36166381835938,131.4633026123047],[55.40986251831055,55.42780303955078,55.462005615234375,55.50896453857422,55.56330490112305,55.61814498901367,55.66558074951172,55.69746017456055,55.70667266845703,55.6886100769043,55.642234802246094,55.571197509765625,55.48367691040039,55.39189910888672,55.31061935424805,55.254981994628906,55.238075256347656,55.268760681152344,55.350135803222656,55.47880935668945,55.6453857421875,55.83623504638672,56.03570556640625,56.228843688964844,56.40373611450195,56.553016662597656,56.67438507080078,56.76987838745117,56.84440612792969,56.90372085571289,56.952667236328125,56.99404525756836,57.02817153930664,57.05324172973633,57.066463470458984,57.06525802612305,57.048099517822266,57.015296936035156,56.96892166137695,56.91231918334961,56.8494758605957,56.78419876098633,56.71961975097656,56.65791702270508,56.600582122802734,56.54856491088867,56.50254440307617,56.463069915771484,56.43059539794922,56.405120849609375,56.38585662841797,56.37101745605469,56.35755920410156,56.34166717529297,56.318992614746094,56.28538513183594,56.2376708984375,56.174156188964844,56.094970703125,56.00209426879883,55.89930725097656,55.7914924621582,55.6840705871582,55.58251953125,55.49172592163086,55.41581344604492,55.35787582397461,55.32001495361328,55.30342102050781,55.30841827392578,55.33443832397461,55.380008697509766,55.442569732666016,55.51862716674805,55.60381317138672,55.693084716796875,55.78105545043945,55.862449645996094,55.932403564453125,55.986900329589844,56.0230598449707,56.03958511352539,56.03680419921875,56.01700973510742,55.984283447265625,55.94414520263672,55.90303421020508,55.867374420166016,55.84282684326172,55.833473205566406,55.84127426147461,55.86604690551758,55.90583038330078,55.95752716064453,56.017574310302734,56.082767486572266,56.15094757080078,56.22135543823242,56.29478073120117,56.37353515625,56.46107482910156,56.56146240234375,56.678955078125,56.81725311279297,56.979000091552734,57.16531753540039,57.375450134277344,57.607059478759766,57.85646057128906,58.11933898925781,58.39161682128906,58.670475006103516,58.95508575439453,59.24737548828125,59.552303314208984,59.87790298461914,60.23480987548828,60.63572311401367,61.094608306884766,61.62571716308594,62.242454528808594,62.956138610839844,63.774593353271484,64.70060729980469,65.73072814941406,66.85472106933594,68.05554962158203,69.31092071533203,70.59599304199219,71.88682556152344,73.16410827636719,74.41667175292969,75.64336395263672,76.85344696044922,78.06522369384766,79.30339050292969,80.59571075439453,81.96947479248047,83.44869995117188,85.05223846435547,86.79238891601562,88.67449188232422,90.69656372070312,92.84915161132812,95.11528778076172,97.47056579589844,99.88407897949219,102.3197021484375,104.73860931396484,107.10192108154297,109.37399291992188,111.52508544921875,113.53345489501953,115.3860855102539,117.07806396484375,118.61106872558594,119.99124908447266,121.22761535644531,122.33075714111328,123.31266784667969,124.1869125366211,124.96853637695312,125.67365264892578,126.31742858886719,126.91175842285156,127.46224975585938,127.96611022949219,128.4122772216797,128.78353881835938,129.0613555908203,129.23239135742188,129.2950897216797,129.2639617919922,129.17025756835938,129.05770874023438,128.97402954101562,128.959716796875,129.03741455078125,129.2049560546875,129.43467712402344,129.6791229248047,129.88336181640625,129.99940490722656],[55.62544250488281,55.64234924316406,55.67444610595703,55.7182502746582,55.76840591430664,55.818153381347656,55.859806060791016,55.885520935058594,55.88859939575195,55.86484909057617,55.81365203857422,55.73897933959961,55.64921569824219,55.556636810302734,55.475894927978516,55.42191696166992,55.40749740600586,55.44111251831055,55.52544021606445,55.656612396240234,55.8246955871582,56.015472412109375,56.212703704833984,56.4008903503418,56.567726135253906,56.70570373535156,56.81269454956055,56.89128494262695,56.94725036621094,56.98745346069336,57.01796340942383,57.042755126953125,57.06308364868164,57.077789306640625,57.08433532714844,57.080039978027344,57.06291961669922,57.03263473510742,56.9904670715332,56.93899917602539,56.88154983520508,56.821407318115234,56.76139831542969,56.70354080200195,56.64929962158203,56.59965515136719,56.55531311035156,56.51678466796875,56.48441696166992,56.458030700683594,56.436622619628906,56.418243408203125,56.39981460571289,56.37769317626953,56.34791564941406,56.306941986083984,56.252357482910156,56.1832275390625,56.1003303527832,56.00601577758789,55.90408706665039,55.79906463623047,55.69572067260742,55.59871292114258,55.51213455200195,55.439476013183594,55.38349151611328,55.34626388549805,55.32926940917969,55.333282470703125,55.35822677612305,55.40302658081055,55.465335845947266,55.5416145324707,55.62727737426758,55.716922760009766,55.804805755615234,55.8853874206543,55.953678131103516,56.005760192871094,56.03899383544922,56.05241394042969,56.04668045043945,56.024330139160156,55.989532470703125,55.94776153564453,55.90526580810547,55.86822509765625,55.84208297729492,55.83079528808594,55.83631896972656,55.858558654785156,55.89573287963867,55.944908142089844,56.002628326416016,56.06570053100586,56.13190460205078,56.200340270996094,56.271663665771484,56.34804153442383,56.43284606933594,56.53005599975586,56.64384841918945,56.77775955200195,56.93416213989258,57.11381912231445,57.31552505493164,57.5364990234375,57.77263641357422,58.01932144165039,58.27227783203125,58.528629302978516,58.787513732910156,59.05070495605469,59.322776794433594,59.61092758178711,59.9244270324707,60.27394485473633,60.67086410522461,61.126380920410156,61.650718688964844,62.25231170654297,62.93684387207031,63.706241607666016,64.55782318115234,65.4839096069336,66.47178649902344,67.50479125976562,68.5644302368164,69.63304901123047,70.69673919677734,71.74824523925781,72.78849029541016,73.82696533203125,74.88067626953125,75.97196960449219,77.1259536743164,78.3674087524414,79.71849060058594,81.19713592529297,82.81573486328125,84.5807876586914,86.49243927001953,88.54414367675781,90.72233581542969,93.00613403320312,95.3677978515625,97.77342224121094,100.18490600585938,102.56218719482422,104.86634063720703,107.06228637695312,109.12142944335938,111.02310943603516,112.75503540039062,114.31293487548828,115.69965362548828,116.92436981201172,118.00189971923828,118.95230865478516,119.8004150390625,120.57421112060547,121.30265045166016,122.01155853271484,122.71952819824219,123.43380737304688,124.14771270751953,124.84132385253906,125.48493194580078,126.04556274414062,126.49555969238281,126.82074737548828,127.02597045898438,127.13630676269531,127.19284057617188,127.24370574951172,127.33210754394531,127.48487091064453,127.70477294921875,127.96915435791016,128.235107421875,128.45150756835938,128.5729522705078],[55.83119201660156,55.84679412841797,55.87629318237305,55.91626739501953,55.96148681640625,56.0053825378418,56.04056930541992,56.05958557128906,56.056182861328125,56.026634216308594,55.97072982788086,55.89278030395508,55.801326751708984,55.708648681640625,55.62922668457031,55.57768630981445,55.56641387939453,55.60342025756836,55.69087219238281,55.82438278198242,55.993473052978516,56.18339157104492,56.37738800048828,56.55952453613281,56.717220306396484,56.84292221069336,56.93476867675781,56.99592208862305,57.03303527832031,57.05405807495117,57.06623840332031,57.074676513671875,57.0815544128418,57.08633041381836,57.086753845214844,57.080047607421875,57.063846588134766,57.03717803955078,57.00059127807617,56.95589828491211,56.90571594238281,56.85276412963867,56.79944610595703,56.747520446777344,56.698280334472656,56.652610778808594,56.61112976074219,56.574249267578125,56.54218292236328,56.51459503173828,56.490352630615234,56.46746826171875,56.442970275878906,56.41354751586914,56.37577438354492,56.32681655883789,56.26507568359375,56.19037628173828,56.10409164428711,56.00886154174805,55.90839385986328,55.806766510009766,55.70800018310547,55.61589050292969,55.53370666503906,55.46430206298828,55.41009521484375,55.37317657470703,55.35530471801758,55.35771179199219,55.380821228027344,55.42393493652344,55.48493576049805,55.560298919677734,55.64525604248047,55.7341423034668,55.820953369140625,55.899959564208984,55.966148376464844,56.01572036743164,56.046295166015625,56.057212829589844,56.04941177368164,56.02559280395508,55.98994064331055,55.94779968261719,55.905155181884766,55.867897033691406,55.84120559692383,55.828895568847656,55.8328971862793,55.85321044921875,55.88823699951172,55.93521499633789,55.990840911865234,56.05197525024414,56.116390228271484,56.18315505981445,56.25286865234375,56.32768630981445,56.41101837158203,56.506893157958984,56.619503021240234,56.752315521240234,56.907501220703125,57.08546447753906,57.28453063964844,57.50136947631836,57.73134994506836,57.969398498535156,58.21092224121094,58.45286178588867,58.69428634643555,58.936893463134766,59.185035705566406,59.44540023803711,59.72629928588867,60.03694152832031,60.38670349121094,60.78434371948242,61.23745346069336,61.75198745727539,62.33169174194336,62.977542877197266,63.687232971191406,64.45492553710938,65.27120208740234,66.12382507324219,66.99934387207031,67.8850326538086,68.77120971679688,69.65357971191406,70.53446197509766,71.42318725585938,72.3353500366211,73.29106903076172,74.3130111694336,75.42378997802734,76.64402770996094,77.99102020263672,79.47752380371094,81.11137390136719,82.89501190185547,84.82489013671875,86.8909912109375,89.07614135742188,91.35606384277344,93.69960021972656,96.07014465332031,98.42749786376953,100.730712890625,102.94087219238281,105.02397918701172,106.95307922363281,108.70958709716797,110.28395080566406,111.67581176757812,112.8941421508789,113.95703887939453,114.89134216308594,115.73147583007812,116.51669311523438,117.28704833984375,118.07756042480469,118.91236877441406,119.79949951171875,120.72796630859375,121.66888427734375,122.58011627197266,123.41456604003906,124.1305160522461,124.70148468017578,125.12293243408203,125.41410827636719,125.6138916015625,125.7714614868164,125.93363189697266,126.13259887695312,126.37744140625,126.65203857421875,126.91957092285156,127.13397216796875,127.25347137451172],[56.015625,56.02983474731445,56.05658721923828,56.09256362915039,56.13269805908203,56.17067337036133,56.19942855834961,56.2119026184082,56.20229721069336,56.167320251464844,56.10716247558594,56.026424407958984,55.93379211425781,55.84151077270508,55.76386260986328,55.715126037597656,55.70726013183594,55.747772216796875,55.83830642700195,55.97395324707031,56.143733978271484,56.3324089050293,56.522804260253906,56.69865798950195,56.84720230102539,56.96092224121094,57.038238525390625,57.082889556884766,57.102333068847656,57.105506896972656,57.10072326660156,57.09408187866211,57.088584899902344,57.084266662597656,57.07913589477539,57.070377349853516,57.0552978515625,57.032405853271484,57.00160217285156,56.964012145996094,56.92161178588867,56.87654495239258,56.83077621459961,56.785736083984375,56.74245071411133,56.70162582397461,56.66371154785156,56.62896728515625,56.597442626953125,56.56866455078125,56.54144287109375,56.51382064819336,56.4830436706543,56.446205139160156,56.400482177734375,56.343780517578125,56.27528381347656,56.195526123046875,56.10639953613281,56.0107421875,55.91210174560547,55.81407165527344,55.719932556152344,55.632633209228516,55.55466842651367,55.48830795288086,55.43567657470703,55.398868560791016,55.37990951538086,55.38045883178711,55.401371002197266,55.442317962646484,55.50138854980469,55.5750732421875,55.65849685668945,55.74580001831055,55.830810546875,55.907691955566406,55.971458435058594,56.01847457885742,56.046600341796875,56.055458068847656,56.04620361328125,56.021644592285156,55.98592758178711,55.9442253112793,55.90224838256836,55.86556625366211,55.83909606933594,55.82649230957031,55.82965087890625,55.848655700683594,55.88206481933594,55.92729568481445,55.98118209838867,56.040679931640625,56.10358810424805,56.168983459472656,56.23749542236328,56.31132507324219,56.39398956298828,56.489620208740234,56.60249710083008,56.73606491088867,56.89234161376953,57.07140350341797,57.27112579345703,57.487640380859375,57.71576690673828,57.94994354248047,58.185203552246094,58.41828536987305,58.64817428588867,58.87654113769531,59.1076545715332,59.3479118347168,59.60503005981445,59.88719177246094,60.202308654785156,60.557273864746094,60.95761489868164,61.407264709472656,61.9083251953125,62.460853576660156,63.06264877319336,63.70913314819336,64.39330291748047,65.10623168945312,65.83826446533203,66.58041381835938,67.32612609863281,68.07323455810547,68.82492065429688,69.59015655517578,70.38316345214844,71.22210693359375,72.12755584716797,73.12031555175781,74.21980285644531,75.44286346435547,76.8027114868164,78.30847930908203,79.9647216796875,81.77067565917969,83.71955108642578,85.79765319824219,87.98403930664062,90.25032806396484,92.56177520751953,94.87869262695312,97.15914154052734,99.36161804199219,101.44818878173828,103.38705444335938,105.15462493896484,106.73699188232422,108.13105773925781,109.34542083740234,110.40071105957031,111.32920837402344,112.17320251464844,112.981201171875,113.80242919921875,114.67936706542969,115.64046478271484,116.69390869140625,117.82439422607422,118.9946517944336,120.15111541748047,121.23373413085938,122.18797302246094,122.97611999511719,123.58511352539062,124.02897644042969,124.34480285644531,124.5831298828125,124.79469299316406,125.01741027832031,125.26715850830078,125.534912109375,125.79052734375,125.99357604980469,126.10633850097656],[56.16685485839844,56.179786682128906,56.20402908325195,56.236385345458984,56.27196502685547,56.30467987060547,56.327789306640625,56.334590911865234,56.319671630859375,56.280128479003906,56.21647644042969,56.13356399536133,56.04018020629883,55.94852828979492,55.87270736694336,55.8266716003418,55.821983337402344,55.865692138671875,55.95896911621094,56.09644317626953,56.266700744628906,56.4541130065918,56.641170501708984,56.811378479003906,56.95186233520508,57.055171966552734,57.12001419067383,57.150611877441406,57.15510559082031,57.14324951171875,57.124210357666016,57.10490417480469,57.08900451660156,57.0770149230957,57.067169189453125,57.056644439697266,57.04250717163086,57.02286911010742,56.99712371826172,56.96585464477539,56.93049240112305,56.8927001953125,56.85403060913086,56.815582275390625,56.77811050415039,56.742088317871094,56.7077751159668,56.67525100708008,56.644405364990234,56.614654541015625,56.584774017333984,56.55289077758789,56.5164909362793,56.47308349609375,56.420406341552734,56.35703659057617,56.2828369140625,56.198936462402344,56.10763168334961,56.011898040771484,55.91510772705078,55.82039260864258,55.73038101196289,55.647300720214844,55.57298278808594,55.50920867919922,55.457862854003906,55.42106246948242,55.40104675292969,55.39982223510742,55.41861343383789,55.457374572753906,55.514373779296875,55.58613204956055,55.66769790649414,55.753089904785156,55.83603286743164,55.91065216064453,55.972023010253906,56.01666259765625,56.042659759521484,56.04985427856445,56.039581298828125,56.01471710205078,55.979339599609375,55.938453674316406,55.897499084472656,55.86177062988281,55.8359375,55.823509216308594,55.826332092285156,55.84456253051758,55.876869201660156,55.92082977294922,55.97340393066406,56.03163146972656,56.09336471557617,56.15772247314453,56.225379943847656,56.298614501953125,56.38106155395508,56.47698974609375,56.59075927734375,56.725833892822266,56.88410568237305,57.06539535522461,57.26718521118164,57.48514938354492,57.713619232177734,57.946590423583984,58.17876434326172,58.40667724609375,58.62925338745117,58.848167419433594,59.06766891479492,59.294036865234375,59.534629821777344,59.796966552734375,60.087955474853516,60.41316223144531,60.776580810546875,61.18062973022461,61.62611389160156,62.11232376098633,62.63700866699219,63.19639587402344,63.7851448059082,64.39666748046875,65.02397918701172,65.66075134277344,66.30262756347656,66.9488525390625,67.60311126708984,68.27395629882812,68.97444152832031,69.72113037109375,70.5329818725586,71.42938232421875,72.42882537841797,73.54788208007812,74.8001708984375,76.1959228515625,77.74141693115234,79.43817138671875,81.28205871582031,83.26223754882812,85.360595703125,87.55120086669922,89.80109405517578,92.07141876220703,94.31988525390625,96.50341796875,98.58143615722656,100.51871490478516,102.28797912597656,103.87206268310547,105.26573944091797,106.47724151611328,107.52906036376953,108.45756530761719,109.3110580444336,110.1451187133789,111.01596069335938,111.97173309326172,113.0439682006836,114.24065399169922,115.54267883300781,116.9056625366211,118.2664794921875,119.5543212890625,120.70401000976562,121.66851043701172,122.42766571044922,122.99122619628906,123.39491271972656,123.69060516357422,123.9326400756836,124.16419982910156,124.40740966796875,124.65982818603516,124.89754486083984,125.08544158935547,125.18962097167969],[56.274330139160156,56.28628921508789,56.30862808227539,56.33824157714844,56.370384216308594,56.399169921875,56.418087005615234,56.42070770263672,56.401912689208984,56.35906219482422,56.29292678833008,56.208526611328125,56.114715576171875,56.0236701965332,55.94933319091797,55.90542221069336,55.903194427490234,55.94934844970703,56.044700622558594,56.18352508544922,56.354103088378906,56.5405158996582,56.725032806396484,56.89100646972656,57.0255012512207,57.12114334106445,57.176856994628906,57.19721984863281,57.19087600708008,57.16814041137695,57.138797760009766,57.11033630371094,57.08689498901367,57.06931686401367,57.055999755859375,57.04412078857422,57.03060531616211,57.01329803466797,56.99124526977539,56.96465301513672,56.934574127197266,56.902313232421875,56.86911392211914,56.83580780029297,56.80292510986328,56.7707405090332,56.73933410644531,56.70863723754883,56.678409576416016,56.647987365722656,56.61613464355469,56.581058502197266,56.54044723510742,56.492149353027344,56.43433380126953,56.366085052490234,56.28777313232422,56.20094680786133,56.108192443847656,56.0125617980957,55.91726303100586,55.82509231567383,55.738182067871094,55.658233642578125,55.58659744262695,55.52470779418945,55.47427749633789,55.437435150146484,55.416587829589844,55.41398620605469,55.43111038208008,55.46812438964844,55.523406982421875,55.5935173034668,55.6734504699707,55.75716018676758,55.83831787109375,55.91103744506836,55.97046661376953,56.013248443603516,56.03763961791992,56.04364013671875,56.03270721435547,56.007747650146484,55.97279357910156,55.93269729614258,55.8927116394043,55.85790252685547,55.83275604248047,55.8206672668457,55.82344436645508,55.841278076171875,55.872928619384766,55.916080474853516,55.96778869628906,56.0251579284668,56.08609390258789,56.14975357055664,56.21685791015625,56.28976821899414,56.37221145629883,56.46855926513672,56.583251953125,56.71977233886719,56.87992477416992,57.0633544921875,57.26726150512695,57.48698043823242,57.71648406982422,57.94944381713867,58.18030548095703,58.405460357666016,58.623779296875,58.83694839477539,59.049251556396484,59.266910552978516,59.497108459472656,59.746971130371094,60.02278518676758,60.329261779785156,60.669403076171875,61.04460144042969,61.45478820800781,61.8986930847168,62.37397003173828,62.87732696533203,63.40443420410156,63.950191497802734,64.50933074951172,65.07717895507812,65.65076446533203,66.23020935058594,66.81945037841797,67.4266586303711,68.06407165527344,68.74713134765625,69.49365997314453,70.32209014892578,71.25030517578125,72.2947006225586,73.46920013427734,74.78479766845703,76.2490005493164,77.86492919921875,79.63031005859375,81.5363540649414,83.56696319580078,85.69802856445312,87.89798736572266,90.12873077392578,92.34796905517578,94.51180267333984,96.57804107666016,98.5093002319336,100.27593231201172,101.85861206054688,103.25067138671875,104.4601058959961,105.5105972290039,106.44127655029297,107.30448913574219,108.16058349609375,109.07048797607422,110.08612823486328,111.24103546142578,112.54286193847656,113.96965026855469,115.47186279296875,116.9795150756836,118.4140853881836,119.70274353027344,120.79178619384766,121.6559829711914,122.30201721191406,122.7646713256836,123.09689331054688,123.35575103759766,123.58844757080078,123.82188415527344,124.05866241455078,124.27970123291016,124.45396423339844,124.55055236816406],[56.330177307128906,56.341609954833984,56.3629150390625,56.391056060791016,56.421356201171875,56.44804000854492,56.46472930908203,56.46513366699219,56.44429016113281,56.39971160888672,56.3322868347168,56.247127532958984,56.15312957763672,56.06244659423828,55.98893737792969,55.94619369506836,55.9453010559082,55.99278259277344,56.0892448425293,56.22879409790039,56.39952850341797,56.58539581298828,56.76853942871094,56.93224334716797,57.06354522705078,57.155120849609375,57.20600891113281,57.22098159790039,57.20893096923828,57.180484771728516,57.14573669433594,57.112464904785156,57.08505630493164,57.06452178955078,57.049354553222656,57.036739349365234,57.023521423339844,57.00741958618164,56.98731231689453,56.96320343017578,56.93595504760742,56.90667724609375,56.8764533996582,56.84596633911133,56.815616607666016,56.785560607910156,56.75577926635742,56.726112365722656,56.696258544921875,56.665496826171875,56.63259506225586,56.5958137512207,56.55295181274414,56.502044677734375,56.441497802734375,56.37067413330078,56.29020690917969,56.20186996459961,56.10839080810547,56.01285934448242,55.918392181396484,55.827598571777344,55.74235534667969,55.66407012939453,55.59385299682617,55.532958984375,55.48300552368164,55.446128845214844,55.42483139038086,55.421478271484375,55.43769073486328,55.473731994628906,55.528053283691406,55.59722137451172,55.67620849609375,55.75894546508789,55.839073181152344,55.91071701049805,55.969058990478516,56.01081466674805,56.03433609008789,56.03970718383789,56.0284423828125,56.00346374511719,55.968772888183594,55.92915344238281,55.889732360839844,55.855472564697266,55.830753326416016,55.81890869140625,55.821720123291016,55.83940124511719,55.870758056640625,55.91352081298828,55.96480178833008,56.02174377441406,56.082279205322266,56.14558792114258,56.21242904663086,56.285194396972656,56.367679595947266,56.46430587768555,56.579559326171875,56.71693420410156,56.87819290161133,57.062889099121094,57.26806640625,57.4888916015625,57.719146728515625,57.952327728271484,58.18274688720703,58.406715393066406,58.62308120727539,58.83354187011719,59.042396545410156,59.255863189697266,59.48104476928711,59.724891662597656,59.99339294433594,60.29084396362305,60.61975860595703,60.98102569580078,61.374114990234375,61.79747009277344,62.24869155883789,62.72468566894531,63.221622467041016,63.735103607177734,64.26069641113281,64.7945327758789,65.33431243896484,65.88056945800781,66.43730926513672,67.01253509521484,67.61801147460938,68.26863861083984,68.98164367675781,69.77497863769531,70.66621398925781,71.67166900634766,72.805419921875,74.07886505126953,75.50015258789062,77.07318878173828,78.79669952392578,80.66291809082031,82.65682983398438,84.7552719116211,86.92743682861328,89.13567352294922,91.33775329589844,93.48944091796875,95.54779052734375,97.47440338134766,99.23844909667969,100.81954956054688,102.21031951904297,103.41860961914062,104.4687271118164,105.40116119384766,106.2702865600586,107.13887023925781,108.07022094726562,109.11811828613281,110.31708526611328,111.67454528808594,113.1670150756836,114.74224853515625,116.32667541503906,117.83773803710938,119.19862365722656,120.35214233398438,121.27042388916016,121.95853424072266,122.45079040527344,122.80072021484375,123.06687927246094,123.29862213134766,123.52542877197266,123.75265502929688,123.96382141113281,124.13013458251953,124.22232055664062]],\"type\":\"surface\"}],                        {\"template\":{\"data\":{\"histogram2dcontour\":[{\"type\":\"histogram2dcontour\",\"colorbar\":{\"outlinewidth\":0,\"ticks\":\"\"},\"colorscale\":[[0.0,\"#0d0887\"],[0.1111111111111111,\"#46039f\"],[0.2222222222222222,\"#7201a8\"],[0.3333333333333333,\"#9c179e\"],[0.4444444444444444,\"#bd3786\"],[0.5555555555555556,\"#d8576b\"],[0.6666666666666666,\"#ed7953\"],[0.7777777777777778,\"#fb9f3a\"],[0.8888888888888888,\"#fdca26\"],[1.0,\"#f0f921\"]]}],\"choropleth\":[{\"type\":\"choropleth\",\"colorbar\":{\"outlinewidth\":0,\"ticks\":\"\"}}],\"histogram2d\":[{\"type\":\"histogram2d\",\"colorbar\":{\"outlinewidth\":0,\"ticks\":\"\"},\"colorscale\":[[0.0,\"#0d0887\"],[0.1111111111111111,\"#46039f\"],[0.2222222222222222,\"#7201a8\"],[0.3333333333333333,\"#9c179e\"],[0.4444444444444444,\"#bd3786\"],[0.5555555555555556,\"#d8576b\"],[0.6666666666666666,\"#ed7953\"],[0.7777777777777778,\"#fb9f3a\"],[0.8888888888888888,\"#fdca26\"],[1.0,\"#f0f921\"]]}],\"heatmap\":[{\"type\":\"heatmap\",\"colorbar\":{\"outlinewidth\":0,\"ticks\":\"\"},\"colorscale\":[[0.0,\"#0d0887\"],[0.1111111111111111,\"#46039f\"],[0.2222222222222222,\"#7201a8\"],[0.3333333333333333,\"#9c179e\"],[0.4444444444444444,\"#bd3786\"],[0.5555555555555556,\"#d8576b\"],[0.6666666666666666,\"#ed7953\"],[0.7777777777777778,\"#fb9f3a\"],[0.8888888888888888,\"#fdca26\"],[1.0,\"#f0f921\"]]}],\"heatmapgl\":[{\"type\":\"heatmapgl\",\"colorbar\":{\"outlinewidth\":0,\"ticks\":\"\"},\"colorscale\":[[0.0,\"#0d0887\"],[0.1111111111111111,\"#46039f\"],[0.2222222222222222,\"#7201a8\"],[0.3333333333333333,\"#9c179e\"],[0.4444444444444444,\"#bd3786\"],[0.5555555555555556,\"#d8576b\"],[0.6666666666666666,\"#ed7953\"],[0.7777777777777778,\"#fb9f3a\"],[0.8888888888888888,\"#fdca26\"],[1.0,\"#f0f921\"]]}],\"contourcarpet\":[{\"type\":\"contourcarpet\",\"colorbar\":{\"outlinewidth\":0,\"ticks\":\"\"}}],\"contour\":[{\"type\":\"contour\",\"colorbar\":{\"outlinewidth\":0,\"ticks\":\"\"},\"colorscale\":[[0.0,\"#0d0887\"],[0.1111111111111111,\"#46039f\"],[0.2222222222222222,\"#7201a8\"],[0.3333333333333333,\"#9c179e\"],[0.4444444444444444,\"#bd3786\"],[0.5555555555555556,\"#d8576b\"],[0.6666666666666666,\"#ed7953\"],[0.7777777777777778,\"#fb9f3a\"],[0.8888888888888888,\"#fdca26\"],[1.0,\"#f0f921\"]]}],\"surface\":[{\"type\":\"surface\",\"colorbar\":{\"outlinewidth\":0,\"ticks\":\"\"},\"colorscale\":[[0.0,\"#0d0887\"],[0.1111111111111111,\"#46039f\"],[0.2222222222222222,\"#7201a8\"],[0.3333333333333333,\"#9c179e\"],[0.4444444444444444,\"#bd3786\"],[0.5555555555555556,\"#d8576b\"],[0.6666666666666666,\"#ed7953\"],[0.7777777777777778,\"#fb9f3a\"],[0.8888888888888888,\"#fdca26\"],[1.0,\"#f0f921\"]]}],\"mesh3d\":[{\"type\":\"mesh3d\",\"colorbar\":{\"outlinewidth\":0,\"ticks\":\"\"}}],\"scatter\":[{\"fillpattern\":{\"fillmode\":\"overlay\",\"size\":10,\"solidity\":0.2},\"type\":\"scatter\"}],\"parcoords\":[{\"type\":\"parcoords\",\"line\":{\"colorbar\":{\"outlinewidth\":0,\"ticks\":\"\"}}}],\"scatterpolargl\":[{\"type\":\"scatterpolargl\",\"marker\":{\"colorbar\":{\"outlinewidth\":0,\"ticks\":\"\"}}}],\"bar\":[{\"error_x\":{\"color\":\"#2a3f5f\"},\"error_y\":{\"color\":\"#2a3f5f\"},\"marker\":{\"line\":{\"color\":\"#E5ECF6\",\"width\":0.5},\"pattern\":{\"fillmode\":\"overlay\",\"size\":10,\"solidity\":0.2}},\"type\":\"bar\"}],\"scattergeo\":[{\"type\":\"scattergeo\",\"marker\":{\"colorbar\":{\"outlinewidth\":0,\"ticks\":\"\"}}}],\"scatterpolar\":[{\"type\":\"scatterpolar\",\"marker\":{\"colorbar\":{\"outlinewidth\":0,\"ticks\":\"\"}}}],\"histogram\":[{\"marker\":{\"pattern\":{\"fillmode\":\"overlay\",\"size\":10,\"solidity\":0.2}},\"type\":\"histogram\"}],\"scattergl\":[{\"type\":\"scattergl\",\"marker\":{\"colorbar\":{\"outlinewidth\":0,\"ticks\":\"\"}}}],\"scatter3d\":[{\"type\":\"scatter3d\",\"line\":{\"colorbar\":{\"outlinewidth\":0,\"ticks\":\"\"}},\"marker\":{\"colorbar\":{\"outlinewidth\":0,\"ticks\":\"\"}}}],\"scattermapbox\":[{\"type\":\"scattermapbox\",\"marker\":{\"colorbar\":{\"outlinewidth\":0,\"ticks\":\"\"}}}],\"scatterternary\":[{\"type\":\"scatterternary\",\"marker\":{\"colorbar\":{\"outlinewidth\":0,\"ticks\":\"\"}}}],\"scattercarpet\":[{\"type\":\"scattercarpet\",\"marker\":{\"colorbar\":{\"outlinewidth\":0,\"ticks\":\"\"}}}],\"carpet\":[{\"aaxis\":{\"endlinecolor\":\"#2a3f5f\",\"gridcolor\":\"white\",\"linecolor\":\"white\",\"minorgridcolor\":\"white\",\"startlinecolor\":\"#2a3f5f\"},\"baxis\":{\"endlinecolor\":\"#2a3f5f\",\"gridcolor\":\"white\",\"linecolor\":\"white\",\"minorgridcolor\":\"white\",\"startlinecolor\":\"#2a3f5f\"},\"type\":\"carpet\"}],\"table\":[{\"cells\":{\"fill\":{\"color\":\"#EBF0F8\"},\"line\":{\"color\":\"white\"}},\"header\":{\"fill\":{\"color\":\"#C8D4E3\"},\"line\":{\"color\":\"white\"}},\"type\":\"table\"}],\"barpolar\":[{\"marker\":{\"line\":{\"color\":\"#E5ECF6\",\"width\":0.5},\"pattern\":{\"fillmode\":\"overlay\",\"size\":10,\"solidity\":0.2}},\"type\":\"barpolar\"}],\"pie\":[{\"automargin\":true,\"type\":\"pie\"}]},\"layout\":{\"autotypenumbers\":\"strict\",\"colorway\":[\"#636efa\",\"#EF553B\",\"#00cc96\",\"#ab63fa\",\"#FFA15A\",\"#19d3f3\",\"#FF6692\",\"#B6E880\",\"#FF97FF\",\"#FECB52\"],\"font\":{\"color\":\"#2a3f5f\"},\"hovermode\":\"closest\",\"hoverlabel\":{\"align\":\"left\"},\"paper_bgcolor\":\"white\",\"plot_bgcolor\":\"#E5ECF6\",\"polar\":{\"bgcolor\":\"#E5ECF6\",\"angularaxis\":{\"gridcolor\":\"white\",\"linecolor\":\"white\",\"ticks\":\"\"},\"radialaxis\":{\"gridcolor\":\"white\",\"linecolor\":\"white\",\"ticks\":\"\"}},\"ternary\":{\"bgcolor\":\"#E5ECF6\",\"aaxis\":{\"gridcolor\":\"white\",\"linecolor\":\"white\",\"ticks\":\"\"},\"baxis\":{\"gridcolor\":\"white\",\"linecolor\":\"white\",\"ticks\":\"\"},\"caxis\":{\"gridcolor\":\"white\",\"linecolor\":\"white\",\"ticks\":\"\"}},\"coloraxis\":{\"colorbar\":{\"outlinewidth\":0,\"ticks\":\"\"}},\"colorscale\":{\"sequential\":[[0.0,\"#0d0887\"],[0.1111111111111111,\"#46039f\"],[0.2222222222222222,\"#7201a8\"],[0.3333333333333333,\"#9c179e\"],[0.4444444444444444,\"#bd3786\"],[0.5555555555555556,\"#d8576b\"],[0.6666666666666666,\"#ed7953\"],[0.7777777777777778,\"#fb9f3a\"],[0.8888888888888888,\"#fdca26\"],[1.0,\"#f0f921\"]],\"sequentialminus\":[[0.0,\"#0d0887\"],[0.1111111111111111,\"#46039f\"],[0.2222222222222222,\"#7201a8\"],[0.3333333333333333,\"#9c179e\"],[0.4444444444444444,\"#bd3786\"],[0.5555555555555556,\"#d8576b\"],[0.6666666666666666,\"#ed7953\"],[0.7777777777777778,\"#fb9f3a\"],[0.8888888888888888,\"#fdca26\"],[1.0,\"#f0f921\"]],\"diverging\":[[0,\"#8e0152\"],[0.1,\"#c51b7d\"],[0.2,\"#de77ae\"],[0.3,\"#f1b6da\"],[0.4,\"#fde0ef\"],[0.5,\"#f7f7f7\"],[0.6,\"#e6f5d0\"],[0.7,\"#b8e186\"],[0.8,\"#7fbc41\"],[0.9,\"#4d9221\"],[1,\"#276419\"]]},\"xaxis\":{\"gridcolor\":\"white\",\"linecolor\":\"white\",\"ticks\":\"\",\"title\":{\"standoff\":15},\"zerolinecolor\":\"white\",\"automargin\":true,\"zerolinewidth\":2},\"yaxis\":{\"gridcolor\":\"white\",\"linecolor\":\"white\",\"ticks\":\"\",\"title\":{\"standoff\":15},\"zerolinecolor\":\"white\",\"automargin\":true,\"zerolinewidth\":2},\"scene\":{\"xaxis\":{\"backgroundcolor\":\"#E5ECF6\",\"gridcolor\":\"white\",\"linecolor\":\"white\",\"showbackground\":true,\"ticks\":\"\",\"zerolinecolor\":\"white\",\"gridwidth\":2},\"yaxis\":{\"backgroundcolor\":\"#E5ECF6\",\"gridcolor\":\"white\",\"linecolor\":\"white\",\"showbackground\":true,\"ticks\":\"\",\"zerolinecolor\":\"white\",\"gridwidth\":2},\"zaxis\":{\"backgroundcolor\":\"#E5ECF6\",\"gridcolor\":\"white\",\"linecolor\":\"white\",\"showbackground\":true,\"ticks\":\"\",\"zerolinecolor\":\"white\",\"gridwidth\":2}},\"shapedefaults\":{\"line\":{\"color\":\"#2a3f5f\"}},\"annotationdefaults\":{\"arrowcolor\":\"#2a3f5f\",\"arrowhead\":0,\"arrowwidth\":1},\"geo\":{\"bgcolor\":\"white\",\"landcolor\":\"#E5ECF6\",\"subunitcolor\":\"white\",\"showland\":true,\"showlakes\":true,\"lakecolor\":\"white\"},\"title\":{\"x\":0.05},\"mapbox\":{\"style\":\"light\"}}},\"scene\":{\"aspectratio\":{\"x\":5,\"y\":5,\"z\":1},\"camera\":{\"up\":{\"x\":0,\"y\":0,\"z\":1},\"eye\":{\"x\":1.25,\"y\":1.25,\"z\":1.25}}},\"margin\":{\"l\":0,\"r\":0,\"t\":0,\"b\":0},\"xaxis\":{\"showticklabels\":false,\"title\":{\"text\":\"\"}},\"yaxis\":{\"showticklabels\":false,\"title\":{\"text\":\"\"}}},                        {\"responsive\": true}                    ).then(function(){\n",
              "                            \n",
              "var gd = document.getElementById('9becff27-8d68-4c68-9d07-7bfca23ddba9');\n",
              "var x = new MutationObserver(function (mutations, observer) {{\n",
              "        var display = window.getComputedStyle(gd).display;\n",
              "        if (!display || display === 'none') {{\n",
              "            console.log([gd, 'removed!']);\n",
              "            Plotly.purge(gd);\n",
              "            observer.disconnect();\n",
              "        }}\n",
              "}});\n",
              "\n",
              "// Listen for the removal of the full notebook cells\n",
              "var notebookContainer = gd.closest('#notebook-container');\n",
              "if (notebookContainer) {{\n",
              "    x.observe(notebookContainer, {childList: true});\n",
              "}}\n",
              "\n",
              "// Listen for the clearing of the current output cell\n",
              "var outputEl = gd.closest('.output');\n",
              "if (outputEl) {{\n",
              "    x.observe(outputEl, {childList: true});\n",
              "}}\n",
              "\n",
              "                        })                };                            </script>        </div>\n",
              "</body>\n",
              "</html>"
            ]
          },
          "metadata": {}
        }
      ]
    },
    {
      "cell_type": "markdown",
      "source": [
        "References:\n",
        "1. Khazaei, Bahram; Read, Laura K; Casali, Matthew; Sampson, Kevin M; Yates, David N (2022): GLOBathy Bathymetry Rasters. figshare.\n",
        "Dataset. https://doi.org/10.6084/m9.figshare.13404635.v1\n",
        "\n",
        "2. [Plotting xarrays](https://docs.xarray.dev/en/latest/user-guide/plotting.html)\n",
        "\n",
        "3. [Improving the 3D terrain visualization from GeoTIFF using python and matplotlib](https://stackoverflow.com/q/74995160/6819442)\n",
        "\n",
        "\n",
        "Fix this issue:\n",
        "\n",
        "Using `geemap.ee_to_xarray`:\n",
        "\n",
        "[Converting Earth Engine dataset into XArray #1942](https://github.com/gee-community/geemap/discussions/1942)\n",
        "\n",
        "ee.Image is getting converted to the xrray but the values are converted as null values."
      ],
      "metadata": {
        "id": "5qdky0Vh20eR"
      }
    }
  ]
}